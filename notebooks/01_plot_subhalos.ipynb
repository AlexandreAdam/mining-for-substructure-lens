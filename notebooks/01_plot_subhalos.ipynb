{
 "cells": [
  {
   "cell_type": "markdown",
   "metadata": {},
   "source": [
    "# Plot subhalos"
   ]
  },
  {
   "cell_type": "code",
   "execution_count": 2,
   "metadata": {},
   "outputs": [],
   "source": [
    "import sys, os\n",
    "sys.path.append('../')\n",
    "\n",
    "import logging\n",
    "import numpy as np\n",
    "import matplotlib.pyplot as plt\n",
    "\n",
    "from simulation.wrapper import augmented_data\n",
    "\n",
    "logging.basicConfig(\n",
    "    format='%(asctime)-5.5s %(name)-20.20s %(levelname)-7.7s %(message)s',\n",
    "    datefmt='%H:%M',\n",
    "    level=logging.DEBUG\n",
    ")"
   ]
  },
  {
   "cell_type": "markdown",
   "metadata": {},
   "source": [
    "## Make data"
   ]
  },
  {
   "cell_type": "code",
   "execution_count": 4,
   "metadata": {},
   "outputs": [
    {
     "name": "stderr",
     "output_type": "stream",
     "text": [
      "16:24 simulation.wrapper   INFO    Simulating image 1 / 1\n",
      "16:24 simulation.populatio DEBUG   Subhalo population:\n",
      "16:24 simulation.populatio DEBUG     alpha = 4.90670721953e-73\n",
      "16:24 simulation.populatio DEBUG     n_sub_tot = 35247991.9491\n",
      "../simulation/profiles.py:101: RuntimeWarning: invalid value encountered in sqrt\n",
      "  np.arctan(np.sqrt(x ** 2 - 1)) / (np.sqrt(x ** 2 - 1))))\n",
      "../simulation/profiles.py:100: RuntimeWarning: invalid value encountered in sqrt\n",
      "  return np.where(x == 1, 1, np.where(x < 1, np.arctanh(np.sqrt(1 - x ** 2)) / (np.sqrt(1 - x ** 2)),\n",
      "16:24 simulation.populatio DEBUG     f_sub = 0.0241726573086\n",
      "16:24 simulation.populatio DEBUG     n_sub_roi = 852365\n",
      "16:24 simulation.populatio DEBUG     m_sub: [  8.24944033e+69   1.05184853e+70   8.80803731e+69 ...,   9.51956123e+69\n",
      "   1.02348478e+70   1.01943852e+70]\n",
      "../simulation/population_sim.py:245: RuntimeWarning: invalid value encountered in double_scalars\n",
      "  (M_calib * (-m_max_calib ** -beta * m_min_calib + m_max_calib * m_min_calib ** -beta))\n",
      "../simulation/population_sim.py:252: RuntimeWarning: overflow encountered in double_scalars\n",
      "  (m_max ** -beta * m_min - m_max * m_min ** -beta) / (M_0 * (-1 + -beta))\n"
     ]
    },
    {
     "ename": "KeyboardInterrupt",
     "evalue": "",
     "output_type": "error",
     "traceback": [
      "\u001b[0;31m---------------------------------------------------------------------------\u001b[0m",
      "\u001b[0;31mKeyboardInterrupt\u001b[0m                         Traceback (most recent call last)",
      "\u001b[0;32m<ipython-input-4-57e42e856652>\u001b[0m in \u001b[0;36m<module>\u001b[0;34m()\u001b[0m\n\u001b[0;32m----> 1\u001b[0;31m \u001b[0mimgs\u001b[0m\u001b[0;34m,\u001b[0m \u001b[0mt_xz\u001b[0m\u001b[0;34m,\u001b[0m \u001b[0mlog_r_xz\u001b[0m\u001b[0;34m,\u001b[0m \u001b[0mlatents\u001b[0m \u001b[0;34m=\u001b[0m \u001b[0maugmented_data\u001b[0m\u001b[0;34m(\u001b[0m\u001b[0mn_calib\u001b[0m\u001b[0;34m=\u001b[0m\u001b[0;36m150.\u001b[0m\u001b[0;34m,\u001b[0m \u001b[0mbeta\u001b[0m\u001b[0;34m=\u001b[0m\u001b[0;36m1.9\u001b[0m\u001b[0;34m,\u001b[0m \u001b[0mn_images\u001b[0m\u001b[0;34m=\u001b[0m\u001b[0;36m1\u001b[0m\u001b[0;34m,\u001b[0m \u001b[0msim_mvgauss_file\u001b[0m\u001b[0;34m=\u001b[0m\u001b[0;34m\"../simulation/data/sim_mvgauss.npz\"\u001b[0m\u001b[0;34m)\u001b[0m\u001b[0;34m\u001b[0m\u001b[0;34m\u001b[0m\u001b[0m\n\u001b[0m",
      "\u001b[0;32m~/work/projects/strong_lensing/StrongLensing-Inference/simulation/wrapper.py\u001b[0m in \u001b[0;36maugmented_data\u001b[0;34m(n_calib, beta, n_calib_prior, beta_prior, n_images, n_thetas_marginal, inverse, sim_mvgauss_file)\u001b[0m\n\u001b[1;32m     72\u001b[0m             \u001b[0mfix_source\u001b[0m\u001b[0;34m=\u001b[0m\u001b[0;32mTrue\u001b[0m\u001b[0;34m,\u001b[0m\u001b[0;34m\u001b[0m\u001b[0;34m\u001b[0m\u001b[0m\n\u001b[1;32m     73\u001b[0m             \u001b[0mparams_eval\u001b[0m\u001b[0;34m=\u001b[0m\u001b[0mparams_eval\u001b[0m\u001b[0;34m,\u001b[0m\u001b[0;34m\u001b[0m\u001b[0;34m\u001b[0m\u001b[0m\n\u001b[0;32m---> 74\u001b[0;31m             \u001b[0mcalculate_joint_score\u001b[0m\u001b[0;34m=\u001b[0m\u001b[0;32mTrue\u001b[0m\u001b[0;34m\u001b[0m\u001b[0;34m\u001b[0m\u001b[0m\n\u001b[0m\u001b[1;32m     75\u001b[0m         )\n\u001b[1;32m     76\u001b[0m \u001b[0;34m\u001b[0m\u001b[0m\n",
      "\u001b[0;32m~/work/projects/strong_lensing/StrongLensing-Inference/simulation/population_sim.py\u001b[0m in \u001b[0;36m__init__\u001b[0;34m(self, sim_mvgauss_mean, sim_mvgauss_cov, mag_zero, mag_iso, exposure, fwhm_psf, pixel_size, n_xy, fix_source, spherical_host, m_200_min_sub, n_calib, beta, params_eval, calculate_joint_score)\u001b[0m\n\u001b[1;32m     81\u001b[0m         ps = SubhaloPopulation(n_calib=n_calib, beta=beta, M_hst=M_200_hst, c_hst=c_200_hst,\n\u001b[1;32m     82\u001b[0m                                \u001b[0mm_min\u001b[0m\u001b[0;34m=\u001b[0m\u001b[0mm_200_min_sub\u001b[0m\u001b[0;34m,\u001b[0m \u001b[0mtheta_s\u001b[0m\u001b[0;34m=\u001b[0m\u001b[0mr_s_hst\u001b[0m \u001b[0;34m/\u001b[0m \u001b[0mD_l\u001b[0m\u001b[0;34m,\u001b[0m \u001b[0mtheta_roi\u001b[0m\u001b[0;34m=\u001b[0m\u001b[0;36m3\u001b[0m \u001b[0;34m*\u001b[0m \u001b[0mtheta_E\u001b[0m\u001b[0;34m,\u001b[0m\u001b[0;34m\u001b[0m\u001b[0;34m\u001b[0m\u001b[0m\n\u001b[0;32m---> 83\u001b[0;31m                                params_eval=params_eval, calculate_joint_score=calculate_joint_score)\n\u001b[0m\u001b[1;32m     84\u001b[0m \u001b[0;34m\u001b[0m\u001b[0m\n\u001b[1;32m     85\u001b[0m         \u001b[0;31m# ... and grab its properties\u001b[0m\u001b[0;34m\u001b[0m\u001b[0;34m\u001b[0m\u001b[0;34m\u001b[0m\u001b[0m\n",
      "\u001b[0;32m~/work/projects/strong_lensing/StrongLensing-Inference/simulation/population_sim.py\u001b[0m in \u001b[0;36m__init__\u001b[0;34m(self, n_calib, M_min_calib, M_max_calib, beta, m_min, theta_roi, M_hst, theta_s, c_hst, params_eval, calculate_joint_score)\u001b[0m\n\u001b[1;32m    232\u001b[0m \u001b[0;34m\u001b[0m\u001b[0m\n\u001b[1;32m    233\u001b[0m         \u001b[0;31m# Calculate augmented data\u001b[0m\u001b[0;34m\u001b[0m\u001b[0;34m\u001b[0m\u001b[0;34m\u001b[0m\u001b[0m\n\u001b[0;32m--> 234\u001b[0;31m         \u001b[0mself\u001b[0m\u001b[0;34m.\u001b[0m\u001b[0mjoint_log_probs\u001b[0m \u001b[0;34m=\u001b[0m \u001b[0mself\u001b[0m\u001b[0;34m.\u001b[0m\u001b[0m_calculate_joint_log_probs\u001b[0m\u001b[0;34m(\u001b[0m\u001b[0mparams_eval\u001b[0m\u001b[0;34m)\u001b[0m\u001b[0;34m\u001b[0m\u001b[0;34m\u001b[0m\u001b[0m\n\u001b[0m\u001b[1;32m    235\u001b[0m         \u001b[0;32mif\u001b[0m \u001b[0mcalculate_joint_score\u001b[0m\u001b[0;34m:\u001b[0m\u001b[0;34m\u001b[0m\u001b[0;34m\u001b[0m\u001b[0m\n\u001b[1;32m    236\u001b[0m             \u001b[0mself\u001b[0m\u001b[0;34m.\u001b[0m\u001b[0mjoint_scores\u001b[0m \u001b[0;34m=\u001b[0m \u001b[0mself\u001b[0m\u001b[0;34m.\u001b[0m\u001b[0m_calculate_joint_score\u001b[0m\u001b[0;34m(\u001b[0m\u001b[0;34m[\u001b[0m\u001b[0mn_calib\u001b[0m\u001b[0;34m,\u001b[0m \u001b[0mbeta\u001b[0m\u001b[0;34m]\u001b[0m\u001b[0;34m)\u001b[0m\u001b[0;34m\u001b[0m\u001b[0;34m\u001b[0m\u001b[0m\n",
      "\u001b[0;32m~/work/projects/strong_lensing/StrongLensing-Inference/simulation/population_sim.py\u001b[0m in \u001b[0;36m_calculate_joint_log_probs\u001b[0;34m(self, params_eval)\u001b[0m\n\u001b[1;32m    282\u001b[0m             \u001b[0;31m# Power law for subhalo masses\u001b[0m\u001b[0;34m\u001b[0m\u001b[0;34m\u001b[0m\u001b[0;34m\u001b[0m\u001b[0m\n\u001b[1;32m    283\u001b[0m             \u001b[0;32mfor\u001b[0m \u001b[0mm_sub\u001b[0m \u001b[0;32min\u001b[0m \u001b[0mself\u001b[0m\u001b[0;34m.\u001b[0m\u001b[0mm_sample\u001b[0m\u001b[0;34m:\u001b[0m\u001b[0;34m\u001b[0m\u001b[0;34m\u001b[0m\u001b[0m\n\u001b[0;32m--> 284\u001b[0;31m                 \u001b[0mlog_probs\u001b[0m\u001b[0;34m[\u001b[0m\u001b[0mi_eval\u001b[0m\u001b[0;34m]\u001b[0m \u001b[0;34m+=\u001b[0m \u001b[0mself\u001b[0m\u001b[0;34m.\u001b[0m\u001b[0m_log_p_m_sub\u001b[0m\u001b[0;34m(\u001b[0m\u001b[0mm_sub\u001b[0m\u001b[0;34m,\u001b[0m \u001b[0mbeta\u001b[0m\u001b[0;34m)\u001b[0m\u001b[0;34m\u001b[0m\u001b[0;34m\u001b[0m\u001b[0m\n\u001b[0m\u001b[1;32m    285\u001b[0m \u001b[0;34m\u001b[0m\u001b[0m\n\u001b[1;32m    286\u001b[0m         \u001b[0;32mreturn\u001b[0m \u001b[0mlog_probs\u001b[0m\u001b[0;34m\u001b[0m\u001b[0;34m\u001b[0m\u001b[0m\n",
      "\u001b[0;32m~/work/projects/strong_lensing/StrongLensing-Inference/simulation/population_sim.py\u001b[0m in \u001b[0;36m_log_p_m_sub\u001b[0;34m(self, m, beta)\u001b[0m\n\u001b[1;32m    314\u001b[0m             \u001b[0mnp\u001b[0m\u001b[0;34m.\u001b[0m\u001b[0mlog\u001b[0m\u001b[0;34m(\u001b[0m\u001b[0;34m-\u001b[0m \u001b[0mbeta\u001b[0m \u001b[0;34m-\u001b[0m \u001b[0;36m1.0\u001b[0m\u001b[0;34m)\u001b[0m\u001b[0;34m\u001b[0m\u001b[0;34m\u001b[0m\u001b[0m\n\u001b[1;32m    315\u001b[0m             \u001b[0;34m-\u001b[0m \u001b[0mnp\u001b[0m\u001b[0;34m.\u001b[0m\u001b[0mlog\u001b[0m\u001b[0;34m(\u001b[0m\u001b[0mself\u001b[0m\u001b[0;34m.\u001b[0m\u001b[0mm_min\u001b[0m\u001b[0;34m)\u001b[0m\u001b[0;34m\u001b[0m\u001b[0;34m\u001b[0m\u001b[0m\n\u001b[0;32m--> 316\u001b[0;31m             \u001b[0;34m+\u001b[0m \u001b[0mbeta\u001b[0m \u001b[0;34m*\u001b[0m \u001b[0mnp\u001b[0m\u001b[0;34m.\u001b[0m\u001b[0mlog\u001b[0m\u001b[0;34m(\u001b[0m\u001b[0mm\u001b[0m \u001b[0;34m/\u001b[0m \u001b[0mself\u001b[0m\u001b[0;34m.\u001b[0m\u001b[0mm_min\u001b[0m\u001b[0;34m)\u001b[0m\u001b[0;34m\u001b[0m\u001b[0;34m\u001b[0m\u001b[0m\n\u001b[0m\u001b[1;32m    317\u001b[0m         )\n\u001b[1;32m    318\u001b[0m         \u001b[0;32mreturn\u001b[0m \u001b[0mlog_p\u001b[0m\u001b[0;34m\u001b[0m\u001b[0;34m\u001b[0m\u001b[0m\n",
      "\u001b[0;31mKeyboardInterrupt\u001b[0m: "
     ]
    }
   ],
   "source": [
    "imgs, t_xz, log_r_xz, latents = augmented_data(n_calib=150., beta=1.9, n_images=1, sim_mvgauss_file=\"../simulation/data/sim_mvgauss.npz\")"
   ]
  },
  {
   "cell_type": "markdown",
   "metadata": {},
   "source": [
    "## Plot subhalos"
   ]
  },
  {
   "cell_type": "code",
   "execution_count": null,
   "metadata": {},
   "outputs": [],
   "source": [
    "plt.figure(figsize=(15,16))\n",
    "\n",
    "for i in [9,10,11,0,3,6,1,2,4,5,7,8]:\n",
    "    if i == 9:\n",
    "        ax_y = plt.subplot(4,3,i+1)\n",
    "        ax_x = ax_y\n",
    "    elif i in [10,11]:\n",
    "        ax_x = plt.subplot(4,3,i+1, sharey=ax_y)\n",
    "    elif i in [0,3,6]:\n",
    "        ax_y = plt.subplot(4,3,i+1, sharex=ax_x)\n",
    "    else:\n",
    "        ax = plt.subplot(4,3,i+1, sharey=ax_y, sharex=ax_x)\n",
    "        \n",
    "    plt.imshow(\n",
    "        np.log10(x[i]),\n",
    "        vmax=3.5,\n",
    "        cmap='gist_gray',\n",
    "        extent=(-2.,2.,-2.,2.),\n",
    "        origin=\"lower\"\n",
    "    )\n",
    "    sc = plt.scatter(\n",
    "        pos_subs[i][:,0],\n",
    "        pos_subs[i][:,1],\n",
    "        s=50.,\n",
    "        c=np.log10(m_subs[i][:]),\n",
    "        cmap=\"plasma\",\n",
    "        vmin=1.,\n",
    "        vmax=3.,\n",
    "    )\n",
    "    cbar = plt.colorbar(sc)\n",
    "    \n",
    "    plt.xlim(-2.,2.)\n",
    "    plt.ylim(-2.,2.)\n",
    "    \n",
    "    description = r\"$\\alpha = ${:.1f}, $\\beta = ${:.2f}, $n = {}$, $r(x,z) = ${:.1f}\".format(\n",
    "            theta[i,0],\n",
    "            theta[i,1],\n",
    "            n_subs[i],\n",
    "            r_xz[i]\n",
    "        )\n",
    "    plt.title(\n",
    "        description,\n",
    "        fontsize=10\n",
    "    )\n",
    "    if i in [9,10,11]:\n",
    "        plt.xlabel(r\"$\\theta_x$ [arcsec]\")\n",
    "    else:\n",
    "        plt.setp(plt.gca().get_xticklabels(), visible=False)\n",
    "    if i in [0,3,6,9]:\n",
    "        plt.ylabel(r\"$\\theta_y$ [arcsec]\")\n",
    "    else:\n",
    "        plt.setp(plt.gca().get_yticklabels(), visible=False)\n",
    "    cbar.set_label(r'$\\log_{10} [M_{sub} / 10^7 M_S]$')\n",
    "    \n",
    "    \n",
    "plt.tight_layout()\n",
    "plt.savefig(\"../figures/subhalos.pdf\")"
   ]
  },
  {
   "cell_type": "code",
   "execution_count": null,
   "metadata": {
    "collapsed": true
   },
   "outputs": [],
   "source": []
  }
 ],
 "metadata": {
  "kernelspec": {
   "display_name": "Python 3",
   "language": "python",
   "name": "python3"
  },
  "language_info": {
   "codemirror_mode": {
    "name": "ipython",
    "version": 3
   },
   "file_extension": ".py",
   "mimetype": "text/x-python",
   "name": "python",
   "nbconvert_exporter": "python",
   "pygments_lexer": "ipython3",
   "version": "3.6.8"
  }
 },
 "nbformat": 4,
 "nbformat_minor": 2
}
