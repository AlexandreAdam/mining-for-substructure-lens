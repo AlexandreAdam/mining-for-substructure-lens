{
 "cells": [
  {
   "cell_type": "markdown",
   "metadata": {},
   "source": [
    "# Plot average images"
   ]
  },
  {
   "cell_type": "code",
   "execution_count": 1,
   "metadata": {
    "collapsed": true
   },
   "outputs": [],
   "source": [
    "import sys, os\n",
    "sys.path.append('../')\n",
    "\n",
    "import logging\n",
    "import numpy as np\n",
    "import matplotlib.pyplot as plt\n",
    "\n",
    "from simulation.units import *\n",
    "from simulation.population_sim import SubhaloSimulator\n",
    "\n",
    "logging.basicConfig(\n",
    "    format='%(asctime)-5.5s %(name)-20.20s %(levelname)-7.7s %(message)s',\n",
    "    datefmt='%H:%M',\n",
    "    level=logging.INFO\n",
    ")"
   ]
  },
  {
   "cell_type": "markdown",
   "metadata": {},
   "source": [
    "## Load data"
   ]
  },
  {
   "cell_type": "code",
   "execution_count": 4,
   "metadata": {},
   "outputs": [],
   "source": [
    "theta = np.load(\"../data/samples/theta_train.npy\")\n",
    "#x = np.load(\"../data/samples/x_train.npy\", mmap_mode=\"c\")\n",
    "y = np.load(\"../data/samples/y_train.npy\")\n",
    "t_xz = np.load(\"../data/samples/t_xz_train.npy\")\n",
    "r_xz = np.load(\"../data/samples/r_xz_train.npy\")\n",
    "n_subs = np.load(\"../data/samples/n_subs_train.npy\")\n",
    "m_subs = np.load(\"../data/samples/m_subs_train.npy\")"
   ]
  },
  {
   "cell_type": "markdown",
   "metadata": {},
   "source": [
    "## Calculate averages"
   ]
  },
  {
   "cell_type": "code",
   "execution_count": null,
   "metadata": {
    "collapsed": true
   },
   "outputs": [],
   "source": [
    "avg_x_prior = np.mean(x[y==1], axis=0)"
   ]
  },
  {
   "cell_type": "code",
   "execution_count": null,
   "metadata": {
    "collapsed": true
   },
   "outputs": [],
   "source": [
    "alpha_boundaries = (0., 7., 13., 100000.)\n",
    "beta_boundaries = (-1000.,-2.2,-1.6,-1.0)\n",
    "\n",
    "avg_x_theta = np.empty((3,3,64,64), dtype=x.dtype)\n",
    "\n",
    "for i, (alpha_min, alpha_max) in enumerate(zip(alpha_boundaries[:-1], alpha_boundaries[1:])):\n",
    "    for j, (beta_min, beta_max) in enumerate(zip(beta_boundaries[:-1], beta_boundaries[1:])):\n",
    "        cut = (theta[:,0] >= alpha_min) * (theta[:,0] < alpha_max) * (theta[:,1] >= beta_min) * (theta[:,1] < beta_max)\n",
    "        avg_x_theta[i,j] = np.mean(x[cut], axis=0)"
   ]
  },
  {
   "cell_type": "code",
   "execution_count": 7,
   "metadata": {
    "collapsed": true
   },
   "outputs": [],
   "source": [
    "alpha_descr = [r\"$\\alpha < 7$\", r\"$7 < \\alpha < 13$\", r\"$13 < \\alpha$\"]\n",
    "beta_descr = [r\"$\\beta < -2.2$\", r\"$-2.2 < \\beta < -1.6$\", r\"$-1.6 < \\beta$\"]"
   ]
  },
  {
   "cell_type": "markdown",
   "metadata": {},
   "source": [
    "## Average image from prior"
   ]
  },
  {
   "cell_type": "code",
   "execution_count": null,
   "metadata": {
    "collapsed": true
   },
   "outputs": [],
   "source": [
    "plt.figure(figsize=(4,4))\n",
    "        \n",
    "plt.imshow(\n",
    "    np.log10(avg_x_prior),\n",
    "    vmax=3.5,\n",
    "    cmap='gist_gray',\n",
    "    extent=(-2.,2.,-2.,2.),\n",
    "    origin=\"lower\"\n",
    ")\n",
    "    \n",
    "plt.xlim(-2.,2.)\n",
    "plt.ylim(-2.,2.)\n",
    "\n",
    "plt.xlabel(r\"$\\theta_x$ [arcsec]\")\n",
    "plt.ylabel(r\"$\\theta_y$ [arcsec]\")\n",
    "\n",
    "plt.tight_layout()\n",
    "plt.savefig(\"../figures/average_image_prior.pdf\")"
   ]
  },
  {
   "cell_type": "code",
   "execution_count": null,
   "metadata": {
    "collapsed": true
   },
   "outputs": [],
   "source": [
    "plt.figure(figsize=(12,12))\n",
    "\n",
    "for i in range(3):\n",
    "    for j in range(3):\n",
    "        \n",
    "        plt.imshow(\n",
    "            np.log10(avg_x_theta[i,j]),\n",
    "            vmax=3.5,\n",
    "            cmap='gist_gray',\n",
    "            extent=(-2.,2.,-2.,2.),\n",
    "            origin=\"lower\"\n",
    "        )\n",
    "    \n",
    "        plt.xlim(-2.,2.)\n",
    "        plt.ylim(-2.,2.)\n",
    "    \n",
    "        plt.title(alpha_descr[i] + \", \" + beta_descr[j],fontsize=10)\n",
    "        plt.xlabel(r\"$\\theta_x$ [arcsec]\")\n",
    "        plt.ylabel(r\"$\\theta_y$ [arcsec]\")\n",
    "    \n",
    "plt.tight_layout()\n",
    "plt.savefig(\"../figures/average_image_theta.pdf\")"
   ]
  }
 ],
 "metadata": {
  "kernelspec": {
   "display_name": "Python (lensing)",
   "language": "python",
   "name": "lensing"
  },
  "language_info": {
   "codemirror_mode": {
    "name": "ipython",
    "version": 3
   },
   "file_extension": ".py",
   "mimetype": "text/x-python",
   "name": "python",
   "nbconvert_exporter": "python",
   "pygments_lexer": "ipython3",
   "version": "3.6.8"
  }
 },
 "nbformat": 4,
 "nbformat_minor": 2
}
