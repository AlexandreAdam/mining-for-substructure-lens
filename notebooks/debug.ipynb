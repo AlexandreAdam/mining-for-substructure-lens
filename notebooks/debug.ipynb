{
 "cells": [
  {
   "cell_type": "code",
   "execution_count": 5,
   "metadata": {
    "collapsed": true
   },
   "outputs": [],
   "source": [
    "import numpy as np\n",
    "import scipy.special"
   ]
  },
  {
   "cell_type": "code",
   "execution_count": 9,
   "metadata": {},
   "outputs": [],
   "source": [
    "log_p1 = np.array([-2.5, -23.5])\n",
    "log_p0 = -200.5"
   ]
  },
  {
   "cell_type": "code",
   "execution_count": 10,
   "metadata": {},
   "outputs": [
    {
     "name": "stdout",
     "output_type": "stream",
     "text": [
      "-197.30685282019832\n"
     ]
    }
   ],
   "source": [
    "# Old\n",
    "inverse_r_xz = 0.0\n",
    "for log_p1_ in log_p1:\n",
    "    log_r_contribution = log_p1_ - log_p0\n",
    "    inverse_r_xz += np.exp(log_r_contribution)\n",
    "inverse_r_xz /= len(log_p1)\n",
    "print(-np.log(inverse_r_xz))"
   ]
  },
  {
   "cell_type": "code",
   "execution_count": 11,
   "metadata": {
    "scrolled": true
   },
   "outputs": [
    {
     "name": "stdout",
     "output_type": "stream",
     "text": [
      "-197.30685282019832\n"
     ]
    }
   ],
   "source": [
    "# New\n",
    "inverse_r_xz = 0.0\n",
    "delta_log = log_p1 - log_p0 - np.log(len(log_p1))\n",
    "print(- scipy.special.logsumexp(delta_log))\n"
   ]
  },
  {
   "cell_type": "code",
   "execution_count": null,
   "metadata": {
    "collapsed": true
   },
   "outputs": [],
   "source": []
  }
 ],
 "metadata": {
  "kernelspec": {
   "display_name": "Python (lensing)",
   "language": "python",
   "name": "lensing"
  },
  "language_info": {
   "codemirror_mode": {
    "name": "ipython",
    "version": 3
   },
   "file_extension": ".py",
   "mimetype": "text/x-python",
   "name": "python",
   "nbconvert_exporter": "python",
   "pygments_lexer": "ipython3",
   "version": "3.6.8"
  }
 },
 "nbformat": 4,
 "nbformat_minor": 2
}
