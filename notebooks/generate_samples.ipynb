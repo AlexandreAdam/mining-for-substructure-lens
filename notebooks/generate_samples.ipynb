{
 "cells": [
  {
   "cell_type": "code",
   "execution_count": 5,
   "metadata": {},
   "outputs": [
    {
     "name": "stdout",
     "output_type": "stream",
     "text": [
      "The autoreload extension is already loaded. To reload it, use:\n",
      "  %reload_ext autoreload\n"
     ]
    }
   ],
   "source": [
    "import sys, os\n",
    "sys.path.append('../')\n",
    "\n",
    "import numpy as np\n",
    "import matplotlib.pyplot as plt\n",
    "\n",
    "from units import *\n",
    "from lensing_sim import LensingSim\n",
    "\n",
    "%matplotlib inline\n",
    "%load_ext autoreload\n",
    "%autoreload 2"
   ]
  },
  {
   "cell_type": "markdown",
   "metadata": {},
   "source": [
    "## Fixed parameters"
   ]
  },
  {
   "cell_type": "code",
   "execution_count": 26,
   "metadata": {},
   "outputs": [],
   "source": [
    "# Grid size\n",
    "n_x, n_y = 52, 52\n",
    "x_lims, y_lims = [-2, 2], [-2, 2]\n",
    "\n",
    "# Host parameters\n",
    "hst_param_dict = {'profile':'sis', 'theta_x':0.1, 'theta_y':-0.15, 'theta_E':1.}\n",
    "\n",
    "# Observational parameters\n",
    "observation_dict = {'nx':n_x, 'ny':n_y, 'xlims':x_lims, 'ylims':y_lims, 'exposure':(1/1.8e-19)*erg**-1*Centimeter**2*Angstrom*1000*Sec, 'A_iso':2e-7*erg/Centimeter**2/Sec/Angstrom/(radtoasc)**2}\n",
    "global_dict = {'z_s':1.0, 'z_l':0.2}\n",
    "\n",
    "# Source parameters\n",
    "src_param_dict = {'profile':'sersic', 'I_gal':1e-17*erg/Centimeter**2/Sec/Angstrom,'theta_e_gal':0.5,'n_srsc':4}"
   ]
  },
  {
   "cell_type": "markdown",
   "metadata": {},
   "source": [
    "## Model parameters"
   ]
  },
  {
   "cell_type": "code",
   "execution_count": 32,
   "metadata": {},
   "outputs": [],
   "source": [
    "nu = 5.3\n",
    "\n",
    "# \"z\" parameters\n",
    "n = np.random.poisson(nu) # Number of subhalos\n",
    "x_coords = np.random.uniform(low=x_lims[0], high=x_lims[1], size=n) # Subhalo coordinates\n",
    "y_coords = np.random.uniform(low=y_lims[0], high=y_lims[1], size=n)"
   ]
  },
  {
   "cell_type": "markdown",
   "metadata": {},
   "source": [
    "## Generate image"
   ]
  },
  {
   "cell_type": "code",
   "execution_count": 29,
   "metadata": {},
   "outputs": [
    {
     "data": {
      "image/png": "[encoded data removed]",
      "text/plain": [
       "<Figure size 432x288 with 1 Axes>"
      ]
     },
     "metadata": {
      "needs_background": "light"
     },
     "output_type": "display_data"
    }
   ],
   "source": [
    "lens_list = [hst_param_dict]\n",
    "\n",
    "# Substructure parameters\n",
    "for isub in range(n):\n",
    "    sub_param_dict = {'profile':'sis', 'theta_x':x_coords[isub], 'theta_y':y_coords[isub], 'theta_E':0.1}\n",
    "    lens_list.append(sub_param_dict)\n",
    "\n",
    "# Generate lensed image\n",
    "LSI = LensingSim(lens_list, [src_param_dict], global_dict, observation_dict)\n",
    "i_tot = np.random.poisson((LSI.lensed_image()).numpy())\n",
    "\n",
    "plt.imshow(np.log10(i_tot), vmax=3.5, cmap = 'gist_gray', extent=LSI.xlims+LSI.ylims, origin=\"lower\")\n",
    "plt.xlabel(\"$\\\\theta_x$ [arcsec]\");\n",
    "plt.ylabel(\"$\\\\theta_y$ [arcsec]\");\n",
    "plt.title('Lensed image');"
   ]
  },
  {
   "cell_type": "code",
   "execution_count": null,
   "metadata": {},
   "outputs": [],
   "source": []
  }
 ],
 "metadata": {
  "kernelspec": {
   "display_name": "Python 3",
   "language": "python",
   "name": "python3"
  },
  "language_info": {
   "codemirror_mode": {
    "name": "ipython",
    "version": 3
   },
   "file_extension": ".py",
   "mimetype": "text/x-python",
   "name": "python",
   "nbconvert_exporter": "python",
   "pygments_lexer": "ipython3",
   "version": "3.6.8"
  }
 },
 "nbformat": 4,
 "nbformat_minor": 2
}
