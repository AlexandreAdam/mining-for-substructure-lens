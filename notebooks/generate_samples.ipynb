{
 "cells": [
  {
   "cell_type": "code",
   "execution_count": 1,
   "metadata": {},
   "outputs": [],
   "source": [
    "import sys, os\n",
    "sys.path.append('../')\n",
    "\n",
    "import numpy as np\n",
    "import matplotlib.pyplot as plt\n",
    "\n",
    "from units import *\n",
    "from lensing_sim import LensingSim\n",
    "\n",
    "%matplotlib inline\n",
    "%load_ext autoreload\n",
    "%autoreload 2"
   ]
  },
  {
   "cell_type": "markdown",
   "metadata": {},
   "source": [
    "## Fixed parameters"
   ]
  },
  {
   "cell_type": "code",
   "execution_count": 2,
   "metadata": {},
   "outputs": [],
   "source": [
    "# Grid size\n",
    "n_x, n_y = 52, 52\n",
    "x_lims, y_lims = [-2, 2], [-2, 2]\n",
    "\n",
    "# Host halo parameters\n",
    "hst_param_dict = {'profile':'sis', 'theta_x':0.1, 'theta_y':-0.15, 'theta_E':1.}\n",
    "\n",
    "# Observational parameters\n",
    "observation_dict = {'nx':n_x, 'ny':n_y, 'xlims':x_lims, 'ylims':y_lims, 'exposure':(1/1.8e-19)*erg**-1*Centimeter**2*Angstrom*1000*Sec, 'A_iso':2e-7*erg/Centimeter**2/Sec/Angstrom/(radtoasc)**2}\n",
    "global_dict = {'z_s':1.0, 'z_l':0.2}\n",
    "\n",
    "# Source parameters\n",
    "src_param_dict = {'profile':'sersic', 'I_gal':1e-17*erg/Centimeter**2/Sec/Angstrom,'theta_e_gal':0.5,'n_srsc':4}"
   ]
  },
  {
   "cell_type": "code",
   "execution_count": 5,
   "metadata": {},
   "outputs": [],
   "source": [
    "# Minimal mass\n",
    "m0 = 0.1"
   ]
  },
  {
   "cell_type": "markdown",
   "metadata": {},
   "source": [
    "## Draw subhalo properties"
   ]
  },
  {
   "cell_type": "code",
   "execution_count": 6,
   "metadata": {},
   "outputs": [],
   "source": [
    "def draw_subhalo_masses(alpha, beta, m0=m0):\n",
    "    \"\"\"\n",
    "    Draws a varying number of subhalos together with their masses as a function\n",
    "    of the power-law parameters alpha and beta.\n",
    "    \n",
    "    dn/dm = alpha m^{-beta}\n",
    "    with alpha > 0, beta > 1\n",
    "    \"\"\"\n",
    "    \n",
    "    # Poisson mean\n",
    "    nu = alpha / (beta - 1) * m0**(1. - beta)\n",
    "    \n",
    "    # Draw number of subhalos\n",
    "    n = np.random.poisson(nu)\n",
    "    \n",
    "    # Draw masses for all subhalos\n",
    "    u = np.random.uniform(0,1,size=n)\n",
    "    #m = m0 * (1-u) ** (1/(beta+1))\n",
    "    m = m0 * (1-u)**(1. / (-beta + 1.0))\n",
    "    \n",
    "    return n, m"
   ]
  },
  {
   "cell_type": "code",
   "execution_count": 49,
   "metadata": {},
   "outputs": [],
   "source": [
    "ns, ms = [], []\n",
    "all_ms = []\n",
    "for i in range(100000):\n",
    "    n, m = draw_subhalo_masses(1.0, 1.9, 0.1)\n",
    "    ns.append(n)\n",
    "    ms.append(m)\n",
    "    all_ms += list(m)\n",
    "    "
   ]
  },
  {
   "cell_type": "code",
   "execution_count": 50,
   "metadata": {},
   "outputs": [
    {
     "data": {
      "image/png": "[encoded data removed]",
      "text/plain": [
       "<Figure size 720x360 with 2 Axes>"
      ]
     },
     "metadata": {
      "needs_background": "light"
     },
     "output_type": "display_data"
    }
   ],
   "source": [
    "fig = plt.figure(figsize=(10,5))\n",
    "\n",
    "\n",
    "ax = plt.subplot(1,2,1)\n",
    "\n",
    "plt.hist(ns, bins=np.max(ns)+1, range=(-0.5,np.max(ns)+0.5), histtype='step')\n",
    "\n",
    "#ax.set_yscale(\"log\", nonposy='clip')\n",
    "plt.xlabel(r'Number of subhalos')\n",
    "plt.ylabel(r'Histogram')\n",
    "\n",
    "\n",
    "ax = plt.subplot(1,2,2)\n",
    "\n",
    "bins = 10**(np.linspace(-1, 6, 50))\n",
    "plt.hist(all_ms, bins=bins, histtype='step')\n",
    "\n",
    "ax.set_xscale(\"log\", nonposx='clip')\n",
    "ax.set_yscale(\"log\", nonposy='clip')\n",
    "plt.xlabel(r'Subhalo mass')\n",
    "plt.ylabel(r'Histogram')\n",
    "\n",
    "plt.tight_layout()\n",
    "plt.show()"
   ]
  },
  {
   "cell_type": "markdown",
   "metadata": {},
   "source": [
    "## Model parameters (old)"
   ]
  },
  {
   "cell_type": "code",
   "execution_count": 3,
   "metadata": {},
   "outputs": [],
   "source": [
    "# Mean of Poisson distribution for number of subhalos\n",
    "nu = 5.3\n",
    "\n",
    "# \"z\" parameters\n",
    "n = np.random.poisson(nu) # Number of subhalos\n",
    "x_coords = np.random.uniform(low=x_lims[0], high=x_lims[1], size=n) # Subhalo coordinates\n",
    "y_coords = np.random.uniform(low=y_lims[0], high=y_lims[1], size=n)"
   ]
  },
  {
   "cell_type": "markdown",
   "metadata": {},
   "source": [
    "## Generate image"
   ]
  },
  {
   "cell_type": "code",
   "execution_count": 4,
   "metadata": {},
   "outputs": [
    {
     "data": {
      "image/png": "[encoded data removed]",
      "text/plain": [
       "<Figure size 432x288 with 1 Axes>"
      ]
     },
     "metadata": {
      "needs_background": "light"
     },
     "output_type": "display_data"
    }
   ],
   "source": [
    "lens_list = [hst_param_dict]\n",
    "\n",
    "# Substructure parameters\n",
    "for isub in range(n):\n",
    "    sub_param_dict = {'profile':'sis', 'theta_x':x_coords[isub], 'theta_y':y_coords[isub], 'theta_E':0.1}\n",
    "    lens_list.append(sub_param_dict)\n",
    "\n",
    "# Generate lensed image\n",
    "LSI = LensingSim(lens_list, [src_param_dict], global_dict, observation_dict)\n",
    "i_tot = np.random.poisson((LSI.lensed_image()).numpy())\n",
    "\n",
    "plt.imshow(np.log10(i_tot), vmax=3.5, cmap = 'gist_gray', extent=LSI.xlims+LSI.ylims, origin=\"lower\")\n",
    "plt.xlabel(\"$\\\\theta_x$ [arcsec]\");\n",
    "plt.ylabel(\"$\\\\theta_y$ [arcsec]\");\n",
    "plt.title('Lensed image');"
   ]
  },
  {
   "cell_type": "code",
   "execution_count": null,
   "metadata": {},
   "outputs": [],
   "source": []
  }
 ],
 "metadata": {
  "kernelspec": {
   "display_name": "Python (lensing)",
   "language": "python",
   "name": "lensing"
  },
  "language_info": {
   "codemirror_mode": {
    "name": "ipython",
    "version": 3
   },
   "file_extension": ".py",
   "mimetype": "text/x-python",
   "name": "python",
   "nbconvert_exporter": "python",
   "pygments_lexer": "ipython3",
   "version": "3.6.8"
  }
 },
 "nbformat": 4,
 "nbformat_minor": 2
}
