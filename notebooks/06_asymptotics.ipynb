{
 "cells": [
  {
   "cell_type": "markdown",
   "metadata": {},
   "source": [
    "# Check distribution of likelihood ratio against Wilk's theorem"
   ]
  },
  {
   "cell_type": "code",
   "execution_count": 2,
   "metadata": {
    "collapsed": true
   },
   "outputs": [],
   "source": [
    "import numpy as np\n",
    "import matplotlib\n",
    "import matplotlib.pyplot as plt\n",
    "from scipy.stats import norm, chi2"
   ]
  },
  {
   "cell_type": "markdown",
   "metadata": {},
   "source": [
    "## Data"
   ]
  },
  {
   "cell_type": "code",
   "execution_count": 45,
   "metadata": {
    "collapsed": true
   },
   "outputs": [],
   "source": [
    "filenames = [\n",
    "    \"carl_pointref_aux\", \"carl_aux\",\n",
    "    \"alice_pointref_aux\", \"alice_aux\",\n",
    "    \"alices_pointref_aux\", \"alices_aux\"\n",
    "]\n",
    "labels = [\n",
    "    \"CARL (vs point)\", \"CARL (vs marginal)\",\n",
    "    \"ALICE (vs point)\", \"ALICE (vs marginal)\",\n",
    "    \"ALICES (vs point)\", \"ALICES (vs marginal)\"\n",
    "]\n",
    "nmethods = len(filenames)\n"
   ]
  },
  {
   "cell_type": "code",
   "execution_count": 46,
   "metadata": {},
   "outputs": [
    {
     "name": "stdout",
     "output_type": "stream",
     "text": [
      "(625, 100000)\n",
      "(625, 100000)\n"
     ]
    }
   ],
   "source": [
    "llrs = []\n",
    "for filename in filenames:\n",
    "    llrs.append(np.load(\"../data/results/llr_{}_grid.npy\".format(filename)))\n",
    "    print(llrs[-1].shape)\n",
    "llrs = np.array(llrs)"
   ]
  },
  {
   "cell_type": "markdown",
   "metadata": {},
   "source": [
    "## Calculate likelihood ratio wrt best fit"
   ]
  },
  {
   "cell_type": "code",
   "execution_count": 47,
   "metadata": {
    "collapsed": true
   },
   "outputs": [],
   "source": [
    "grid_res = 25\n",
    "\n",
    "alpha_test = np.linspace(10., 400., grid_res)\n",
    "beta_test = np.linspace(-1.1, -3., grid_res)\n",
    "\n",
    "theta0, theta1 = np.meshgrid(alpha_test, beta_test)\n",
    "theta_grid = np.vstack((theta0.flatten(), theta1.flatten())).T\n",
    "\n",
    "bin_size = alpha_test[1] - alpha_test[0]\n",
    "alpha_edges = np.linspace(alpha_test[0] - bin_size/2, alpha_test[-1] + bin_size/2, grid_res + 1)\n",
    "bin_size = beta_test[1] - beta_test[0]\n",
    "beta_edges = np.linspace(beta_test[0] - bin_size/2, beta_test[-1] + bin_size/2, grid_res + 1)"
   ]
  },
  {
   "cell_type": "code",
   "execution_count": 48,
   "metadata": {
    "collapsed": true
   },
   "outputs": [],
   "source": [
    "idx_mle = np.argmax(llrs, axis=1)\n",
    "theta_mle = theta_grid[idx_mle]"
   ]
  },
  {
   "cell_type": "code",
   "execution_count": 49,
   "metadata": {},
   "outputs": [
    {
     "name": "stdout",
     "output_type": "stream",
     "text": [
      "CARL (vs marginal) [10.         -1.25833333] 0.06828\n",
      "ALICE (vs marginal) [10.         -1.25833333] 0.06828\n"
     ]
    }
   ],
   "source": [
    "for i in range(nmethods):\n",
    "    bincount = np.bincount(idx_mle[0])\n",
    "    idx_mle_max = np.argmax(bincount)\n",
    "    n_mle_max = np.max(bincount)\n",
    "    print(labels[i], theta_grid[idx_mle_max], n_mle_max / len(idx_mle[0]))"
   ]
  },
  {
   "cell_type": "code",
   "execution_count": 50,
   "metadata": {},
   "outputs": [
    {
     "name": "stdout",
     "output_type": "stream",
     "text": [
      "[156.25        -1.89166667]\n"
     ]
    }
   ],
   "source": [
    "idx_true = 259\n",
    "llr_true = llrs[:, idx_true]\n",
    "print(theta_grid[idx_true])\n",
    "llr_mle = np.max(llrs, axis=1)"
   ]
  },
  {
   "cell_type": "code",
   "execution_count": 51,
   "metadata": {
    "collapsed": true
   },
   "outputs": [],
   "source": [
    "q = -2. * (llr_true - llr_mle)"
   ]
  },
  {
   "cell_type": "code",
   "execution_count": 52,
   "metadata": {},
   "outputs": [
    {
     "data": {
      "text/plain": [
       "array([[-1.522102  , -1.1241202 , -3.9042902 , ..., -2.6941395 ,\n",
       "        -0.34227908,  0.06228769],\n",
       "       [-2.2525783 , -1.9425949 , -4.047511  , ..., -3.530837  ,\n",
       "        -0.57047653,  0.04927456],\n",
       "       [-3.1655788 , -2.824576  , -4.40608   , ..., -4.276788  ,\n",
       "        -0.8052671 ,  0.13254571],\n",
       "       ...,\n",
       "       [-3.760867  , -0.90513146, -5.1891813 , ..., -1.5586964 ,\n",
       "        -0.8793243 ,  1.3981992 ],\n",
       "       [-3.8567896 , -1.0130464 , -5.275934  , ..., -1.6256824 ,\n",
       "        -0.88972557,  1.3775982 ],\n",
       "       [-3.9555368 , -1.1222669 , -5.3673906 , ..., -1.6881996 ,\n",
       "        -0.90012634,  1.3569969 ]], dtype=float32)"
      ]
     },
     "execution_count": 52,
     "metadata": {},
     "output_type": "execute_result"
    }
   ],
   "source": [
    "llrs[0]"
   ]
  },
  {
   "cell_type": "markdown",
   "metadata": {},
   "source": [
    "## Plot test statistic histo"
   ]
  },
  {
   "cell_type": "code",
   "execution_count": 53,
   "metadata": {
    "collapsed": true
   },
   "outputs": [],
   "source": [
    "qmin = 0.\n",
    "qmax = 8.\n",
    "qbins = 100\n"
   ]
  },
  {
   "cell_type": "code",
   "execution_count": 54,
   "metadata": {
    "collapsed": true
   },
   "outputs": [],
   "source": [
    "wilks = chi2.rvs(size=100000, df=2)"
   ]
  },
  {
   "cell_type": "code",
   "execution_count": 55,
   "metadata": {},
   "outputs": [
    {
     "data": {
      "image/png": "[encoded data removed]",
      "text/plain": [
       "<Figure size 360x360 with 1 Axes>"
      ]
     },
     "metadata": {
      "needs_background": "light"
     },
     "output_type": "display_data"
    }
   ],
   "source": [
    "fig = plt.figure(figsize=(5,5))\n",
    "ax = plt.gca()\n",
    "\n",
    "plt.hist(\n",
    "    wilks, range=(qmin, qmax), bins=qbins,\n",
    "    histtype=\"step\", density=True,\n",
    "    lw=1.5, color=\"black\",\n",
    "    label=r\"$\\chi^2$\"\n",
    ")\n",
    "for i in range(nmethods):\n",
    "    plt.hist(\n",
    "        q[i], range=(qmin, qmax), bins=qbins,\n",
    "        histtype=\"step\", density=True,\n",
    "        lw=1.5, color=\"C{}\".format(i),\n",
    "        label=labels[i]\n",
    "    )\n",
    "    \n",
    "plt.legend()\n",
    "    \n",
    "#ax.set_yscale(\"log\")\n",
    "plt.xlim(qmin, qmax)\n",
    "#plt.ylim(1.e-3, 2.)\n",
    "\n",
    "plt.xlabel(r\"$q(\\theta) = -2\\; \\log \\; \\hat{r}(x|\\theta, \\hat{\\theta})$\")\n",
    "plt.ylabel(r\"$p(q(\\theta) | \\theta)$\")\n",
    "    \n",
    "plt.tight_layout()\n",
    "plt.savefig(\"../figures/chi_squared.pdf\")"
   ]
  },
  {
   "cell_type": "markdown",
   "metadata": {},
   "source": [
    "## Plot MLE"
   ]
  },
  {
   "cell_type": "code",
   "execution_count": 56,
   "metadata": {},
   "outputs": [
    {
     "data": {
      "image/png": "[encoded data removed]",
      "text/plain": [
       "<Figure size 720x288 with 4 Axes>"
      ]
     },
     "metadata": {
      "needs_background": "light"
     },
     "output_type": "display_data"
    }
   ],
   "source": [
    "fig = plt.figure(figsize=(nmethods // 2 * 5, 8.))\n",
    "\n",
    "for i in range(nmethods):\n",
    "    ax = plt.subplot(2, nmethods // 2, i+1)\n",
    "    \n",
    "    cm = plt.hist2d(\n",
    "        theta_mle[i,:,0], theta_mle[i,:,1],\n",
    "        bins=[21, 21],\n",
    "        range=[[10.,400.], [-3.,-1.]],\n",
    "        normed=True,\n",
    "        norm=matplotlib.colors.Normalize(0., 0.02),\n",
    "        cmap=\"viridis\"\n",
    "    )[3]\n",
    "    cbar = fig.colorbar(cm, ax=ax, extend='both', )\n",
    "    cbar.set_label(r'$p(\\theta_{MLE})$' + ', {}'.format(labels[i]))\n",
    "    plt.scatter(150., -1.9, s=60., color='white', marker='*')\n",
    "\n",
    "    plt.xlabel(r'$n_{\\mathrm{calib}}$')\n",
    "    plt.ylabel(r'$\\beta$')\n",
    "    \n",
    "plt.tight_layout()\n",
    "plt.savefig(\"../figures/mle_distribution.pdf\")"
   ]
  },
  {
   "cell_type": "code",
   "execution_count": null,
   "metadata": {
    "collapsed": true
   },
   "outputs": [],
   "source": []
  }
 ],
 "metadata": {
  "kernelspec": {
   "display_name": "Python (lensing)",
   "language": "python",
   "name": "lensing"
  },
  "language_info": {
   "codemirror_mode": {
    "name": "ipython",
    "version": 3
   },
   "file_extension": ".py",
   "mimetype": "text/x-python",
   "name": "python",
   "nbconvert_exporter": "python",
   "pygments_lexer": "ipython3",
   "version": "3.6.8"
  }
 },
 "nbformat": 4,
 "nbformat_minor": 2
}
