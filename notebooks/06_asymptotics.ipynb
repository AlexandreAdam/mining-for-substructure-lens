{
 "cells": [
  {
   "cell_type": "markdown",
   "metadata": {},
   "source": [
    "# Check distribution of likelihood ratio against Wilk's theorem"
   ]
  },
  {
   "cell_type": "code",
   "execution_count": 1,
   "metadata": {},
   "outputs": [],
   "source": [
    "import numpy as np\n",
    "import matplotlib\n",
    "import matplotlib.pyplot as plt\n",
    "from scipy.stats import norm, chi2"
   ]
  },
  {
   "cell_type": "markdown",
   "metadata": {},
   "source": [
    "## Data"
   ]
  },
  {
   "cell_type": "code",
   "execution_count": 2,
   "metadata": {},
   "outputs": [],
   "source": [
    "filenames = [\n",
    "    \"carl_fix\",\n",
    "    \"alice_fix\",\n",
    "    \"alices_fix\",\n",
    "    #\"carl_mass\",\n",
    "    #\"alice_mass\",\n",
    "    #\"alices_mass\",\n",
    "    #\"carl_align\",\n",
    "    #\"alice_align\",\n",
    "    #\"alices_align\",\n",
    "]\n",
    "labels = [\n",
    "    \"CARL (fix)\",\n",
    "    \"ALICE (fix)\",\n",
    "    \"ALICES (fix)\",\n",
    "    \"CARL (mass)\",\n",
    "    \"ALICE (mass)\",\n",
    "    \"ALICES (mass)\",\n",
    "    \"CARL (align)\",\n",
    "    \"ALICE (align)\",\n",
    "    \"ALICES (align)\",\n",
    "    \"CARL (full)\",\n",
    "    \"ALICE (full)\",\n",
    "    \"ALICES (full)\",\n",
    "    \"CARL (full-aux)\",\n",
    "    \"ALICE (full-aux)\",\n",
    "    \"ALICES (full-aux)\",\n",
    "]\n",
    "nmethods = len(filenames)\n"
   ]
  },
  {
   "cell_type": "code",
   "execution_count": 3,
   "metadata": {},
   "outputs": [],
   "source": [
    "llrs = []\n",
    "for filename in filenames:\n",
    "    llrs.append(np.load(\"../data/results/llr_{}_grid.npy\".format(filename)))\n",
    "llrs = np.array(llrs)"
   ]
  },
  {
   "cell_type": "markdown",
   "metadata": {},
   "source": [
    "## Calculate likelihood ratio wrt best fit"
   ]
  },
  {
   "cell_type": "code",
   "execution_count": 4,
   "metadata": {},
   "outputs": [],
   "source": [
    "resolution = 25\n",
    "\n",
    "f_sub_1d = np.linspace(0.001, 0.200, resolution)\n",
    "beta_1d = np.linspace(-2.5, -1.5, resolution)\n",
    "\n",
    "theta0, theta1 = np.meshgrid(f_sub_1d, beta_1d)\n",
    "theta_grid = np.vstack((theta0.flatten(), theta1.flatten())).T\n",
    "\n",
    "bin_size = f_sub_1d[1] - f_sub_1d[0]\n",
    "alpha_edges = np.linspace(f_sub_1d[0] - bin_size/2, f_sub_1d[-1] + bin_size/2, resolution + 1)\n",
    "bin_size = beta_1d[1] - beta_1d[0]\n",
    "beta_edges = np.linspace(beta_1d[0] - bin_size/2, beta_1d[-1] + bin_size/2, resolution + 1)"
   ]
  },
  {
   "cell_type": "code",
   "execution_count": 5,
   "metadata": {},
   "outputs": [],
   "source": [
    "idx_mle = np.argmax(llrs, axis=1)\n",
    "theta_mle = theta_grid[idx_mle]"
   ]
  },
  {
   "cell_type": "code",
   "execution_count": 6,
   "metadata": {},
   "outputs": [
    {
     "name": "stdout",
     "output_type": "stream",
     "text": [
      "CARL (fix) [ 0.01758333 -2.41666667] 0.16259\n",
      "ALICE (fix) [ 0.01758333 -2.41666667] 0.16259\n",
      "ALICES (fix) [ 0.01758333 -2.41666667] 0.16259\n"
     ]
    }
   ],
   "source": [
    "for i in range(nmethods):\n",
    "    bincount = np.bincount(idx_mle[0])\n",
    "    idx_mle_max = np.argmax(bincount)\n",
    "    n_mle_max = np.max(bincount)\n",
    "    print(labels[i], theta_grid[idx_mle_max], n_mle_max / len(idx_mle[0]))"
   ]
  },
  {
   "cell_type": "code",
   "execution_count": 7,
   "metadata": {},
   "outputs": [
    {
     "name": "stdout",
     "output_type": "stream",
     "text": [
      "[ 0.075625   -2.08333333]\n"
     ]
    }
   ],
   "source": [
    "idx_true = 259\n",
    "llr_true = llrs[:, idx_true]\n",
    "print(theta_grid[idx_true])\n",
    "llr_mle = np.max(llrs, axis=1)"
   ]
  },
  {
   "cell_type": "code",
   "execution_count": 8,
   "metadata": {},
   "outputs": [],
   "source": [
    "q = -2. * (llr_true - llr_mle)"
   ]
  },
  {
   "cell_type": "code",
   "execution_count": 9,
   "metadata": {},
   "outputs": [
    {
     "data": {
      "text/plain": [
       "array([[-5.7449784e+00, -3.6159358e+00, -5.1245389e+00, ...,\n",
       "        -7.6228018e+00, -5.4705820e+00, -3.3123798e+00],\n",
       "       [-2.1253068e+00, -4.0341878e-01, -1.6747446e+00, ...,\n",
       "        -5.4089890e+00, -2.2972281e+00, -9.2587486e-02],\n",
       "       [ 5.8233577e-01,  2.1539643e+00,  9.3965852e-01, ...,\n",
       "        -3.7027702e+00,  1.5646319e-01,  1.9287438e+00],\n",
       "       ...,\n",
       "       [ 4.7154105e-01, -1.2356578e-01, -5.0456971e-03, ...,\n",
       "         9.7098267e-01,  7.5586563e-01,  3.5281503e-01],\n",
       "       [ 5.4435170e-01, -1.2911566e-01,  4.8442677e-02, ...,\n",
       "         1.0268414e+00,  7.9310250e-01,  3.2071432e-01],\n",
       "       [ 5.3880191e-01, -2.5271666e-01,  4.2892650e-02, ...,\n",
       "         1.0825944e+00,  8.2212937e-01,  1.5103085e-01]], dtype=float32)"
      ]
     },
     "execution_count": 9,
     "metadata": {},
     "output_type": "execute_result"
    }
   ],
   "source": [
    "llrs[0]"
   ]
  },
  {
   "cell_type": "markdown",
   "metadata": {},
   "source": [
    "## Plot test statistic histo"
   ]
  },
  {
   "cell_type": "code",
   "execution_count": 30,
   "metadata": {},
   "outputs": [],
   "source": [
    "qmin = 0.\n",
    "qmax = 30.\n",
    "qbins = 100\n"
   ]
  },
  {
   "cell_type": "code",
   "execution_count": 31,
   "metadata": {},
   "outputs": [],
   "source": [
    "wilks = chi2.rvs(size=100000, df=2)"
   ]
  },
  {
   "cell_type": "code",
   "execution_count": 33,
   "metadata": {},
   "outputs": [
    {
     "data": {
      "image/png": "[encoded data removed]",
      "text/plain": [
       "<Figure size 360x360 with 1 Axes>"
      ]
     },
     "metadata": {
      "needs_background": "light"
     },
     "output_type": "display_data"
    }
   ],
   "source": [
    "fig = plt.figure(figsize=(5,5))\n",
    "ax = plt.gca()\n",
    "\n",
    "plt.hist(\n",
    "    wilks, range=(qmin, qmax), bins=qbins,\n",
    "    histtype=\"step\", density=True,\n",
    "    lw=1.5, color=\"black\",\n",
    "    label=r\"$\\chi^2$\"\n",
    ")\n",
    "for i in range(nmethods):\n",
    "    plt.hist(\n",
    "        q[i], range=(qmin, qmax), bins=qbins,\n",
    "        histtype=\"step\", density=True,\n",
    "        lw=1.5, color=\"C{}\".format(i),\n",
    "        label=labels[i]\n",
    "    )\n",
    "    \n",
    "plt.legend()\n",
    "    \n",
    "#ax.set_yscale(\"log\")\n",
    "plt.xlim(qmin, qmax)\n",
    "plt.ylim(0., .5)\n",
    "\n",
    "plt.xlabel(r\"$q(\\theta) = -2\\; \\log \\; \\hat{r}(x|\\theta, \\hat{\\theta})$\")\n",
    "plt.ylabel(r\"$p(q(\\theta) | \\theta)$\")\n",
    "    \n",
    "plt.tight_layout()\n",
    "plt.savefig(\"../figures/chi_squared.pdf\")"
   ]
  },
  {
   "cell_type": "markdown",
   "metadata": {},
   "source": [
    "## Plot MLE"
   ]
  },
  {
   "cell_type": "code",
   "execution_count": 13,
   "metadata": {},
   "outputs": [
    {
     "data": {
      "text/plain": [
       "array([[ 0.025875  , -2.45833333],\n",
       "       [ 0.025875  , -2.41666667],\n",
       "       [ 0.025875  , -2.45833333],\n",
       "       ...,\n",
       "       [ 0.125375  , -1.79166667],\n",
       "       [ 0.05075   , -1.95833333],\n",
       "       [ 0.01758333, -2.45833333]])"
      ]
     },
     "execution_count": 13,
     "metadata": {},
     "output_type": "execute_result"
    }
   ],
   "source": [
    "theta_mle[0]"
   ]
  },
  {
   "cell_type": "code",
   "execution_count": 23,
   "metadata": {},
   "outputs": [
    {
     "data": {
      "image/png": "[encoded data removed]",
      "text/plain": [
       "<Figure size 1080x288 with 6 Axes>"
      ]
     },
     "metadata": {
      "needs_background": "light"
     },
     "output_type": "display_data"
    }
   ],
   "source": [
    "fig = plt.figure(figsize=(nmethods * 5, 4.))\n",
    "\n",
    "for i in range(nmethods):\n",
    "    ax = plt.subplot(1, nmethods, i+1)\n",
    "    \n",
    "    cm = plt.hist2d(\n",
    "        theta_mle[i,:,0], theta_mle[i,:,1],\n",
    "        bins=[25, 25],\n",
    "        range=[[0.001,0.2], [-2.5,-1.5]],\n",
    "        normed=True,\n",
    "        norm=matplotlib.colors.Normalize(0., 100.),\n",
    "        cmap=\"viridis\"\n",
    "    )[3]\n",
    "    cbar = fig.colorbar(cm, ax=ax, extend='both', )\n",
    "    cbar.set_label(r'$p(\\theta_{MLE})$' + ', {}'.format(labels[i]))\n",
    "    plt.scatter(0.05, -1.9, s=60., color='white', marker='*')\n",
    "\n",
    "    plt.xlabel(r'$n_{\\mathrm{calib}}$')\n",
    "    plt.ylabel(r'$\\beta$')\n",
    "    \n",
    "plt.tight_layout()\n",
    "plt.savefig(\"../figures/mle_distribution.pdf\")"
   ]
  },
  {
   "cell_type": "code",
   "execution_count": null,
   "metadata": {
    "collapsed": true
   },
   "outputs": [],
   "source": []
  }
 ],
 "metadata": {
  "kernelspec": {
   "display_name": "Python (lensing)",
   "language": "python",
   "name": "lensing"
  },
  "language_info": {
   "codemirror_mode": {
    "name": "ipython",
    "version": 3
   },
   "file_extension": ".py",
   "mimetype": "text/x-python",
   "name": "python",
   "nbconvert_exporter": "python",
   "pygments_lexer": "ipython3",
   "version": "3.6.8"
  }
 },
 "nbformat": 4,
 "nbformat_minor": 2
}
