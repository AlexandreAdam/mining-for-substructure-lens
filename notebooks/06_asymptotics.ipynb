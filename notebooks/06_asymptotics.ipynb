{
 "cells": [
  {
   "cell_type": "markdown",
   "metadata": {},
   "source": [
    "# Check distribution of likelihood ratio against Wilk's theorem"
   ]
  },
  {
   "cell_type": "code",
   "execution_count": 1,
   "metadata": {
    "collapsed": true
   },
   "outputs": [],
   "source": [
    "import numpy as np\n",
    "import matplotlib\n",
    "import matplotlib.pyplot as plt\n",
    "from scipy.stats import norm, chi2"
   ]
  },
  {
   "cell_type": "markdown",
   "metadata": {},
   "source": [
    "## Data"
   ]
  },
  {
   "cell_type": "code",
   "execution_count": 2,
   "metadata": {
    "collapsed": true
   },
   "outputs": [],
   "source": [
    "filenames = [\"carl\", \"calibrated_carl\"]\n",
    "labels = [\"CARL (raw)\", \"CARL (cal)\"]\n",
    "nmethods = len(filenames)\n"
   ]
  },
  {
   "cell_type": "code",
   "execution_count": 4,
   "metadata": {},
   "outputs": [],
   "source": [
    "llrs = []\n",
    "for filename in filenames:\n",
    "    llrs.append(np.load(\"../data/results/llr_{}_grid.npy\".format(filename)))\n",
    "llrs = np.array(llrs)"
   ]
  },
  {
   "cell_type": "markdown",
   "metadata": {},
   "source": [
    "## Calculate likelihood ratio wrt best fit"
   ]
  },
  {
   "cell_type": "code",
   "execution_count": 7,
   "metadata": {
    "collapsed": true
   },
   "outputs": [],
   "source": [
    "grid_res = 25\n",
    "\n",
    "alpha_test = np.linspace(10., 400., grid_res)\n",
    "beta_test = np.linspace(-1.1, -3., grid_res)\n",
    "\n",
    "theta0, theta1 = np.meshgrid(alpha_test, beta_test)\n",
    "theta_grid = np.vstack((theta0.flatten(), theta1.flatten())).T\n",
    "\n",
    "bin_size = alpha_test[1] - alpha_test[0]\n",
    "alpha_edges = np.linspace(alpha_test[0] - bin_size/2, alpha_test[-1] + bin_size/2, grid_res + 1)\n",
    "bin_size = beta_test[1] - beta_test[0]\n",
    "beta_edges = np.linspace(beta_test[0] - bin_size/2, beta_test[-1] + bin_size/2, grid_res + 1)"
   ]
  },
  {
   "cell_type": "code",
   "execution_count": 8,
   "metadata": {},
   "outputs": [],
   "source": [
    "idx_mle = np.argmax(llrs, axis=1)\n",
    "theta_mle = theta_grid[idx_mle]"
   ]
  },
  {
   "cell_type": "code",
   "execution_count": 9,
   "metadata": {},
   "outputs": [
    {
     "name": "stdout",
     "output_type": "stream",
     "text": [
      "CARL (raw) [10.         -1.49583333] 0.11266\n",
      "CARL (cal) [10.         -1.49583333] 0.11266\n"
     ]
    }
   ],
   "source": [
    "for i in range(nmethods):\n",
    "    bincount = np.bincount(idx_mle[0])\n",
    "    idx_mle_max = np.argmax(bincount)\n",
    "    n_mle_max = np.max(bincount)\n",
    "    print(labels[i], theta_grid[idx_mle_max], n_mle_max / len(idx_mle[0]))"
   ]
  },
  {
   "cell_type": "code",
   "execution_count": 10,
   "metadata": {
    "collapsed": true
   },
   "outputs": [],
   "source": [
    "idx_true = 9*21+7\n",
    "llr_true = llrs[:, idx_true]\n",
    "llr_mle = np.max(llrs, axis=1)"
   ]
  },
  {
   "cell_type": "code",
   "execution_count": 11,
   "metadata": {
    "collapsed": true
   },
   "outputs": [],
   "source": [
    "q = -2. * (llr_true - llr_mle)"
   ]
  },
  {
   "cell_type": "markdown",
   "metadata": {},
   "source": [
    "## Plot test statistic histo"
   ]
  },
  {
   "cell_type": "code",
   "execution_count": 12,
   "metadata": {
    "collapsed": true
   },
   "outputs": [],
   "source": [
    "qmin = 0.\n",
    "qmax = 8.\n",
    "qbins = 100\n"
   ]
  },
  {
   "cell_type": "code",
   "execution_count": 13,
   "metadata": {
    "collapsed": true
   },
   "outputs": [],
   "source": [
    "wilks = chi2.rvs(size=100000, df=2)"
   ]
  },
  {
   "cell_type": "code",
   "execution_count": 14,
   "metadata": {},
   "outputs": [
    {
     "data": {
      "image/png": "[encoded data removed]",
      "text/plain": [
       "<Figure size 360x360 with 1 Axes>"
      ]
     },
     "metadata": {
      "needs_background": "light"
     },
     "output_type": "display_data"
    }
   ],
   "source": [
    "fig = plt.figure(figsize=(5,5))\n",
    "ax = plt.gca()\n",
    "\n",
    "plt.hist(\n",
    "    wilks, range=(qmin, qmax), bins=qbins,\n",
    "    histtype=\"step\", density=True,\n",
    "    lw=1.5, color=\"black\",\n",
    "    label=r\"$\\chi^2$\"\n",
    ")\n",
    "for i in range(nmethods):\n",
    "    plt.hist(\n",
    "        q[i], range=(qmin, qmax), bins=qbins,\n",
    "        histtype=\"step\", density=True,\n",
    "        lw=1.5, color=\"C{}\".format(i),\n",
    "        label=labels[i]\n",
    "    )\n",
    "    \n",
    "plt.legend()\n",
    "    \n",
    "#ax.set_yscale(\"log\")\n",
    "plt.xlim(qmin, qmax)\n",
    "#plt.ylim(1.e-3, 2.)\n",
    "\n",
    "plt.xlabel(r\"$q(\\theta) = -2\\; \\log \\; \\hat{r}(x|\\theta, \\hat{\\theta})$\")\n",
    "plt.ylabel(r\"$p(q(\\theta) | \\theta)$\")\n",
    "    \n",
    "plt.tight_layout()\n",
    "plt.savefig(\"../figures/chi_squared.pdf\")"
   ]
  },
  {
   "cell_type": "markdown",
   "metadata": {},
   "source": [
    "## Plot MLE"
   ]
  },
  {
   "cell_type": "code",
   "execution_count": 17,
   "metadata": {},
   "outputs": [
    {
     "data": {
      "image/png": "[encoded data removed]",
      "text/plain": [
       "<Figure size 720x360 with 2 Axes>"
      ]
     },
     "metadata": {
      "needs_background": "light"
     },
     "output_type": "display_data"
    }
   ],
   "source": [
    "fig = plt.figure(figsize=(nmethods*5,5.))\n",
    "\n",
    "for i in range(nmethods):\n",
    "    ax = plt.subplot(1, nmethods, i+1)\n",
    "    \n",
    "    cm = plt.hist2d(\n",
    "        theta_mle[i,:,0], theta_mle[i,:,1],\n",
    "        bins=[21, 21],\n",
    "        range=[[10.,400.], [-3.,-1.]],\n",
    "        normed=True,\n",
    "        vmin=0., vmax=0.01,\n",
    "        cmap=\"viridis\"\n",
    "    )\n",
    "    plt.scatter(150., -1.9, s=60., color='white', marker='*')\n",
    "\n",
    "    plt.xlabel(r'$n_{\\mathrm{calib}}$')\n",
    "    plt.ylabel(r'$\\beta$')\n",
    "    \n",
    "plt.tight_layout()\n",
    "plt.savefig(\"../figures/mle_distribution.pdf\")"
   ]
  },
  {
   "cell_type": "code",
   "execution_count": null,
   "metadata": {
    "collapsed": true
   },
   "outputs": [],
   "source": []
  }
 ],
 "metadata": {
  "kernelspec": {
   "display_name": "Python (lensing)",
   "language": "python",
   "name": "lensing"
  },
  "language_info": {
   "codemirror_mode": {
    "name": "ipython",
    "version": 3
   },
   "file_extension": ".py",
   "mimetype": "text/x-python",
   "name": "python",
   "nbconvert_exporter": "python",
   "pygments_lexer": "ipython3",
   "version": "3.6.8"
  }
 },
 "nbformat": 4,
 "nbformat_minor": 2
}
