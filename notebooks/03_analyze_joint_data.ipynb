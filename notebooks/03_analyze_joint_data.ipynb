{
 "cells": [
  {
   "cell_type": "markdown",
   "metadata": {},
   "source": [
    "# A look at the joint likelihood ratio and joint score"
   ]
  },
  {
   "cell_type": "code",
   "execution_count": 1,
   "metadata": {},
   "outputs": [],
   "source": [
    "import sys, os\n",
    "sys.path.append('../')\n",
    "\n",
    "import logging\n",
    "import numpy as np\n",
    "import matplotlib.pyplot as plt\n",
    "\n",
    "from simulation.units import *\n",
    "from inference.utils import s_from_r\n",
    "\n",
    "logging.basicConfig(\n",
    "    format='%(asctime)-5.5s %(name)-20.20s %(levelname)-7.7s %(message)s',\n",
    "    datefmt='%H:%M',\n",
    "    level=logging.INFO\n",
    ")"
   ]
  },
  {
   "cell_type": "markdown",
   "metadata": {},
   "source": [
    "## Load data"
   ]
  },
  {
   "cell_type": "code",
   "execution_count": 2,
   "metadata": {},
   "outputs": [],
   "source": [
    "setup = \"mass\""
   ]
  },
  {
   "cell_type": "code",
   "execution_count": 3,
   "metadata": {},
   "outputs": [],
   "source": [
    "theta = np.load(\"../data/samples/theta_train_{}.npy\".format(setup))\n",
    "x = np.load(\"../data/samples/x_train_{}.npy\".format(setup))\n",
    "y = np.load(\"../data/samples/y_train_{}.npy\".format(setup))\n",
    "t_xz = np.load(\"../data/samples/t_xz_train_{}.npy\".format(setup))\n",
    "r_xz = np.load(\"../data/samples/r_xz_train_{}.npy\".format(setup))\n",
    "z = np.load(\"../data/samples/z_train_{}.npy\".format(setup))"
   ]
  },
  {
   "cell_type": "code",
   "execution_count": 6,
   "metadata": {},
   "outputs": [],
   "source": [
    "f_sub = theta[y==0][:,0]\n",
    "beta = theta[y==0][:,1]\n",
    "\n",
    "m_host = z[y==0][:,0]\n",
    "n_sub_realiz = z[y==0][:,7]\n",
    "f_sub_realiz = z[y==0][:,8]\n",
    "\n",
    "t_xz0 = t_xz[y==0][:,0]\n",
    "t_xz1 = t_xz[y==0][:,1]\n",
    "r_xz_inverse = r_xz[y==1].flatten()\n",
    "r_xz_ = r_xz[y==0].flatten()\n",
    "s_xz_ = s_from_r(r_xz_)\n",
    "s_xz_inverse = s_from_r(r_xz_inverse)"
   ]
  },
  {
   "cell_type": "markdown",
   "metadata": {},
   "source": [
    "## Plot parameters vs subhalo properties"
   ]
  },
  {
   "cell_type": "code",
   "execution_count": 1,
   "metadata": {},
   "outputs": [
    {
     "ename": "NameError",
     "evalue": "name 'plt' is not defined",
     "output_type": "error",
     "traceback": [
      "\u001b[0;31m---------------------------------------------------------------------------\u001b[0m",
      "\u001b[0;31mNameError\u001b[0m                                 Traceback (most recent call last)",
      "\u001b[0;32m<ipython-input-1-188ce820c35c>\u001b[0m in \u001b[0;36m<module>\u001b[0;34m\u001b[0m\n\u001b[1;32m      1\u001b[0m \u001b[0mskip\u001b[0m \u001b[0;34m=\u001b[0m \u001b[0;36m1000\u001b[0m\u001b[0;34m\u001b[0m\u001b[0;34m\u001b[0m\u001b[0m\n\u001b[0;32m----> 2\u001b[0;31m \u001b[0mfig\u001b[0m \u001b[0;34m=\u001b[0m \u001b[0mplt\u001b[0m\u001b[0;34m.\u001b[0m\u001b[0mfigure\u001b[0m\u001b[0;34m(\u001b[0m\u001b[0mfigsize\u001b[0m\u001b[0;34m=\u001b[0m\u001b[0;34m(\u001b[0m\u001b[0;36m10\u001b[0m\u001b[0;34m,\u001b[0m\u001b[0;36m8\u001b[0m\u001b[0;34m)\u001b[0m\u001b[0;34m)\u001b[0m\u001b[0;34m\u001b[0m\u001b[0;34m\u001b[0m\u001b[0m\n\u001b[0m\u001b[1;32m      3\u001b[0m \u001b[0;34m\u001b[0m\u001b[0m\n\u001b[1;32m      4\u001b[0m \u001b[0max\u001b[0m \u001b[0;34m=\u001b[0m \u001b[0mplt\u001b[0m\u001b[0;34m.\u001b[0m\u001b[0msubplot\u001b[0m\u001b[0;34m(\u001b[0m\u001b[0;36m2\u001b[0m\u001b[0;34m,\u001b[0m\u001b[0;36m2\u001b[0m\u001b[0;34m,\u001b[0m\u001b[0;36m1\u001b[0m\u001b[0;34m)\u001b[0m\u001b[0;34m\u001b[0m\u001b[0;34m\u001b[0m\u001b[0m\n\u001b[1;32m      5\u001b[0m sc = plt.scatter(\n",
      "\u001b[0;31mNameError\u001b[0m: name 'plt' is not defined"
     ]
    }
   ],
   "source": [
    "skip = 1000\n",
    "fig = plt.figure(figsize=(10,8))\n",
    "\n",
    "ax = plt.subplot(2,2,1)\n",
    "sc = plt.scatter(\n",
    "    f_sub[::skip], n_sub_realiz[::skip],\n",
    "    s=25.,\n",
    "    c=t_xz0, vmin=-200, vmax=200, cmap='PRGn',\n",
    ")\n",
    "cbar = plt.colorbar(sc)\n",
    "plt.xlabel(r\"$f_{sub}$\")\n",
    "plt.ylabel(\"Number of subhalos\")\n",
    "cbar.set_label(r\"$t_0(x,z)$\")\n",
    "plt.xlim(0.,0.21)\n",
    "plt.ylim(0.,2000.)\n",
    "\n",
    "ax = plt.subplot(2,2,2)\n",
    "plt.scatter(\n",
    "    beta[::skip], n_sub_realiz[::skip],\n",
    "    s=25., \n",
    "    c=t_xz1, vmin=-100, vmax=100, cmap='PRGn',\n",
    ")\n",
    "cbar = plt.colorbar(sc)\n",
    "plt.xlabel(r\"$\\beta$\")\n",
    "plt.ylabel(\"Number of subhalos\")\n",
    "cbar.set_label(r\"$t_1(x,z)$\")\n",
    "plt.xlim(-2.6,-1.4)\n",
    "plt.ylim(0.,2000.)\n",
    "\n",
    "ax = plt.subplot(2,2,3)\n",
    "sc = plt.scatter(\n",
    "    f_sub[::skip], f_sub_realiz[::skip],\n",
    "    s=25.,\n",
    "    c=t_xz0, vmin=-200, vmax=200, cmap='PRGn',\n",
    ")\n",
    "cbar = plt.colorbar(sc)\n",
    "plt.xlabel(r\"$f_{sub}$\")\n",
    "plt.ylabel(\"Realized subhalo mass fraction\")\n",
    "cbar.set_label(r\"$t_0(x,z)$\")\n",
    "plt.xlim(0.,0.21)\n",
    "plt.ylim(0.,0.3)\n",
    "\n",
    "ax = plt.subplot(2,2,4)\n",
    "plt.scatter(\n",
    "    beta[::skip], f_sub_realiz[::skip],\n",
    "    s=25., \n",
    "    c=t_xz1, vmin=-100, vmax=100, cmap='PRGn',\n",
    ")\n",
    "cbar = plt.colorbar(sc)\n",
    "plt.xlabel(r\"$\\beta$\")\n",
    "plt.ylabel(\"Realized subhalo mass fraction\")\n",
    "cbar.set_label(r\"$t_1(x,z)$\")\n",
    "plt.xlim(-2.6,-1.4)\n",
    "plt.ylim(0.,0.3)\n",
    "\n",
    "plt.tight_layout()\n",
    "plt.savefig(\"../figures/theta_vs_subhalo_params_vs_joint_score_{}.pdf\".format(setup))"
   ]
  },
  {
   "cell_type": "code",
   "execution_count": null,
   "metadata": {},
   "outputs": [],
   "source": [
    "skip = 1000\n",
    "fig = plt.figure(figsize=(10,8))\n",
    "\n",
    "ax = plt.subplot(2,2,1)\n",
    "sc = plt.scatter(\n",
    "    f_sub[::skip], n_sub_realiz[::skip],\n",
    "    s=25.,\n",
    "    c=np.log(r_xz_[::skip]), vmin=-8, vmax=8, cmap='PRGn',\n",
    ")\n",
    "cbar = plt.colorbar(sc)\n",
    "plt.xlabel(r\"$f_{sub}$\")\n",
    "plt.ylabel(\"Number of subhalos\")\n",
    "cbar.set_label(r\"$\\log r(x,z)$\")\n",
    "plt.xlim(0.,0.21)\n",
    "plt.ylim(0.,2000.)\n",
    "\n",
    "ax = plt.subplot(2,2,2)\n",
    "plt.scatter(\n",
    "    beta[::skip], n_sub_realiz[::skip],\n",
    "    s=25., \n",
    "    c=np.log(r_xz_[::skip]), vmin=-8, vmax=8, cmap='PRGn',\n",
    ")\n",
    "cbar = plt.colorbar(sc)\n",
    "plt.xlabel(r\"$\\beta$\")\n",
    "plt.ylabel(\"Number of subhalos\")\n",
    "cbar.set_label(r\"$\\log r(x,z)$\")\n",
    "plt.xlim(-2.6,-1.4)\n",
    "plt.ylim(0.,2000.)\n",
    "\n",
    "ax = plt.subplot(2,2,3)\n",
    "sc = plt.scatter(\n",
    "    f_sub[::skip], f_sub_realiz[::skip],\n",
    "    s=25.,\n",
    "    c=np.log(r_xz_[::skip]), vmin=-8, vmax=8, cmap='PRGn',\n",
    ")\n",
    "cbar = plt.colorbar(sc)\n",
    "plt.xlabel(r\"$f_{sub}$\")\n",
    "plt.ylabel(\"Realized subhalo mass fraction\")\n",
    "cbar.set_label(r\"$\\log r(x,z)$\")\n",
    "plt.xlim(0.,0.21)\n",
    "plt.ylim(0.,0.3)\n",
    "\n",
    "ax = plt.subplot(2,2,4)\n",
    "plt.scatter(\n",
    "    beta[::skip], f_sub_realiz[::skip],\n",
    "    s=25., \n",
    "    c=np.log(r_xz_[::skip]), vmin=-8, vmax=8, cmap='PRGn',\n",
    ")\n",
    "cbar = plt.colorbar(sc)\n",
    "plt.xlabel(r\"$\\beta$\")\n",
    "plt.ylabel(\"Realized subhalo mass fraction\")\n",
    "cbar.set_label(r\"$\\log r(x,z)$\")\n",
    "plt.xlim(-2.6,-1.4)\n",
    "plt.ylim(0.,0.3)\n",
    "\n",
    "plt.tight_layout()\n",
    "plt.savefig(\"../figures/theta_vs_subhalo_params_vs_joint_ratio_{}.pdf\".format(setup))"
   ]
  },
  {
   "cell_type": "markdown",
   "metadata": {},
   "source": [
    "## Histogram joint likelihood ratio"
   ]
  },
  {
   "cell_type": "code",
   "execution_count": 13,
   "metadata": {},
   "outputs": [
    {
     "name": "stderr",
     "output_type": "stream",
     "text": [
      "/Users/johannbrehmer/anaconda3/envs/lensing/lib/python3.6/site-packages/ipykernel_launcher.py:5: RuntimeWarning: divide by zero encountered in log\n",
      "  \"\"\"\n"
     ]
    },
    {
     "data": {
      "image/png": "[encoded data removed]",
      "text/plain": [
       "<Figure size 720x360 with 2 Axes>"
      ]
     },
     "metadata": {
      "needs_background": "light"
     },
     "output_type": "display_data"
    }
   ],
   "source": [
    "fig = plt.figure(figsize=(10., 5.))\n",
    "\n",
    "ax = plt.subplot(1,2,1)\n",
    "plt.hist(np.log(r_xz_), range=(-20., 10.), bins=100, histtype=\"step\", lw=1.5, color=\"C0\", density=True)\n",
    "plt.hist(np.log(r_xz_inverse), range=(-20., 10.), bins=100, histtype=\"step\", lw=1.5, color=\"C1\", density=True)\n",
    "plt.xlim(-20.,10.)\n",
    "plt.xlabel(r\"$\\log \\; r(x,z)$\")\n",
    "\n",
    "ax = plt.subplot(1,2,2)\n",
    "plt.hist(s_xz_, range=(-0.05,1.05), bins=100, histtype=\"step\", lw=1.5, color=\"C0\", density=True)\n",
    "plt.hist(s_xz_inverse, range=(-0.05,1.05), bins=100, histtype=\"step\", lw=1.5, color=\"C1\", density=True)\n",
    "plt.xlim(-0.05,1.05)\n",
    "plt.xlabel(r\"$s(x,z)$\")\n",
    "\n",
    "plt.tight_layout()\n",
    "plt.savefig(\"../figures/joint_ratio_histo_{}.pdf\".format(setup))\n"
   ]
  },
  {
   "cell_type": "markdown",
   "metadata": {},
   "source": [
    "## Expectation values"
   ]
  },
  {
   "cell_type": "code",
   "execution_count": null,
   "metadata": {},
   "outputs": [],
   "source": [
    "np.mean(1./r_xz_), np.std(1./r_xz_) / 500**0.5"
   ]
  },
  {
   "cell_type": "code",
   "execution_count": null,
   "metadata": {},
   "outputs": [],
   "source": [
    "np.mean(r_xz_inverse), np.std(r_xz_inverse) / 500**0.5"
   ]
  },
  {
   "cell_type": "code",
   "execution_count": null,
   "metadata": {},
   "outputs": [],
   "source": [
    "np.mean(t_xz0), np.std(t_xz0) / 500**0.5"
   ]
  },
  {
   "cell_type": "code",
   "execution_count": null,
   "metadata": {},
   "outputs": [],
   "source": [
    "np.mean(t_xz1), np.std(t_xz1) / 500**0.5"
   ]
  },
  {
   "cell_type": "code",
   "execution_count": null,
   "metadata": {},
   "outputs": [],
   "source": [
    "np.mean(t_xz0[f_sub_realiz<f_sub*0.9]), np.mean(t_xz0[(f_sub*0.9<f_sub_realiz)*(f_sub_realiz< f_sub*1.1)]), np.mean(t_xz0[f_sub_realiz>f_sub*1.1])"
   ]
  },
  {
   "cell_type": "code",
   "execution_count": null,
   "metadata": {},
   "outputs": [],
   "source": [
    "np.mean(t_xz1[f_sub_realiz<f_sub*0.9]), np.mean(t_xz1[(f_sub*0.9<f_sub_realiz)*(f_sub_realiz< f_sub*1.1)]), np.mean(t_xz1[f_sub_realiz>f_sub*1.1])"
   ]
  },
  {
   "cell_type": "code",
   "execution_count": null,
   "metadata": {},
   "outputs": [],
   "source": []
  }
 ],
 "metadata": {
  "kernelspec": {
   "display_name": "Python (lensing)",
   "language": "python",
   "name": "lensing"
  },
  "language_info": {
   "codemirror_mode": {
    "name": "ipython",
    "version": 3
   },
   "file_extension": ".py",
   "mimetype": "text/x-python",
   "name": "python",
   "nbconvert_exporter": "python",
   "pygments_lexer": "ipython3",
   "version": "3.6.8"
  }
 },
 "nbformat": 4,
 "nbformat_minor": 2
}
