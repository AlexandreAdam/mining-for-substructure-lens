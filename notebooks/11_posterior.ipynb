{
 "cells": [
  {
   "cell_type": "markdown",
   "metadata": {},
   "source": [
    "# Bayesian inference"
   ]
  },
  {
   "cell_type": "code",
   "execution_count": 1,
   "metadata": {},
   "outputs": [],
   "source": [
    "import sys, os\n",
    "import logging\n",
    "import numpy as np\n",
    "from scipy.stats import uniform, norm\n",
    "import matplotlib\n",
    "import matplotlib.pyplot as plt\n",
    "%matplotlib inline\n",
    "\n",
    "sys.path.append(\"../\")\n",
    "from simulation.prior import get_grid\n",
    "from inference.bayes import Posterior\n",
    "import paper_settings"
   ]
  },
  {
   "cell_type": "code",
   "execution_count": 2,
   "metadata": {},
   "outputs": [],
   "source": [
    "paper_settings.setup()"
   ]
  },
  {
   "cell_type": "markdown",
   "metadata": {},
   "source": [
    "## Setup"
   ]
  },
  {
   "cell_type": "code",
   "execution_count": 3,
   "metadata": {},
   "outputs": [],
   "source": [
    "n = 100\n",
    "n_events_for_expectation = 5000"
   ]
  },
  {
   "cell_type": "code",
   "execution_count": 4,
   "metadata": {},
   "outputs": [],
   "source": [
    "filename = \"calibrated_alices_full_sgd1e2_grid\""
   ]
  },
  {
   "cell_type": "code",
   "execution_count": 5,
   "metadata": {},
   "outputs": [],
   "source": [
    "def narrow_prior(thetas):\n",
    "    f_sub = thetas[:,0]\n",
    "    beta = thetas[:,1]\n",
    "    \n",
    "    return uniform(0.001, 0.199).pdf(f_sub).flatten() * norm(-1.9, 0.1).pdf(beta).flatten()"
   ]
  },
  {
   "cell_type": "code",
   "execution_count": 6,
   "metadata": {},
   "outputs": [],
   "source": [
    "def flat_prior(thetas):\n",
    "    f_sub = thetas[:,0]\n",
    "    beta = thetas[:,1]\n",
    "    \n",
    "    return uniform(0.001, 0.199).pdf(f_sub).flatten() * uniform(-2.5, 1.0).pdf(beta).flatten()"
   ]
  },
  {
   "cell_type": "markdown",
   "metadata": {},
   "source": [
    "## Data"
   ]
  },
  {
   "cell_type": "code",
   "execution_count": 7,
   "metadata": {},
   "outputs": [],
   "source": [
    "llr = np.load(\"../data/results/llr_{}.npy\".format(filename))[:,:n_events_for_expectation]"
   ]
  },
  {
   "cell_type": "code",
   "execution_count": 8,
   "metadata": {},
   "outputs": [],
   "source": [
    "resolution = 25\n",
    "\n",
    "f_sub_1d = np.linspace(0.001, 0.200, resolution)\n",
    "beta_1d = np.linspace(-2.5, -1.5, resolution)\n",
    "\n",
    "theta0, theta1 = np.meshgrid(f_sub_1d, beta_1d)\n",
    "theta_grid = np.vstack((theta0.flatten(), theta1.flatten())).T\n",
    "\n",
    "bin_size = f_sub_1d[1] - f_sub_1d[0]\n",
    "alpha_edges = np.linspace(f_sub_1d[0] - bin_size/2, f_sub_1d[-1] + bin_size/2, resolution + 1)\n",
    "bin_size = beta_1d[1] - beta_1d[0]\n",
    "beta_edges = np.linspace(beta_1d[0] - bin_size/2, beta_1d[-1] + bin_size/2, resolution + 1)"
   ]
  },
  {
   "cell_type": "markdown",
   "metadata": {},
   "source": [
    "## Calculate posteriors"
   ]
  },
  {
   "cell_type": "code",
   "execution_count": 9,
   "metadata": {},
   "outputs": [],
   "source": [
    "bayes = Posterior(llr, theta_grid)\n",
    "posterior_narrow = bayes.posterior_based_on_expected_llr(n, narrow_prior)\n",
    "#posterior_flat = bayes.posterior_based_on_expected_llr(n, flat_prior)"
   ]
  },
  {
   "cell_type": "markdown",
   "metadata": {},
   "source": [
    "## Calculate threshold for credible intervals"
   ]
  },
  {
   "cell_type": "code",
   "execution_count": 10,
   "metadata": {},
   "outputs": [],
   "source": [
    "def find_ci_threshold(posterior, ci=0.95):\n",
    "    post_sorted = sorted(posterior.flatten(), reverse=True)\n",
    "    cumsum = np.cumsum(post_sorted)\n",
    "    print(cumsum[-1])\n",
    "    index = np.argmax(cumsum > ci)\n",
    "    return post_sorted[index]"
   ]
  },
  {
   "cell_type": "code",
   "execution_count": 11,
   "metadata": {},
   "outputs": [
    {
     "name": "stdout",
     "output_type": "stream",
     "text": [
      "0.9999999979583987\n"
     ]
    }
   ],
   "source": [
    "# threshold_flat = find_ci_threshold(posterior_flat)\n",
    "threshold_narrow = find_ci_threshold(posterior_narrow)"
   ]
  },
  {
   "cell_type": "markdown",
   "metadata": {},
   "source": [
    "## Plot posterior"
   ]
  },
  {
   "cell_type": "code",
   "execution_count": 12,
   "metadata": {},
   "outputs": [
    {
     "data": {
      "text/plain": [
       "'\\npmin, pmax = 1.e-9, 0.1\\nz = np.clip(posterior_flat, pmin, pmax)\\n\\nfig, (ax, cax) = paper_settings.figure(\\n    cbar=True,\\n)\\nplt.sca(ax)\\n\\npcm = ax.pcolormesh(\\n    alpha_edges,\\n    beta_edges,\\n    z.reshape((resolution, resolution)),\\n    norm=matplotlib.colors.LogNorm(vmin=pmin, vmax=pmax),\\n    cmap=paper_settings.CMAP2\\n)\\ncs = ax.contour(\\n    0.5 * (alpha_edges[1:] + alpha_edges[:-1]),\\n    0.5 * (beta_edges[1:] + beta_edges[:-1]),\\n    z.reshape((resolution, resolution)),\\n    [threshold_flat],\\n    colors=\"black\",\\n    linewidths=1.,\\n    linestyles=[\"-\"],\\n)\\nax.scatter(0.05, -1.9, s=15., color=\\'black\\', marker=\\'*\\')\\n\\nplt.xlabel(r\\'$f_{\\\\mathrm{sub}}$\\')\\nplt.ylabel(r\\'$\\x08eta$\\')\\nplt.xlim(0.,0.2)\\nplt.ylim(-2.5,-1.5) \\nplt.xticks([0.,0.05,0.1,0.15,0.2])\\nplt.yticks([-1.6,-1.8,-2.0,-2.2,-2.4],[\"-0.6\", \"-0.8\", \"-1.0\", \"-1.2\", \"-1.4\"])\\n \\ncbar = fig.colorbar(\\n    pcm,\\n    cax=cax,\\n    #ticks=[0.,1.,2.,3.,4.,5.],\\n    #format=matplotlib.ticker.FuncFormatter(lambda x, _ : \"{:.0f}\".format(x**2))\\n)\\ncbar.set_label(r\\'$p(f_{\\\\mathrm{sub}}, \\x08eta | \\\\{x\\\\})$, uniform prior\\')\\ncax.yaxis.set_label_coords(4.3, 0.5)\\ncax.yaxis.set_tick_params(pad=1)\\n    \\nplt.savefig(\"../figures/posterior_uniform.pdf\")\\n'"
      ]
     },
     "execution_count": 12,
     "metadata": {},
     "output_type": "execute_result"
    }
   ],
   "source": [
    "\"\"\"\n",
    "pmin, pmax = 1.e-9, 0.1\n",
    "z = np.clip(posterior_flat, pmin, pmax)\n",
    "\n",
    "fig, (ax, cax) = paper_settings.figure(\n",
    "    cbar=True,\n",
    ")\n",
    "plt.sca(ax)\n",
    "\n",
    "pcm = ax.pcolormesh(\n",
    "    alpha_edges,\n",
    "    beta_edges,\n",
    "    z.reshape((resolution, resolution)),\n",
    "    norm=matplotlib.colors.LogNorm(vmin=pmin, vmax=pmax),\n",
    "    cmap=paper_settings.CMAP2\n",
    ")\n",
    "cs = ax.contour(\n",
    "    0.5 * (alpha_edges[1:] + alpha_edges[:-1]),\n",
    "    0.5 * (beta_edges[1:] + beta_edges[:-1]),\n",
    "    z.reshape((resolution, resolution)),\n",
    "    [threshold_flat],\n",
    "    colors=\"black\",\n",
    "    linewidths=1.,\n",
    "    linestyles=[\"-\"],\n",
    ")\n",
    "ax.scatter(0.05, -1.9, s=15., color='black', marker='*')\n",
    "\n",
    "plt.xlabel(r'$f_{\\mathrm{sub}}$')\n",
    "plt.ylabel(r'$\\beta$')\n",
    "plt.xlim(0.,0.2)\n",
    "plt.ylim(-2.5,-1.5) \n",
    "plt.xticks([0.,0.05,0.1,0.15,0.2])\n",
    "plt.yticks([-1.6,-1.8,-2.0,-2.2,-2.4],[\"-0.6\", \"-0.8\", \"-1.0\", \"-1.2\", \"-1.4\"])\n",
    " \n",
    "cbar = fig.colorbar(\n",
    "    pcm,\n",
    "    cax=cax,\n",
    "    #ticks=[0.,1.,2.,3.,4.,5.],\n",
    "    #format=matplotlib.ticker.FuncFormatter(lambda x, _ : \"{:.0f}\".format(x**2))\n",
    ")\n",
    "cbar.set_label(r'$p(f_{\\mathrm{sub}}, \\beta | \\{x\\})$, uniform prior')\n",
    "cax.yaxis.set_label_coords(4.3, 0.5)\n",
    "cax.yaxis.set_tick_params(pad=1)\n",
    "    \n",
    "plt.savefig(\"../figures/posterior_uniform.pdf\")\n",
    "\"\"\""
   ]
  },
  {
   "cell_type": "code",
   "execution_count": 19,
   "metadata": {},
   "outputs": [
    {
     "data": {
      "image/png": "[encoded data removed]",
      "text/plain": [
       "<Figure size 245.424x204.52 with 2 Axes>"
      ]
     },
     "metadata": {
      "needs_background": "light"
     },
     "output_type": "display_data"
    }
   ],
   "source": [
    "pmin, pmax =1.e-9, 0.1\n",
    "z = np.clip(posterior_narrow, pmin, pmax)\n",
    "\n",
    "fig, (ax, cax) = paper_settings.figure(\n",
    "    cbar=True,\n",
    ")\n",
    "plt.sca(ax)\n",
    "\n",
    "pcm = ax.imshow(\n",
    "    z.reshape((resolution, resolution)),\n",
    "    extent=(alpha_edges[0],alpha_edges[-1],beta_edges[0], beta_edges[-1]),\n",
    "    cmap=paper_settings.CMAP2,\n",
    "    origin=\"lower\",\n",
    "    aspect=\"auto\",\n",
    "    interpolation=\"nearest\",\n",
    "    norm=matplotlib.colors.LogNorm(vmin=pmin, vmax=pmax),\n",
    ")\n",
    "# pcm = ax.pcolormesh(\n",
    "#     alpha_edges,\n",
    "#     beta_edges,\n",
    "#     z.reshape((resolution, resolution)),\n",
    "#     norm=matplotlib.colors.LogNorm(vmin=pmin, vmax=pmax),\n",
    "#     cmap=paper_settings.CMAP2\n",
    "# )\n",
    "cs = ax.contour(\n",
    "    0.5 * (alpha_edges[1:] + alpha_edges[:-1]),\n",
    "    0.5 * (beta_edges[1:] + beta_edges[:-1]),\n",
    "    z.reshape((resolution, resolution)),\n",
    "    [threshold_narrow],\n",
    "    colors=\"black\",\n",
    "    linewidths=1.,\n",
    "    linestyles=[\"-\"],\n",
    ")\n",
    "ax.scatter(0.05, -1.9, s=15., color='black', marker='*')\n",
    "\n",
    "plt.xlabel(r'$f_{\\mathrm{sub}}$')\n",
    "plt.ylabel(r'$\\beta$')\n",
    "plt.xlim(0.,0.2)\n",
    "plt.ylim(-2.5,-1.5) \n",
    "plt.xticks([0.,0.05,0.1,0.15,0.2])\n",
    "plt.yticks([-1.6,-1.8,-2.0,-2.2,-2.4],[\"-0.6\", \"-0.8\", \"-1.0\", \"-1.2\", \"-1.4\"])\n",
    " \n",
    "cbar = fig.colorbar(\n",
    "    pcm,\n",
    "    cax=cax,\n",
    "    #ticks=[0.001,0.003,0.01,0.03],\n",
    "    #format=matplotlib.ticker.FuncFormatter(lambda x, _ : \"{:.0f}\".format(x**2))\n",
    ")\n",
    "cbar.set_label(r'$p(f_{\\mathrm{sub}}, \\beta | \\{x\\})$')\n",
    "cax.yaxis.set_label_coords(4.3, 0.5)\n",
    "cax.yaxis.set_tick_params(pad=1)\n",
    "    \n",
    "plt.savefig(\"../figures/posterior.pdf\", dpi=300)\n"
   ]
  },
  {
   "cell_type": "markdown",
   "metadata": {},
   "source": [
    "# Below here not updated! There be dragons"
   ]
  },
  {
   "cell_type": "markdown",
   "metadata": {},
   "source": [
    "## 1D projections"
   ]
  },
  {
   "cell_type": "code",
   "execution_count": 51,
   "metadata": {},
   "outputs": [],
   "source": [
    "def project(posterior):\n",
    "    return np.sum(posterior.reshape((25,25)), axis=0)"
   ]
  },
  {
   "cell_type": "code",
   "execution_count": 52,
   "metadata": {},
   "outputs": [],
   "source": [
    "posteriors_1d = [project(posterior) for posterior in posteriors]\n",
    "posteriors_1d_flatprior = [project(posterior) for posterior in posteriors_flatprior]"
   ]
  },
  {
   "cell_type": "code",
   "execution_count": 61,
   "metadata": {},
   "outputs": [],
   "source": [
    "def prep(edges, histo):\n",
    "    edges_ = np.copy(edges)\n",
    "    histo_ = np.copy(histo)\n",
    "    edges_ = np.repeat(edges_, 2)[1:-1]\n",
    "    histo_ = np.repeat(histo_, 2)\n",
    "    return edges_, histo_\n"
   ]
  },
  {
   "cell_type": "code",
   "execution_count": 63,
   "metadata": {},
   "outputs": [
    {
     "data": {
      "image/png": "[encoded data removed]",
      "text/plain": [
       "<Figure size 360x360 with 1 Axes>"
      ]
     },
     "metadata": {
      "needs_background": "light"
     },
     "output_type": "display_data"
    }
   ],
   "source": [
    "fig = plt.figure(figsize=(5,5))\n",
    "\n",
    "for i, (posterior, label) in enumerate(zip(posteriors_1d, labels)):\n",
    "    plt.plot(f_sub_1d, posterior, ls=\"-\", label=label, c=\"C{}\".format(i))\n",
    "\n",
    "for i, (posterior, label) in enumerate(zip(posteriors_1d_flatprior, labels)):\n",
    "    plt.plot(f_sub_1d, posterior, ls=\":\", c=\"C{}\".format(i))\n",
    "    \n",
    "plt.legend()\n",
    "\n",
    "plt.xlabel(r'$f_{\\mathrm{sub}}$')\n",
    "plt.ylabel(\"Posterior density\")\n",
    "#plt.yscale(\"log\")\n",
    "plt.ylim(0., None)\n",
    "\n",
    "plt.tight_layout()\n",
    "plt.savefig(\"../figures/posterior_1d.pdf\")\n"
   ]
  },
  {
   "cell_type": "markdown",
   "metadata": {},
   "source": [
    "## Check integral over posterior"
   ]
  },
  {
   "cell_type": "code",
   "execution_count": 64,
   "metadata": {},
   "outputs": [
    {
     "name": "stdout",
     "output_type": "stream",
     "text": [
      "0.9999999971562625\n",
      "0.9999999996837958\n",
      "0.9999999997503995\n",
      "0.9999999998882961\n",
      "\n",
      "0.9999999987547427\n",
      "1.0000000000943188\n",
      "1.0000000007021506\n",
      "0.9999999998595811\n",
      "\n",
      "0.9999999971562625\n",
      "0.9999999996837959\n",
      "0.9999999997503994\n",
      "0.999999999888296\n",
      "\n",
      "0.9999999987547428\n",
      "1.0000000000943188\n",
      "1.0000000007021506\n",
      "0.9999999998595813\n",
      "\n"
     ]
    }
   ],
   "source": [
    "for posteriors_ in [posteriors, posteriors_flatprior, posteriors_1d, posteriors_1d_flatprior]:\n",
    "    for posterior in posteriors_:\n",
    "        print(np.sum(posterior))\n",
    "    print(\"\")"
   ]
  },
  {
   "cell_type": "code",
   "execution_count": null,
   "metadata": {},
   "outputs": [],
   "source": []
  }
 ],
 "metadata": {
  "kernelspec": {
   "display_name": "Python (lensing)",
   "language": "python",
   "name": "lensing"
  },
  "language_info": {
   "codemirror_mode": {
    "name": "ipython",
    "version": 3
   },
   "file_extension": ".py",
   "mimetype": "text/x-python",
   "name": "python",
   "nbconvert_exporter": "python",
   "pygments_lexer": "ipython3",
   "version": "3.6.8"
  }
 },
 "nbformat": 4,
 "nbformat_minor": 2
}
