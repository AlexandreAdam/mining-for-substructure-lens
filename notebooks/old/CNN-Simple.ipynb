{
 "cells": [
  {
   "cell_type": "markdown",
   "metadata": {},
   "source": [
    "Use a simple toy CNN to infer properties of one massive subhalo."
   ]
  },
  {
   "cell_type": "code",
   "execution_count": 11,
   "metadata": {},
   "outputs": [
    {
     "name": "stdout",
     "output_type": "stream",
     "text": [
      "The autoreload extension is already loaded. To reload it, use:\n",
      "  %reload_ext autoreload\n"
     ]
    }
   ],
   "source": [
    "import sys, os\n",
    "sys.path.append('../')\n",
    "\n",
    "# Do not use Theano version of lensing gradient\n",
    "os.environ[\"DIFF\"] = \"0\"\n",
    "\n",
    "import numpy as np\n",
    "import matplotlib.pyplot as plt\n",
    "from astropy.cosmology import Planck15\n",
    "from scipy.integrate import quad\n",
    "from units import *\n",
    "from tqdm import *\n",
    "from lensing_sim import LensingSim\n",
    "import tensorflow as tf\n",
    "\n",
    "%matplotlib inline\n",
    "%load_ext autoreload\n",
    "%autoreload 2"
   ]
  },
  {
   "cell_type": "code",
   "execution_count": 2,
   "metadata": {},
   "outputs": [],
   "source": [
    "# Grid size\n",
    "nx, ny = 28, 28"
   ]
  },
  {
   "cell_type": "markdown",
   "metadata": {},
   "source": [
    "# 1. Test image generation"
   ]
  },
  {
   "cell_type": "markdown",
   "metadata": {},
   "source": [
    "Lensing system containing a single massive subhalo."
   ]
  },
  {
   "cell_type": "code",
   "execution_count": 6,
   "metadata": {},
   "outputs": [
    {
     "data": {
      "image/png": "[encoded data removed]",
      "text/plain": [
       "<Figure size 432x288 with 1 Axes>"
      ]
     },
     "metadata": {
      "needs_background": "light"
     },
     "output_type": "display_data"
    }
   ],
   "source": [
    "# Host and substructure parameters\n",
    "hst_param_dict = {'profile':'sis', 'theta_x':0.01, 'theta_y':-0.02, 'theta_E':1.0}\n",
    "# sub_param_dict = {'profile':'nfw', 'theta_x':-1.01, 'theta_y':-0.01, 'M200':10**13.0*M_s}\n",
    "\n",
    "# Source parameters\n",
    "src_param_dict = {'profile':'sersic', 'I_gal':1e-17*erg/Centimeter**2/Sec/Angstrom,'theta_e_gal':0.5,'n_srsc':4}\n",
    "\n",
    "# Observational parameters\n",
    "observation_dict = {'nx':nx, 'ny':ny, 'xlims':[-2, 2], 'ylims':[-2, 2], 'exposure':(1/1.8e-19)*erg**-1*Centimeter**2*Angstrom*1000*Sec, 'A_iso':2e-7*erg/Centimeter**2/Sec/Angstrom/(radtoasc)**2, 'z_s':1.0, 'z_l':0.2}\n",
    "global_dict = {'z_s':1.0, 'z_l':0.2}\n",
    "\n",
    "# Generate lensed image\n",
    "LSI = LensingSim([hst_param_dict], [src_param_dict], global_dict, observation_dict)\n",
    "\n",
    "i_tot = np.random.poisson(LSI.lensed_image())\n",
    "\n",
    "plt.imshow(np.log10(i_tot), vmax=3.5, cmap = 'gist_gray', extent=LSI.xlims+LSI.ylims)\n",
    "plt.xlabel(\"$\\\\theta_x$ [arcsec]\");\n",
    "plt.ylabel(\"$\\\\theta_y$ [arcsec]\");\n",
    "plt.title('Lensed image');"
   ]
  },
  {
   "cell_type": "markdown",
   "metadata": {},
   "source": [
    "# 2. Generate samples"
   ]
  },
  {
   "cell_type": "markdown",
   "metadata": {},
   "source": [
    "Generate lens image samples, fixing host halo properties while varying the subhalo pass and it's position on the Einstein ring of the host halo (most sensitive region of the lens system)."
   ]
  },
  {
   "cell_type": "code",
   "execution_count": 18,
   "metadata": {},
   "outputs": [],
   "source": [
    "N_samp_train = 50000\n",
    "N_samp_test = 50000"
   ]
  },
  {
   "cell_type": "code",
   "execution_count": 31,
   "metadata": {},
   "outputs": [
    {
     "name": "stderr",
     "output_type": "stream",
     "text": [
      "100%|██████████| 100000/100000 [01:08<00:00, 1458.80it/s]\n"
     ]
    }
   ],
   "source": [
    "N_samp = N_samp_train + N_samp_test\n",
    "\n",
    "Y_E = np.ones(N_samp)*1 #np.random.uniform(0.5, 1.5, N_samp)\n",
    "Y_x = np.ones(N_samp)*0.01 #np.random.uniform(-0.04, 0.04, N_samp)\n",
    "Y_y = np.ones(N_samp)*0.01 #np.random.uniform(-0.04, 0.04, N_samp)\n",
    "\n",
    "# Pick substructure position to always lie at Einstein radius for now\n",
    "Y_sub_x = np.ones(N_samp)*1 #np.random.uniform(0, Y_E, N_samp)\n",
    "Y_sub_y = np.sqrt(Y_E**2 - Y_sub_x**2)\n",
    "Y_sub_logM = np.random.uniform(0, 0.3, N_samp)\n",
    "\n",
    "Y = np.transpose([Y_sub_logM])\n",
    "# Y = np.transpose([Y_x, Y_y, Y_E, Y_sub_x, Y_sub_logM])\n",
    "\n",
    "X = np.zeros((N_samp, nx*ny))\n",
    "\n",
    "LSI = LensingSim(sources_list=[src_param_dict], global_dict=global_dict, observation_dict=observation_dict)\n",
    "\n",
    "for isamp in tqdm(range(N_samp)):\n",
    "    hst_param_dict = {'profile':'sis','theta_x':Y_x[isamp], 'theta_y':Y_y[isamp], 'theta_E':Y_E[isamp]}\n",
    "    sub_param_dict = {'profile':'sis','theta_x':Y_sub_x[isamp], 'theta_y':Y_sub_y[isamp], 'theta_E':Y_sub_logM[isamp]}\n",
    "    \n",
    "    LSI.lenses_list = [hst_param_dict, sub_param_dict]\n",
    "    X[isamp] = np.random.poisson(LSI.lensed_image().flatten())"
   ]
  },
  {
   "cell_type": "markdown",
   "metadata": {},
   "source": [
    "# 3. Build and train a toy CNN"
   ]
  },
  {
   "cell_type": "code",
   "execution_count": 35,
   "metadata": {},
   "outputs": [],
   "source": [
    "def cnn_model_fn(features, labels, mode):\n",
    "    \"\"\"Model function for CNN.\"\"\"\n",
    "    \n",
    "    # Input Layer\n",
    "    input_layer = tf.reshape(features[\"x\"], [-1, nx, ny, 1])\n",
    "\n",
    "    # Convolutional Layer #1\n",
    "    conv1 = tf.layers.conv2d(\n",
    "      inputs=input_layer,\n",
    "      filters=32,\n",
    "      kernel_size=[5, 5],\n",
    "      padding=\"same\",\n",
    "      activation=tf.nn.relu)\n",
    "\n",
    "    # Pooling Layer #1\n",
    "    pool1 = tf.layers.max_pooling2d(inputs=conv1, pool_size=[2, 2], strides=2)\n",
    "\n",
    "    # Convolutional Layer #2 and Pooling Layer #2\n",
    "    conv2 = tf.layers.conv2d(\n",
    "      inputs=pool1,\n",
    "      filters=64,\n",
    "      kernel_size=[3, 3],\n",
    "      padding=\"same\",\n",
    "      activation=tf.nn.relu)\n",
    "    pool2 = tf.layers.max_pooling2d(inputs=conv2, pool_size=[2, 2], strides=2)\n",
    "\n",
    "    # Dense Layer\n",
    "    pool2_flat = tf.reshape(pool2, [-1, int(nx/4 * ny/4) * 64])\n",
    "    dense = tf.layers.dense(inputs=pool2_flat, units=1024, activation=tf.nn.relu)\n",
    "    dropout = tf.layers.dropout(\n",
    "    inputs=dense, rate=0.25, training=mode == tf.estimator.ModeKeys.TRAIN)\n",
    "    \n",
    "    # Logits Layer\n",
    "    logits = tf.layers.dense(inputs=dropout, units=1)\n",
    "\n",
    "    # Prediction Function\n",
    "    # Just the output of the logits layers\n",
    "    predictions = logits#[:,0]\n",
    "    \n",
    "    # If PREDICT, just return the prediction outputs\n",
    "    if mode == tf.estimator.ModeKeys.PREDICT:\n",
    "        return tf.estimator.EstimatorSpec(mode=mode, predictions=predictions)\n",
    "\n",
    "    # Calculate Loss (for both TRAIN and EVAL modes)\n",
    "    loss = tf.losses.mean_squared_error(labels=labels, predictions=predictions)\n",
    "\n",
    "    # Configure the Training Op (for TRAIN mode)\n",
    "    if mode == tf.estimator.ModeKeys.TRAIN:\n",
    "        optimizer = tf.train.AdamOptimizer(learning_rate=0.001)\n",
    "        train_op = optimizer.minimize(\n",
    "        loss=loss,\n",
    "        global_step=tf.train.get_global_step())\n",
    "        return tf.estimator.EstimatorSpec(mode=mode, loss=loss, train_op=train_op)\n",
    "\n",
    "    # Add evaluation metrics (for EVAL mode)\n",
    "    eval_metric_ops = {\n",
    "      \"mse\": tf.metrics.mean_squared_error(\n",
    "          labels=labels, predictions=predictions)}\n",
    "    \n",
    "    return tf.estimator.EstimatorSpec(\n",
    "      mode=mode, loss=loss, eval_metric_ops=eval_metric_ops)"
   ]
  },
  {
   "cell_type": "code",
   "execution_count": 36,
   "metadata": {},
   "outputs": [
    {
     "name": "stdout",
     "output_type": "stream",
     "text": [
      "INFO:tensorflow:Using default config.\n",
      "WARNING:tensorflow:Using temporary folder as model directory: /state/partition1/job-14904941/tmpf1w37cz8\n",
      "INFO:tensorflow:Using config: {'_model_dir': '/state/partition1/job-14904941/tmpf1w37cz8', '_tf_random_seed': None, '_save_summary_steps': 100, '_save_checkpoints_steps': None, '_save_checkpoints_secs': 600, '_session_config': allow_soft_placement: true\n",
      "graph_options {\n",
      "  rewrite_options {\n",
      "    meta_optimizer_iterations: ONE\n",
      "  }\n",
      "}\n",
      ", '_keep_checkpoint_max': 5, '_keep_checkpoint_every_n_hours': 10000, '_log_step_count_steps': 100, '_train_distribute': None, '_device_fn': None, '_protocol': None, '_eval_distribute': None, '_experimental_distribute': None, '_service': None, '_cluster_spec': <tensorflow.python.training.server_lib.ClusterSpec object at 0x2ac83f286e10>, '_task_type': 'worker', '_task_id': 0, '_global_id_in_cluster': 0, '_master': '', '_evaluation_master': '', '_is_chief': True, '_num_ps_replicas': 0, '_num_worker_replicas': 1}\n"
     ]
    }
   ],
   "source": [
    "# Create the Estimator\n",
    "macro_classifier = tf.estimator.Estimator(\n",
    "    model_fn=cnn_model_fn)"
   ]
  },
  {
   "cell_type": "code",
   "execution_count": 37,
   "metadata": {},
   "outputs": [
    {
     "name": "stdout",
     "output_type": "stream",
     "text": [
      "INFO:tensorflow:Calling model_fn.\n",
      "INFO:tensorflow:Done calling model_fn.\n",
      "INFO:tensorflow:Create CheckpointSaverHook.\n",
      "INFO:tensorflow:Graph was finalized.\n",
      "INFO:tensorflow:Running local_init_op.\n",
      "INFO:tensorflow:Done running local_init_op.\n",
      "INFO:tensorflow:Saving checkpoints for 0 into /state/partition1/job-14904941/tmpf1w37cz8/model.ckpt.\n",
      "INFO:tensorflow:loss = 553657.4, step = 1\n",
      "INFO:tensorflow:global_step/sec: 6.56275\n",
      "INFO:tensorflow:loss = 1038.7483, step = 101 (15.242 sec)\n",
      "INFO:tensorflow:global_step/sec: 6.60505\n",
      "INFO:tensorflow:loss = 820.9816, step = 201 (15.138 sec)\n",
      "INFO:tensorflow:global_step/sec: 6.61258\n",
      "INFO:tensorflow:loss = 666.72375, step = 301 (15.122 sec)\n",
      "INFO:tensorflow:global_step/sec: 6.6999\n",
      "INFO:tensorflow:loss = 643.35144, step = 401 (14.926 sec)\n",
      "INFO:tensorflow:global_step/sec: 6.70255\n",
      "INFO:tensorflow:loss = 466.85034, step = 501 (14.920 sec)\n",
      "INFO:tensorflow:global_step/sec: 6.65401\n",
      "INFO:tensorflow:loss = 273.1501, step = 601 (15.029 sec)\n",
      "INFO:tensorflow:global_step/sec: 6.61103\n",
      "INFO:tensorflow:loss = 613.4818, step = 701 (15.126 sec)\n",
      "INFO:tensorflow:global_step/sec: 6.67594\n",
      "INFO:tensorflow:loss = 165.78926, step = 801 (14.979 sec)\n",
      "INFO:tensorflow:global_step/sec: 6.67673\n",
      "INFO:tensorflow:loss = 145.25525, step = 901 (14.977 sec)\n",
      "INFO:tensorflow:Saving checkpoints for 1000 into /state/partition1/job-14904941/tmpf1w37cz8/model.ckpt.\n",
      "INFO:tensorflow:Loss for final step: 133.4244.\n"
     ]
    },
    {
     "data": {
      "text/plain": [
       "<tensorflow.python.estimator.estimator.Estimator at 0x2ac83f1dd1d0>"
      ]
     },
     "execution_count": 37,
     "metadata": {},
     "output_type": "execute_result"
    }
   ],
   "source": [
    "# Train the model\n",
    "train_input_fn = tf.estimator.inputs.numpy_input_fn(\n",
    "    x={\"x\": X[:N_samp_train]},\n",
    "    y=Y[:N_samp_train],\n",
    "    batch_size=200,\n",
    "    num_epochs=None,\n",
    "    shuffle=True)\n",
    " \n",
    "macro_classifier.train(\n",
    "    input_fn=train_input_fn,\n",
    "    steps=1000)"
   ]
  },
  {
   "cell_type": "markdown",
   "metadata": {},
   "source": [
    "# 4. Predict on test sample "
   ]
  },
  {
   "cell_type": "markdown",
   "metadata": {},
   "source": [
    "### and plot true vs predicted subhalo mass."
   ]
  },
  {
   "cell_type": "code",
   "execution_count": 38,
   "metadata": {},
   "outputs": [
    {
     "name": "stdout",
     "output_type": "stream",
     "text": [
      "INFO:tensorflow:Calling model_fn.\n",
      "INFO:tensorflow:Done calling model_fn.\n",
      "INFO:tensorflow:Graph was finalized.\n",
      "INFO:tensorflow:Restoring parameters from /state/partition1/job-14904941/tmpf1w37cz8/model.ckpt-1000\n",
      "INFO:tensorflow:Running local_init_op.\n",
      "INFO:tensorflow:Done running local_init_op.\n"
     ]
    }
   ],
   "source": [
    "test_input_fn = tf.estimator.inputs.numpy_input_fn(\n",
    "    x={\"x\": X[N_samp_train:N_samp_train + N_samp_test]}, shuffle=False)\n",
    "preds = np.array([list(macro_classifier.predict(input_fn=test_input_fn))])         "
   ]
  },
  {
   "cell_type": "code",
   "execution_count": 39,
   "metadata": {},
   "outputs": [
    {
     "data": {
      "text/plain": [
       "Text(0, 0.5, 'log10(Predicted subhalo mass / M$_\\\\odot$)')"
      ]
     },
     "execution_count": 39,
     "metadata": {},
     "output_type": "execute_result"
    },
    {
     "data": {
      "image/png": "[encoded data removed]",
      "text/plain": [
       "<Figure size 432x288 with 1 Axes>"
      ]
     },
     "metadata": {
      "needs_background": "light"
     },
     "output_type": "display_data"
    }
   ],
   "source": [
    "plt.scatter(Y_sub_logM[N_samp_train:N_samp_train + N_samp_test],preds[0,:,-1], alpha=0.3);\n",
    "# plt.plot(np.linspace(7,14),np.linspace(7,14), ls='--', c='k')\n",
    "# plt.xlim(9,14)\n",
    "# plt.ylim(9,14)\n",
    "\n",
    "plt.xlabel(\"log10(True subhalo mass / M$_\\odot$)\", fontsize=14)\n",
    "plt.ylabel(\"log10(Predicted subhalo mass / M$_\\odot$)\", fontsize=14)"
   ]
  },
  {
   "cell_type": "code",
   "execution_count": null,
   "metadata": {},
   "outputs": [],
   "source": []
  }
 ],
 "metadata": {
  "kernelspec": {
   "display_name": "Python 3",
   "language": "python",
   "name": "python3"
  },
  "language_info": {
   "codemirror_mode": {
    "name": "ipython",
    "version": 3
   },
   "file_extension": ".py",
   "mimetype": "text/x-python",
   "name": "python",
   "nbconvert_exporter": "python",
   "pygments_lexer": "ipython3",
   "version": "3.6.8"
  }
 },
 "nbformat": 4,
 "nbformat_minor": 2
}
