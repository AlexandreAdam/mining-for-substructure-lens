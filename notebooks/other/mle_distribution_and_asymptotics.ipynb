{
 "cells": [
  {
   "cell_type": "markdown",
   "metadata": {},
   "source": [
    "# Check distribution of likelihood ratio against Wilk's theorem"
   ]
  },
  {
   "cell_type": "code",
   "execution_count": 3,
   "metadata": {},
   "outputs": [],
   "source": [
    "import numpy as np\n",
    "import matplotlib\n",
    "import matplotlib.pyplot as plt\n",
    "from scipy.stats import norm, chi2"
   ]
  },
  {
   "cell_type": "markdown",
   "metadata": {},
   "source": [
    "## Settings"
   ]
  },
  {
   "cell_type": "code",
   "execution_count": 60,
   "metadata": {},
   "outputs": [],
   "source": [
    "n_samples_per_measurement = 500"
   ]
  },
  {
   "cell_type": "markdown",
   "metadata": {},
   "source": [
    "## Data"
   ]
  },
  {
   "cell_type": "code",
   "execution_count": 61,
   "metadata": {},
   "outputs": [],
   "source": [
    "filenames = [\n",
    "    \"alices_full_sgd1e1_grid\",\n",
    "    \"calibrated_alices_full_grid60bins\",\n",
    "]\n",
    "labels = [\"Raw\", \"Calibrated\"]\n",
    "\n",
    "nmethods = len(filenames)\n"
   ]
  },
  {
   "cell_type": "code",
   "execution_count": 62,
   "metadata": {},
   "outputs": [],
   "source": [
    "llrs = []\n",
    "for filename in filenames:\n",
    "    llrs.append(np.load(\"../data/results/llr_{}.npy\".format(filename)))\n",
    "llrs = np.array(llrs)\n",
    "llrs = llrs.reshape(llrs.shape[0], llrs.shape[1], -1, n_samples_per_measurement)\n",
    "llrs = np.sum(llrs, axis=3)"
   ]
  },
  {
   "cell_type": "markdown",
   "metadata": {},
   "source": [
    "## Grid"
   ]
  },
  {
   "cell_type": "code",
   "execution_count": 63,
   "metadata": {},
   "outputs": [],
   "source": [
    "def get_grid(resolution=25, fine=False):\n",
    "    if fine:\n",
    "        f_sub_1d = np.linspace(0.03, 0.07, resolution)\n",
    "        beta_1d = np.linspace(-2.0, -1.8, resolution)\n",
    "    else:\n",
    "        f_sub_1d = np.linspace(0.001, 0.200, resolution)\n",
    "        beta_1d = np.linspace(-2.5, -1.5, resolution)\n",
    "\n",
    "    theta0, theta1 = np.meshgrid(f_sub_1d, beta_1d)\n",
    "    theta_grid = np.vstack((theta0.flatten(), theta1.flatten())).T\n",
    "    \n",
    "    bin_size = f_sub_1d[1] - f_sub_1d[0]\n",
    "    alpha_edges = np.linspace(f_sub_1d[0] - bin_size/2, f_sub_1d[-1] + bin_size/2, resolution + 1)\n",
    "    bin_size = beta_1d[1] - beta_1d[0]\n",
    "    beta_edges = np.linspace(beta_1d[0] - bin_size/2, beta_1d[-1] + bin_size/2, resolution + 1)\n",
    "    \n",
    "    return theta_grid, alpha_edges, beta_edges"
   ]
  },
  {
   "cell_type": "code",
   "execution_count": 64,
   "metadata": {},
   "outputs": [],
   "source": [
    "theta_grid, alpha_edges, beta_edges = get_grid()"
   ]
  },
  {
   "cell_type": "markdown",
   "metadata": {},
   "source": [
    "## Calculate likelihood ratio wrt best fit"
   ]
  },
  {
   "cell_type": "code",
   "execution_count": 65,
   "metadata": {},
   "outputs": [
    {
     "name": "stdout",
     "output_type": "stream",
     "text": [
      "[ 0.05075    -1.91666667]\n"
     ]
    }
   ],
   "source": [
    "idx_mle = np.argmax(llrs, axis=1)\n",
    "theta_mle = theta_grid[idx_mle]\n",
    "\n",
    "idx_true = 356\n",
    "print(theta_grid[idx_true])\n",
    "llr_true = llrs[:, idx_true, :]\n",
    "llr_mle = np.max(llrs, axis=1)\n",
    "\n",
    "q = -2. * (llr_true - llr_mle)"
   ]
  },
  {
   "cell_type": "markdown",
   "metadata": {},
   "source": [
    "## Plot test statistic histo"
   ]
  },
  {
   "cell_type": "code",
   "execution_count": 66,
   "metadata": {},
   "outputs": [],
   "source": [
    "qmin = 0.\n",
    "qmax = 20.\n",
    "qbins = 25\n"
   ]
  },
  {
   "cell_type": "code",
   "execution_count": 67,
   "metadata": {},
   "outputs": [],
   "source": [
    "wilks = chi2.rvs(size=100000, df=2)"
   ]
  },
  {
   "cell_type": "code",
   "execution_count": 68,
   "metadata": {},
   "outputs": [
    {
     "data": {
      "image/png": "[encoded data removed]",
      "text/plain": [
       "<Figure size 360x360 with 1 Axes>"
      ]
     },
     "metadata": {
      "needs_background": "light"
     },
     "output_type": "display_data"
    }
   ],
   "source": [
    "fig = plt.figure(figsize=(5,5))\n",
    "ax = plt.gca()\n",
    "\n",
    "plt.hist(\n",
    "    wilks, range=(qmin, qmax), bins=qbins,\n",
    "    histtype=\"step\", density=True,\n",
    "    lw=1.5, color=\"black\",\n",
    "    label=r\"$\\chi^2$\"\n",
    ")\n",
    "for i in range(nmethods):\n",
    "    plt.hist(\n",
    "        q[i], range=(qmin, qmax), bins=qbins,\n",
    "        histtype=\"step\", density=True,\n",
    "        lw=1.5, color=\"C{}\".format(i),\n",
    "        label=labels[i]\n",
    "    )\n",
    "    \n",
    "plt.legend()\n",
    "    \n",
    "#ax.set_yscale(\"log\")\n",
    "plt.xlim(qmin, qmax)\n",
    "plt.ylim(0., .6)\n",
    "\n",
    "plt.xlabel(r\"$q(\\theta) = -2\\; \\log \\; \\hat{r}(x|\\theta, \\hat{\\theta})$\")\n",
    "plt.ylabel(r\"$p(q(\\theta) | \\theta)$\")\n",
    "    \n",
    "plt.tight_layout()\n",
    "plt.savefig(\"../figures/chi_squared.pdf\")"
   ]
  },
  {
   "cell_type": "markdown",
   "metadata": {},
   "source": [
    "## Plot MLE"
   ]
  },
  {
   "cell_type": "code",
   "execution_count": 69,
   "metadata": {},
   "outputs": [
    {
     "data": {
      "image/png": "[encoded data removed]",
      "text/plain": [
       "<Figure size 720x576 with 4 Axes>"
      ]
     },
     "metadata": {
      "needs_background": "light"
     },
     "output_type": "display_data"
    }
   ],
   "source": [
    "fig = plt.figure(figsize=(2 * 5, 2 * 4.))\n",
    "\n",
    "for i in range(nmethods):\n",
    "    ax = plt.subplot(2, 2, i+1)\n",
    "    \n",
    "    cm = plt.hist2d(\n",
    "        theta_mle[i,:,0], theta_mle[i,:,1],\n",
    "        bins=[25, 25],\n",
    "        range=[[0.001,0.2], [-2.5,-1.5]],\n",
    "        normed=True,\n",
    "        norm=matplotlib.colors.Normalize(0., 200.),\n",
    "        cmap=\"viridis\"\n",
    "    )[3]\n",
    "    cbar = fig.colorbar(cm, ax=ax, extend='both', )\n",
    "    cbar.set_label(r'$p(\\theta_{MLE})$' + ', {}'.format(labels[i].lower()))\n",
    "    plt.scatter(0.05, -1.9, s=60., color='white', marker='*')\n",
    "\n",
    "    plt.xlabel(r'$f_{\\mathrm{sub}}$')\n",
    "    plt.ylabel(r'$\\beta$')\n",
    "    \n",
    "plt.tight_layout()\n",
    "plt.savefig(\"../figures/mle_distribution.pdf\")"
   ]
  },
  {
   "cell_type": "code",
   "execution_count": null,
   "metadata": {},
   "outputs": [],
   "source": []
  },
  {
   "cell_type": "code",
   "execution_count": null,
   "metadata": {},
   "outputs": [],
   "source": []
  }
 ],
 "metadata": {
  "kernelspec": {
   "display_name": "Python (lensing)",
   "language": "python",
   "name": "lensing"
  },
  "language_info": {
   "codemirror_mode": {
    "name": "ipython",
    "version": 3
   },
   "file_extension": ".py",
   "mimetype": "text/x-python",
   "name": "python",
   "nbconvert_exporter": "python",
   "pygments_lexer": "ipython3",
   "version": "3.6.8"
  }
 },
 "nbformat": 4,
 "nbformat_minor": 2
}
