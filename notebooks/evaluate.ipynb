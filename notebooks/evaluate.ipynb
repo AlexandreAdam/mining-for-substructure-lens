{
 "cells": [
  {
   "cell_type": "markdown",
   "metadata": {},
   "source": [
    "# Evaluate likelihood ratio and posterior"
   ]
  },
  {
   "cell_type": "code",
   "execution_count": 2,
   "metadata": {},
   "outputs": [],
   "source": [
    "import sys, os\n",
    "sys.path.append('../')\n",
    "\n",
    "import logging\n",
    "import numpy as np\n",
    "import matplotlib\n",
    "import matplotlib.pyplot as plt\n",
    "from scipy.stats import norm\n",
    "from sklearn.metrics import roc_curve\n",
    "\n",
    "from units import *\n",
    "from simulation import SubhaloSimulator\n",
    "from inference.inference import Estimator\n",
    "from inference.utils import s_from_r, shuffle\n",
    "\n",
    "logging.basicConfig(\n",
    "    format='%(asctime)-5.5s %(name)-20.20s %(levelname)-7.7s %(message)s',\n",
    "    datefmt='%H:%M',\n",
    "    level=logging.INFO\n",
    ")"
   ]
  },
  {
   "cell_type": "markdown",
   "metadata": {},
   "source": [
    "## Evaluate model on train and test data"
   ]
  },
  {
   "cell_type": "code",
   "execution_count": 25,
   "metadata": {},
   "outputs": [],
   "source": [
    "x_train = np.load(\"../data/x.npy\")\n",
    "y_train = np.load(\"../data/y.npy\")\n",
    "theta_train = np.load(\"../data/theta.npy\")\n",
    "\n",
    "x_test = np.load(\"../data/x_test.npy\")\n",
    "y_test = np.load(\"../data/y_test.npy\")\n",
    "theta_test = np.load(\"../data/theta_test.npy\")"
   ]
  },
  {
   "cell_type": "code",
   "execution_count": 26,
   "metadata": {},
   "outputs": [
    {
     "name": "stdout",
     "output_type": "stream",
     "text": [
      "0.502 0.5\n"
     ]
    }
   ],
   "source": [
    "x_train, y_train, theta_train = shuffle(x_train, y_train, theta_train)\n",
    "x_train = x_train[:1000]\n",
    "y_train = y_train[:1000]\n",
    "theta_train = theta_train[:1000]\n",
    "\n",
    "x_test, y_test, theta_test = shuffle(x_test, y_test, theta_test)\n",
    "x_test = x_test[:1000]\n",
    "y_test = y_test[:1000]\n",
    "theta_test = theta_test[:1000]\n",
    "\n",
    "print(np.sum(y_train) / 1000., np.sum(y_test) / 1000.)"
   ]
  },
  {
   "cell_type": "markdown",
   "metadata": {},
   "source": [
    "## ROC curve"
   ]
  },
  {
   "cell_type": "code",
   "execution_count": 34,
   "metadata": {},
   "outputs": [],
   "source": [
    "re = Estimator()\n",
    "re.load(\"../models/alice\")"
   ]
  },
  {
   "cell_type": "code",
   "execution_count": 35,
   "metadata": {},
   "outputs": [],
   "source": [
    "llr_train, _ = re.evaluate_ratio(x=x_train, theta0=theta_train, test_all_combinations=False)\n",
    "s_train = s_from_r(np.exp(llr_train))"
   ]
  },
  {
   "cell_type": "code",
   "execution_count": 36,
   "metadata": {},
   "outputs": [],
   "source": [
    "llr_test, _ = re.evaluate_ratio(x=x_test, theta0=theta_test, test_all_combinations=False)\n",
    "s_test = s_from_r(np.exp(llr_test))"
   ]
  },
  {
   "cell_type": "code",
   "execution_count": 37,
   "metadata": {},
   "outputs": [],
   "source": [
    "fpr_train, tpr_train, _ = roc_curve(y_train, s_train)\n",
    "fpr_test, tpr_test, _ = roc_curve(y_test, s_test)"
   ]
  },
  {
   "cell_type": "code",
   "execution_count": 38,
   "metadata": {},
   "outputs": [
    {
     "data": {
      "image/png": "[encoded data removed]",
      "text/plain": [
       "<Figure size 360x360 with 1 Axes>"
      ]
     },
     "metadata": {
      "needs_background": "light"
     },
     "output_type": "display_data"
    }
   ],
   "source": [
    "fig = plt.figure(figsize=(5,5))\n",
    "\n",
    "plt.plot([0.,1.], [1.,0.], ls=\"--\", c=\"0.5\")\n",
    "plt.plot(1. - fpr_train, tpr_train, label=\"train\")\n",
    "plt.plot(1. - fpr_test, tpr_test, label=\"test\")\n",
    "\n",
    "plt.legend()\n",
    "\n",
    "plt.xlabel(\"1 - fpr\")\n",
    "plt.ylabel(\"tpr\")\n",
    "\n",
    "plt.tight_layout()\n",
    "plt.show()\n"
   ]
  },
  {
   "cell_type": "markdown",
   "metadata": {},
   "source": [
    "## Evaluate on grid"
   ]
  },
  {
   "cell_type": "code",
   "execution_count": null,
   "metadata": {},
   "outputs": [],
   "source": [
    "grid_res = 10\n",
    "\n",
    "alpha_test = np.linspace(500., 1500., grid_res)\n",
    "beta_test = np.linspace(-1.5, -2.3, grid_res)\n",
    "\n",
    "theta0, theta1 = np.meshgrid(alpha_test, beta_test)\n",
    "theta_grid = np.vstack((theta0.flatten(), theta1.flatten())).T"
   ]
  },
  {
   "cell_type": "code",
   "execution_count": null,
   "metadata": {},
   "outputs": [],
   "source": [
    "re = Estimator()\n",
    "re.load(\"../models/alice\")\n",
    "\n",
    "nllr, _ = re.evaluate_ratio(x=x_test, theta0=theta_grid)\n",
    "nllr = -2. * nllr"
   ]
  },
  {
   "cell_type": "code",
   "execution_count": null,
   "metadata": {},
   "outputs": [],
   "source": [
    "fig = plt.figure(figsize=(10, 4 * n_observations))\n",
    "\n",
    "for i in [9,0,1,2,3,4,5,6,7,8]:\n",
    "    \n",
    "    # Plot image\n",
    "    if i == 9:\n",
    "        ax_left = plt.subplot(n_observations, 2, i*2+1)\n",
    "        ax = ax_left\n",
    "    else:\n",
    "        ax = plt.subplot(n_observations, 2, i*2+1, sharex=ax_left)\n",
    "    \n",
    "    plt.imshow(\n",
    "        np.log10(img[i]),\n",
    "        vmax=3.5,\n",
    "        cmap='gist_gray',\n",
    "        extent=(-2.,2.,-2.,2.),\n",
    "        origin=\"lower\"\n",
    "    )\n",
    "    sc = plt.scatter(\n",
    "        pos_subs[i][:,0],\n",
    "        pos_subs[i][:,1],\n",
    "        s=50.,\n",
    "        c=np.log10(m_subs[i][:]),\n",
    "        cmap=\"plasma\",\n",
    "        vmin=2.,\n",
    "        vmax=5.,\n",
    "    )\n",
    "    cbar = plt.colorbar(sc)\n",
    "    \n",
    "    plt.xlim(-2.,2.)\n",
    "    plt.ylim(-2.,2.)\n",
    "    \n",
    "    if i == 8:\n",
    "        plt.xlabel(r\"$\\theta_x$ [arcsec]\")\n",
    "    else:\n",
    "        plt.setp(plt.gca().get_xticklabels(), visible=False)\n",
    "    plt.ylabel(r\"$\\theta_y$ [arcsec]\")\n",
    "    cbar.set_label(r'$\\log_{10} [M_{sub} / 10^7 M_S]$')\n",
    "    \n",
    "    \n",
    "    \n",
    "    # Plot estimated likelihood ratio for this image\n",
    "    if i == 9:\n",
    "        ax_right = plt.subplot(n_observations, 2, i*2+2)\n",
    "        ax = ax_right\n",
    "    else:\n",
    "        ax = plt.subplot(n_observations, 2, i*2+2, sharex=ax_right)\n",
    "        \n",
    "    nllr_ = nllr[:, i]\n",
    "\n",
    "    best_fit = theta_grid[np.argmin(nllr_)]\n",
    "    cmin, cmax = -5., 5.  # np.min(nllr_), np.max(nllr_)\n",
    "\n",
    "    bin_size = alpha_test[1] - alpha_test[0]\n",
    "    alpha_edges = np.linspace(alpha_test[0] - bin_size/2, alpha_test[-1] + bin_size/2, grid_res + 1)\n",
    "    bin_size = beta_test[1] - beta_test[0]\n",
    "    beta_edges = np.linspace(beta_test[0] - bin_size/2, beta_test[-1] + bin_size/2, grid_res + 1)\n",
    "\n",
    "    pcm = ax.pcolormesh(\n",
    "        alpha_edges,\n",
    "        beta_edges,\n",
    "        nllr_.reshape((grid_res, grid_res)),\n",
    "        norm=matplotlib.colors.Normalize(vmin=cmin, vmax=cmax),\n",
    "        cmap='PRGn'\n",
    "    )\n",
    "    cbar = fig.colorbar(pcm, ax=ax, extend='both')\n",
    "\n",
    "    plt.scatter(best_fit[0], best_fit[1], s=80., color='black', marker='*')\n",
    "\n",
    "    if i == 9:\n",
    "        plt.xlabel(r'$\\alpha$')\n",
    "    else:\n",
    "        plt.setp(plt.gca().get_xticklabels(), visible=False)\n",
    "    plt.ylabel(r'$\\beta$')\n",
    "    cbar.set_label(r'$-2\\; \\log \\;\\hat{r}(x | \\alpha, \\beta)$')\n",
    "\n",
    "plt.tight_layout()\n",
    "plt.savefig(\"carl_predictions.pdf\")"
   ]
  },
  {
   "cell_type": "code",
   "execution_count": null,
   "metadata": {},
   "outputs": [],
   "source": []
  }
 ],
 "metadata": {
  "kernelspec": {
   "display_name": "Python (lensing)",
   "language": "python",
   "name": "lensing"
  },
  "language_info": {
   "codemirror_mode": {
    "name": "ipython",
    "version": 3
   },
   "file_extension": ".py",
   "mimetype": "text/x-python",
   "name": "python",
   "nbconvert_exporter": "python",
   "pygments_lexer": "ipython3",
   "version": "3.6.8"
  }
 },
 "nbformat": 4,
 "nbformat_minor": 2
}
