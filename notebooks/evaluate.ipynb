{
 "cells": [
  {
   "cell_type": "markdown",
   "metadata": {},
   "source": [
    "# Evaluate likelihood ratio and posterior"
   ]
  },
  {
   "cell_type": "code",
   "execution_count": 17,
   "metadata": {},
   "outputs": [],
   "source": [
    "import sys, os\n",
    "sys.path.append('../')\n",
    "\n",
    "import logging\n",
    "import numpy as np\n",
    "import matplotlib\n",
    "import matplotlib.pyplot as plt\n",
    "from scipy.stats import norm\n",
    "\n",
    "from units import *\n",
    "from simulation import SubhaloSimulator\n",
    "from inference.inference import Estimator\n",
    "\n",
    "logging.basicConfig(\n",
    "    format='%(asctime)-5.5s %(name)-20.20s %(levelname)-7.7s %(message)s',\n",
    "    datefmt='%H:%M',\n",
    "    level=logging.INFO\n",
    ")"
   ]
  },
  {
   "cell_type": "markdown",
   "metadata": {},
   "source": [
    "## Prior"
   ]
  },
  {
   "cell_type": "code",
   "execution_count": 11,
   "metadata": {},
   "outputs": [],
   "source": [
    "alpha_mean = 1000.\n",
    "alpha_std = alpha_mean * 0.2\n",
    "beta_mean = -1.9\n",
    "beta_std = 0.2"
   ]
  },
  {
   "cell_type": "markdown",
   "metadata": {},
   "source": [
    "## Test data"
   ]
  },
  {
   "cell_type": "code",
   "execution_count": 2,
   "metadata": {},
   "outputs": [],
   "source": [
    "n_observations = 100"
   ]
  },
  {
   "cell_type": "code",
   "execution_count": 3,
   "metadata": {},
   "outputs": [
    {
     "data": {
      "text/plain": [
       "(1000.0, -1.9)"
      ]
     },
     "execution_count": 3,
     "metadata": {},
     "output_type": "execute_result"
    }
   ],
   "source": [
    "mass_base_unit = 1.e7 * M_s\n",
    "\n",
    "alpha_true = alpha_mean\n",
    "beta_true = alpha_std\n",
    "\n",
    "alpha_true, beta_true"
   ]
  },
  {
   "cell_type": "code",
   "execution_count": 4,
   "metadata": {},
   "outputs": [
    {
     "name": "stderr",
     "output_type": "stream",
     "text": [
      "16:18 simulation           INFO    Simulating image 5 / 100\n",
      "16:18 simulation           INFO    Simulating image 10 / 100\n",
      "16:18 simulation           INFO    Simulating image 15 / 100\n",
      "16:18 simulation           INFO    Simulating image 20 / 100\n",
      "16:18 simulation           INFO    Simulating image 25 / 100\n",
      "16:18 simulation           INFO    Simulating image 30 / 100\n",
      "16:18 simulation           INFO    Simulating image 35 / 100\n",
      "16:18 simulation           INFO    Simulating image 40 / 100\n",
      "16:18 simulation           INFO    Simulating image 45 / 100\n",
      "16:18 simulation           INFO    Simulating image 50 / 100\n",
      "16:18 simulation           INFO    Simulating image 55 / 100\n",
      "16:18 simulation           INFO    Simulating image 60 / 100\n",
      "16:18 simulation           INFO    Simulating image 65 / 100\n",
      "16:18 simulation           INFO    Simulating image 70 / 100\n",
      "16:18 simulation           INFO    Simulating image 75 / 100\n",
      "16:18 simulation           INFO    Simulating image 80 / 100\n",
      "16:18 simulation           INFO    Simulating image 85 / 100\n",
      "16:18 simulation           INFO    Simulating image 90 / 100\n",
      "16:18 simulation           INFO    Simulating image 95 / 100\n",
      "16:18 simulation           INFO    Simulating image 100 / 100\n"
     ]
    }
   ],
   "source": [
    "sim = SubhaloSimulator(\n",
    "    mass_base_unit=mass_base_unit,\n",
    "    resolution=64,\n",
    "    m_sub_min=100.,\n",
    ")\n",
    "\n",
    "img = sim.rvs(alpha_true, beta_true, n_observations)"
   ]
  },
  {
   "cell_type": "markdown",
   "metadata": {},
   "source": [
    "## Prepare evaluation"
   ]
  },
  {
   "cell_type": "code",
   "execution_count": 5,
   "metadata": {},
   "outputs": [],
   "source": [
    "grid_res = 11\n",
    "\n",
    "alpha_test = np.linspace(500., 1500., grid_res)\n",
    "beta_test = np.linspace(-1.5, -2.3, grid_res)\n",
    "\n",
    "theta0, theta1 = np.meshgrid(alpha_test, beta_test)\n",
    "theta_grid = np.vstack((theta0.flatten(), theta1.flatten())).T"
   ]
  },
  {
   "cell_type": "code",
   "execution_count": 6,
   "metadata": {},
   "outputs": [],
   "source": [
    "re = Estimator()\n",
    "re.load(\"../models/alice\")"
   ]
  },
  {
   "cell_type": "markdown",
   "metadata": {},
   "source": [
    "## Likelihood ratio"
   ]
  },
  {
   "cell_type": "code",
   "execution_count": 7,
   "metadata": {},
   "outputs": [],
   "source": [
    "log_r, _ = re.evaluate_ratio(x=img, theta0=theta_grid)\n",
    "nllr = -2. * np.sum(log_r, axis=1).reshape(grid_res, grid_res)"
   ]
  },
  {
   "cell_type": "code",
   "execution_count": 8,
   "metadata": {},
   "outputs": [],
   "source": [
    "best_fit = theta_grid[np.argmin(nllr.flatten())]"
   ]
  },
  {
   "cell_type": "code",
   "execution_count": 9,
   "metadata": {},
   "outputs": [
    {
     "data": {
      "image/png": "[encoded data removed]",
      "text/plain": [
       "<Figure size 432x360 with 2 Axes>"
      ]
     },
     "metadata": {
      "needs_background": "light"
     },
     "output_type": "display_data"
    }
   ],
   "source": [
    "cmin, cmax = np.min(nllr), np.max(nllr)\n",
    "\n",
    "bin_size = alpha_test[1] - alpha_test[0]\n",
    "alpha_edges = np.linspace(alpha_test[0] - bin_size/2, alpha_test[-1] + bin_size/2, grid_res + 1)\n",
    "bin_size = beta_test[1] - beta_test[0]\n",
    "beta_edges = np.linspace(beta_test[0] - bin_size/2, beta_test[-1] + bin_size/2, grid_res + 1)\n",
    "\n",
    "fig = plt.figure(figsize=(6,5))\n",
    "ax = plt.gca()\n",
    "    \n",
    "pcm = ax.pcolormesh(\n",
    "    alpha_edges,\n",
    "    beta_edges,\n",
    "    nllr,\n",
    "    norm=matplotlib.colors.Normalize(vmin=cmin, vmax=cmax),\n",
    "    cmap='viridis_r'\n",
    ")\n",
    "cbar = fig.colorbar(pcm, ax=ax, extend='both')\n",
    "\n",
    "plt.scatter(best_fit[0], best_fit[1], s=80., color='black', marker='*')\n",
    "\n",
    "plt.xlabel(r'$\\alpha$')\n",
    "plt.ylabel(r'$\\beta$')\n",
    "cbar.set_label(r'$-2\\; \\log \\;\\hat{r}(x | \\theta)$')\n",
    "\n",
    "plt.tight_layout()\n",
    "plt.show()"
   ]
  },
  {
   "cell_type": "markdown",
   "metadata": {},
   "source": [
    "## Evaluate posterior"
   ]
  },
  {
   "cell_type": "code",
   "execution_count": 18,
   "metadata": {},
   "outputs": [],
   "source": [
    "prior_grid = []\n",
    "for alpha, beta in theta_grid:\n",
    "    prior = norm.pdf(\n",
    "        alpha, loc=alpha_mean, scale=alpha_std\n",
    "    ) * norm.pdf(\n",
    "        beta, loc=beta_mean, scale=beta_std\n",
    "    )\n",
    "    \n",
    "    prior_grid.append(prior)\n",
    "    \n",
    "prior_grid = np.array(prior_grid)"
   ]
  },
  {
   "cell_type": "code",
   "execution_count": 20,
   "metadata": {},
   "outputs": [],
   "source": [
    "n_prior_samples = 100\n",
    "\n",
    "alpha_from_prior = np.random.normal(loc=alpha_mean, scale=alpha_std, size=n_prior_samples)\n",
    "beta_from_prior = np.random.normal(loc=beta_mean, scale=beta_std, size=n_prior_samples)\n",
    "thetas_from_prior = np.vstack((alpha_from_prior, beta_from_prior)).T"
   ]
  },
  {
   "cell_type": "code",
   "execution_count": null,
   "metadata": {},
   "outputs": [],
   "source": [
    "posterior = re.evaluate_posterior(\n",
    "    xs=img,\n",
    "    thetas_eval=theta_grid,\n",
    "    prior_thetas_eval=prior_grid,\n",
    "    thetas_from_prior=thetas_from_prior\n",
    ")"
   ]
  },
  {
   "cell_type": "code",
   "execution_count": null,
   "metadata": {},
   "outputs": [],
   "source": [
    "best_fit = theta_grid[np.argmax(posterior.flatten())]"
   ]
  },
  {
   "cell_type": "code",
   "execution_count": null,
   "metadata": {},
   "outputs": [],
   "source": [
    "cmin, cmax = np.min(posterior), np.max(posterior)\n",
    "\n",
    "bin_size = alpha_test[1] - alpha_test[0]\n",
    "alpha_edges = np.linspace(alpha_test[0] - bin_size/2, alpha_test[-1] + bin_size/2, grid_res + 1)\n",
    "bin_size = beta_test[1] - beta_test[0]\n",
    "beta_edges = np.linspace(beta_test[0] - bin_size/2, beta_test[-1] + bin_size/2, grid_res + 1)\n",
    "\n",
    "fig = plt.figure(figsize=(6,5))\n",
    "ax = plt.gca()\n",
    "    \n",
    "pcm = ax.pcolormesh(\n",
    "    alpha_edges,\n",
    "    beta_edges,\n",
    "    posterior.reshape(grid_res, grid_res),\n",
    "    norm=matplotlib.colors.Normalize(vmin=cmin, vmax=cmax),\n",
    "    cmap='viridis_r'\n",
    ")\n",
    "cbar = fig.colorbar(pcm, ax=ax, extend='both')\n",
    "\n",
    "plt.scatter(best_fit[0], best_fit[1], s=80., color='black', marker='*')\n",
    "\n",
    "plt.xlabel(r'$\\alpha$')\n",
    "plt.ylabel(r'$\\beta$')\n",
    "cbar.set_label(r'$-2\\; \\log \\;\\hat{r}(x | \\theta)$')\n",
    "\n",
    "plt.tight_layout()\n",
    "plt.show()"
   ]
  },
  {
   "cell_type": "code",
   "execution_count": null,
   "metadata": {},
   "outputs": [],
   "source": []
  }
 ],
 "metadata": {
  "kernelspec": {
   "display_name": "Python (lensing)",
   "language": "python",
   "name": "lensing"
  },
  "language_info": {
   "codemirror_mode": {
    "name": "ipython",
    "version": 3
   },
   "file_extension": ".py",
   "mimetype": "text/x-python",
   "name": "python",
   "nbconvert_exporter": "python",
   "pygments_lexer": "ipython3",
   "version": "3.6.8"
  }
 },
 "nbformat": 4,
 "nbformat_minor": 2
}
