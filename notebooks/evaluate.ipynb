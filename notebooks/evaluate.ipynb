{
 "cells": [
  {
   "cell_type": "markdown",
   "metadata": {},
   "source": [
    "# Evaluate likelihood ratio and posterior"
   ]
  },
  {
   "cell_type": "code",
   "execution_count": 1,
   "metadata": {},
   "outputs": [],
   "source": [
    "import sys, os\n",
    "sys.path.append('../')\n",
    "\n",
    "import logging\n",
    "import numpy as np\n",
    "import matplotlib\n",
    "import matplotlib.pyplot as plt\n",
    "\n",
    "from units import *\n",
    "from simulation import SubhaloSimulator\n",
    "from inference.inference import Estimator\n",
    "\n",
    "logging.basicConfig(\n",
    "    format='%(asctime)-5.5s %(name)-20.20s %(levelname)-7.7s %(message)s',\n",
    "    datefmt='%H:%M',\n",
    "    level=logging.INFO\n",
    ")"
   ]
  },
  {
   "cell_type": "markdown",
   "metadata": {},
   "source": [
    "## Test data"
   ]
  },
  {
   "cell_type": "code",
   "execution_count": 2,
   "metadata": {},
   "outputs": [],
   "source": [
    "n_observations = 1000"
   ]
  },
  {
   "cell_type": "code",
   "execution_count": 3,
   "metadata": {},
   "outputs": [
    {
     "data": {
      "text/plain": [
       "(100.2374467254546, -1.9)"
      ]
     },
     "execution_count": 3,
     "metadata": {},
     "output_type": "execute_result"
    }
   ],
   "source": [
    "mass_base_unit = 1.e7 * M_s\n",
    "\n",
    "alpha_true = 2e8/M_s * mass_base_unit  * (mass_base_unit / M_s)**-1.9\n",
    "beta_true = -1.9\n",
    "\n",
    "alpha_true, beta_true"
   ]
  },
  {
   "cell_type": "code",
   "execution_count": 4,
   "metadata": {},
   "outputs": [
    {
     "name": "stderr",
     "output_type": "stream",
     "text": [
      "13:29 simulation           INFO    Simulating image 50 / 1000\n",
      "13:30 simulation           INFO    Simulating image 100 / 1000\n",
      "13:31 simulation           INFO    Simulating image 150 / 1000\n",
      "13:32 simulation           INFO    Simulating image 200 / 1000\n",
      "13:33 simulation           INFO    Simulating image 250 / 1000\n",
      "13:34 simulation           INFO    Simulating image 300 / 1000\n",
      "13:35 simulation           INFO    Simulating image 350 / 1000\n",
      "13:36 simulation           INFO    Simulating image 400 / 1000\n",
      "13:37 simulation           INFO    Simulating image 450 / 1000\n",
      "13:38 simulation           INFO    Simulating image 500 / 1000\n",
      "13:39 simulation           INFO    Simulating image 550 / 1000\n",
      "13:40 simulation           INFO    Simulating image 600 / 1000\n",
      "13:41 simulation           INFO    Simulating image 650 / 1000\n",
      "13:43 simulation           INFO    Simulating image 700 / 1000\n",
      "13:44 simulation           INFO    Simulating image 750 / 1000\n",
      "13:45 simulation           INFO    Simulating image 800 / 1000\n",
      "13:46 simulation           INFO    Simulating image 850 / 1000\n",
      "13:47 simulation           INFO    Simulating image 900 / 1000\n",
      "13:48 simulation           INFO    Simulating image 950 / 1000\n",
      "13:49 simulation           INFO    Simulating image 1000 / 1000\n"
     ]
    }
   ],
   "source": [
    "sim = SubhaloSimulator(\n",
    "    mass_base_unit=mass_base_unit,\n",
    "    resolution=64,\n",
    ")\n",
    "\n",
    "img = sim.rvs(alpha_true, beta_true, n_observations)"
   ]
  },
  {
   "cell_type": "markdown",
   "metadata": {},
   "source": [
    "## Evaluate likelihood ratio"
   ]
  },
  {
   "cell_type": "code",
   "execution_count": 5,
   "metadata": {},
   "outputs": [],
   "source": [
    "grid_res = 21\n",
    "\n",
    "alpha_test = np.linspace(50., 150., grid_res)\n",
    "beta_test = np.linspace(-1.6, -2.2, grid_res)\n",
    "\n",
    "theta0, theta1 = np.meshgrid(alpha_test, beta_test)\n",
    "theta_grid = np.vstack((theta0.flatten(), theta1.flatten())).T"
   ]
  },
  {
   "cell_type": "code",
   "execution_count": 6,
   "metadata": {},
   "outputs": [],
   "source": [
    "re = Estimator()\n",
    "re.load(\"../models/alices\")"
   ]
  },
  {
   "cell_type": "code",
   "execution_count": 7,
   "metadata": {},
   "outputs": [],
   "source": [
    "log_r, _ = re.evaluate_ratio(x=img, theta0=theta_grid)\n",
    "nllr = -2. * np.sum(log_r, axis=1).reshape(grid_res, grid_res)"
   ]
  },
  {
   "cell_type": "code",
   "execution_count": 8,
   "metadata": {},
   "outputs": [],
   "source": [
    "best_fit = theta_grid[np.argmin(nllr.flatten())]"
   ]
  },
  {
   "cell_type": "code",
   "execution_count": 9,
   "metadata": {},
   "outputs": [
    {
     "data": {
      "image/png": "[encoded data removed]",
      "text/plain": [
       "<Figure size 432x360 with 2 Axes>"
      ]
     },
     "metadata": {
      "needs_background": "light"
     },
     "output_type": "display_data"
    }
   ],
   "source": [
    "cmin, cmax = np.min(nllr), np.max(nllr)\n",
    "\n",
    "bin_size = alpha_test[1] - alpha_test[0]\n",
    "alpha_edges = np.linspace(alpha_test[0] - bin_size/2, alpha_test[-1] + bin_size/2, grid_res + 1)\n",
    "bin_size = beta_test[1] - beta_test[0]\n",
    "beta_edges = np.linspace(beta_test[0] - bin_size/2, beta_test[-1] + bin_size/2, grid_res + 1)\n",
    "\n",
    "fig = plt.figure(figsize=(6,5))\n",
    "ax = plt.gca()\n",
    "    \n",
    "pcm = ax.pcolormesh(\n",
    "    alpha_edges,\n",
    "    beta_edges,\n",
    "    nllr,\n",
    "    norm=matplotlib.colors.Normalize(vmin=cmin, vmax=cmax),\n",
    "    cmap='viridis_r'\n",
    ")\n",
    "cbar = fig.colorbar(pcm, ax=ax, extend='both')\n",
    "\n",
    "plt.scatter(best_fit[0], best_fit[1], s=80., color='black', marker='*')\n",
    "\n",
    "plt.xlabel(r'$\\alpha$')\n",
    "plt.ylabel(r'$\\beta$')\n",
    "cbar.set_label(r'$-2\\; \\log \\;\\hat{r}(x | \\theta)$')\n",
    "\n",
    "plt.tight_layout()\n",
    "plt.show()"
   ]
  },
  {
   "cell_type": "code",
   "execution_count": null,
   "metadata": {},
   "outputs": [],
   "source": []
  }
 ],
 "metadata": {
  "kernelspec": {
   "display_name": "Python (lensing)",
   "language": "python",
   "name": "lensing"
  },
  "language_info": {
   "codemirror_mode": {
    "name": "ipython",
    "version": 3
   },
   "file_extension": ".py",
   "mimetype": "text/x-python",
   "name": "python",
   "nbconvert_exporter": "python",
   "pygments_lexer": "ipython3",
   "version": "3.6.8"
  }
 },
 "nbformat": 4,
 "nbformat_minor": 2
}
