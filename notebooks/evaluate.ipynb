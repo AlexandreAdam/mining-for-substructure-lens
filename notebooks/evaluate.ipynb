{
 "cells": [
  {
   "cell_type": "markdown",
   "metadata": {},
   "source": [
    "# Evaluate likelihood ratio and posterior"
   ]
  },
  {
   "cell_type": "code",
   "execution_count": 1,
   "metadata": {},
   "outputs": [],
   "source": [
    "import sys, os\n",
    "sys.path.append('../')\n",
    "\n",
    "import logging\n",
    "import numpy as np\n",
    "import matplotlib\n",
    "import matplotlib.pyplot as plt\n",
    "from scipy.stats import norm\n",
    "\n",
    "from units import *\n",
    "from simulation import SubhaloSimulator\n",
    "from inference.inference import Estimator\n",
    "\n",
    "logging.basicConfig(\n",
    "    format='%(asctime)-5.5s %(name)-20.20s %(levelname)-7.7s %(message)s',\n",
    "    datefmt='%H:%M',\n",
    "    level=logging.INFO\n",
    ")"
   ]
  },
  {
   "cell_type": "markdown",
   "metadata": {},
   "source": [
    "## Test data"
   ]
  },
  {
   "cell_type": "code",
   "execution_count": 2,
   "metadata": {},
   "outputs": [],
   "source": [
    "n_observations = 10"
   ]
  },
  {
   "cell_type": "code",
   "execution_count": 3,
   "metadata": {},
   "outputs": [
    {
     "data": {
      "text/plain": [
       "(10000.0, -1.9)"
      ]
     },
     "execution_count": 3,
     "metadata": {},
     "output_type": "execute_result"
    }
   ],
   "source": [
    "mass_base_unit = 1.e7 * M_s\n",
    "\n",
    "alpha_true = 10000.\n",
    "beta_true = -1.9\n",
    "\n",
    "alpha_true, beta_true"
   ]
  },
  {
   "cell_type": "code",
   "execution_count": 4,
   "metadata": {},
   "outputs": [
    {
     "name": "stderr",
     "output_type": "stream",
     "text": [
      "15:45 simulation           INFO    Simulating image 1 / 10\n",
      "15:45 simulation           INFO    Simulating image 2 / 10\n",
      "15:45 simulation           INFO    Simulating image 3 / 10\n",
      "15:45 simulation           INFO    Simulating image 4 / 10\n",
      "15:45 simulation           INFO    Simulating image 5 / 10\n",
      "15:45 simulation           INFO    Simulating image 6 / 10\n",
      "15:45 simulation           INFO    Simulating image 7 / 10\n",
      "15:45 simulation           INFO    Simulating image 8 / 10\n",
      "15:45 simulation           INFO    Simulating image 9 / 10\n",
      "15:46 simulation           INFO    Simulating image 10 / 10\n"
     ]
    }
   ],
   "source": [
    "sim = SubhaloSimulator(\n",
    "    mass_base_unit=mass_base_unit,\n",
    "    resolution=64,\n",
    "    m_sub_min=100.,\n",
    ")\n",
    "\n",
    "img, latents = sim.rvs(alpha_true, beta_true, n_observations)\n",
    "\n",
    "n_subs = np.array([v[0] for v in latents])\n",
    "m_subs = [v[1] for v in latents]\n",
    "pos_subs = [np.vstack((v[2], v[3])).T for v in latents]"
   ]
  },
  {
   "cell_type": "markdown",
   "metadata": {},
   "source": [
    "## Evaluation"
   ]
  },
  {
   "cell_type": "code",
   "execution_count": null,
   "metadata": {},
   "outputs": [],
   "source": [
    "grid_res = 10\n",
    "\n",
    "alpha_test = np.linspace(500., 1500., grid_res)\n",
    "beta_test = np.linspace(-1.5, -2.3, grid_res)\n",
    "\n",
    "theta0, theta1 = np.meshgrid(alpha_test, beta_test)\n",
    "theta_grid = np.vstack((theta0.flatten(), theta1.flatten())).T"
   ]
  },
  {
   "cell_type": "code",
   "execution_count": null,
   "metadata": {},
   "outputs": [],
   "source": [
    "re = Estimator()\n",
    "re.load(\"../models/carl\")"
   ]
  },
  {
   "cell_type": "code",
   "execution_count": null,
   "metadata": {},
   "outputs": [],
   "source": [
    "nllr, _ = re.evaluate_ratio(x=img, theta0=theta_grid)\n",
    "nllr = -2. * nllr"
   ]
  },
  {
   "cell_type": "markdown",
   "metadata": {},
   "source": [
    "## Plot"
   ]
  },
  {
   "cell_type": "code",
   "execution_count": null,
   "metadata": {},
   "outputs": [],
   "source": [
    "fig = plt.figure(figsize=(10, 4 * n_observations))\n",
    "\n",
    "for i in [9,0,1,2,3,4,5,6,7,8]:\n",
    "    \n",
    "    # Plot image\n",
    "    if i == 3:\n",
    "        ax_left = plt.subplot(n_observations, 2, i*2+1)\n",
    "        ax = ax_left\n",
    "    else:\n",
    "        ax = plt.subplot(n_observations, 2, i*2+1, sharex=ax_left)\n",
    "    \n",
    "    plt.imshow(\n",
    "        np.log10(img[i]),\n",
    "        vmax=3.5,\n",
    "        cmap='gist_gray',\n",
    "        extent=(-2.,2.,-2.,2.),\n",
    "        origin=\"lower\"\n",
    "    )\n",
    "    sc = plt.scatter(\n",
    "        pos_subs[i][:,0],\n",
    "        pos_subs[i][:,1],\n",
    "        s=50.,\n",
    "        c=np.log10(m_subs[i][:]),\n",
    "        cmap=\"plasma\",\n",
    "        vmin=2.,\n",
    "        vmax=5.,\n",
    "    )\n",
    "    cbar = plt.colorbar(sc)\n",
    "    \n",
    "    plt.xlim(-2.,2.)\n",
    "    plt.ylim(-2.,2.)\n",
    "    \n",
    "    if i == 3:\n",
    "        plt.xlabel(r\"$\\theta_x$ [arcsec]\")\n",
    "    else:\n",
    "        plt.setp(plt.gca().get_xticklabels(), visible=False)\n",
    "    plt.ylabel(r\"$\\theta_y$ [arcsec]\")\n",
    "    cbar.set_label(r'$\\log_{10} [M_{sub} / 10^7 M_S]$')\n",
    "    \n",
    "    \n",
    "    \n",
    "    # Plot estimated likelihood ratio for this image\n",
    "    if i == 3:\n",
    "        ax_right = plt.subplot(n_observations, 2, i*2+2)\n",
    "        ax = ax_right\n",
    "    else:\n",
    "        ax = plt.subplot(n_observations, 2, i*2+2, sharex=ax_right)\n",
    "        \n",
    "    nllr_ = nllr[:, i]\n",
    "\n",
    "    best_fit = theta_grid[np.argmin(nllr_)]\n",
    "    cmin, cmax = -5., 5.  # np.min(nllr_), np.max(nllr_)\n",
    "\n",
    "    bin_size = alpha_test[1] - alpha_test[0]\n",
    "    alpha_edges = np.linspace(alpha_test[0] - bin_size/2, alpha_test[-1] + bin_size/2, grid_res + 1)\n",
    "    bin_size = beta_test[1] - beta_test[0]\n",
    "    beta_edges = np.linspace(beta_test[0] - bin_size/2, beta_test[-1] + bin_size/2, grid_res + 1)\n",
    "\n",
    "    pcm = ax.pcolormesh(\n",
    "        alpha_edges,\n",
    "        beta_edges,\n",
    "        nllr_.reshape((grid_res, grid_res)),\n",
    "        norm=matplotlib.colors.Normalize(vmin=cmin, vmax=cmax),\n",
    "        cmap='PRGn'\n",
    "    )\n",
    "    cbar = fig.colorbar(pcm, ax=ax, extend='both')\n",
    "\n",
    "    plt.scatter(best_fit[0], best_fit[1], s=80., color='black', marker='*')\n",
    "\n",
    "    plt.xlabel(r'$\\alpha$')\n",
    "    plt.ylabel(r'$\\beta$')\n",
    "    cbar.set_label(r'$-2\\; \\log \\;\\hat{r}(x | \\alpha, \\beta)$')\n",
    "\n",
    "plt.tight_layout()\n",
    "plt.savefig(\"carl_predictions.pdf\")"
   ]
  },
  {
   "cell_type": "code",
   "execution_count": null,
   "metadata": {},
   "outputs": [],
   "source": []
  }
 ],
 "metadata": {
  "kernelspec": {
   "display_name": "Python (lensing)",
   "language": "python",
   "name": "lensing"
  },
  "language_info": {
   "codemirror_mode": {
    "name": "ipython",
    "version": 3
   },
   "file_extension": ".py",
   "mimetype": "text/x-python",
   "name": "python",
   "nbconvert_exporter": "python",
   "pygments_lexer": "ipython3",
   "version": "3.6.8"
  }
 },
 "nbformat": 4,
 "nbformat_minor": 2
}
