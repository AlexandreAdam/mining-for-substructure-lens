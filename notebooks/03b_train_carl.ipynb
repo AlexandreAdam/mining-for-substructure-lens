{
 "cells": [
  {
   "cell_type": "markdown",
   "metadata": {},
   "source": [
    "# Train likelihood ratio estimator"
   ]
  },
  {
   "cell_type": "code",
   "execution_count": 1,
   "metadata": {},
   "outputs": [],
   "source": [
    "import sys, os\n",
    "sys.path.append('../')\n",
    "\n",
    "import logging\n",
    "import numpy as np\n",
    "import matplotlib.pyplot as plt\n",
    "\n",
    "from inference.estimator import Estimator\n",
    "\n",
    "logging.basicConfig(\n",
    "    format='%(asctime)-5.5s %(name)-20.20s %(levelname)-7.7s %(message)s',\n",
    "    datefmt='%H:%M',\n",
    "    level=logging.INFO\n",
    ")"
   ]
  },
  {
   "cell_type": "markdown",
   "metadata": {},
   "source": [
    "## Train CARL"
   ]
  },
  {
   "cell_type": "code",
   "execution_count": 2,
   "metadata": {},
   "outputs": [
    {
     "name": "stderr",
     "output_type": "stream",
     "text": [
      "23:44 inference.estimator  INFO    Starting training\n",
      "23:44 inference.estimator  INFO      Method:                 carl\n",
      "23:44 inference.estimator  INFO      Training data:          x at ../data/samples/x_train.npy\n",
      "23:44 inference.estimator  INFO                              theta0 at ../data/samples/theta_train.npy\n",
      "23:44 inference.estimator  INFO                              y at ../data/samples/y_train.npy\n",
      "23:44 inference.estimator  INFO      Method:                 carl\n",
      "23:44 inference.estimator  INFO      Convolutional layers:   3\n",
      "23:44 inference.estimator  INFO      Dense layers:           3\n",
      "23:44 inference.estimator  INFO      Feature maps:           128\n",
      "23:44 inference.estimator  INFO      Convolutional filter:   5\n",
      "23:44 inference.estimator  INFO      Pooling filter:         2\n",
      "23:44 inference.estimator  INFO      Activation function:    relu\n",
      "23:44 inference.estimator  INFO      Batch size:             256\n",
      "23:44 inference.estimator  INFO      Trainer:                amsgrad\n",
      "23:44 inference.estimator  INFO      Epochs:                 50\n",
      "23:44 inference.estimator  INFO      Learning rate:          0.001 initially, decaying to 0.0001\n",
      "23:44 inference.estimator  INFO      Validation split:       0.25\n",
      "23:44 inference.estimator  INFO      Early stopping:         True\n",
      "23:44 inference.estimator  INFO      Rescale inputs:         True\n",
      "23:44 inference.estimator  INFO      Shuffle labels          False\n",
      "23:44 inference.estimator  INFO      Samples:                all\n",
      "23:44 inference.estimator  INFO    Loading training data\n",
      "23:44 inference.estimator  INFO    Found 1000 samples with 2 parameters and resolution 64 x 64\n",
      "23:44 inference.estimator  INFO    Rescaling pixel values by factor 1 / 303.35094547546475\n",
      "23:44 inference.estimator  INFO    Training model\n",
      "23:46 inference.trainer    INFO    Epoch   2: train loss 13.74357 (xe: 13.744)\n",
      "23:46 inference.trainer    INFO               val. loss  14.03657 (xe: 14.037)\n",
      "23:48 inference.trainer    INFO    Epoch   4: train loss 13.74629 (xe: 13.746)\n",
      "23:48 inference.trainer    INFO               val. loss  14.03657 (xe: 14.037)\n",
      "23:49 inference.trainer    INFO    Epoch   6: train loss 13.75989 (xe: 13.760)\n",
      "23:49 inference.trainer    INFO               val. loss  14.03657 (xe: 14.037)\n",
      "23:51 inference.trainer    INFO    Epoch   8: train loss 13.75717 (xe: 13.757)\n",
      "23:51 inference.trainer    INFO               val. loss  14.03657 (xe: 14.037)\n",
      "23:52 inference.trainer    INFO    Epoch  10: train loss 13.75445 (xe: 13.754)\n",
      "23:52 inference.trainer    INFO               val. loss  14.03657 (xe: 14.037)\n",
      "23:54 inference.trainer    INFO    Epoch  12: train loss 13.73812 (xe: 13.738)\n",
      "23:54 inference.trainer    INFO               val. loss  14.03657 (xe: 14.037)\n",
      "23:55 inference.trainer    INFO    Epoch  14: train loss 13.76806 (xe: 13.768)\n",
      "23:55 inference.trainer    INFO               val. loss  14.03657 (xe: 14.037)\n",
      "23:57 inference.trainer    INFO    Epoch  16: train loss 13.75989 (xe: 13.760)\n",
      "23:57 inference.trainer    INFO               val. loss  14.03657 (xe: 14.037)\n",
      "23:59 inference.trainer    INFO    Epoch  18: train loss 13.73268 (xe: 13.733)\n",
      "23:59 inference.trainer    INFO               val. loss  14.03657 (xe: 14.037)\n",
      "00:00 inference.trainer    INFO    Epoch  20: train loss 13.72724 (xe: 13.727)\n",
      "00:00 inference.trainer    INFO               val. loss  14.03657 (xe: 14.037)\n",
      "00:02 inference.trainer    INFO    Epoch  22: train loss 13.75173 (xe: 13.752)\n",
      "00:02 inference.trainer    INFO               val. loss  14.03657 (xe: 14.037)\n",
      "00:03 inference.trainer    INFO    Epoch  24: train loss 13.72452 (xe: 13.725)\n",
      "00:03 inference.trainer    INFO               val. loss  14.03657 (xe: 14.037)\n",
      "00:05 inference.trainer    INFO    Epoch  26: train loss 13.74085 (xe: 13.741)\n",
      "00:05 inference.trainer    INFO               val. loss  14.03657 (xe: 14.037)\n",
      "00:07 inference.trainer    INFO    Epoch  28: train loss 13.76261 (xe: 13.763)\n",
      "00:07 inference.trainer    INFO               val. loss  14.03657 (xe: 14.037)\n",
      "00:08 inference.trainer    INFO    Epoch  30: train loss 13.74357 (xe: 13.744)\n",
      "00:08 inference.trainer    INFO               val. loss  14.03657 (xe: 14.037)\n",
      "00:10 inference.trainer    INFO    Epoch  32: train loss 13.74357 (xe: 13.744)\n",
      "00:10 inference.trainer    INFO               val. loss  14.03657 (xe: 14.037)\n",
      "00:11 inference.trainer    INFO    Epoch  34: train loss 13.74085 (xe: 13.741)\n",
      "00:11 inference.trainer    INFO               val. loss  14.03657 (xe: 14.037)\n",
      "00:13 inference.trainer    INFO    Epoch  36: train loss 13.74901 (xe: 13.749)\n",
      "00:13 inference.trainer    INFO               val. loss  14.03657 (xe: 14.037)\n",
      "00:14 inference.trainer    INFO    Epoch  38: train loss 13.74901 (xe: 13.749)\n",
      "00:14 inference.trainer    INFO               val. loss  14.03657 (xe: 14.037)\n",
      "00:16 inference.trainer    INFO    Epoch  40: train loss 13.74085 (xe: 13.741)\n",
      "00:16 inference.trainer    INFO               val. loss  14.03657 (xe: 14.037)\n",
      "00:18 inference.trainer    INFO    Epoch  42: train loss 13.74357 (xe: 13.744)\n",
      "00:18 inference.trainer    INFO               val. loss  14.03657 (xe: 14.037)\n",
      "00:19 inference.trainer    INFO    Epoch  44: train loss 13.75445 (xe: 13.754)\n",
      "00:19 inference.trainer    INFO               val. loss  14.03657 (xe: 14.037)\n",
      "00:21 inference.trainer    INFO    Epoch  46: train loss 13.74085 (xe: 13.741)\n",
      "00:21 inference.trainer    INFO               val. loss  14.03657 (xe: 14.037)\n",
      "00:22 inference.trainer    INFO    Epoch  48: train loss 13.76261 (xe: 13.763)\n",
      "00:22 inference.trainer    INFO               val. loss  14.03657 (xe: 14.037)\n",
      "00:24 inference.trainer    INFO    Epoch  50: train loss 13.74085 (xe: 13.741)\n",
      "00:24 inference.trainer    INFO               val. loss  14.03657 (xe: 14.037)\n",
      "00:24 inference.trainer    INFO    Early stopping did not improve performance\n"
     ]
    }
   ],
   "source": [
    "carl = Estimator()\n",
    "\n",
    "_ = carl.train(\n",
    "    method=\"carl\",\n",
    "    x_filename=\"../data/samples/x_train.npy\",\n",
    "    y_filename=\"../data/samples/y_train.npy\",\n",
    "    theta0_filename=\"../data/samples/theta_train.npy\",\n",
    "    batch_size=256,\n",
    "    n_epochs=50,\n",
    "    validation_split=0.25,\n",
    ")\n",
    "\n",
    "if not os.path.exists(\"../data/models\"):\n",
    "    os.mkdir(\"../data/models\")\n",
    "carl.save(\"../data/models/carl\")"
   ]
  },
  {
   "cell_type": "code",
   "execution_count": null,
   "metadata": {},
   "outputs": [],
   "source": []
  }
 ],
 "metadata": {
  "kernelspec": {
   "display_name": "Python (lensing)",
   "language": "python",
   "name": "lensing"
  },
  "language_info": {
   "codemirror_mode": {
    "name": "ipython",
    "version": 3
   },
   "file_extension": ".py",
   "mimetype": "text/x-python",
   "name": "python",
   "nbconvert_exporter": "python",
   "pygments_lexer": "ipython3",
   "version": "3.6.8"
  }
 },
 "nbformat": 4,
 "nbformat_minor": 2
}
