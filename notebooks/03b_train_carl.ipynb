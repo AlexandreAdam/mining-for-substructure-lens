{
 "cells": [
  {
   "cell_type": "markdown",
   "metadata": {},
   "source": [
    "# Train likelihood ratio estimator"
   ]
  },
  {
   "cell_type": "code",
   "execution_count": 1,
   "metadata": {},
   "outputs": [],
   "source": [
    "import sys, os\n",
    "sys.path.append('../')\n",
    "\n",
    "import logging\n",
    "import numpy as np\n",
    "import matplotlib.pyplot as plt\n",
    "\n",
    "from inference.estimator import Estimator\n",
    "\n",
    "logging.basicConfig(\n",
    "    format='%(asctime)-5.5s %(name)-20.20s %(levelname)-7.7s %(message)s',\n",
    "    datefmt='%H:%M',\n",
    "    level=logging.INFO\n",
    ")"
   ]
  },
  {
   "cell_type": "markdown",
   "metadata": {},
   "source": [
    "## Train CARL"
   ]
  },
  {
   "cell_type": "code",
   "execution_count": 2,
   "metadata": {},
   "outputs": [
    {
     "name": "stderr",
     "output_type": "stream",
     "text": [
      "19:45 inference.estimator  INFO    Starting training\n",
      "19:45 inference.estimator  INFO      Method:                 carl\n",
      "19:45 inference.estimator  INFO      Training data:          x at ../data/samples/x_train.npy\n",
      "19:45 inference.estimator  INFO                              theta0 at ../data/samples/theta_train.npy\n",
      "19:45 inference.estimator  INFO                              y at ../data/samples/y_train.npy\n",
      "19:45 inference.estimator  INFO      Method:                 carl\n",
      "19:45 inference.estimator  INFO      Convolutional layers:   3\n",
      "19:45 inference.estimator  INFO      Dense layers:           3\n",
      "19:45 inference.estimator  INFO      Feature maps:           128\n",
      "19:45 inference.estimator  INFO      Convolutional filter:   5\n",
      "19:45 inference.estimator  INFO      Pooling filter:         2\n",
      "19:45 inference.estimator  INFO      Activation function:    relu\n",
      "19:45 inference.estimator  INFO      Batch size:             200\n",
      "19:45 inference.estimator  INFO      Trainer:                amsgrad\n",
      "19:45 inference.estimator  INFO      Epochs:                 5\n",
      "19:45 inference.estimator  INFO      Learning rate:          0.001 initially, decaying to 0.0001\n",
      "19:45 inference.estimator  INFO      Validation split:       0.25\n",
      "19:45 inference.estimator  INFO      Early stopping:         True\n",
      "19:45 inference.estimator  INFO      Rescale inputs:         True\n",
      "19:45 inference.estimator  INFO      Shuffle labels          False\n",
      "19:45 inference.estimator  INFO      Samples:                all\n",
      "19:45 inference.estimator  INFO    Loading training data\n",
      "19:45 inference.estimator  INFO    Found 10000 samples with 2 parameters and resolution 64 x 64\n",
      "19:45 inference.estimator  INFO    Rescaling pixel values by factor 1 / 380.2149794248218\n",
      "19:45 inference.estimator  INFO    Training model\n",
      "20:07 inference.trainer    INFO    Epoch   1: train loss  0.71502 (xe:  0.715)\n",
      "20:07 inference.trainer    INFO               val. loss   0.69741 (xe:  0.697)\n",
      "20:23 inference.trainer    INFO    Epoch   2: train loss  0.69425 (xe:  0.694)\n",
      "20:23 inference.trainer    INFO               val. loss   0.69332 (xe:  0.693)\n",
      "20:41 inference.trainer    INFO    Epoch   3: train loss  0.69421 (xe:  0.694)\n",
      "20:41 inference.trainer    INFO               val. loss   0.69350 (xe:  0.694)\n",
      "20:55 inference.trainer    INFO    Epoch   4: train loss  0.69358 (xe:  0.694)\n",
      "20:55 inference.trainer    INFO               val. loss   0.69413 (xe:  0.694)\n",
      "21:11 inference.trainer    INFO    Epoch   5: train loss  0.69335 (xe:  0.693)\n",
      "21:11 inference.trainer    INFO               val. loss   0.69396 (xe:  0.694)\n",
      "21:11 inference.trainer    INFO    Early stopping did not improve performance\n"
     ]
    }
   ],
   "source": [
    "carl = Estimator()\n",
    "\n",
    "_ = carl.train(\n",
    "    method=\"carl\",\n",
    "    x_filename=\"../data/samples/x_train.npy\",\n",
    "    y_filename=\"../data/samples/y_train.npy\",\n",
    "    theta0_filename=\"../data/samples/theta_train.npy\",\n",
    "    batch_size=200,\n",
    "    n_epochs=5,\n",
    "    validation_split=0.25,\n",
    ")\n",
    "\n",
    "if not os.path.exists(\"../data/models\"):\n",
    "    os.mkdir(\"../data/models\")\n",
    "carl.save(\"../data/models/carl\")"
   ]
  },
  {
   "cell_type": "code",
   "execution_count": null,
   "metadata": {},
   "outputs": [],
   "source": []
  }
 ],
 "metadata": {
  "kernelspec": {
   "display_name": "Python (lensing)",
   "language": "python",
   "name": "lensing"
  },
  "language_info": {
   "codemirror_mode": {
    "name": "ipython",
    "version": 3
   },
   "file_extension": ".py",
   "mimetype": "text/x-python",
   "name": "python",
   "nbconvert_exporter": "python",
   "pygments_lexer": "ipython3",
   "version": "3.6.8"
  }
 },
 "nbformat": 4,
 "nbformat_minor": 2
}
