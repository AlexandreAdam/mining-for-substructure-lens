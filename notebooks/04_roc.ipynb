{
 "cells": [
  {
   "cell_type": "markdown",
   "metadata": {},
   "source": [
    "# ROC curves"
   ]
  },
  {
   "cell_type": "code",
   "execution_count": 1,
   "metadata": {
    "collapsed": true
   },
   "outputs": [],
   "source": [
    "import sys, os\n",
    "sys.path.append('../')\n",
    "\n",
    "import logging\n",
    "import numpy as np\n",
    "import matplotlib\n",
    "import matplotlib.pyplot as plt\n",
    "from scipy.stats import norm\n",
    "from sklearn.metrics import roc_curve\n",
    "\n",
    "from simulation.population_sim import SubhaloSimulator\n",
    "from inference.estimator import ParameterizedRatioEstimator\n",
    "from inference.utils import s_from_r, shuffle\n",
    "\n",
    "logging.basicConfig(\n",
    "    format='%(asctime)-5.5s %(name)-20.20s %(levelname)-7.7s %(message)s',\n",
    "    datefmt='%H:%M',\n",
    "    level=logging.INFO\n",
    ")"
   ]
  },
  {
   "cell_type": "markdown",
   "metadata": {},
   "source": [
    "## ROC curve"
   ]
  },
  {
   "cell_type": "code",
   "execution_count": 4,
   "metadata": {
    "collapsed": true
   },
   "outputs": [],
   "source": [
    "def make_roc_curves(name):\n",
    "    ref_data\n",
    "    \n",
    "    llr_train, _ = re.log_likelihood_ratio(x=x_train, theta=theta_train, test_all_combinations=False)\n",
    "    s_train = s_from_r(np.exp(llr_train))\n",
    "    \n",
    "    fpr_train, tpr_train, _ = roc_curve(y_train, s_train)\n",
    "    \n",
    "    return fpr_train, tpr_train, llr_train"
   ]
  },
  {
   "cell_type": "code",
   "execution_count": 5,
   "metadata": {},
   "outputs": [
    {
     "name": "stderr",
     "output_type": "stream",
     "text": [
      "09:34 inference.estimator  INFO    Creating model\n",
      "09:34 inference.estimator  INFO      Architecture:           resnet\n",
      "09:34 inference.estimator  INFO      Log input:              False\n",
      "09:34 inference.estimator  INFO      Rescale input:          False\n",
      "09:34 inference.estimator  INFO    Model has 11434433 trainable parameters\n",
      "09:34 inference.estimator  INFO    Creating model\n",
      "09:34 inference.estimator  INFO      Architecture:           resnet\n",
      "09:34 inference.estimator  INFO      Log input:              False\n",
      "09:34 inference.estimator  INFO      Rescale input:          True\n",
      "09:34 inference.estimator  INFO    Model has 11434433 trainable parameters\n",
      "09:35 inference.estimator  INFO    Creating model\n",
      "09:35 inference.estimator  INFO      Architecture:           resnet\n",
      "09:35 inference.estimator  INFO      Log input:              False\n",
      "09:35 inference.estimator  INFO      Rescale input:          False\n",
      "09:35 inference.estimator  INFO    Model has 11434433 trainable parameters\n",
      "09:35 inference.estimator  INFO    Creating model\n",
      "09:35 inference.estimator  INFO      Architecture:           resnet\n",
      "09:35 inference.estimator  INFO      Log input:              True\n",
      "09:35 inference.estimator  INFO      Rescale input:          True\n",
      "09:35 inference.estimator  INFO    Model has 11434433 trainable parameters\n",
      "09:36 inference.estimator  INFO    Creating model\n",
      "09:36 inference.estimator  INFO      Architecture:           resnet\n",
      "09:36 inference.estimator  INFO      Log input:              False\n",
      "09:36 inference.estimator  INFO      Rescale input:          False\n",
      "09:36 inference.estimator  INFO    Model has 11434433 trainable parameters\n",
      "09:36 inference.estimator  INFO    Creating model\n",
      "09:36 inference.estimator  INFO      Architecture:           resnet\n",
      "09:36 inference.estimator  INFO      Log input:              False\n",
      "09:36 inference.estimator  INFO      Rescale input:          True\n",
      "09:36 inference.estimator  INFO    Model has 11434433 trainable parameters\n",
      "09:37 inference.estimator  INFO    Creating model\n",
      "09:37 inference.estimator  INFO      Architecture:           resnet\n",
      "09:37 inference.estimator  INFO      Log input:              False\n",
      "09:37 inference.estimator  INFO      Rescale input:          False\n",
      "09:37 inference.estimator  INFO    Model has 11434433 trainable parameters\n",
      "09:37 inference.estimator  INFO    Creating model\n",
      "09:37 inference.estimator  INFO      Architecture:           resnet\n",
      "09:37 inference.estimator  INFO      Log input:              True\n",
      "09:37 inference.estimator  INFO      Rescale input:          True\n",
      "09:37 inference.estimator  INFO    Model has 11434433 trainable parameters\n"
     ]
    }
   ],
   "source": [
    "#fpr_train_debug, tpr_train_debug, llr_train_debug = make_roc_curves(\"debug\")\n",
    "fpr_train_alice, tpr_train_alice, _ = make_roc_curves(\"alice\")\n",
    "fpr_train_alice_log, tpr_train_alice_log, _ = make_roc_curves(\"alice_log\")\n",
    "fpr_train_carl, tpr_train_carl, _ = make_roc_curves(\"carl\")\n",
    "fpr_train_carl_log, tpr_train_carl_log, _ = make_roc_curves(\"carl_log\")"
   ]
  },
  {
   "cell_type": "code",
   "execution_count": 16,
   "metadata": {},
   "outputs": [
    {
     "data": {
      "image/png": "[encoded data removed]",
      "text/plain": [
       "<Figure size 360x360 with 1 Axes>"
      ]
     },
     "metadata": {
      "needs_background": "light"
     },
     "output_type": "display_data"
    }
   ],
   "source": [
    "fig = plt.figure(figsize=(5,5))\n",
    "\n",
    "plt.plot([0.,1.], [1.,0.], ls=\"--\", c=\"0.5\")\n",
    "\n",
    "plt.plot(1. - fpr_train_carl, tpr_train_carl, c=\"mediumblue\", ls=\"-\", label=\"CARL\")\n",
    "plt.plot(1. - fpr_train_carl, tpr_train_carl, c=\"c\", ls=\"--\", label=\"CARL (log)\")\n",
    "plt.plot(1. - fpr_train_alice, tpr_train_alice, c=\"darkred\", ls=\"-\", label=\"ALICE\")\n",
    "plt.plot(1. - fpr_train_alice, tpr_train_alice, c=\"orange\", ls=\"--\", label=\"ALICE (log)\")\n",
    "\n",
    "plt.legend()\n",
    "\n",
    "plt.xlabel(\"1 - fpr\")\n",
    "plt.ylabel(\"tpr\")\n",
    "\n",
    "plt.tight_layout()\n",
    "plt.savefig(\"../figures/roc.pdf\")\n"
   ]
  },
  {
   "cell_type": "code",
   "execution_count": null,
   "metadata": {
    "collapsed": true
   },
   "outputs": [],
   "source": []
  }
 ],
 "metadata": {
  "kernelspec": {
   "display_name": "Python (lensing)",
   "language": "python",
   "name": "lensing"
  },
  "language_info": {
   "codemirror_mode": {
    "name": "ipython",
    "version": 3
   },
   "file_extension": ".py",
   "mimetype": "text/x-python",
   "name": "python",
   "nbconvert_exporter": "python",
   "pygments_lexer": "ipython3",
   "version": "3.6.8"
  }
 },
 "nbformat": 4,
 "nbformat_minor": 2
}
