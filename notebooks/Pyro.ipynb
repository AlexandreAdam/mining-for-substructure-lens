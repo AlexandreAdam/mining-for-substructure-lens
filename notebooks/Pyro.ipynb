{
 "cells": [
  {
   "cell_type": "code",
   "execution_count": 33,
   "metadata": {},
   "outputs": [
    {
     "name": "stdout",
     "output_type": "stream",
     "text": [
      "The autoreload extension is already loaded. To reload it, use:\n",
      "  %reload_ext autoreload\n"
     ]
    }
   ],
   "source": [
    "import sys, os\n",
    "sys.path.append('../')\n",
    "\n",
    "import numpy as np\n",
    "import matplotlib.pyplot as plt\n",
    "from units import *\n",
    "from tqdm import *\n",
    "import pymc3 as pm\n",
    "from lensing_sim import LensingSim\n",
    "import corner\n",
    "import torch\n",
    "import pyro\n",
    "import pyro.distributions as dist\n",
    "import pyro.poutine as poutine\n",
    "from pyro.infer.mcmc import MCMC, NUTS\n",
    "import logging\n",
    "import pandas as pd\n",
    "\n",
    "logging.basicConfig(format='%(message)s', level=logging.INFO)\n",
    "pyro.enable_validation(True)\n",
    "\n",
    "%matplotlib inline\n",
    "%load_ext autoreload\n",
    "%autoreload 2"
   ]
  },
  {
   "cell_type": "code",
   "execution_count": 6,
   "metadata": {},
   "outputs": [],
   "source": [
    "# Grid size\n",
    "nx, ny = 36, 36"
   ]
  },
  {
   "cell_type": "code",
   "execution_count": 31,
   "metadata": {},
   "outputs": [
    {
     "data": {
      "image/png": "[encoded data removed]",
      "text/plain": [
       "<Figure size 432x288 with 1 Axes>"
      ]
     },
     "metadata": {
      "needs_background": "light"
     },
     "output_type": "display_data"
    }
   ],
   "source": [
    "# Host and substructure parameters\n",
    "hst_param_dict = {'profile':'sis', 'theta_x':0.1, 'theta_y':-0.15, 'theta_E':1.14}\n",
    "sub_param_dict = {'profile':'sis', 'theta_x':1., 'theta_y':1, 'theta_E':0.3}\n",
    "\n",
    "# Source parameters\n",
    "src_param_dict = {'profile':'sersic', 'I_gal':1e40*1e-17*erg/Centimeter**2/Sec/Angstrom,'theta_e_gal':0.5,'n_srsc':4}\n",
    "\n",
    "# Observational parameters\n",
    "observation_dict = {'nx':nx, 'ny':ny, 'xlims':[-2, 2], 'ylims':[-2, 2], 'exposure':1e-40*(1/1.8e-19)*erg**-1*Centimeter**2*Angstrom*1000*Sec, 'A_iso':2e-7*erg/Centimeter**2/Sec/Angstrom/(radtoasc)**2, 'z_s':1.0, 'z_l':0.2}\n",
    "global_dict = {'z_s':1.0, 'z_l':0.2}\n",
    "\n",
    "# Generate lensed image\n",
    "LSI = LensingSim([hst_param_dict,sub_param_dict], [src_param_dict], global_dict, observation_dict)\n",
    "\n",
    "i_tot = np.random.poisson((LSI.lensed_image()).numpy())\n",
    "\n",
    "plt.imshow(np.log10(i_tot), vmax=3.5, cmap = 'gist_gray', extent=LSI.xlims+LSI.ylims, origin=\"lower\")\n",
    "plt.xlabel(\"$\\\\theta_x$ [arcsec]\");\n",
    "plt.ylabel(\"$\\\\theta_y$ [arcsec]\");\n",
    "plt.title('Lensed image');\n",
    "\n",
    "i_tot = torch.from_numpy(i_tot)"
   ]
  },
  {
   "cell_type": "code",
   "execution_count": 32,
   "metadata": {},
   "outputs": [],
   "source": [
    "i_tot = i_tot.type(torch.FloatTensor)"
   ]
  },
  {
   "cell_type": "code",
   "execution_count": 158,
   "metadata": {},
   "outputs": [],
   "source": [
    "import corner"
   ]
  },
  {
   "cell_type": "code",
   "execution_count": 42,
   "metadata": {},
   "outputs": [],
   "source": [
    "# def model():\n",
    "#     theta_E = pyro.sample('theta_E', dist.Uniform(0.5*torch.ones(1), 1.5*torch.ones(1)))\n",
    "#     theta_x = pyro.sample('theta_x', dist.Uniform(-0.2*torch.ones(1), 0.2*torch.ones(1)))\n",
    "#     theta_y = pyro.sample('theta_y', dist.Uniform(-0.2*torch.ones(1), 0.2*torch.ones(1)))\n",
    "    \n",
    "#     theta_E_sub = pyro.sample('theta_E_sub', dist.Uniform(0.1*torch.ones(1), 0.5*torch.ones(1)))\n",
    "#     theta_x_sub = pyro.sample('theta_x_sub', dist.Uniform(0.8*torch.ones(1), 1.5*torch.ones(1)))\n",
    "#     theta_y_sub = pyro.sample('theta_y_sub', dist.Uniform(0.8*torch.ones(1), 1.5*torch.ones(1)))\n",
    "\n",
    "#     hst_param_dict = {'profile':'sis', 'theta_x':theta_x.type(torch.double), 'theta_y':theta_y.type(torch.double), 'theta_E':theta_E.type(torch.double)}\n",
    "#     sub_param_dict = {'profile':'sis', 'theta_x':theta_x_sub.type(torch.double), 'theta_y':theta_y_sub.type(torch.double), 'theta_E':theta_E_sub.type(torch.double)}\n",
    "\n",
    "#     LSI.lenses_list = [hst_param_dict, sub_param_dict]\n",
    "\n",
    "#     mu = LSI.lensed_image()\n",
    "#     obs = (pyro.sample(\"obs\", dist.Poisson(rate = mu )) )\n",
    "#     return obs\n",
    "\n",
    "# def conditioned_model(model, data):\n",
    "#     return poutine.condition(model, data={\"obs\": data})()\n",
    "\n",
    "\n",
    "# def main(jit=False, num_samples=1000, num_chains=4, warmup_steps=1000, step_size=0.1):\n",
    "#     nuts_kernel = NUTS(conditioned_model, jit_compile=jit,step_size=step_size, adapt_step_size=True)\n",
    "#     posterior = MCMC(nuts_kernel,\n",
    "#                      num_samples=num_samples,\n",
    "#                      warmup_steps=warmup_steps,\n",
    "#                      num_chains=num_chains\n",
    "#                     ).run(model, i_tot)\n",
    "#     marginal = posterior.marginal(sites=[\"theta_E\",\"theta_x\",\"theta_y\",\"theta_E_sub\",\"theta_x_sub\",\"theta_y_sub\"])\n",
    "#     marginal = torch.cat(list(marginal.support(flatten=True).values()), dim=-1).cpu().numpy()\n",
    "#     params = ['theta_E',\"theta_x\",\"theta_y\",\"theta_E_sub\",\"theta_x_sub\",\"theta_y_sub\"]\n",
    "#     df = pd.DataFrame(marginal, columns=params).transpose()\n",
    "#     df_summary = df.apply(pd.Series.describe, axis=1)[[\"mean\", \"std\", \"25%\", \"50%\", \"75%\"]]\n",
    "#     logging.info(df_summary)\n",
    "#     corner.corner(marginal)"
   ]
  },
  {
   "cell_type": "code",
   "execution_count": 44,
   "metadata": {},
   "outputs": [],
   "source": [
    "# main();"
   ]
  },
  {
   "cell_type": "code",
   "execution_count": 48,
   "metadata": {},
   "outputs": [],
   "source": [
    "import os\n",
    "from functools import partial\n",
    "import numpy as np\n",
    "import pandas as pd\n",
    "import seaborn as sns\n",
    "import torch\n",
    "import torch.nn as nn\n",
    "\n",
    "import matplotlib.pyplot as plt\n",
    "\n",
    "import pyro\n",
    "from pyro.distributions import Normal, Uniform, Delta\n",
    "from pyro.infer import SVI, Trace_ELBO\n",
    "from pyro.optim import Adam\n",
    "from pyro.distributions.util import logsumexp\n",
    "import pyro.distributions as dist\n",
    "from pyro.infer import EmpiricalMarginal, SVI, Trace_ELBO, TracePredictive\n",
    "from pyro.infer.mcmc import MCMC, NUTS\n",
    "import pyro.optim as optim\n",
    "import pyro.poutine as poutine"
   ]
  },
  {
   "cell_type": "code",
   "execution_count": 49,
   "metadata": {},
   "outputs": [],
   "source": [
    "def model():\n",
    "    theta_E = pyro.sample('theta_E', dist.Uniform(1.*torch.ones(1), 2.0*torch.ones(1)))\n",
    "    theta_x = pyro.sample('theta_x', dist.Uniform(-0.2*torch.ones(1), 0.2*torch.ones(1)))\n",
    "    theta_y = pyro.sample('theta_y', dist.Uniform(-0.2*torch.ones(1), 0.2*torch.ones(1)))\n",
    "\n",
    "    theta_E_sub = pyro.sample('theta_E_sub', dist.Uniform(0.01*torch.ones(1), 0.5*torch.ones(1)))\n",
    "    theta_x_sub = pyro.sample('theta_x_sub', dist.Uniform(0.05*torch.ones(1), 2*torch.ones(1)))\n",
    "    theta_y_sub = pyro.sample('theta_y_sub', dist.Uniform(0.05*torch.ones(1), 2*torch.ones(1)))\n",
    "\n",
    "    hst_param_dict = {'profile':'sis', 'theta_x':theta_x.type(torch.double), 'theta_y':theta_y.type(torch.double), 'theta_E':theta_E.type(torch.double)}\n",
    "    sub_param_dict = {'profile':'sis', 'theta_x':theta_x_sub.type(torch.double), 'theta_y':theta_y_sub.type(torch.double), 'theta_E':theta_E_sub.type(torch.double)}\n",
    "\n",
    "    LSI.lenses_list = [hst_param_dict, sub_param_dict]\n",
    "\n",
    "    mu = LSI.lensed_image()\n",
    "    with pyro.iarange(\"data_dim1\", len(mu)):\n",
    "        with pyro.iarange(\"data_dim2\", len(mu[0])):\n",
    "            obs = pyro.sample(\"obs\", dist.Poisson(rate = mu), obs=i_tot)"
   ]
  },
  {
   "cell_type": "code",
   "execution_count": 50,
   "metadata": {},
   "outputs": [],
   "source": [
    "from pyro.contrib.autoguide import AutoDiagonalNormal, AutoMultivariateNormal\n",
    "guide = AutoDiagonalNormal(model)\n",
    "# guide = AutoMultivariateNormal(model)"
   ]
  },
  {
   "cell_type": "code",
   "execution_count": 51,
   "metadata": {},
   "outputs": [],
   "source": [
    "num_iterations = 10000\n",
    "optim = Adam({\"lr\": 0.05})\n",
    "svi = SVI(model, guide, optim, loss=Trace_ELBO(), num_samples=1000)"
   ]
  },
  {
   "cell_type": "code",
   "execution_count": 52,
   "metadata": {},
   "outputs": [
    {
     "name": "stdout",
     "output_type": "stream",
     "text": [
      "[iteration 0001] loss: 6262.1244\n",
      "[iteration 0501] loss: 129.6938\n",
      "[iteration 1001] loss: 119.7044\n",
      "[iteration 1501] loss: 77.8006\n",
      "[iteration 2001] loss: 74.3128\n",
      "[iteration 2501] loss: 69.6528\n",
      "[iteration 3001] loss: 73.3123\n",
      "[iteration 3501] loss: 69.7125\n",
      "[iteration 4001] loss: 70.1028\n",
      "[iteration 4501] loss: 69.8281\n",
      "[iteration 5001] loss: 69.1030\n",
      "[iteration 5501] loss: 69.7271\n",
      "[iteration 6001] loss: 69.3906\n",
      "[iteration 6501] loss: 69.6630\n",
      "[iteration 7001] loss: 70.6051\n",
      "[iteration 7501] loss: 70.1741\n",
      "[iteration 8001] loss: 69.6082\n",
      "[iteration 8501] loss: 69.1562\n",
      "[iteration 9001] loss: 69.3908\n",
      "[iteration 9501] loss: 69.3974\n"
     ]
    }
   ],
   "source": [
    "def train():\n",
    "    pyro.clear_param_store()\n",
    "    for j in range(num_iterations):\n",
    "        # calculate the loss and take a gradient step\n",
    "        loss = svi.step()\n",
    "        if j % 500 == 0:\n",
    "            print(\"[iteration %04d] loss: %.4f\" % (j + 1, loss / np.sum(np.shape(i_tot))))\n",
    "train()"
   ]
  },
  {
   "cell_type": "code",
   "execution_count": 53,
   "metadata": {},
   "outputs": [],
   "source": [
    "svi_diagnorm_posterior = svi.run()"
   ]
  },
  {
   "cell_type": "code",
   "execution_count": 54,
   "metadata": {},
   "outputs": [],
   "source": [
    "def summary(traces, sites):\n",
    "    marginal = EmpiricalMarginal(traces, sites)._get_samples_and_weights()[0].detach().cpu().numpy()\n",
    "    site_stats = {}\n",
    "    for i in range(marginal.shape[1]):\n",
    "        site_name = sites[i]\n",
    "        marginal_site = pd.DataFrame(marginal[:, i]).transpose()\n",
    "        describe = partial(pd.Series.describe, percentiles=[.05, 0.25, 0.5, 0.75, 0.95])\n",
    "        site_stats[site_name] = marginal_site.apply(describe, axis=1) \\\n",
    "            [[\"mean\", \"std\", \"5%\", \"25%\", \"50%\", \"75%\", \"95%\"]]\n",
    "    return site_stats\n"
   ]
  },
  {
   "cell_type": "code",
   "execution_count": 77,
   "metadata": {},
   "outputs": [
    {
     "name": "stdout",
     "output_type": "stream",
     "text": [
      "Site: theta_E\n",
      "      mean       std        5%       25%       50%       75%       95%\n",
      "0  1.13853  0.000202  1.138214  1.138394  1.138529  1.138654  1.138869 \n",
      "\n",
      "Site: theta_x\n",
      "       mean       std        5%       25%       50%       75%       95%\n",
      "0  0.100438  0.000423  0.099758  0.100145  0.100431  0.100722  0.101134 \n",
      "\n",
      "Site: theta_y\n",
      "       mean      std        5%       25%       50%       75%      95%\n",
      "0 -0.150278  0.00028 -0.150708 -0.150473 -0.150284 -0.150088 -0.14982 \n",
      "\n",
      "Site: theta_E_sub\n",
      "       mean       std        5%       25%       50%       75%       95%\n",
      "0  0.299247  0.000177  0.298944  0.299133  0.299254  0.299359  0.299548 \n",
      "\n",
      "Site: theta_x_sub\n",
      "      mean       std        5%       25%       50%       75%       95%\n",
      "0  1.00295  0.001232  1.000933  1.002099  1.002959  1.003754  1.004952 \n",
      "\n",
      "Site: theta_y_sub\n",
      "       mean       std        5%       25%       50%       75%      95%\n",
      "0  1.002285  0.001294  1.000086  1.001427  1.002288  1.003186  1.00435 \n",
      "\n"
     ]
    }
   ],
   "source": [
    "sites = [\"theta_E\",\"theta_x\",\"theta_y\",\"theta_E_sub\",\"theta_x_sub\",\"theta_y_sub\"]\n",
    "labels_tex = [\"$\\\\theta_E$\",\"$\\\\theta_x$\",\"$\\\\theta_y$\",\"$\\\\theta_E^{sub}$\",\"$\\\\theta_x^{sub}$\",\"$\\\\theta_y^{sub}$\"]\n",
    "\n",
    "for site, values in summary(svi_diagnorm_posterior, sites).items():\n",
    "    print(\"Site: {}\".format(site))\n",
    "    print(values, \"\\n\")\n"
   ]
  },
  {
   "cell_type": "code",
   "execution_count": 79,
   "metadata": {},
   "outputs": [
    {
     "name": "stderr",
     "output_type": "stream",
     "text": [
      "/scratch/sm8383/anaconda3/envs/venv_smsharma/lib/python3.6/site-packages/scipy/stats/stats.py:1713: FutureWarning: Using a non-tuple sequence for multidimensional indexing is deprecated; use `arr[tuple(seq)]` instead of `arr[seq]`. In the future this will be interpreted as an array index, `arr[np.array(seq)]`, which will result either in an error or a different result.\n",
      "  return np.add.reduce(sorted[indexer] * weights, axis=axis) / sumval\n"
     ]
    },
    {
     "data": {
      "text/plain": [
       "<matplotlib.legend.Legend at 0x2b58951ffc88>"
      ]
     },
     "execution_count": 79,
     "metadata": {},
     "output_type": "execute_result"
    },
    {
     "name": "stderr",
     "output_type": "stream",
     "text": [
      "No LaTeX-compatible font found for the serif font family in rcParams. Using default.\n",
      "No LaTeX-compatible font found for the serif font family in rcParams. Using default.\n",
      "No LaTeX-compatible font found for the serif font family in rcParams. Using default.\n",
      "No LaTeX-compatible font found for the serif font family in rcParams. Using default.\n"
     ]
    },
    {
     "data": {
      "image/png": "[encoded data removed]",
      "text/plain": [
       "<Figure size 864x720 with 6 Axes>"
      ]
     },
     "metadata": {
      "needs_background": "light"
     },
     "output_type": "display_data"
    }
   ],
   "source": [
    "svi_diagnorm_empirical = EmpiricalMarginal(svi_diagnorm_posterior, sites=sites) \\\n",
    "                         ._get_samples_and_weights()[0] \\\n",
    "                         .detach().cpu().numpy()\n",
    "fig, axs = plt.subplots(nrows=3, ncols=2, figsize=(12, 10))\n",
    "fig.suptitle(\"Marginal Posterior density - Regression Coefficients\", fontsize=16)\n",
    "for i, ax in enumerate(axs.reshape(-1)):\n",
    "    sns.distplot(svi_diagnorm_empirical[:, i], ax=ax, label=\"SVI (DiagNormal)\")\n",
    "    \n",
    "    ax.set_title(labels_tex[i])\n",
    "handles, labels = ax.get_legend_handles_labels()\n",
    "fig.legend(handles, labels, loc='upper right')\n"
   ]
  },
  {
   "cell_type": "markdown",
   "metadata": {},
   "source": [
    "## ConvNet"
   ]
  },
  {
   "cell_type": "code",
   "execution_count": 751,
   "metadata": {},
   "outputs": [],
   "source": [
    "# Grid size\n",
    "nx, ny = 28, 28"
   ]
  },
  {
   "cell_type": "code",
   "execution_count": 765,
   "metadata": {},
   "outputs": [
    {
     "data": {
      "application/vnd.jupyter.widget-view+json": {
       "model_id": "2a6553d3379e4b7687786be82cf200eb",
       "version_major": 2,
       "version_minor": 0
      },
      "text/plain": [
       "HBox(children=(IntProgress(value=0, max=50000), HTML(value='')))"
      ]
     },
     "metadata": {},
     "output_type": "display_data"
    },
    {
     "name": "stdout",
     "output_type": "stream",
     "text": [
      "\n"
     ]
    }
   ],
   "source": [
    "# Host and substructure parameters\n",
    "hst_param_dict = {'profile':'sis', 'theta_x':0.1, 'theta_y':-0.15, 'theta_E':1.14}\n",
    "\n",
    "\n",
    "Ntrain = 50000\n",
    "N = np.random.uniform(0, 10, Ntrain).astype(np.float32)\n",
    "\n",
    "coords = np.random.uniform(low=-2, high=2, size=(Ntrain,2))\n",
    "\n",
    "i_list = []\n",
    "\n",
    "for iNidx, iN in enumerate(tqdm_notebook(N)):\n",
    "    \n",
    "    lens_list = [hst_param_dict]\n",
    "    for _ in range(np.random.poisson(iN)):\n",
    "        sub_param_dict = {'profile':'sis', 'theta_x':coords[iNidx][0], 'theta_y':coords[iNidx][1], 'theta_E':0.1}\n",
    "        lens_list.append(sub_param_dict)\n",
    "\n",
    "    # Observational parameters\n",
    "    observation_dict = {'nx':nx, 'ny':ny, 'xlims':[-2, 2], 'ylims':[-2, 2], 'exposure':1e-40*(1/1.8e-19)*erg**-1*Centimeter**2*Angstrom*1000*Sec, 'A_iso':2e-7*erg/Centimeter**2/Sec/Angstrom/(radtoasc)**2, 'z_s':1.0, 'z_l':0.2}\n",
    "    global_dict = {'z_s':1.0, 'z_l':0.2}\n",
    "\n",
    "    # Generate lensed image\n",
    "    LSI = LensingSim(lens_list, [src_param_dict], global_dict, observation_dict)\n",
    "\n",
    "    i_tot = ((LSI.lensed_image()).numpy())\n",
    "#     i_tot = np.random.poisson((LSI.lensed_image()).numpy())\n",
    "\n",
    "    i_list.append(np.array([i_tot]).transpose((1,2,0)))\n"
   ]
  },
  {
   "cell_type": "code",
   "execution_count": 766,
   "metadata": {},
   "outputs": [],
   "source": [
    "i_list = np.array(i_list)"
   ]
  },
  {
   "cell_type": "code",
   "execution_count": 774,
   "metadata": {},
   "outputs": [
    {
     "name": "stderr",
     "output_type": "stream",
     "text": [
      "No LaTeX-compatible font found for the serif font family in rcParams. Using default.\n",
      "No LaTeX-compatible font found for the serif font family in rcParams. Using default.\n"
     ]
    },
    {
     "name": "stdout",
     "output_type": "stream",
     "text": [
      "6.6386952\n"
     ]
    },
    {
     "name": "stderr",
     "output_type": "stream",
     "text": [
      "No LaTeX-compatible font found for the serif font family in rcParams. Using default.\n",
      "No LaTeX-compatible font found for the serif font family in rcParams. Using default.\n"
     ]
    },
    {
     "data": {
      "image/png": "[encoded data removed]",
      "text/plain": [
       "<Figure size 432x288 with 1 Axes>"
      ]
     },
     "metadata": {
      "needs_background": "light"
     },
     "output_type": "display_data"
    }
   ],
   "source": [
    "idx = np.random.randint(0, Ntrain, 1)[0]\n",
    "\n",
    "print(N[idx])\n",
    "\n",
    "plt.imshow(np.log10(i_list[idx][:,:,0]), vmax=3.5, cmap = 'gist_gray', extent=LSI.xlims+LSI.ylims, origin=\"lower\")\n",
    "plt.xlabel(\"$\\\\theta_x$ [arcsec]\");\n",
    "plt.ylabel(\"$\\\\theta_y$ [arcsec]\");\n",
    "plt.title('Lensed image');"
   ]
  },
  {
   "cell_type": "code",
   "execution_count": 775,
   "metadata": {},
   "outputs": [],
   "source": [
    "import torch \n",
    "import torch.nn as nn\n",
    "import torchvision\n",
    "import torchvision.transforms as transforms"
   ]
  },
  {
   "cell_type": "code",
   "execution_count": 776,
   "metadata": {},
   "outputs": [],
   "source": [
    "from torch.utils.data import Dataset, DataLoader\n",
    "from torchvision import transforms"
   ]
  },
  {
   "cell_type": "code",
   "execution_count": 777,
   "metadata": {},
   "outputs": [],
   "source": [
    "class LensingDataset(Dataset):\n",
    "    \"\"\"Face Landmarks dataset.\"\"\"\n",
    "\n",
    "    def __init__(self, images, labels, transform=None):\n",
    "        \"\"\"\n",
    "        Args:\n",
    "            csv_file (string): Path to the csv file with annotations.\n",
    "            root_dir (string): Directory with all the images.\n",
    "            transform (callable, optional): Optional transform to be applied\n",
    "                on a sample.\n",
    "        \"\"\"\n",
    "        self.images = images\n",
    "        self.labels = labels\n",
    "        self.to_tensor = transforms.ToTensor()\n",
    "\n",
    "    def __len__(self):\n",
    "        return len(self.images)\n",
    "\n",
    "    def __getitem__(self, idx):\n",
    "        image = torch.from_numpy(self.images[idx].transpose((2, 0, 1))).type(torch.FloatTensor)\n",
    "        label = (self.labels[idx])\n",
    "        \n",
    "        return image, label"
   ]
  },
  {
   "cell_type": "code",
   "execution_count": 787,
   "metadata": {},
   "outputs": [],
   "source": [
    "# Hyper parameters\n",
    "num_epochs = 10\n",
    "num_classes = 1\n",
    "batch_size = 100\n",
    "learning_rate = 0.001"
   ]
  },
  {
   "cell_type": "code",
   "execution_count": 792,
   "metadata": {},
   "outputs": [],
   "source": [
    "# Convolutional neural network (two convolutional layers)\n",
    "class ConvNet(nn.Module):\n",
    "    def __init__(self):\n",
    "        super(ConvNet, self).__init__()\n",
    "        self.layer1 = nn.Sequential(\n",
    "            nn.Conv2d(1, 16, kernel_size=5, stride=1, padding=2),\n",
    "#             nn.BatchNorm2d(16),\n",
    "            nn.ReLU(),\n",
    "            nn.MaxPool2d(kernel_size=2, stride=2))\n",
    "        self.layer2 = nn.Sequential(\n",
    "            nn.Conv2d(16, 32, kernel_size=5, stride=1, padding=2),\n",
    "#             nn.BatchNorm2d(32),\n",
    "            nn.ReLU(),\n",
    "            nn.MaxPool2d(kernel_size=2, stride=2))\n",
    "        self.fc1 = nn.Linear(7*7*32, 1024)\n",
    "        self.fc2 = nn.Sequential(nn.Linear(1024, 1))\n",
    "\n",
    "    def forward(self, x):\n",
    "        out = self.layer1(x)\n",
    "        out = self.layer2(out)\n",
    "        out = out.reshape(out.size(0), -1)\n",
    "        out = self.fc1(out)\n",
    "        out = self.fc2(out)\n",
    "        return out\n",
    "\n",
    "model = ConvNet().to(device)"
   ]
  },
  {
   "cell_type": "code",
   "execution_count": 799,
   "metadata": {},
   "outputs": [],
   "source": [
    "train_dataset = LensingDataset(np.array(i_list)[:50000], N[:50000])\n",
    "\n",
    "# Data loader\n",
    "train_loader = torch.utils.data.DataLoader(dataset=train_dataset,\n",
    "                                           batch_size=batch_size, \n",
    "                                           shuffle=True)"
   ]
  },
  {
   "cell_type": "code",
   "execution_count": 800,
   "metadata": {},
   "outputs": [],
   "source": [
    "# Loss and optimizer\n",
    "criterion = nn.MSELoss(reduction='sum')\n",
    "optimizer = torch.optim.Adam(model.parameters(), lr=learning_rate)"
   ]
  },
  {
   "cell_type": "code",
   "execution_count": null,
   "metadata": {},
   "outputs": [
    {
     "name": "stdout",
     "output_type": "stream",
     "text": [
      "Epoch [1/10], Step [100/500], Loss: 110941.3359\n",
      "Epoch [1/10], Step [200/500], Loss: 102655.6406\n",
      "Epoch [1/10], Step [300/500], Loss: 93500.5391\n",
      "Epoch [1/10], Step [400/500], Loss: 73307.2188\n",
      "Epoch [1/10], Step [500/500], Loss: 90954.6953\n",
      "Epoch [2/10], Step [100/500], Loss: 87706.7969\n",
      "Epoch [2/10], Step [200/500], Loss: 92498.6406\n",
      "Epoch [2/10], Step [300/500], Loss: 78371.2109\n",
      "Epoch [2/10], Step [400/500], Loss: 71713.4766\n",
      "Epoch [2/10], Step [500/500], Loss: 78720.0469\n",
      "Epoch [3/10], Step [100/500], Loss: 98802.6875\n",
      "Epoch [3/10], Step [200/500], Loss: 83834.8047\n",
      "Epoch [3/10], Step [300/500], Loss: 86604.7266\n",
      "Epoch [3/10], Step [400/500], Loss: 90844.2734\n",
      "Epoch [3/10], Step [500/500], Loss: 87034.3125\n",
      "Epoch [4/10], Step [100/500], Loss: 72314.4141\n",
      "Epoch [4/10], Step [200/500], Loss: 85808.0234\n",
      "Epoch [4/10], Step [300/500], Loss: 84177.8359\n",
      "Epoch [4/10], Step [400/500], Loss: 76634.0391\n",
      "Epoch [4/10], Step [500/500], Loss: 74232.1641\n",
      "Epoch [5/10], Step [100/500], Loss: 91634.3672\n",
      "Epoch [5/10], Step [200/500], Loss: 92666.2734\n",
      "Epoch [5/10], Step [300/500], Loss: 82486.1094\n",
      "Epoch [5/10], Step [400/500], Loss: 76185.1641\n",
      "Epoch [5/10], Step [500/500], Loss: 71734.3125\n",
      "Epoch [6/10], Step [100/500], Loss: 72610.7578\n",
      "Epoch [6/10], Step [200/500], Loss: 69883.1484\n",
      "Epoch [6/10], Step [300/500], Loss: 78586.7500\n",
      "Epoch [6/10], Step [400/500], Loss: 90495.1719\n",
      "Epoch [6/10], Step [500/500], Loss: 68953.9844\n",
      "Epoch [7/10], Step [100/500], Loss: 85560.0469\n",
      "Epoch [7/10], Step [200/500], Loss: 80343.9766\n",
      "Epoch [7/10], Step [300/500], Loss: 88343.1562\n",
      "Epoch [7/10], Step [400/500], Loss: 71585.1094\n",
      "Epoch [7/10], Step [500/500], Loss: 80253.7812\n",
      "Epoch [8/10], Step [100/500], Loss: 93045.3438\n",
      "Epoch [8/10], Step [200/500], Loss: 81165.8438\n",
      "Epoch [8/10], Step [300/500], Loss: 86566.8438\n",
      "Epoch [8/10], Step [400/500], Loss: 84077.9062\n",
      "Epoch [8/10], Step [500/500], Loss: 74893.6328\n"
     ]
    }
   ],
   "source": [
    "# Train the model\n",
    "total_step = len(train_loader)\n",
    "for epoch in range(num_epochs):\n",
    "    for i, (images, labels) in enumerate(train_loader):\n",
    "        images = images.to(device)\n",
    "        labels = labels.to(device)\n",
    "        \n",
    "        # Forward pass\n",
    "        outputs = model(images)\n",
    "        loss = criterion(outputs, labels)\n",
    "        \n",
    "        # Backward and optimize\n",
    "        optimizer.zero_grad()\n",
    "        loss.backward()\n",
    "        optimizer.step()\n",
    "        \n",
    "        if (i+1) % 100 == 0:\n",
    "            print ('Epoch [{}/{}], Step [{}/{}], Loss: {:.4f}' \n",
    "                   .format(epoch+1, num_epochs, i+1, total_step, loss.item()))"
   ]
  },
  {
   "cell_type": "code",
   "execution_count": 797,
   "metadata": {},
   "outputs": [],
   "source": [
    "test_dataset = LensingDataset(np.array(i_list)[:100], N[:100])\n",
    "\n",
    "# Data loader\n",
    "test_loader = torch.utils.data.DataLoader(dataset=test_dataset,\n",
    "                                           batch_size=1, \n",
    "                                           shuffle=False)"
   ]
  },
  {
   "cell_type": "code",
   "execution_count": 798,
   "metadata": {},
   "outputs": [
    {
     "name": "stdout",
     "output_type": "stream",
     "text": [
      "tensor([1.2252]) tensor([[6.7460]])\n",
      "tensor([1.2693]) tensor([[4.0764]])\n",
      "tensor([8.9061]) tensor([[0.0059]])\n",
      "tensor([4.8910]) tensor([[0.3333]])\n",
      "tensor([3.0110]) tensor([[3.8341]])\n",
      "tensor([9.7488]) tensor([[0.2794]])\n",
      "tensor([2.2277]) tensor([[4.2371]])\n",
      "tensor([7.6125]) tensor([[5.3045]])\n",
      "tensor([3.1762]) tensor([[-0.3729]])\n",
      "tensor([2.5325]) tensor([[3.8341]])\n",
      "tensor([1.6997]) tensor([[6.5552]])\n",
      "tensor([0.2448]) tensor([[4.5567]])\n",
      "tensor([6.7481]) tensor([[1.7679]])\n",
      "tensor([2.4188]) tensor([[0.9488]])\n",
      "tensor([5.8794]) tensor([[5.2117]])\n",
      "tensor([4.4839]) tensor([[2.1760]])\n",
      "tensor([5.8525]) tensor([[6.3027]])\n",
      "tensor([5.6977]) tensor([[-18.8860]])\n",
      "tensor([9.1160]) tensor([[3.9279]])\n",
      "tensor([8.4936]) tensor([[1.2172]])\n",
      "tensor([6.8640]) tensor([[-0.0512]])\n",
      "tensor([1.1641]) tensor([[3.8341]])\n",
      "tensor([6.5422]) tensor([[0.4840]])\n",
      "tensor([0.5318]) tensor([[4.1455]])\n",
      "tensor([4.8391]) tensor([[0.4251]])\n",
      "tensor([6.0248]) tensor([[1.5052]])\n",
      "tensor([8.5567]) tensor([[-5.1156]])\n",
      "tensor([1.9010]) tensor([[2.7437]])\n",
      "tensor([6.7878]) tensor([[1.2325]])\n",
      "tensor([9.5158]) tensor([[-5.6502]])\n",
      "tensor([3.6071]) tensor([[5.0662]])\n",
      "tensor([4.1309]) tensor([[3.4290]])\n",
      "tensor([6.1721]) tensor([[2.8635]])\n",
      "tensor([0.7137]) tensor([[3.8341]])\n",
      "tensor([2.4928]) tensor([[4.1763]])\n",
      "tensor([9.6400]) tensor([[-4.6713]])\n",
      "tensor([9.7032]) tensor([[-1.8417]])\n",
      "tensor([7.3284]) tensor([[-0.6265]])\n",
      "tensor([5.4123]) tensor([[-0.6579]])\n",
      "tensor([1.8771]) tensor([[3.8341]])\n",
      "tensor([2.3665]) tensor([[1.3223]])\n",
      "tensor([7.7802]) tensor([[2.2229]])\n",
      "tensor([9.9627]) tensor([[0.3546]])\n",
      "tensor([4.0760]) tensor([[-0.3315]])\n",
      "tensor([6.0090]) tensor([[18.2009]])\n",
      "tensor([0.6456]) tensor([[3.8341]])\n",
      "tensor([8.4949]) tensor([[-1.7900]])\n",
      "tensor([5.4137]) tensor([[0.0417]])\n",
      "tensor([0.8096]) tensor([[5.2558]])\n",
      "tensor([0.4351]) tensor([[3.8341]])\n",
      "tensor([1.4680]) tensor([[0.7946]])\n",
      "tensor([5.7227]) tensor([[1.6390]])\n",
      "tensor([8.3684]) tensor([[-3.2000]])\n",
      "tensor([6.3647]) tensor([[-0.0845]])\n",
      "tensor([0.6966]) tensor([[3.1920]])\n",
      "tensor([4.9101]) tensor([[3.7344]])\n",
      "tensor([6.4137]) tensor([[-1.7196]])\n",
      "tensor([4.1308]) tensor([[6.0487]])\n",
      "tensor([4.7767]) tensor([[1.7009]])\n",
      "tensor([9.3161]) tensor([[1.0719]])\n",
      "tensor([8.5385]) tensor([[2.4499]])\n",
      "tensor([7.1380]) tensor([[0.9176]])\n",
      "tensor([2.8638]) tensor([[0.7155]])\n",
      "tensor([2.4534]) tensor([[0.2802]])\n",
      "tensor([1.0752]) tensor([[3.8341]])\n",
      "tensor([8.6884]) tensor([[-0.1271]])\n",
      "tensor([1.5315]) tensor([[2.5923]])\n",
      "tensor([5.9331]) tensor([[0.5619]])\n",
      "tensor([3.2225]) tensor([[1.9947]])\n",
      "tensor([6.8981]) tensor([[0.3025]])\n",
      "tensor([9.2329]) tensor([[-0.8045]])\n",
      "tensor([4.6892]) tensor([[0.8662]])\n",
      "tensor([5.8112]) tensor([[2.3509]])\n",
      "tensor([0.5166]) tensor([[0.6734]])\n",
      "tensor([2.6117]) tensor([[3.8341]])\n",
      "tensor([0.6479]) tensor([[3.8341]])\n",
      "tensor([8.4748]) tensor([[-8.8907]])\n",
      "tensor([1.7561]) tensor([[3.8341]])\n",
      "tensor([9.9767]) tensor([[0.5437]])\n",
      "tensor([0.2320]) tensor([[3.8341]])\n",
      "tensor([3.8998]) tensor([[2.3759]])\n",
      "tensor([1.1784]) tensor([[3.8341]])\n",
      "tensor([3.9480]) tensor([[5.2448]])\n",
      "tensor([0.7953]) tensor([[1.2644]])\n",
      "tensor([5.4138]) tensor([[1.8786]])\n",
      "tensor([0.4262]) tensor([[2.9019]])\n",
      "tensor([7.8780]) tensor([[-2.5914]])\n",
      "tensor([8.4121]) tensor([[0.4276]])\n",
      "tensor([7.2152]) tensor([[4.7957]])\n",
      "tensor([5.5989]) tensor([[1.0567]])\n",
      "tensor([8.8686]) tensor([[0.9542]])\n",
      "tensor([6.5357]) tensor([[5.0698]])\n",
      "tensor([0.2122]) tensor([[3.8341]])\n",
      "tensor([6.0307]) tensor([[0.5071]])\n",
      "tensor([3.2210]) tensor([[6.3907]])\n",
      "tensor([4.1298]) tensor([[3.9176]])\n",
      "tensor([9.7089]) tensor([[-1.1648]])\n",
      "tensor([0.6751]) tensor([[7.3063]])\n",
      "tensor([6.8638]) tensor([[3.4231]])\n",
      "tensor([3.9738]) tensor([[4.9459]])\n"
     ]
    }
   ],
   "source": [
    "# Test the model\n",
    "model.eval()  # eval mode (batchnorm uses moving mean/variance instead of mini-batch mean/variance)\n",
    "with torch.no_grad():\n",
    "    correct = 0\n",
    "    total = 0\n",
    "    for images, labels in test_loader:\n",
    "        images = images.to(device)\n",
    "        labels = labels.to(device)\n",
    "        outputs = model(images)\n",
    "        print((labels), (outputs))\n",
    "#         total += labels.size(0)\n",
    "#         correct += (predicted == labels).sum().item()\n",
    "\n",
    "#     print('Test Accuracy of the model on the 10000 test images: {} %'.format(100 * correct / total))\n",
    "\n",
    "# # Save the model checkpoint\n",
    "# torch.save(model.state_dict(), 'model.ckpt')"
   ]
  },
  {
   "cell_type": "code",
   "execution_count": null,
   "metadata": {},
   "outputs": [],
   "source": []
  }
 ],
 "metadata": {
  "kernelspec": {
   "display_name": "Python 3",
   "language": "python",
   "name": "python3"
  },
  "language_info": {
   "codemirror_mode": {
    "name": "ipython",
    "version": 3
   },
   "file_extension": ".py",
   "mimetype": "text/x-python",
   "name": "python",
   "nbconvert_exporter": "python",
   "pygments_lexer": "ipython3",
   "version": "3.6.8"
  }
 },
 "nbformat": 4,
 "nbformat_minor": 2
}
