{
 "cells": [
  {
   "cell_type": "markdown",
   "metadata": {},
   "source": [
    "# Train likelihood ratio estimator"
   ]
  },
  {
   "cell_type": "code",
   "execution_count": 1,
   "metadata": {},
   "outputs": [],
   "source": [
    "import sys, os\n",
    "sys.path.append('../')\n",
    "\n",
    "import logging\n",
    "import numpy as np\n",
    "import matplotlib.pyplot as plt\n",
    "\n",
    "from inference.estimator import Estimator\n",
    "\n",
    "logging.basicConfig(\n",
    "    format='%(asctime)-5.5s %(name)-20.20s %(levelname)-7.7s %(message)s',\n",
    "    datefmt='%H:%M',\n",
    "    level=logging.INFO\n",
    ")"
   ]
  },
  {
   "cell_type": "markdown",
   "metadata": {},
   "source": [
    "## Train ALICE"
   ]
  },
  {
   "cell_type": "code",
   "execution_count": 2,
   "metadata": {},
   "outputs": [
    {
     "name": "stderr",
     "output_type": "stream",
     "text": [
      "19:45 inference.estimator  INFO    Starting training\n",
      "19:45 inference.estimator  INFO      Method:                 alice\n",
      "19:45 inference.estimator  INFO      Training data:          x at ../data/samples/x_train.npy\n",
      "19:45 inference.estimator  INFO                              theta0 at ../data/samples/theta_train.npy\n",
      "19:45 inference.estimator  INFO                              y at ../data/samples/y_train.npy\n",
      "19:45 inference.estimator  INFO                              r_xz at ../data/samples/r_xz_train.npy\n",
      "19:45 inference.estimator  INFO      Method:                 alice\n",
      "19:45 inference.estimator  INFO      Convolutional layers:   3\n",
      "19:45 inference.estimator  INFO      Dense layers:           3\n",
      "19:45 inference.estimator  INFO      Feature maps:           128\n",
      "19:45 inference.estimator  INFO      Convolutional filter:   5\n",
      "19:45 inference.estimator  INFO      Pooling filter:         2\n",
      "19:45 inference.estimator  INFO      Activation function:    relu\n",
      "19:45 inference.estimator  INFO      Batch size:             200\n",
      "19:45 inference.estimator  INFO      Trainer:                amsgrad\n",
      "19:45 inference.estimator  INFO      Epochs:                 5\n",
      "19:45 inference.estimator  INFO      Learning rate:          0.001 initially, decaying to 0.0001\n",
      "19:45 inference.estimator  INFO      Validation split:       0.25\n",
      "19:45 inference.estimator  INFO      Early stopping:         True\n",
      "19:45 inference.estimator  INFO      Rescale inputs:         True\n",
      "19:45 inference.estimator  INFO      Shuffle labels          False\n",
      "19:45 inference.estimator  INFO      Samples:                all\n",
      "19:45 inference.estimator  INFO    Loading training data\n",
      "19:45 inference.utils      WARNING Warning: file ../data/samples/r_xz_train.npy has some large numbers, rangin from 2.928064570988458e-231 to 2.79561319046143e+134\n",
      "19:45 inference.estimator  INFO    Found 10000 samples with 2 parameters and resolution 64 x 64\n",
      "19:45 inference.estimator  INFO    Rescaling pixel values by factor 1 / 380.2149794248218\n",
      "19:45 inference.estimator  INFO    Training model\n",
      "20:07 inference.trainer    INFO    Epoch   1: train loss  0.71429 (improved_xe:  0.714)\n",
      "20:07 inference.trainer    INFO               val. loss   0.69498 (improved_xe:  0.695)\n",
      "20:22 inference.trainer    INFO    Epoch   2: train loss  0.69435 (improved_xe:  0.694)\n",
      "20:22 inference.trainer    INFO               val. loss   0.69336 (improved_xe:  0.693)\n",
      "20:40 inference.trainer    INFO    Epoch   3: train loss  0.69360 (improved_xe:  0.694)\n",
      "20:40 inference.trainer    INFO               val. loss   0.69380 (improved_xe:  0.694)\n",
      "20:55 inference.trainer    INFO    Epoch   4: train loss  0.69328 (improved_xe:  0.693)\n",
      "20:55 inference.trainer    INFO               val. loss   0.69349 (improved_xe:  0.693)\n",
      "21:11 inference.trainer    INFO    Epoch   5: train loss  0.69298 (improved_xe:  0.693)\n",
      "21:11 inference.trainer    INFO               val. loss   0.69334 (improved_xe:  0.693)\n",
      "21:11 inference.trainer    INFO    Early stopping did not improve performance\n"
     ]
    }
   ],
   "source": [
    "alice = Estimator()\n",
    "\n",
    "_ = alice.train(\n",
    "    method=\"alice\",\n",
    "    x_filename=\"../data/samples/x_train.npy\",\n",
    "    y_filename=\"../data/samples/y_train.npy\",\n",
    "    theta0_filename=\"../data/samples/theta_train.npy\",\n",
    "    r_xz_filename=\"../data/samples/r_xz_train.npy\",\n",
    "    batch_size=200,\n",
    "    n_epochs=5,\n",
    "    validation_split=0.25,\n",
    ")\n",
    "\n",
    "if not os.path.exists(\"../data/models\"):\n",
    "    os.mkdir(\"../data/models\")\n",
    "alice.save(\"../data/models/alice\")"
   ]
  },
  {
   "cell_type": "code",
   "execution_count": null,
   "metadata": {},
   "outputs": [],
   "source": []
  }
 ],
 "metadata": {
  "kernelspec": {
   "display_name": "Python (lensing)",
   "language": "python",
   "name": "lensing"
  },
  "language_info": {
   "codemirror_mode": {
    "name": "ipython",
    "version": 3
   },
   "file_extension": ".py",
   "mimetype": "text/x-python",
   "name": "python",
   "nbconvert_exporter": "python",
   "pygments_lexer": "ipython3",
   "version": "3.6.8"
  }
 },
 "nbformat": 4,
 "nbformat_minor": 2
}
