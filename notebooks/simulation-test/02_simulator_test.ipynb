{
 "cells": [
  {
   "cell_type": "code",
   "execution_count": 908,
   "metadata": {},
   "outputs": [
    {
     "name": "stdout",
     "output_type": "stream",
     "text": [
      "The autoreload extension is already loaded. To reload it, use:\n",
      "  %reload_ext autoreload\n"
     ]
    }
   ],
   "source": [
    "import sys, os\n",
    "sys.path.append('../..')\n",
    "\n",
    "import numpy as np\n",
    "import matplotlib.pyplot as plt\n",
    "from tqdm import *\n",
    "\n",
    "from simulation.units import *\n",
    "from simulation.population_sim import LensingObservationWithSubhalos, SubhaloPopulation\n",
    "\n",
    "%matplotlib inline\n",
    "%load_ext autoreload\n",
    "%autoreload 2"
   ]
  },
  {
   "cell_type": "code",
   "execution_count": 909,
   "metadata": {},
   "outputs": [
    {
     "name": "stdout",
     "output_type": "stream",
     "text": [
      "Sensible value for f_sub is 0.14976091493949886\n"
     ]
    }
   ],
   "source": [
    "alpha = SubhaloPopulation._alpha_calib(1e8 * M_s, 1e10 * M_s, 150, M_MW, -1.9) # alpha for conventional n_calib\n",
    "f_sub = SubhaloPopulation._m_in_sub(1e13 * M_s, alpha, -1.9, 1e7 * M_s, 0.01 * 1e13 * M_s) / (1e13 * M_s) # corresponding f_sub\n",
    "print(\"Sensible value for f_sub is\", f_sub)"
   ]
  },
  {
   "cell_type": "code",
   "execution_count": 910,
   "metadata": {},
   "outputs": [
    {
     "data": {
      "text/plain": [
       "<matplotlib.text.Text at 0x14f5c9cc0>"
      ]
     },
     "execution_count": 910,
     "metadata": {},
     "output_type": "execute_result"
    },
    {
     "data": {
      "image/png": "[encoded data removed]",
      "text/plain": [
       "<matplotlib.figure.Figure at 0x14f566668>"
      ]
     },
     "metadata": {
      "needs_background": "light"
     },
     "output_type": "display_data"
    }
   ],
   "source": [
    "# Generate single lensing sample\n",
    "# Fix source parameters and consider only spherical hosts\n",
    "lo = LensingObservationWithSubhalos(#sim_mvgauss_mean=sim_mvgauss['mean'], sim_mvgauss_cov=sim_mvgauss['cov'],\n",
    "                                    M_200_sigma_v_scatter=False,   \n",
    "                                    m_200_min_sub=1e7 * M_s, m_200_max_sub_div_M_hst=0.01,\n",
    "                                    beta=-1.9, f_sub=0.15\n",
    ")\n",
    "\n",
    "v_min = 2.\n",
    "v_max = 3.\n",
    "\n",
    "plt.imshow(np.log10(lo.image_poiss_psf),\n",
    "        vmin=v_min,\n",
    "        vmax=v_max,\n",
    "        cmap='gist_gray',\n",
    "        extent=(-lo.coordinate_limit, lo.coordinate_limit,-lo.coordinate_limit, lo.coordinate_limit),\n",
    "        origin=\"lower\"\n",
    ")\n",
    "plt.colorbar()\n",
    "\n",
    "plt.xlabel(r\"$\\theta_x$ [arcsec]\")\n",
    "plt.ylabel(r\"$\\theta_y$ [arcsec]\")"
   ]
  },
  {
   "cell_type": "code",
   "execution_count": 913,
   "metadata": {},
   "outputs": [
    {
     "data": {
      "application/vnd.jupyter.widget-view+json": {
       "model_id": "fb7246d023954ef6882afdaba07242d5",
       "version_major": 2,
       "version_minor": 0
      },
      "text/plain": [
       "HBox(children=(IntProgress(value=0, max=500), HTML(value='')))"
      ]
     },
     "metadata": {},
     "output_type": "display_data"
    },
    {
     "name": "stdout",
     "output_type": "stream",
     "text": [
      "\n"
     ]
    }
   ],
   "source": [
    "# Generate single lensing sample\n",
    "# Fix source parameters and consider only spherical hosts\n",
    "n_mc = 500\n",
    "\n",
    "f_sub_realiz_list = []\n",
    "for i_mc in tqdm_notebook(range(n_mc)):\n",
    "    lo = LensingObservationWithSubhalos(#sim_mvgauss_mean=sim_mvgauss['mean'], sim_mvgauss_cov=sim_mvgauss['cov'],\n",
    "                                        M_200_sigma_v_scatter=False,   \n",
    "                                        m_200_min_sub=1e7 * M_s, m_200_max_sub_div_M_hst=0.01,\n",
    "                                        beta=-1.9, f_sub=0.15\n",
    "    )\n",
    "\n",
    "    f_sub_realiz_list.append(lo.f_sub_realiz)"
   ]
  },
  {
   "cell_type": "code",
   "execution_count": 914,
   "metadata": {},
   "outputs": [
    {
     "data": {
      "text/plain": [
       "(array([ 338.,  107.,   36.,    7.,    3.,    7.,    1.,    0.,    0.,    1.]),\n",
       " array([ 0.02314652,  0.13455961,  0.24597271,  0.3573858 ,  0.46879889,\n",
       "         0.58021199,  0.69162508,  0.80303817,  0.91445127,  1.02586436,\n",
       "         1.13727745]),\n",
       " <a list of 10 Patch objects>)"
      ]
     },
     "execution_count": 914,
     "metadata": {},
     "output_type": "execute_result"
    },
    {
     "data": {
      "image/png": "[encoded data removed]",
      "text/plain": [
       "<matplotlib.figure.Figure at 0x14f8b9160>"
      ]
     },
     "metadata": {
      "needs_background": "light"
     },
     "output_type": "display_data"
    }
   ],
   "source": [
    "plt.hist((f_sub_realiz_list))"
   ]
  },
  {
   "cell_type": "code",
   "execution_count": 915,
   "metadata": {},
   "outputs": [
    {
     "data": {
      "text/plain": [
       "0.13797242438417329"
      ]
     },
     "execution_count": 915,
     "metadata": {},
     "output_type": "execute_result"
    }
   ],
   "source": [
    "# Does mean value roughly match f_sub parameter?\n",
    "np.mean(f_sub_realiz_list)"
   ]
  },
  {
   "cell_type": "code",
   "execution_count": 916,
   "metadata": {},
   "outputs": [],
   "source": [
    "# n_mc = 20\n",
    "\n",
    "# f, ax = plt.subplots(int(n_mc / 5), 5,figsize=(15,15))\n",
    "\n",
    "# v_min = 2.\n",
    "# v_max = 3.\n",
    "\n",
    "# for i_mc in range(n_mc):\n",
    "    \n",
    "#     i_x, i_y = divmod(i_mc, 5)\n",
    "\n",
    "#     # Fix source parameters and consider only spherical hosts\n",
    "\n",
    "#     lo = LensingObservationWithSubhalos(sim_mvgauss_mean=sim_mvgauss['mean'], sim_mvgauss_cov=sim_mvgauss['cov'], \n",
    "#                                        spherical_host=1,\n",
    "#                                        fix_source=1)\n",
    "\n",
    "#     ax[i_x, i_y].imshow(np.log10(lo.image_poiss_psf),\n",
    "#             vmin=v_min,\n",
    "#             vmax=v_max,\n",
    "#             cmap='gist_gray',\n",
    "#             extent=(-lo.coordinate_limit, lo.coordinate_limit,-lo.coordinate_limit, lo.coordinate_limit),\n",
    "#             origin=\"lower\"\n",
    "#     )\n",
    "    \n",
    "#     ax[i_x, i_y].set_xlabel(r\"$\\theta_x$ [arcsec]\")\n",
    "#     ax[i_x, i_y].set_ylabel(r\"$\\theta_y$ [arcsec]\")\n",
    "\n",
    "# plt.tight_layout()"
   ]
  },
  {
   "cell_type": "code",
   "execution_count": null,
   "metadata": {},
   "outputs": [],
   "source": []
  }
 ],
 "metadata": {
  "kernelspec": {
   "display_name": "Python 3",
   "language": "python",
   "name": "python3"
  },
  "language_info": {
   "codemirror_mode": {
    "name": "ipython",
    "version": 3
   },
   "file_extension": ".py",
   "mimetype": "text/x-python",
   "name": "python",
   "nbconvert_exporter": "python",
   "pygments_lexer": "ipython3",
   "version": "3.5.5"
  }
 },
 "nbformat": 4,
 "nbformat_minor": 2
}
