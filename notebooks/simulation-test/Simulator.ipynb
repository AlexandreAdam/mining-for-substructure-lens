{
 "cells": [
  {
   "cell_type": "code",
   "execution_count": 561,
   "metadata": {},
   "outputs": [
    {
     "name": "stdout",
     "output_type": "stream",
     "text": [
      "The autoreload extension is already loaded. To reload it, use:\n",
      "  %reload_ext autoreload\n"
     ]
    }
   ],
   "source": [
    "import sys, os\n",
    "sys.path.append('../..')\n",
    "\n",
    "import numpy as np\n",
    "import matplotlib.pyplot as plt\n",
    "\n",
    "from simulation_new.lensing_sim import LensingSim\n",
    "from simulation_new.units import *\n",
    "from astropy.cosmology import Planck15\n",
    "\n",
    "\n",
    "%matplotlib inline\n",
    "%load_ext autoreload\n",
    "%autoreload 2"
   ]
  },
  {
   "cell_type": "code",
   "execution_count": 562,
   "metadata": {},
   "outputs": [],
   "source": [
    "from simulation_new.subhalos import SubhaloPopulation\n",
    "from simulation_new.profiles import MassProfileNFW"
   ]
  },
  {
   "cell_type": "code",
   "execution_count": 589,
   "metadata": {},
   "outputs": [],
   "source": [
    "def Msv(sigma_v):\n",
    "    \"\"\" https://arxiv.org/pdf/1804.04492.pdf\n",
    "    \"\"\"\n",
    "    a = 0.09\n",
    "    b = 3.48\n",
    "\n",
    "    l10m = a + b * np.log10(sigma_v / (100*Kmps))\n",
    "    sigma_l10m = 0.13\n",
    "    l10m = np.random.normal(l10m, sigma_l10m)\n",
    "    return (10**l10m)*1e12*M_s\n",
    "\n",
    "def total_flux_adu(mag, mag_zp):\n",
    "    \"\"\"\n",
    "    Returns total flux of the integrated profile, in ADU relative to mag_zp\n",
    "    \"\"\"\n",
    "    return 10**(-0.4 * (mag - mag_zp))"
   ]
  },
  {
   "cell_type": "code",
   "execution_count": 591,
   "metadata": {},
   "outputs": [
    {
     "data": {
      "text/plain": [
       "511"
      ]
     },
     "execution_count": 591,
     "metadata": {},
     "output_type": "execute_result"
    }
   ],
   "source": [
    "M_hst = Msv(250*Kmps)\n",
    "c_hst = MassProfileNFW.c_200_SCP(M_hst)\n",
    "m_min = 1e7*M_s\n",
    "\n",
    "z_s = 1.5\n",
    "z_l = 0.5\n",
    "\n",
    "D_s = Planck15.angular_diameter_distance(z=z_s).value * Mpc\n",
    "D_l = Planck15.angular_diameter_distance(z=z_l).value * Mpc\n",
    "\n",
    "r_s, rho_s = MassProfileNFW.get_r_s_rho_s_NFW(M_hst, c_hst)\n",
    "\n",
    "ps = PopulationSim(N_calib=150, M_hst=M_hst, c_hst=c_hst, m_min=m_min, theta_s=r_s/D_l)\n",
    "ps.n_sub_roi"
   ]
  },
  {
   "cell_type": "code",
   "execution_count": 602,
   "metadata": {},
   "outputs": [
    {
     "data": {
      "text/plain": [
       "<matplotlib.colorbar.Colorbar at 0x127bc0828>"
      ]
     },
     "execution_count": 602,
     "metadata": {},
     "output_type": "execute_result"
    },
    {
     "data": {
      "image/png": "[encoded data removed]",
      "text/plain": [
       "<Figure size 432x288 with 2 Axes>"
      ]
     },
     "metadata": {
      "needs_background": "light"
     },
     "output_type": "display_data"
    }
   ],
   "source": [
    "m_sub = ps.m_sample\n",
    "\n",
    "coordinate_limit = 2.5\n",
    "exposure = 1610\n",
    "f_iso = total_flux_adu(22.2, 25.5) \n",
    "S_tot = total_flux_adu(25.5, 25.5)\n",
    "\n",
    "hst_param_dict = {\n",
    "            \"profile\": \"SIE\",\n",
    "            \"theta_x_0\": 0.0,\n",
    "            \"theta_y_0\": 0.0,\n",
    "            \"theta_E\": 1,\n",
    "            \"q\": 0.5,\n",
    "}\n",
    "\n",
    "lens_list = [hst_param_dict]\n",
    "\n",
    "for m in m_sub:\n",
    "    c = MassProfileNFW.c_200_SCP(m)\n",
    "    r_s, rho_s = MassProfileNFW.get_r_s_rho_s_NFW(m, c)\n",
    "    sub_param_dict = {\n",
    "                \"profile\": \"NFW\",\n",
    "                \"theta_x_0\": np.random.uniform(-2,2),\n",
    "                \"theta_y_0\": np.random.uniform(-2,2),\n",
    "                \"M_200\": m,\n",
    "                \"r_s\": r_s,\n",
    "                \"rho_s\": rho_s\n",
    "    }\n",
    "\n",
    "    lens_list.append(sub_param_dict)\n",
    "\n",
    "\n",
    "observation_dict = {\n",
    "            \"n_x\": 64,\n",
    "            \"n_y\": 64,\n",
    "            \"theta_x_lims\": (-coordinate_limit, coordinate_limit),\n",
    "            \"theta_y_lims\": (-coordinate_limit, coordinate_limit),\n",
    "            \"exposure\": exposure,\n",
    "            \"f_iso\": f_iso,\n",
    "        }\n",
    "\n",
    "src_param_dict = {\n",
    "            \"profile\": \"Sersic\",\n",
    "            \"theta_x_0\": .01,\n",
    "            \"theta_y_0\": .01,\n",
    "            \"S_tot\": S_tot,\n",
    "            \"theta_e\": 0.1,\n",
    "            \"n_srsc\": 1,\n",
    "        }\n",
    "\n",
    "global_dict = {\"z_s\": z_s, \"z_l\": z_l}\n",
    "\n",
    "lsi = LensingSim(lens_list, \n",
    "                 [src_param_dict], \n",
    "                 global_dict, \n",
    "                 observation_dict)\n",
    "\n",
    "image = np.random.poisson(lsi.lensed_image())\n",
    "\n",
    "v_min = 2\n",
    "v_max = 3.\n",
    "\n",
    "plt.imshow(np.log10(image),\n",
    "        vmin=v_min,\n",
    "        vmax=v_max,\n",
    "        cmap='gist_gray',\n",
    "        extent=(-coordinate_limit, coordinate_limit,-coordinate_limit, coordinate_limit),\n",
    "        origin=\"lower\"\n",
    ")\n",
    "plt.colorbar()"
   ]
  },
  {
   "cell_type": "code",
   "execution_count": null,
   "metadata": {},
   "outputs": [],
   "source": []
  }
 ],
 "metadata": {
  "kernelspec": {
   "display_name": "Python 3",
   "language": "python",
   "name": "python3"
  },
  "language_info": {
   "codemirror_mode": {
    "name": "ipython",
    "version": 3
   },
   "file_extension": ".py",
   "mimetype": "text/x-python",
   "name": "python",
   "nbconvert_exporter": "python",
   "pygments_lexer": "ipython3",
   "version": "3.6.8"
  }
 },
 "nbformat": 4,
 "nbformat_minor": 2
}
