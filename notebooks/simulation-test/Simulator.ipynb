{
 "cells": [
  {
   "cell_type": "code",
   "execution_count": 393,
   "metadata": {},
   "outputs": [
    {
     "name": "stdout",
     "output_type": "stream",
     "text": [
      "The autoreload extension is already loaded. To reload it, use:\n",
      "  %reload_ext autoreload\n"
     ]
    }
   ],
   "source": [
    "import sys, os\n",
    "sys.path.append('../..')\n",
    "\n",
    "import logging\n",
    "import numpy as np\n",
    "import matplotlib.pyplot as plt\n",
    "\n",
    "from simulation_new.lensing_sim import LensingSim\n",
    "from simulation_new.units import *\n",
    "from astropy.cosmology import Planck15\n",
    "\n",
    "logging.basicConfig(\n",
    "    format='%(asctime)-5.5s %(name)-20.20s %(levelname)-7.7s %(message)s',\n",
    "    datefmt='%H:%M',\n",
    "    level=logging.INFO\n",
    ")\n",
    "\n",
    "%matplotlib inline\n",
    "%load_ext autoreload\n",
    "%autoreload 2"
   ]
  },
  {
   "cell_type": "code",
   "execution_count": 394,
   "metadata": {},
   "outputs": [],
   "source": [
    "M_MW = 1.1e12*M_s\n",
    "m_0 = 1e9*M_s\n",
    "beta = 1.9"
   ]
  },
  {
   "cell_type": "code",
   "execution_count": 395,
   "metadata": {},
   "outputs": [],
   "source": [
    "def alpha_calib(m_min_calib, m_max_calib, n_calib, M_calib, beta):\n",
    "    return -M_MW * (m_max_calib * m_min_calib / m_0) ** beta * n_calib * (-1 + beta) / \\\n",
    "        ( M_calib * ( -m_max_calib ** beta * m_min_calib + m_max_calib * m_min_calib ** beta))"
   ]
  },
  {
   "cell_type": "code",
   "execution_count": 396,
   "metadata": {},
   "outputs": [],
   "source": [
    "alpha = alpha_calib(1e8*M_s, 1e10*M_s, 150, M_MW, beta)"
   ]
  },
  {
   "cell_type": "code",
   "execution_count": 397,
   "metadata": {},
   "outputs": [],
   "source": [
    "def n_sub(m_min, m_max, M):\n",
    "    return alpha * M * (m_max * m_min / m_0) ** -beta * (m_max ** beta * m_min - m_max * m_min ** beta) / (M_MW * ( -1 + beta))\n"
   ]
  },
  {
   "cell_type": "code",
   "execution_count": 398,
   "metadata": {},
   "outputs": [],
   "source": [
    "def c200_SCP(M200):\n",
    "    \"\"\" Concentration-mass relation according to eq. 1 of  Sanchez-Conde & Prada 2014 (1312.1729)\n",
    "        :param M200: M200 mass of subhalo\n",
    "    \"\"\"\n",
    "    x=np.log(M200/(M_s/h))\n",
    "    pars=[37.5153, -1.5093, 1.636e-2, 3.66e-4, -2.89237e-5, 5.32e-7][::-1]\n",
    "    return np.polyval(pars, x)"
   ]
  },
  {
   "cell_type": "code",
   "execution_count": 422,
   "metadata": {},
   "outputs": [],
   "source": [
    "M_hst = 1e14*M_s\n",
    "c_hst = c200_SCP(M_hst)\n",
    "m_min = 1e9*M_s\n",
    "n_sub_tot = n_sub(m_min, 0.01*M_hst, M_hst)"
   ]
  },
  {
   "cell_type": "code",
   "execution_count": 423,
   "metadata": {},
   "outputs": [],
   "source": [
    "def get_rs_rhos_NFW(M200, c200):\n",
    "    \"\"\" Get NFW scale radius and density\n",
    "    \"\"\"\n",
    "    r200 = (M200/(4/3.*np.pi*200*rho_c))**(1/3.)\n",
    "    rho_s = M200/(4*np.pi*(r200/c200)**3*(np.log(1 + c200) - c200/(1 + c200)))\n",
    "    r_s = r200/c200\n",
    "    return r_s, rho_s"
   ]
  },
  {
   "cell_type": "code",
   "execution_count": 424,
   "metadata": {},
   "outputs": [],
   "source": [
    "r_s, rho_s = get_rs_rhos_NFW(M_hst, c_hst)"
   ]
  },
  {
   "cell_type": "code",
   "execution_count": 425,
   "metadata": {},
   "outputs": [],
   "source": [
    "def Sigma_cr(D_l, D_s):\n",
    "    \"\"\" Critical surface density\n",
    "    \"\"\"\n",
    "    return 1.0 / (4 * np.pi * GN) * D_s / ((D_s - D_l) * D_l)\n"
   ]
  },
  {
   "cell_type": "code",
   "execution_count": 426,
   "metadata": {},
   "outputs": [],
   "source": [
    "def F(x):\n",
    "    \"\"\" Helper function for NFW deflection, from astro-ph/0102341\n",
    "    \"\"\"\n",
    "    if x > 1:\n",
    "        return np.arctan(np.sqrt(x ** 2 - 1)) / (np.sqrt(x ** 2 - 1))\n",
    "    elif x == 1:\n",
    "        return 1\n",
    "    elif x < 1:\n",
    "        return np.arctanh(np.sqrt(1 - x ** 2)) / (np.sqrt(1 - x ** 2))\n"
   ]
  },
  {
   "cell_type": "code",
   "execution_count": 427,
   "metadata": {},
   "outputs": [],
   "source": [
    "z_s = 1.5\n",
    "z_l = 0.5\n",
    "\n",
    "D_s = Planck15.angular_diameter_distance(z=z_s).value * Mpc\n",
    "D_l = Planck15.angular_diameter_distance(z=z_l).value * Mpc\n",
    "\n",
    "Scr = Sigma_cr(D_l, D_s)"
   ]
  },
  {
   "cell_type": "code",
   "execution_count": 428,
   "metadata": {},
   "outputs": [],
   "source": [
    "def M_enc(x):\n",
    "    return np.log(x/2) + F(x)"
   ]
  },
  {
   "cell_type": "code",
   "execution_count": 429,
   "metadata": {},
   "outputs": [
    {
     "data": {
      "text/plain": [
       "0.0625"
      ]
     },
     "execution_count": 429,
     "metadata": {},
     "output_type": "execute_result"
    }
   ],
   "source": [
    "4/64"
   ]
  },
  {
   "cell_type": "code",
   "execution_count": 430,
   "metadata": {},
   "outputs": [],
   "source": [
    "theta_s = (r_s / D_l) "
   ]
  },
  {
   "cell_type": "code",
   "execution_count": 431,
   "metadata": {},
   "outputs": [],
   "source": [
    "r_roi = 2.5\n",
    "f_sub = M_enc(r_roi * asctorad / theta_s) / M_enc(c_hst * theta_s / theta_s)"
   ]
  },
  {
   "cell_type": "code",
   "execution_count": 432,
   "metadata": {},
   "outputs": [
    {
     "name": "stdout",
     "output_type": "stream",
     "text": [
      "14\n"
     ]
    }
   ],
   "source": [
    "n_sub_roi = np.random.poisson(f_sub * n_sub_tot)\n",
    "print(n_sub_roi)"
   ]
  },
  {
   "cell_type": "code",
   "execution_count": null,
   "metadata": {},
   "outputs": [],
   "source": []
  },
  {
   "cell_type": "code",
   "execution_count": 469,
   "metadata": {},
   "outputs": [
    {
     "name": "stdout",
     "output_type": "stream",
     "text": [
      "3504.8420702100093\n"
     ]
    },
    {
     "data": {
      "image/png": "[encoded data removed]",
      "text/plain": [
       "<Figure size 432x288 with 2 Axes>"
      ]
     },
     "metadata": {
      "needs_background": "light"
     },
     "output_type": "display_data"
    },
    {
     "data": {
      "image/png": "[encoded data removed]",
      "text/plain": [
       "<Figure size 432x288 with 2 Axes>"
      ]
     },
     "metadata": {
      "needs_background": "light"
     },
     "output_type": "display_data"
    }
   ],
   "source": [
    "def _draw_m_sub(n_sub, m_sub_min, beta):\n",
    "    u = np.random.uniform(0, 1, size=n_sub)\n",
    "    m_sub = m_sub_min * (1 - u) ** (1.0 / (beta + 1.0))\n",
    "    return m_sub\n",
    "\n",
    "m_sub = _draw_m_sub(n_sub_roi, m_min, -beta)\n",
    "\n",
    "# print(m_sub/M_s)\n",
    "coordinate_limit = 2.5\n",
    "exposure = 2000 #(1 / 1.8e-19) * erg ** -1 * Centimeter ** 2 * Angstrom * 1000 * Sec\n",
    "# exposure = 6.1e18 * erg ** -1 * Centimeter ** 2 * Angstrom * 1000 * Sec\n",
    "\n",
    "A_iso = 0 # 2e-7 * erg / Centimeter ** 2 / Sec / Angstrom / (radtoasc) ** 2\n",
    "\n",
    "hst_param_dict = {\n",
    "            \"profile\": \"SIE\",\n",
    "            \"theta_x_0\": 0.0,\n",
    "            \"theta_y_0\": 0.0,\n",
    "            \"theta_E\": 1,\n",
    "            \"q\": 1.,\n",
    "}\n",
    "\n",
    "lens_list = [hst_param_dict]\n",
    "\n",
    "for m in m_sub:\n",
    "    c = c200_SCP(m)\n",
    "    r_s, rho_s = get_rs_rhos_NFW(m, c)\n",
    "    sub_param_dict = {\n",
    "                \"profile\": \"NFW\",\n",
    "                \"theta_x_0\": np.random.uniform(-2,2),\n",
    "                \"theta_y_0\": np.random.uniform(-2,2),\n",
    "                \"M_200\": m,\n",
    "                \"r_s\": r_s,\n",
    "                \"rho_s\": rho_s\n",
    "    }\n",
    "\n",
    "    lens_list.append(sub_param_dict)\n",
    "\n",
    "\n",
    "observation_dict = {\n",
    "            \"n_x\": 64,\n",
    "            \"n_y\": 64,\n",
    "            \"theta_x_lims\": (-coordinate_limit, coordinate_limit),\n",
    "            \"theta_y_lims\": (-coordinate_limit, coordinate_limit),\n",
    "            \"exposure\": exposure,\n",
    "            \"f_iso\": A_iso,\n",
    "        }\n",
    "\n",
    "src_param_dict = {\n",
    "            \"profile\": \"Sersic\",\n",
    "            \"theta_x_0\": .01,\n",
    "            \"theta_y_0\": .01,\n",
    "            \"S_tot\": 1,\n",
    "            \"theta_e\": 0.1,\n",
    "            \"n_srsc\": 1,\n",
    "        }\n",
    "\n",
    "global_dict = {\"z_s\": z_s, \"z_l\": z_l}\n",
    "\n",
    "lsi = LensingSim(lens_list, \n",
    "                 [src_param_dict], \n",
    "                 global_dict, \n",
    "                 observation_dict)\n",
    "\n",
    "image = (lsi.lensed_image())\n",
    "\n",
    "v_min = -1\n",
    "v_max = 4.\n",
    "\n",
    "plt.imshow(np.log10(image),\n",
    "        vmin=v_min,\n",
    "        vmax=v_max,\n",
    "        cmap='gist_gray',\n",
    "        extent=(-coordinate_limit, coordinate_limit,-coordinate_limit, coordinate_limit),\n",
    "        origin=\"lower\"\n",
    ")\n",
    "plt.colorbar()\n",
    "\n",
    "lsi = LensingSim([lens_list[0]], \n",
    "                 [src_param_dict], \n",
    "                 global_dict, \n",
    "                 observation_dict)\n",
    "\n",
    "image_hst = (lsi.lensed_image())\n",
    "\n",
    "v_min = -1\n",
    "v_max = 4.\n",
    "\n",
    "plt.figure()\n",
    "\n",
    "plt.imshow((image-image_hst),\n",
    "        cmap='gist_gray',\n",
    "        extent=(-coordinate_limit, coordinate_limit,-coordinate_limit, coordinate_limit),\n",
    "        origin=\"lower\"\n",
    ")\n",
    "plt.colorbar()\n",
    "\n",
    "print(np.sum(image-image_hst))"
   ]
  },
  {
   "cell_type": "code",
   "execution_count": 434,
   "metadata": {},
   "outputs": [
    {
     "name": "stdout",
     "output_type": "stream",
     "text": [
      "13.501877802636704\n"
     ]
    }
   ],
   "source": [
    "# Mapping mass to velocity dispersion\n",
    "4\n",
    "a = 0.09\n",
    "b = 3.48\n",
    "\n",
    "def Msv(sigma_v):\n",
    "    \"\"\" https://arxiv.org/pdf/1804.04492.pdf\n",
    "    \"\"\"\n",
    "    l10m = a + b * np.log10(sigma_v / (100*Kmps))\n",
    "    sigma_l10m = 0.13\n",
    "    l10m = np.random.normal(l10m, sigma_l10m)\n",
    "    return (10**l10m)*1e12*M_s\n",
    "\n",
    "print(np.log10(Msv(250*Kmps)/M_s))"
   ]
  },
  {
   "cell_type": "code",
   "execution_count": 412,
   "metadata": {},
   "outputs": [],
   "source": [
    "mag_zp = 25.5\n",
    "n_srsc = 1\n",
    "reff = 0.1\n",
    "\n",
    "from scipy.special import gamma\n",
    "\n",
    "def kappa(n):\n",
    "    \"\"\"\n",
    "    Sersic profile exponential scaling factor, called either kappa or b_n\n",
    "    Uses analytic expansion from Ciotti & Bertin 1999, A&A, 352, 447\n",
    "    \"\"\"\n",
    "    return (2*n - 1/3 + 4/405*n**-1 + 46/25515*n**-2 + 131/1148175*n**-3\n",
    "            - 2194697/30690717750*n**-4)\n",
    "\n",
    "def sb_eff_adu(mag, mag_zp):\n",
    "    \"\"\"\n",
    "    Returns the surface brightness (in flux units per pixel) at re\n",
    "    \"\"\"\n",
    "    bn = kappa(n_srsc)\n",
    "    flux_tot = total_flux_adu(mag, mag_zp)\n",
    "    return flux_tot / (np.pi * reff ** 2 * 2*n_srsc *\n",
    "                       np.exp(bn + np.log(bn) * -2*n_srsc) *\n",
    "                       gamma(2*n_srsc))\n",
    "\n",
    "def total_flux_adu(mag, mag_zp):\n",
    "    \"\"\"\n",
    "    Returns total flux of the integrated profile, in ADU relative to mag_zp\n",
    "    \"\"\"\n",
    "    return 10**(-0.4 * (mag - mag_zp))\n"
   ]
  },
  {
   "cell_type": "code",
   "execution_count": 232,
   "metadata": {},
   "outputs": [
    {
     "data": {
      "text/plain": [
       "13.264481269311071"
      ]
     },
     "execution_count": 232,
     "metadata": {},
     "output_type": "execute_result"
    }
   ],
   "source": [
    "sb_eff_adu(25, 25.5)"
   ]
  },
  {
   "cell_type": "code",
   "execution_count": 220,
   "metadata": {},
   "outputs": [
    {
     "data": {
      "text/plain": [
       "1.5848931924611136"
      ]
     },
     "execution_count": 220,
     "metadata": {},
     "output_type": "execute_result"
    }
   ],
   "source": [
    "total_flux_adu(25, 25.5)"
   ]
  },
  {
   "cell_type": "markdown",
   "metadata": {},
   "source": [
    "Makes sense!"
   ]
  },
  {
   "cell_type": "code",
   "execution_count": null,
   "metadata": {},
   "outputs": [],
   "source": []
  }
 ],
 "metadata": {
  "kernelspec": {
   "display_name": "Python 3",
   "language": "python",
   "name": "python3"
  },
  "language_info": {
   "codemirror_mode": {
    "name": "ipython",
    "version": 3
   },
   "file_extension": ".py",
   "mimetype": "text/x-python",
   "name": "python",
   "nbconvert_exporter": "python",
   "pygments_lexer": "ipython3",
   "version": "3.6.8"
  }
 },
 "nbformat": 4,
 "nbformat_minor": 2
}
