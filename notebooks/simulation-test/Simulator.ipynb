{
 "cells": [
  {
   "cell_type": "code",
   "execution_count": 71,
   "metadata": {},
   "outputs": [
    {
     "name": "stdout",
     "output_type": "stream",
     "text": [
      "The autoreload extension is already loaded. To reload it, use:\n",
      "  %reload_ext autoreload\n"
     ]
    }
   ],
   "source": [
    "import sys, os\n",
    "sys.path.append('../..')\n",
    "\n",
    "import numpy as np\n",
    "import matplotlib.pyplot as plt\n",
    "\n",
    "from simulation.lensing_sim import LensingSim\n",
    "from simulation.units import *\n",
    "from astropy.cosmology import Planck15\n",
    "\n",
    "\n",
    "%matplotlib inline\n",
    "%load_ext autoreload\n",
    "%autoreload 2"
   ]
  },
  {
   "cell_type": "code",
   "execution_count": 72,
   "metadata": {},
   "outputs": [],
   "source": [
    "from simulation.population_lensing_sim import SubhaloPopulation\n",
    "from simulation.profiles import MassProfileNFW"
   ]
  },
  {
   "cell_type": "code",
   "execution_count": 73,
   "metadata": {},
   "outputs": [],
   "source": [
    "from simulation.lensing_observation import LensingObservation"
   ]
  },
  {
   "cell_type": "code",
   "execution_count": 91,
   "metadata": {},
   "outputs": [
    {
     "data": {
      "text/plain": [
       "array([[6.66341848e+24, 3.02052000e+24, 1.38719956e+24, ...,\n",
       "        4.91866573e+22, 1.00104802e+23, 2.06954716e+23],\n",
       "       [2.82631236e+24, 1.26611509e+24, 5.74561220e+23, ...,\n",
       "        1.93071909e+22, 3.97817511e+22, 8.32580556e+22],\n",
       "       [1.21242334e+24, 5.36653908e+23, 2.40587539e+23, ...,\n",
       "        7.65397157e+21, 1.59708823e+22, 3.38457672e+22],\n",
       "       ...,\n",
       "       [2.83900598e+19, 1.04812068e+19, 3.90233405e+18, ...,\n",
       "        4.11899062e+16, 1.06562845e+17, 2.78679768e+17],\n",
       "       [5.20549556e+19, 1.94534638e+19, 7.33434622e+18, ...,\n",
       "        8.30657597e+16, 2.11612368e+17, 5.45228707e+17],\n",
       "       [9.74339200e+19, 3.68643185e+19, 1.40763897e+19, ...,\n",
       "        1.71121279e+17, 4.29254082e+17, 1.08959319e+18]])"
      ]
     },
     "execution_count": 91,
     "metadata": {},
     "output_type": "execute_result"
    }
   ],
   "source": []
  },
  {
   "cell_type": "code",
   "execution_count": 270,
   "metadata": {},
   "outputs": [
    {
     "name": "stdout",
     "output_type": "stream",
     "text": [
      "0.837045110048711 1.8129018913174275 0.6605927631492117 237.69243109625728 1.1582560483743747 0.06770533027259994 -0.1294989415614105 0.07251448952924992 25.039043584873433\n"
     ]
    },
    {
     "data": {
      "text/plain": [
       "<matplotlib.colorbar.Colorbar at 0x130f62e80>"
      ]
     },
     "execution_count": 270,
     "metadata": {},
     "output_type": "execute_result"
    },
    {
     "data": {
      "image/png": "[encoded data removed]",
      "text/plain": [
       "<Figure size 432x288 with 2 Axes>"
      ]
     },
     "metadata": {
      "needs_background": "light"
     },
     "output_type": "display_data"
    }
   ],
   "source": [
    "coordinate_limit = 2.5\n",
    "lo = LensingObservation()\n",
    "\n",
    "v_min = 2\n",
    "v_max = 2.8\n",
    "\n",
    "plt.figure()\n",
    "\n",
    "plt.imshow(np.log10((lo.image)),\n",
    "        vmin=v_min,\n",
    "        vmax=v_max,\n",
    "        cmap='gist_gray',\n",
    "        extent=(-coordinate_limit, coordinate_limit,-coordinate_limit, coordinate_limit),\n",
    "        origin=\"lower\"\n",
    ")\n",
    "plt.colorbar()"
   ]
  },
  {
   "cell_type": "code",
   "execution_count": 271,
   "metadata": {},
   "outputs": [
    {
     "data": {
      "text/plain": [
       "array([[nan, nan, nan, ..., nan, nan, nan],\n",
       "       [nan, nan, nan, ..., nan, nan, nan],\n",
       "       [nan, nan, nan, ..., nan, nan, nan],\n",
       "       ...,\n",
       "       [nan, nan, nan, ..., nan, nan, nan],\n",
       "       [nan, nan, nan, ..., nan, nan, nan],\n",
       "       [nan, nan, nan, ..., nan, nan, nan]])"
      ]
     },
     "execution_count": 271,
     "metadata": {},
     "output_type": "execute_result"
    }
   ],
   "source": [
    "lo.image"
   ]
  },
  {
   "cell_type": "code",
   "execution_count": 61,
   "metadata": {},
   "outputs": [],
   "source": [
    "def Msv(sigma_v):\n",
    "    \"\"\" https://arxiv.org/pdf/1804.04492.pdf\n",
    "    \"\"\"\n",
    "    a = 0.09\n",
    "    b = 3.48\n",
    "\n",
    "    l10m = a + b * np.log10(sigma_v / (100*Kmps))\n",
    "    sigma_l10m = 0.13\n",
    "    l10m = np.random.normal(l10m, sigma_l10m)\n",
    "    return (10**l10m)*1e12*M_s\n",
    "\n",
    "def total_flux_adu(mag, mag_zp):\n",
    "    \"\"\"\n",
    "    Returns total flux of the integrated profile, in ADU relative to mag_zp\n",
    "    \"\"\"\n",
    "    return 10**(-0.4 * (mag - mag_zp))"
   ]
  },
  {
   "cell_type": "code",
   "execution_count": 50,
   "metadata": {},
   "outputs": [
    {
     "data": {
      "text/plain": [
       "519"
      ]
     },
     "execution_count": 50,
     "metadata": {},
     "output_type": "execute_result"
    }
   ],
   "source": [
    "M_hst = Msv(250*Kmps)\n",
    "c_hst = MassProfileNFW.c_200_SCP(M_hst)\n",
    "m_min = 1e7*M_s\n",
    "\n",
    "z_s = 2.\n",
    "z_l = 0.5\n",
    "\n",
    "D_s = Planck15.angular_diameter_distance(z=z_s).value * Mpc\n",
    "D_l = Planck15.angular_diameter_distance(z=z_l).value * Mpc\n",
    "\n",
    "r_s, rho_s = MassProfileNFW.get_r_s_rho_s_NFW(M_hst, c_hst)\n",
    "\n",
    "ps = SubhaloPopulation(N_calib=150, M_hst=M_hst, c_hst=c_hst, m_min=m_min, theta_s=r_s/D_l)\n",
    "ps.n_sub_roi"
   ]
  },
  {
   "cell_type": "code",
   "execution_count": 42,
   "metadata": {},
   "outputs": [
    {
     "data": {
      "text/plain": [
       "<matplotlib.colorbar.Colorbar at 0x1212f0940>"
      ]
     },
     "execution_count": 42,
     "metadata": {},
     "output_type": "execute_result"
    },
    {
     "data": {
      "image/png": "[encoded data removed]",
      "text/plain": [
       "<Figure size 432x288 with 2 Axes>"
      ]
     },
     "metadata": {
      "needs_background": "light"
     },
     "output_type": "display_data"
    },
    {
     "data": {
      "image/png": "[encoded data removed]",
      "text/plain": [
       "<Figure size 432x288 with 2 Axes>"
      ]
     },
     "metadata": {
      "needs_background": "light"
     },
     "output_type": "display_data"
    }
   ],
   "source": [
    "m_sub = ps.m_sample\n",
    "\n",
    "coordinate_limit = 2.5\n",
    "exposure = 1610\n",
    "f_iso = total_flux_adu(22.2, 25.5) \n",
    "S_tot = total_flux_adu(25.5, 25.5)\n",
    "\n",
    "hst_param_dict = {\n",
    "            \"profile\": \"SIE\",\n",
    "            \"theta_x_0\": 0.0,\n",
    "            \"theta_y_0\": 0.0,\n",
    "            \"theta_E\": 1,\n",
    "            \"q\": 1,\n",
    "}\n",
    "\n",
    "lens_list = [hst_param_dict]\n",
    "\n",
    "for m in m_sub:\n",
    "    c = MassProfileNFW.c_200_SCP(m)\n",
    "    r_s, rho_s = MassProfileNFW.get_r_s_rho_s_NFW(m, c)\n",
    "    sub_param_dict = {\n",
    "                \"profile\": \"NFW\",\n",
    "                \"theta_x_0\": np.random.uniform(-2,2),\n",
    "                \"theta_y_0\": np.random.uniform(-2,2),\n",
    "                \"M_200\": m,\n",
    "                \"r_s\": r_s,\n",
    "                \"rho_s\": rho_s\n",
    "    }\n",
    "\n",
    "    lens_list.append(sub_param_dict)\n",
    "\n",
    "\n",
    "observation_dict = {\n",
    "            \"n_x\": 64,\n",
    "            \"n_y\": 64,\n",
    "            \"theta_x_lims\": (-coordinate_limit, coordinate_limit),\n",
    "            \"theta_y_lims\": (-coordinate_limit, coordinate_limit),\n",
    "            \"exposure\": exposure,\n",
    "            \"f_iso\": f_iso,\n",
    "        }\n",
    "\n",
    "src_param_dict = {\n",
    "            \"profile\": \"Sersic\",\n",
    "            \"theta_x_0\": .01,\n",
    "            \"theta_y_0\": .01,\n",
    "            \"S_tot\": S_tot,\n",
    "            \"theta_e\": 0.1,\n",
    "            \"n_srsc\": 1,\n",
    "        }\n",
    "\n",
    "global_dict = {\"z_s\": z_s, \"z_l\": z_l}\n",
    "\n",
    "lsi = LensingSim(lens_list, \n",
    "                 [src_param_dict], \n",
    "                 global_dict, \n",
    "                 observation_dict)\n",
    "\n",
    "image = np.random.poisson(lsi.lensed_image())\n",
    "\n",
    "v_min = 2\n",
    "v_max = 3.\n",
    "\n",
    "plt.figure()\n",
    "\n",
    "plt.imshow(np.log10(image),\n",
    "        vmin=v_min,\n",
    "        vmax=v_max,\n",
    "        cmap='gist_gray',\n",
    "        extent=(-coordinate_limit, coordinate_limit,-coordinate_limit, coordinate_limit),\n",
    "        origin=\"lower\"\n",
    ")\n",
    "plt.colorbar()\n",
    "\n",
    "lsi = LensingSim([lens_list[0]], \n",
    "                 [src_param_dict], \n",
    "                 global_dict, \n",
    "                 observation_dict)\n",
    "\n",
    "image_hst = np.random.poisson(lsi.lensed_image())\n",
    "\n",
    "plt.figure()\n",
    "\n",
    "plt.imshow((image - image_hst),\n",
    "        cmap='gist_gray',\n",
    "        extent=(-coordinate_limit, coordinate_limit,-coordinate_limit, coordinate_limit),\n",
    "        origin=\"lower\"\n",
    ")\n",
    "plt.colorbar()\n",
    "\n"
   ]
  },
  {
   "cell_type": "code",
   "execution_count": null,
   "metadata": {},
   "outputs": [],
   "source": []
  },
  {
   "cell_type": "code",
   "execution_count": null,
   "metadata": {},
   "outputs": [],
   "source": []
  }
 ],
 "metadata": {
  "kernelspec": {
   "display_name": "Python 3",
   "language": "python",
   "name": "python3"
  },
  "language_info": {
   "codemirror_mode": {
    "name": "ipython",
    "version": 3
   },
   "file_extension": ".py",
   "mimetype": "text/x-python",
   "name": "python",
   "nbconvert_exporter": "python",
   "pygments_lexer": "ipython3",
   "version": "3.6.8"
  }
 },
 "nbformat": 4,
 "nbformat_minor": 2
}
