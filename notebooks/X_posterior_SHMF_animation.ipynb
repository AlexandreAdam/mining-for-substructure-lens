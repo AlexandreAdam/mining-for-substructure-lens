{
 "cells": [
  {
   "cell_type": "markdown",
   "metadata": {},
   "source": [
    "# Bayesian inference"
   ]
  },
  {
   "cell_type": "code",
   "execution_count": 1,
   "metadata": {},
   "outputs": [],
   "source": [
    "import sys, os\n",
    "import logging\n",
    "import numpy as np\n",
    "from scipy.stats import uniform, norm\n",
    "import matplotlib\n",
    "import matplotlib.pyplot as plt\n",
    "from matplotlib import animation\n",
    "%matplotlib inline\n",
    "\n",
    "sys.path.append('../')\n",
    "import paper_settings\n",
    "from simulation.units import *\n",
    "from simulation.prior import get_grid\n",
    "from inference.bayes import Posterior"
   ]
  },
  {
   "cell_type": "code",
   "execution_count": 2,
   "metadata": {},
   "outputs": [],
   "source": [
    "paper_settings.setup()"
   ]
  },
  {
   "cell_type": "markdown",
   "metadata": {},
   "source": [
    "## Setup"
   ]
  },
  {
   "cell_type": "code",
   "execution_count": 3,
   "metadata": {},
   "outputs": [
    {
     "data": {
      "text/plain": [
       "(62, 22.0, 88)"
      ]
     },
     "execution_count": 3,
     "metadata": {},
     "output_type": "execute_result"
    }
   ],
   "source": [
    "n_samples = (\n",
    "    list(range(0,20)) + list(range(20,50,2))\n",
    "    + list(range(50,100, 5)) + list(range(100, 260, 10)) + [256]\n",
    ")\n",
    "\n",
    "frame_time = 0.25  # s\n",
    "frames = [8] + [1] * (len(n_samples) - 2) + [20]\n",
    "total_frames = sum(frames)\n",
    "len(n_samples), total_frames * frame_time, total_frames\n"
   ]
  },
  {
   "cell_type": "code",
   "execution_count": 4,
   "metadata": {},
   "outputs": [],
   "source": [
    "filename = \"calibrated_alices_full_sgd1e2_grid\"\n",
    "sample_seed = 200"
   ]
  },
  {
   "cell_type": "code",
   "execution_count": 5,
   "metadata": {},
   "outputs": [],
   "source": [
    "def flat_prior(thetas):\n",
    "    f_sub = thetas[:,0]\n",
    "    beta = thetas[:,1]\n",
    "    \n",
    "    return uniform(0.001, 0.199).pdf(f_sub).flatten() * uniform(-2.5, 1.0).pdf(beta).flatten()"
   ]
  },
  {
   "cell_type": "markdown",
   "metadata": {},
   "source": [
    "## Data"
   ]
  },
  {
   "cell_type": "code",
   "execution_count": 6,
   "metadata": {},
   "outputs": [],
   "source": [
    "samples_per_frame = []\n",
    "for i, f in enumerate(frames):\n",
    "    samples_per_frame += [i] * f"
   ]
  },
  {
   "cell_type": "code",
   "execution_count": 7,
   "metadata": {},
   "outputs": [],
   "source": [
    "n_max = n_samples[-1]\n",
    "llr = np.load(\"../data/results/llr_{}.npy\".format(filename))[:,sample_seed:sample_seed+n_max]\n",
    "xs = np.load(\"../data/samples/x_test_full_point.npy\")[sample_seed:sample_seed+n_max]"
   ]
  },
  {
   "cell_type": "code",
   "execution_count": 8,
   "metadata": {},
   "outputs": [],
   "source": [
    "resolution = 25\n",
    "\n",
    "f_sub_1d = np.linspace(0.001, 0.200, resolution)\n",
    "beta_1d = np.linspace(-2.5, -1.5, resolution)\n",
    "\n",
    "theta0, theta1 = np.meshgrid(f_sub_1d, beta_1d)\n",
    "theta_grid = np.vstack((theta0.flatten(), theta1.flatten())).T\n",
    "\n",
    "bin_size = f_sub_1d[1] - f_sub_1d[0]\n",
    "alpha_edges = np.linspace(f_sub_1d[0] - bin_size/2, f_sub_1d[-1] + bin_size/2, resolution + 1)\n",
    "bin_size = beta_1d[1] - beta_1d[0]\n",
    "beta_edges = np.linspace(beta_1d[0] - bin_size/2, beta_1d[-1] + bin_size/2, resolution + 1)"
   ]
  },
  {
   "cell_type": "markdown",
   "metadata": {},
   "source": [
    "## Calculate posteriors on f_sub, beta"
   ]
  },
  {
   "cell_type": "code",
   "execution_count": 9,
   "metadata": {},
   "outputs": [],
   "source": [
    "posteriors = []\n",
    "\n",
    "for n in n_samples:\n",
    "    if n == 0:\n",
    "        posteriors.append(flat_prior(theta_grid))\n",
    "    else:\n",
    "        bayes = Posterior(llr[:,:n], theta_grid)\n",
    "        posteriors.append(bayes.posterior_based_on_expected_llr(n, flat_prior))\n",
    "                          \n",
    "posteriors = np.array(posteriors)"
   ]
  },
  {
   "cell_type": "markdown",
   "metadata": {},
   "source": [
    "## Drawing from posterior"
   ]
  },
  {
   "cell_type": "code",
   "execution_count": 10,
   "metadata": {},
   "outputs": [],
   "source": [
    "def draw_fsub_beta(posterior):\n",
    "    posterior /= np.sum(posterior)\n",
    "    \n",
    "    # Draw bin\n",
    "    i_bin = np.random.choice(list(range(625)), p=posterior)\n",
    "    \n",
    "    # Draw f_sub and theta uniformly within bin\n",
    "    f_sub = theta_grid[i_bin][0] + (f_sub_1d[1] - f_sub_1d[0]) * (np.random.random() - 0.5)\n",
    "    beta = theta_grid[i_bin][1] + (beta_edges[1] - beta_edges[0]) * (np.random.random() - 0.5)\n",
    "    \n",
    "    return f_sub, beta"
   ]
  },
  {
   "cell_type": "markdown",
   "metadata": {},
   "source": [
    "## SHMF"
   ]
  },
  {
   "cell_type": "code",
   "execution_count": 11,
   "metadata": {},
   "outputs": [],
   "source": [
    "def M_200_sigma_v(sigma_v, scatter=False):\n",
    "    \"\"\"\n",
    "    Relate central velocity dispersion to halo virial mass\n",
    "    From https://arxiv.org/pdf/1804.04492.pdf\n",
    "    \"\"\"\n",
    "    a = 0.09\n",
    "    b = 3.48\n",
    "    if scatter:\n",
    "        sigma_log10_M_200 = 0.13  # Lognormal scatter\n",
    "        log10_M_200 = np.random.normal(a + b * np.log10(sigma_v / (100 * Kmps)), sigma_log10_M_200)\n",
    "    else:\n",
    "        log10_M_200 = a + b * np.log10(sigma_v / (100 * Kmps))\n",
    "    return (10 ** log10_M_200) * 1e12 * M_s"
   ]
  },
  {
   "cell_type": "code",
   "execution_count": 12,
   "metadata": {},
   "outputs": [],
   "source": [
    "def shmf_by_mhost(fsub, beta, msubs):\n",
    "    \"\"\" Evaluates dn / dm for a given set of m (msubs)\"\"\"\n",
    "    \n",
    "    sigma_v = np.random.normal(225, 50)\n",
    "    mhost = M_200_sigma_v(sigma_v * Kmps)\n",
    "    \n",
    "    m_min_calib=1e6 * M_s\n",
    "    m_max_calib=0.01 * mhost\n",
    "    M_0=M_MW\n",
    "    m_0 = 1.e9 * M_s\n",
    "                \n",
    "    alpha = fsub * ((2 + beta) * M_0 * m_0 ** beta) / (m_max_calib ** (beta + 2) - m_min_calib ** (beta + 2))\n",
    "    \n",
    "    return np.where(msubs > m_max_calib, 0., alpha * (mhost / M_0) * (msubs / m_0)**beta / mhost)\n",
    "                "
   ]
  },
  {
   "cell_type": "markdown",
   "metadata": {},
   "source": [
    "## Generate SHMF data"
   ]
  },
  {
   "cell_type": "code",
   "execution_count": 13,
   "metadata": {},
   "outputs": [],
   "source": [
    "n_realizations = 10000\n",
    "fsub_true, beta_true = 0.05, -1.9\n",
    "msubs = np.geomspace(1.e7, 1e12, 200) * M_s"
   ]
  },
  {
   "cell_type": "code",
   "execution_count": 14,
   "metadata": {},
   "outputs": [],
   "source": [
    "def mean_and_ci(samples, levels=[0.68, 0.95]):\n",
    "    samples = samples[np.all(np.isfinite(samples),axis=1),:]\n",
    "    mean = np.mean(samples, axis=0)\n",
    "    all_down = [np.quantile(samples, (1. - level)/2, axis=0) for level in levels]\n",
    "    all_up = [np.quantile(samples, 1. - (1. - level)/2, axis=0) for level in levels]\n",
    "    all_cis = np.array([all_down, all_up])\n",
    "\n",
    "    return mean, all_cis"
   ]
  },
  {
   "cell_type": "code",
   "execution_count": 15,
   "metadata": {},
   "outputs": [],
   "source": [
    "shmfs = []\n",
    "for _ in range(n_realizations):\n",
    "    shmfs.append(shmf_by_mhost(fsub_true, beta_true, msubs))\n",
    "shmf_true, _ = mean_and_ci(np.asarray(shmfs), levels=[])    # (n_datapoints)"
   ]
  },
  {
   "cell_type": "code",
   "execution_count": 16,
   "metadata": {},
   "outputs": [
    {
     "name": "stderr",
     "output_type": "stream",
     "text": [
      "/Users/johannbrehmer/anaconda3/envs/lensing/lib/python3.6/site-packages/ipykernel_launcher.py:12: RuntimeWarning: invalid value encountered in log10\n",
      "  if sys.path[0] == '':\n",
      "/Users/johannbrehmer/anaconda3/envs/lensing/lib/python3.6/site-packages/ipykernel_launcher.py:14: RuntimeWarning: invalid value encountered in greater\n",
      "  \n"
     ]
    }
   ],
   "source": [
    "shmf_posteriors = []\n",
    "shmf_posterior_cis = []\n",
    "\n",
    "for posterior_ in posteriors:\n",
    "    shmfs = []\n",
    "    for _ in range(n_realizations):\n",
    "        fsub_, beta_ = draw_fsub_beta(posterior_)\n",
    "        shmfs.append(shmf_by_mhost(fsub_, beta_, msubs))\n",
    "        \n",
    "    mean, ci = mean_and_ci(np.asarray(shmfs), levels=[0.68, 0.95])\n",
    "    \n",
    "    shmf_posteriors.append(mean)\n",
    "    shmf_posterior_cis.append(ci)\n",
    "    \n",
    "shmf_posteriors = np.asarray(shmf_posteriors)  # (n_frames, n_datapoints)\n",
    "shmf_posterior_cis = np.asarray(shmf_posterior_cis)  # (n_frames, 2, n_bands, n_datapoints)"
   ]
  },
  {
   "cell_type": "code",
   "execution_count": 17,
   "metadata": {},
   "outputs": [],
   "source": [
    "x = 1./M_s * msubs\n",
    "y_mult = msubs**2"
   ]
  },
  {
   "cell_type": "markdown",
   "metadata": {},
   "source": [
    "## Animation with only SHMF"
   ]
  },
  {
   "cell_type": "code",
   "execution_count": 25,
   "metadata": {},
   "outputs": [],
   "source": [
    "def draw_frame(frame, show=False):\n",
    "    step = samples_per_frame[frame]\n",
    "    n = n_samples[step]\n",
    " \n",
    "    # plt.clf()\n",
    "    \n",
    "    fillpost2 = plt.fill_between(x, y_mult * shmf_posterior_cis[step,0, 1], msubs**2 * shmf_posterior_cis[step,1, 1], facecolor=paper_settings.COLOR_FIX, edgecolor=paper_settings.COLOR_FIX)\n",
    "    fillpost1 = plt.fill_between(x, y_mult * shmf_posterior_cis[step,0, 0], msubs**2 * shmf_posterior_cis[step,1, 0], facecolor=paper_settings.COLOR_ALIGN, edgecolor=paper_settings.COLOR_ALIGN)\n",
    "    lpost, = plt.plot(x, y_mult * shmf_posteriors[step], alpha=1., c=paper_settings.COLOR_FULL, lw=1.0)\n",
    "    ltrue, = plt.plot(x, y_mult * shmf_true, alpha=1., c=\"black\", lw=1.0, ls=\":\")\n",
    "    text = plt.text(2.e7, 1.4e-2, r\"$n={}$\".format(n), ha=\"left\", va=\"bottom\")\n",
    "    \n",
    "    plt.xlabel(r\"$m_{200}$ [$\\mathrm{M}_{\\odot}$]\")\n",
    "    ax.xaxis.set_label_coords(0.5, -0.11)\n",
    "    plt.ylabel(r\"$\\frac {m_{200}^2}{M_{200}} \\frac{\\mathrm{d}n}{\\mathrm{d}m_{200}}$\")\n",
    "    ax.yaxis.set_label_coords(-0.115, 0.5)\n",
    "    ax.yaxis.set_ticks([0.,0.005,0.010])\n",
    "    ax.yaxis.set_tick_params(pad=1)\n",
    "\n",
    "    plt.xscale(\"log\")\n",
    "    plt.xlim(1.e7, 1.e12)\n",
    "    plt.yscale(\"log\")\n",
    "    plt.ylim(0.001,0.02)\n",
    "    \n",
    "    if show:\n",
    "        plt.show()\n",
    "        return\n",
    "    return [fillpost2, fillpost1, lpost, ltrue, text]\n",
    "    "
   ]
  },
  {
   "cell_type": "code",
   "execution_count": 26,
   "metadata": {},
   "outputs": [
    {
     "data": {
      "image/png": "[encoded data removed]",
      "text/plain": [
       "<Figure size 204.48x204.48 with 1 Axes>"
      ]
     },
     "metadata": {
      "needs_background": "light"
     },
     "output_type": "display_data"
    }
   ],
   "source": [
    "fig, ax = paper_settings.figure()\n",
    "ims = [draw_frame(n) for n in range(total_frames)]\n",
    "ani = animation.ArtistAnimation(fig, ims, interval=200)\n",
    "ani.save('../figures/live_inference_shmf.gif', dpi=300, writer='imagemagick')"
   ]
  },
  {
   "cell_type": "markdown",
   "metadata": {},
   "source": [
    "## Animation of only population-level parameters"
   ]
  },
  {
   "cell_type": "code",
   "execution_count": 21,
   "metadata": {},
   "outputs": [],
   "source": [
    "def draw_frame(frame, show=False):\n",
    "    step = samples_per_frame[frame]\n",
    "    n = n_samples[step]\n",
    "    \n",
    "    pmin, pmax = 1.e-9, 0.05\n",
    "    z = np.clip(posteriors[step], pmin + 1.e-9, pmax)\n",
    "    z[~np.isfinite(z)] = pmin + 1.e-9\n",
    " \n",
    "    # plt.clf()\n",
    "\n",
    "    pcm = ax.imshow(\n",
    "        z.reshape((resolution, resolution)),\n",
    "        extent=(alpha_edges[0],alpha_edges[-1],beta_edges[0], beta_edges[-1]),\n",
    "        cmap=paper_settings.CMAP2,\n",
    "        origin=\"lower\",\n",
    "        aspect=\"auto\",\n",
    "        interpolation=\"nearest\",\n",
    "        norm=matplotlib.colors.LogNorm(vmin=pmin, vmax=pmax),\n",
    "    )\n",
    "    sc = ax.scatter(0.05, -1.9, s=15., color='black', marker='*')\n",
    "    text = plt.text(0.145, -2.45, r\"$n={}$\".format(n), color=\"white\", ha=\"left\", va=\"bottom\")\n",
    "    \n",
    "    plt.xlabel(r'$f_{\\mathrm{sub}}$')\n",
    "    plt.ylabel(r'$\\beta$')\n",
    "    plt.xlim(0.,0.2)\n",
    "    plt.ylim(-2.5,-1.5) \n",
    "    plt.xticks([0.,0.05,0.1,0.15,0.2])\n",
    "    plt.yticks([-1.6,-1.8,-2.0,-2.2,-2.4],[\"-0.6\", \"-0.8\", \"-1.0\", \"-1.2\", \"-1.4\"])\n",
    "    \n",
    "    if show:\n",
    "        plt.show()\n",
    "        return\n",
    "    return [pcm, sc, text]\n"
   ]
  },
  {
   "cell_type": "code",
   "execution_count": 23,
   "metadata": {},
   "outputs": [
    {
     "data": {
      "image/png": "[encoded data removed]",
      "text/plain": [
       "<Figure size 204.48x204.48 with 1 Axes>"
      ]
     },
     "metadata": {
      "needs_background": "light"
     },
     "output_type": "display_data"
    }
   ],
   "source": [
    "fig, ax = paper_settings.figure()\n",
    "ims = [draw_frame(n) for n in range(total_frames)]\n",
    "ani = animation.ArtistAnimation(fig, ims, interval=200)\n",
    "ani.save('../figures/live_inference_population.gif', dpi=300, writer='imagemagick')"
   ]
  },
  {
   "cell_type": "markdown",
   "metadata": {},
   "source": [
    "## Combined animation"
   ]
  },
  {
   "cell_type": "code",
   "execution_count": 18,
   "metadata": {},
   "outputs": [],
   "source": [
    "def draw_frame(frame, show=False):\n",
    "    step = samples_per_frame[frame]\n",
    "    n = n_samples[step]\n",
    " \n",
    "    # Left part\n",
    "    plt.sca(ax_left)\n",
    "    \n",
    "    pmin, pmax = 1.e-9, 0.05\n",
    "    z = np.clip(posteriors[step], pmin, pmax)\n",
    "    z[~np.isfinite(z)] = pmin\n",
    "\n",
    "    pcm = ax_left.imshow(\n",
    "        z.reshape((resolution, resolution)),\n",
    "        extent=(alpha_edges[0],alpha_edges[-1],beta_edges[0], beta_edges[-1]),\n",
    "        cmap=paper_settings.CMAP2,\n",
    "        origin=\"lower\",\n",
    "        aspect=\"auto\",\n",
    "        interpolation=\"nearest\",\n",
    "        norm=matplotlib.colors.LogNorm(vmin=pmin, vmax=pmax),\n",
    "    )\n",
    "    sc = ax_left.scatter(0.05, -1.9, s=15., color='black', marker='*')\n",
    "    # text2 = plt.text(0.145, -2.45, r\"$n={}$\".format(n), color=\"white\", ha=\"left\", va=\"bottom\")\n",
    "    \n",
    "    plt.xlabel(r'$f_{\\mathrm{sub}}$')\n",
    "    ax_left.xaxis.set_label_coords(0.5, -0.11)\n",
    "    plt.ylabel(r'$\\beta$')\n",
    "    plt.xlim(0.,0.2)\n",
    "    plt.ylim(-2.5,-1.5) \n",
    "    plt.xticks([0.,0.05,0.1,0.15,0.2])\n",
    "    plt.yticks([-1.6,-1.8,-2.0,-2.2,-2.4],[\"-0.6\", \"-0.8\", \"-1.0\", \"-1.2\", \"-1.4\"])\n",
    "    \n",
    "    \n",
    "    # Right part\n",
    "    plt.sca(ax_right)\n",
    "    \n",
    "    fillpost2 = ax_right.fill_between(x, y_mult * shmf_posterior_cis[step,0, 1], msubs**2 * shmf_posterior_cis[step,1, 1], facecolor=paper_settings.COLOR_FIX, edgecolor=paper_settings.COLOR_FIX)\n",
    "    fillpost1 = ax_right.fill_between(x, y_mult * shmf_posterior_cis[step,0, 0], msubs**2 * shmf_posterior_cis[step,1, 0], facecolor=paper_settings.COLOR_ALIGN, edgecolor=paper_settings.COLOR_ALIGN)\n",
    "    lpost, = ax_right.plot(x, y_mult * shmf_posteriors[step], alpha=1., c=paper_settings.COLOR_FULL, lw=1.0)\n",
    "    ltrue, = ax_right.plot(x, y_mult * shmf_true, alpha=1., c=\"black\", lw=1.0, ls=\":\")\n",
    "    text1 = plt.text(2.e7, 1.4e-2, r\"$n={}$\".format(n), ha=\"left\", va=\"bottom\")\n",
    "    \n",
    "    plt.xlabel(r\"$m_{200}$ [$\\mathrm{M}_{\\odot}$]\")\n",
    "    ax_right.xaxis.set_label_coords(0.5, -0.11)\n",
    "    plt.ylabel(r\"$\\frac {m_{200}^2}{M_{200}} \\frac{\\mathrm{d}n}{\\mathrm{d}m_{200}}$\")\n",
    "    ax_right.yaxis.set_label_coords(-0.115, 0.5)\n",
    "    ax_right.yaxis.set_ticks([0.,0.005,0.010])\n",
    "    ax_right.yaxis.set_tick_params(pad=1)\n",
    "\n",
    "    plt.xscale(\"log\")\n",
    "    plt.xlim(1.e7, 1.e12)\n",
    "    plt.yscale(\"log\")\n",
    "    plt.ylim(0.001,0.02)\n",
    "    \n",
    "    \n",
    "    # Done\n",
    "    if show:\n",
    "        plt.show()\n",
    "        return\n",
    "    return [pcm, sc, text1, fillpost2, fillpost1, lpost, ltrue]\n"
   ]
  },
  {
   "cell_type": "code",
   "execution_count": 19,
   "metadata": {},
   "outputs": [
    {
     "data": {
      "image/png": "[encoded data removed]",
      "text/plain": [
       "<Figure size 404.64x204.48 with 2 Axes>"
      ]
     },
     "metadata": {
      "needs_background": "light"
     },
     "output_type": "display_data"
    }
   ],
   "source": [
    "fig, ax_left, ax_right = paper_settings.two_figures()\n",
    "ims = [draw_frame(n) for n in range(total_frames)]\n",
    "ani = animation.ArtistAnimation(fig, ims, interval=200)\n",
    "ani.save('../figures/live_inference_both.gif', dpi=300, writer='imagemagick')\n"
   ]
  },
  {
   "cell_type": "markdown",
   "metadata": {},
   "source": [
    "## Full animation including lens images"
   ]
  },
  {
   "cell_type": "code",
   "execution_count": 20,
   "metadata": {},
   "outputs": [],
   "source": [
    "pmin, pmax = 1.e-9, 0.05\n",
    "xmin, xmax = 2.3, 3.15"
   ]
  },
  {
   "cell_type": "code",
   "execution_count": 21,
   "metadata": {},
   "outputs": [],
   "source": [
    "def draw_frame(frame, show=False):\n",
    "    global ax_images\n",
    "    \n",
    "    step = samples_per_frame[frame]\n",
    "    n = n_samples[step]\n",
    " \n",
    "    # Left part\n",
    "    plt.sca(ax_left)\n",
    "    \n",
    "    z = np.clip(posteriors[step], pmin, pmax)\n",
    "    z[~np.isfinite(z)] = pmin\n",
    "\n",
    "    pcm = ax_left.imshow(\n",
    "        z.reshape((resolution, resolution)),\n",
    "        extent=(alpha_edges[0],alpha_edges[-1],beta_edges[0], beta_edges[-1]),\n",
    "        cmap=paper_settings.CMAP2,\n",
    "        origin=\"lower\",\n",
    "        aspect=\"auto\",\n",
    "        interpolation=\"nearest\",\n",
    "        norm=matplotlib.colors.LogNorm(vmin=pmin, vmax=pmax),\n",
    "    )\n",
    "    sc = ax_left.scatter(0.05, -1.9, s=15., color='black', marker='*')\n",
    "    \n",
    "    plt.xlabel(r'$f_{\\mathrm{sub}}$')\n",
    "    ax_left.xaxis.set_label_coords(0.5, -0.11)\n",
    "    plt.ylabel(r'$\\beta$')\n",
    "    plt.xlim(0.,0.2)\n",
    "    plt.ylim(-2.5,-1.5) \n",
    "    plt.xticks([0.,0.05,0.1,0.15,0.2])\n",
    "    plt.yticks([-1.6,-1.8,-2.0,-2.2,-2.4],[\"-0.6\", \"-0.8\", \"-1.0\", \"-1.2\", \"-1.4\"])\n",
    "    \n",
    "    \n",
    "    # Right part\n",
    "    plt.sca(ax_mid)\n",
    "    \n",
    "    fillpost2 = ax_mid.fill_between(x, y_mult * shmf_posterior_cis[step,0, 1], msubs**2 * shmf_posterior_cis[step,1, 1], facecolor=paper_settings.COLOR_FIX, edgecolor=paper_settings.COLOR_FIX)\n",
    "    fillpost1 = ax_mid.fill_between(x, y_mult * shmf_posterior_cis[step,0, 0], msubs**2 * shmf_posterior_cis[step,1, 0], facecolor=paper_settings.COLOR_ALIGN, edgecolor=paper_settings.COLOR_ALIGN)\n",
    "    lpost, = ax_mid.plot(x, y_mult * shmf_posteriors[step], alpha=1., c=paper_settings.COLOR_FULL, lw=1.0)\n",
    "    ltrue, = ax_mid.plot(x, y_mult * shmf_true, alpha=1., c=\"black\", lw=1.0, ls=\":\")\n",
    "    text1 = ax_mid.text(2.e7, 1.4e-2, r\"$n={}$\".format(n), ha=\"left\", va=\"bottom\")\n",
    "    \n",
    "    plt.xlabel(r\"$m_{200}$ [$\\mathrm{M}_{\\odot}$]\")\n",
    "    ax_mid.xaxis.set_label_coords(0.5, -0.11)\n",
    "    plt.ylabel(r\"$\\frac {m_{200}^2}{M_{200}} \\frac{\\mathrm{d}n}{\\mathrm{d}m_{200}}$\")\n",
    "    ax_mid.yaxis.set_label_coords(-0.115, 0.5)\n",
    "    ax_mid.yaxis.set_ticks([0.,0.005,0.010])\n",
    "    ax_mid.yaxis.set_tick_params(pad=1)\n",
    "\n",
    "    plt.xscale(\"log\")\n",
    "    plt.xlim(1.e7, 1.e12)\n",
    "    plt.yscale(\"log\")\n",
    "    plt.ylim(0.001,0.02)\n",
    "    \n",
    "    \n",
    "    # Lens images\n",
    "    while len(ax_images) < n:\n",
    "        ax_images = paper_settings.add_image_to_roster(fig, ax_images, images_coords, sep_fraction=0.08)\n",
    "        \n",
    "    images = []\n",
    "    for i, ax in enumerate(ax_images):\n",
    "        images.append(\n",
    "            ax.imshow(\n",
    "                np.log10(xs[i]),\n",
    "                vmin=xmin,\n",
    "                vmax=xmax,\n",
    "                cmap='gist_gray',\n",
    "                extent=(-3.2,3.2,-3.2,3.2),\n",
    "                origin=\"lower\",\n",
    "                alpha=1.\n",
    "            )\n",
    "        )\n",
    "    \n",
    "    # Done\n",
    "    if show:\n",
    "        plt.show()\n",
    "        return\n",
    "    return [pcm, sc, text1, fillpost2, fillpost1, lpost, ltrue] + images\n"
   ]
  },
  {
   "cell_type": "code",
   "execution_count": null,
   "metadata": {},
   "outputs": [],
   "source": [
    "fig, ax_left, ax_mid, images_coords = paper_settings.animated_special()\n",
    "ax_images = []\n",
    "ims = [draw_frame(n) for n in range(total_frames)]\n",
    "ani = animation.ArtistAnimation(fig, ims, interval=200, blit=True)\n",
    "ani.save('../figures/live_inference_with_images.gif', dpi=300, writer='imagemagick')\n",
    "ani.save('../figures/live_inference_with_images_small.gif', dpi=120, writer='imagemagick')"
   ]
  },
  {
   "cell_type": "code",
   "execution_count": null,
   "metadata": {},
   "outputs": [],
   "source": [
    "fig, ax_left, ax_mid, images_coords = paper_settings.animated_special(flipped=True)\n",
    "ax_images = []\n",
    "ims = [draw_frame(n) for n in range(total_frames)]\n",
    "ani = animation.ArtistAnimation(fig, ims, interval=200, blit=True)\n",
    "ani.save('../figures/live_inference_with_images_reverse.gif', dpi=300, writer='imagemagick')\n",
    "ani.save('../figures/live_inference_with_images_reverse_small.gif', dpi=120, writer='imagemagick')"
   ]
  },
  {
   "cell_type": "code",
   "execution_count": null,
   "metadata": {},
   "outputs": [],
   "source": []
  }
 ],
 "metadata": {
  "kernelspec": {
   "display_name": "Python (lensing)",
   "language": "python",
   "name": "lensing"
  },
  "language_info": {
   "codemirror_mode": {
    "name": "ipython",
    "version": 3
   },
   "file_extension": ".py",
   "mimetype": "text/x-python",
   "name": "python",
   "nbconvert_exporter": "python",
   "pygments_lexer": "ipython3",
   "version": "3.6.8"
  }
 },
 "nbformat": 4,
 "nbformat_minor": 2
}
