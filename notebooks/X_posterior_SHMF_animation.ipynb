{
 "cells": [
  {
   "cell_type": "markdown",
   "metadata": {},
   "source": [
    "# Bayesian inference"
   ]
  },
  {
   "cell_type": "code",
   "execution_count": 1,
   "metadata": {},
   "outputs": [],
   "source": [
    "import sys, os\n",
    "import logging\n",
    "import numpy as np\n",
    "from scipy.stats import uniform, norm\n",
    "import matplotlib\n",
    "import matplotlib.pyplot as plt\n",
    "from matplotlib.legend_handler import HandlerPatch\n",
    "%matplotlib inline\n",
    "\n",
    "sys.path.append('../')\n",
    "import paper_settings\n",
    "from simulation.units import *\n",
    "from simulation.prior import get_grid\n",
    "from inference.bayes import Posterior"
   ]
  },
  {
   "cell_type": "code",
   "execution_count": 2,
   "metadata": {},
   "outputs": [],
   "source": [
    "paper_settings.setup()"
   ]
  },
  {
   "cell_type": "markdown",
   "metadata": {},
   "source": [
    "## Setup"
   ]
  },
  {
   "cell_type": "code",
   "execution_count": 19,
   "metadata": {},
   "outputs": [],
   "source": [
    "n_samples = list(range(0,100)) + list(range(100,1000, 10))"
   ]
  },
  {
   "cell_type": "code",
   "execution_count": 20,
   "metadata": {},
   "outputs": [],
   "source": [
    "filename = \"calibrated_alices_full_sgd1e2_grid\""
   ]
  },
  {
   "cell_type": "code",
   "execution_count": 24,
   "metadata": {},
   "outputs": [],
   "source": [
    "def narrow_prior(thetas):\n",
    "    f_sub = thetas[:,0]\n",
    "    beta = thetas[:,1]\n",
    "    \n",
    "    return uniform(0.001, 0.199).pdf(f_sub).flatten() * norm(-1.9, 0.1).pdf(beta).flatten()"
   ]
  },
  {
   "cell_type": "markdown",
   "metadata": {},
   "source": [
    "## Data"
   ]
  },
  {
   "cell_type": "code",
   "execution_count": 21,
   "metadata": {},
   "outputs": [],
   "source": [
    "n_max = n_samples[-1]\n",
    "llr = np.load(\"../data/results/llr_{}.npy\".format(filename))[:,:n_max]"
   ]
  },
  {
   "cell_type": "code",
   "execution_count": 22,
   "metadata": {},
   "outputs": [],
   "source": [
    "resolution = 25\n",
    "\n",
    "f_sub_1d = np.linspace(0.001, 0.200, resolution)\n",
    "beta_1d = np.linspace(-2.5, -1.5, resolution)\n",
    "\n",
    "theta0, theta1 = np.meshgrid(f_sub_1d, beta_1d)\n",
    "theta_grid = np.vstack((theta0.flatten(), theta1.flatten())).T\n",
    "\n",
    "bin_size = f_sub_1d[1] - f_sub_1d[0]\n",
    "alpha_edges = np.linspace(f_sub_1d[0] - bin_size/2, f_sub_1d[-1] + bin_size/2, resolution + 1)\n",
    "bin_size = beta_1d[1] - beta_1d[0]\n",
    "beta_edges = np.linspace(beta_1d[0] - bin_size/2, beta_1d[-1] + bin_size/2, resolution + 1)"
   ]
  },
  {
   "cell_type": "markdown",
   "metadata": {},
   "source": [
    "## Calculate posteriors on f_sub, beta"
   ]
  },
  {
   "cell_type": "code",
   "execution_count": 41,
   "metadata": {},
   "outputs": [
    {
     "name": "stdout",
     "output_type": "stream",
     "text": [
      "0\n",
      "1\n",
      "2\n",
      "3\n",
      "4\n",
      "5\n",
      "6\n",
      "7\n",
      "8\n",
      "9\n",
      "10\n",
      "11\n",
      "12\n",
      "13\n",
      "14\n",
      "15\n",
      "16\n",
      "17\n",
      "18\n",
      "19\n",
      "20\n",
      "21\n",
      "22\n",
      "23\n",
      "24\n",
      "25\n",
      "26\n",
      "27\n",
      "28\n",
      "29\n",
      "30\n",
      "31\n",
      "32\n",
      "33\n",
      "34\n",
      "35\n",
      "36\n",
      "37\n",
      "38\n",
      "39\n",
      "40\n",
      "41\n",
      "42\n",
      "43\n",
      "44\n",
      "45\n",
      "46\n",
      "47\n",
      "48\n",
      "49\n",
      "50\n",
      "51\n",
      "52\n",
      "53\n",
      "54\n",
      "55\n",
      "56\n",
      "57\n",
      "58\n",
      "59\n",
      "60\n",
      "61\n",
      "62\n",
      "63\n",
      "64\n",
      "65\n",
      "66\n",
      "67\n",
      "68\n",
      "69\n",
      "70\n",
      "71\n",
      "72\n",
      "73\n",
      "74\n",
      "75\n",
      "76\n",
      "77\n",
      "78\n",
      "79\n",
      "80\n",
      "81\n",
      "82\n",
      "83\n",
      "84\n",
      "85\n",
      "86\n",
      "87\n",
      "88\n",
      "89\n",
      "90\n",
      "91\n",
      "92\n",
      "93\n",
      "94\n",
      "95\n",
      "96\n",
      "97\n",
      "98\n",
      "99\n",
      "100\n",
      "110\n",
      "120\n",
      "130\n",
      "140\n",
      "150\n",
      "160\n",
      "170\n",
      "180\n",
      "190\n",
      "200\n",
      "210\n",
      "220\n",
      "230\n",
      "240\n",
      "250\n",
      "260\n",
      "270\n",
      "280\n",
      "290\n",
      "300\n",
      "310\n",
      "320\n",
      "330\n",
      "340\n",
      "350\n",
      "360\n",
      "370\n",
      "380\n",
      "390\n",
      "400\n",
      "410\n",
      "420\n",
      "430\n",
      "440\n",
      "450\n",
      "460\n",
      "470\n",
      "480\n",
      "490\n",
      "500\n",
      "510\n",
      "520\n",
      "530\n",
      "540\n",
      "550\n",
      "560\n",
      "570\n",
      "580\n",
      "590\n",
      "600\n",
      "610\n",
      "620\n",
      "630\n",
      "640\n",
      "650\n",
      "660\n",
      "670\n",
      "680\n",
      "690\n",
      "700\n",
      "710\n",
      "720\n",
      "730\n",
      "740\n",
      "750\n",
      "760\n",
      "770\n",
      "780\n",
      "790\n",
      "800\n",
      "810\n",
      "820\n",
      "830\n",
      "840\n",
      "850\n",
      "860\n",
      "870\n",
      "880\n",
      "890\n",
      "900\n",
      "910\n",
      "920\n",
      "930\n",
      "940\n",
      "950\n",
      "960\n",
      "970\n",
      "980\n",
      "990\n"
     ]
    }
   ],
   "source": [
    "posteriors = []\n",
    "\n",
    "for n in n_samples:\n",
    "    if n == 0:\n",
    "        posteriors.append(narrow_prior(theta_grid))\n",
    "    else:\n",
    "        bayes = Posterior(llr[:,:n], theta_grid)\n",
    "        posteriors.append(bayes.posterior_based_on_expected_llr(n, narrow_prior))\n",
    "                          \n",
    "posteriors = np.array(posteriors)"
   ]
  },
  {
   "cell_type": "markdown",
   "metadata": {},
   "source": [
    "## Drawing from posterior"
   ]
  },
  {
   "cell_type": "code",
   "execution_count": 42,
   "metadata": {},
   "outputs": [],
   "source": [
    "def draw_fsub_beta(posterior):\n",
    "    posterior /= np.sum(posterior)\n",
    "    \n",
    "    # Draw bin\n",
    "    i_bin = np.random.choice(list(range(625)), p=posterior)\n",
    "    \n",
    "    # Draw f_sub and theta uniformly within bin\n",
    "    f_sub = theta_grid[i_bin][0] + (f_sub_1d[1] - f_sub_1d[0]) * (np.random.random() - 0.5)\n",
    "    beta = theta_grid[i_bin][1] + (beta_edges[1] - beta_edges[0]) * (np.random.random() - 0.5)\n",
    "    \n",
    "    return f_sub, beta"
   ]
  },
  {
   "cell_type": "markdown",
   "metadata": {},
   "source": [
    "## SHMF"
   ]
  },
  {
   "cell_type": "code",
   "execution_count": 43,
   "metadata": {},
   "outputs": [],
   "source": [
    "def M_200_sigma_v(sigma_v, scatter=False):\n",
    "    \"\"\"\n",
    "    Relate central velocity dispersion to halo virial mass\n",
    "    From https://arxiv.org/pdf/1804.04492.pdf\n",
    "    \"\"\"\n",
    "    a = 0.09\n",
    "    b = 3.48\n",
    "    if scatter:\n",
    "        sigma_log10_M_200 = 0.13  # Lognormal scatter\n",
    "        log10_M_200 = np.random.normal(a + b * np.log10(sigma_v / (100 * Kmps)), sigma_log10_M_200)\n",
    "    else:\n",
    "        log10_M_200 = a + b * np.log10(sigma_v / (100 * Kmps))\n",
    "    return (10 ** log10_M_200) * 1e12 * M_s"
   ]
  },
  {
   "cell_type": "code",
   "execution_count": 44,
   "metadata": {},
   "outputs": [],
   "source": [
    "def shmf_by_mhost(fsub, beta, msubs):\n",
    "    \"\"\" Evaluates dn / dm for a given set of m (msubs)\"\"\"\n",
    "    \n",
    "    sigma_v = np.random.normal(225, 50)\n",
    "    mhost = M_200_sigma_v(sigma_v * Kmps)\n",
    "    \n",
    "    m_min_calib=1e6 * M_s\n",
    "    m_max_calib=0.01 * mhost\n",
    "    M_0=M_MW\n",
    "    m_0 = 1.e9 * M_s\n",
    "                \n",
    "    alpha = fsub * ((2 + beta) * M_0 * m_0 ** beta) / (m_max_calib ** (beta + 2) - m_min_calib ** (beta + 2))\n",
    "    \n",
    "    return np.where(msubs > m_max_calib, 0., alpha * (mhost / M_0) * (msubs / m_0)**beta / mhost)\n",
    "                "
   ]
  },
  {
   "cell_type": "markdown",
   "metadata": {},
   "source": [
    "## Generate SHMF data"
   ]
  },
  {
   "cell_type": "code",
   "execution_count": 45,
   "metadata": {},
   "outputs": [],
   "source": [
    "n_realizations = 100\n",
    "fsub_true, beta_true = 0.05, -1.9\n",
    "msubs = np.geomspace(1.e7, 1e12, 50) * M_s"
   ]
  },
  {
   "cell_type": "code",
   "execution_count": 46,
   "metadata": {},
   "outputs": [],
   "source": [
    "def mean_and_ci(samples, levels=[0.68, 0.95]):\n",
    "    mean = np.mean(samples, axis=0)\n",
    "    all_down = [np.quantile(samples, (1. - level)/2, axis=0) for level in levels]\n",
    "    all_up = [np.quantile(samples, 1. - (1. - level)/2, axis=0) for level in levels]\n",
    "    all_cis = np.array([all_down, all_up])\n",
    "\n",
    "    return mean, all_cis"
   ]
  },
  {
   "cell_type": "code",
   "execution_count": 47,
   "metadata": {},
   "outputs": [],
   "source": [
    "shmfs = []\n",
    "for _ in range(n_realizations):\n",
    "    shmfs.append(shmf_by_mhost(fsub_true, beta_true, msubs))\n",
    "shmf_true, _ = mean_and_ci(np.asarray(shmfs), levels=[])    # (n_datapoints)"
   ]
  },
  {
   "cell_type": "code",
   "execution_count": 56,
   "metadata": {},
   "outputs": [],
   "source": [
    "shmf_posteriors = []\n",
    "shmf_posterior_cis = []\n",
    "\n",
    "for posterior_ in posteriors:\n",
    "    shmfs = []\n",
    "    for _ in range(n_realizations):\n",
    "        fsub_, beta_ = draw_fsub_beta(posterior_)\n",
    "        shmfs.append(shmf_by_mhost(fsub_, beta_, msubs))\n",
    "        \n",
    "    mean, ci = mean_and_ci(np.asarray(shmfs), levels=[0.68, 0.95])\n",
    "    \n",
    "    shmf_posteriors.append(mean)\n",
    "    shmf_posterior_cis.append(ci)\n",
    "    \n",
    "shmf_posteriors = np.asarray(shmf_posteriors)  # (n_frames, n_datapoints)\n",
    "shmf_posterior_cis = np.asarray(shmf_posterior_cis)  # (n_frames, 2, n_bands, n_datapoints)"
   ]
  },
  {
   "cell_type": "markdown",
   "metadata": {},
   "source": [
    "## Plot"
   ]
  },
  {
   "cell_type": "code",
   "execution_count": 50,
   "metadata": {},
   "outputs": [],
   "source": [
    "x = 1./M_s * msubs\n",
    "y_mult = msubs**2"
   ]
  },
  {
   "cell_type": "code",
   "execution_count": 61,
   "metadata": {},
   "outputs": [
    {
     "data": {
      "image/png": "[encoded data removed]",
      "text/plain": [
       "<Figure size 204.52x204.52 with 1 Axes>"
      ]
     },
     "metadata": {
      "needs_background": "light"
     },
     "output_type": "display_data"
    }
   ],
   "source": [
    "fig = paper_settings.figure()\n",
    "ax = plt.gca()\n",
    " \n",
    "fillpost2 = plt.fill_between(x, y_mult * shmf_posterior_cis[0,0, 1], msubs**2 * shmf_posterior_cis[0,1, 1], facecolor=paper_settings.COLOR_FIX, edgecolor=paper_settings.COLOR_FIX)\n",
    "fillpost1 = plt.fill_between(x, y_mult * shmf_posterior_cis[0,0, 0], msubs**2 * shmf_posterior_cis[0,1, 0], facecolor=paper_settings.COLOR_ALIGN, edgecolor=paper_settings.COLOR_ALIGN)\n",
    "lpost, = plt.plot(x, y_mult * shmf_posteriors[0], alpha=1., c=paper_settings.COLOR_FULL, lw=1.0, label=\"Posterior\")\n",
    "ltrue, = plt.plot(x, y_mult * shmf_true, alpha=1., c=\"black\", lw=1.0, ls=\":\", label=\"True SHMF\")\n",
    "\n",
    "# ax.add_patch(matplotlib.patches.Rectangle(xy=(1.93e7,1.147e-2), width=6.4e7, height=0.2e-2, facecolor=paper_settings.COLOR_FIX, edgecolor=paper_settings.COLOR_FIX))\n",
    "# ax.add_patch(matplotlib.patches.Rectangle(xy=(1.93e7,1.195e-2), width=6.4e7, height=0.09e-2, facecolor=paper_settings.COLOR_ALIGN, edgecolor=paper_settings.COLOR_ALIGN))\n",
    "# ax.legend(\n",
    "#     [ltrue, lpost],\n",
    "#     [\"True SHMF\", \"Posterior\"],\n",
    "#     loc=2,\n",
    "#     frameon=False\n",
    "# )\n",
    "\n",
    "plt.xlabel(r\"$m_{200}$ [$M_{\\odot}$]\")\n",
    "ax.xaxis.set_label_coords(0.5, -0.11)\n",
    "plt.ylabel(r\"$\\frac {m_{200}^2}{M_{200}} \\frac{\\mathrm{d}n}{\\mathrm{d}m_{200}}$\")\n",
    "ax.yaxis.set_label_coords(-0.115, 0.5)\n",
    "ax.yaxis.set_ticks([0.,0.005,0.010])\n",
    "ax.yaxis.set_tick_params(pad=1)\n",
    "\n",
    "plt.xscale(\"log\")\n",
    "plt.xlim(1.e7, 1.e12)\n",
    "plt.yscale(\"log\")\n",
    "plt.ylim(0.001,0.02)\n",
    "#plt.ylim(0., None)\n",
    "    \n",
    "plt.savefig(\"../figures/shmf.pdf\", dpi=300)\n"
   ]
  },
  {
   "cell_type": "code",
   "execution_count": null,
   "metadata": {},
   "outputs": [],
   "source": []
  }
 ],
 "metadata": {
  "kernelspec": {
   "display_name": "Python (lensing)",
   "language": "python",
   "name": "lensing"
  },
  "language_info": {
   "codemirror_mode": {
    "name": "ipython",
    "version": 3
   },
   "file_extension": ".py",
   "mimetype": "text/x-python",
   "name": "python",
   "nbconvert_exporter": "python",
   "pygments_lexer": "ipython3",
   "version": "3.6.8"
  }
 },
 "nbformat": 4,
 "nbformat_minor": 2
}
