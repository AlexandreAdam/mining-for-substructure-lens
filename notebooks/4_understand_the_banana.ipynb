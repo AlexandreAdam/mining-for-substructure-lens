{
 "cells": [
  {
   "cell_type": "markdown",
   "metadata": {},
   "source": [
    "# Warum ist die Banane krumm?"
   ]
  },
  {
   "cell_type": "code",
   "execution_count": 1,
   "metadata": {},
   "outputs": [],
   "source": [
    "import sys, os\n",
    "import logging\n",
    "import numpy as np\n",
    "import matplotlib\n",
    "import matplotlib.pyplot as plt\n",
    "%matplotlib inline\n",
    "from scipy.stats import chi2\n",
    "import palettable\n",
    "from astropy.cosmology import Planck15\n",
    "\n",
    "sys.path.append('../')\n",
    "import paper_settings\n",
    "from simulation.units import *\n",
    "from simulation.profiles import MassProfileNFW, MassProfileSIE\n",
    "from simulation.population_sim import SubhaloPopulation\n",
    "from simulation import prior\n",
    "from simulation.lensing_sim import LensingSim\n"
   ]
  },
  {
   "cell_type": "markdown",
   "metadata": {},
   "source": [
    "## Grid"
   ]
  },
  {
   "cell_type": "code",
   "execution_count": 2,
   "metadata": {},
   "outputs": [],
   "source": [
    "resolution = 25\n",
    "\n",
    "f_sub_1d = np.linspace(0.001, 0.200, resolution)\n",
    "beta_1d = np.linspace(-2.5, -1.5, resolution)\n",
    "\n",
    "theta0, theta1 = np.meshgrid(f_sub_1d, beta_1d)\n",
    "theta_grid = np.vstack((theta0.flatten(), theta1.flatten())).T\n",
    "\n",
    "bin_size = f_sub_1d[1] - f_sub_1d[0]\n",
    "alpha_edges = np.linspace(f_sub_1d[0] - bin_size/2, f_sub_1d[-1] + bin_size/2, resolution + 1)\n",
    "bin_size = beta_1d[1] - beta_1d[0]\n",
    "beta_edges = np.linspace(beta_1d[0] - bin_size/2, beta_1d[-1] + bin_size/2, resolution + 1)"
   ]
  },
  {
   "cell_type": "markdown",
   "metadata": {},
   "source": [
    "## Load likelihood contours for comparison"
   ]
  },
  {
   "cell_type": "code",
   "execution_count": 3,
   "metadata": {},
   "outputs": [],
   "source": [
    "filename = \"calibrated_alices_full_sgd1e2_grid\"\n",
    "setting = \"full\"\n",
    "llr = np.mean(np.load(\"../data/results/llr_{}.npy\".format(filename)), axis=-1)\n",
    "llr = -2. * llr\n",
    "llr -= np.min(llr)"
   ]
  },
  {
   "cell_type": "code",
   "execution_count": 4,
   "metadata": {},
   "outputs": [],
   "source": [
    "n_for_lines = [100, 20, 5]\n",
    "thresholds = [1. / n * chi2.isf(0.05, df=2) for n in n_for_lines]\n",
    "contour_ls = [\"-\", \"--\", \":\"]\n",
    "clabels = [\"100\", \"20\", \"5\"]"
   ]
  },
  {
   "cell_type": "markdown",
   "metadata": {},
   "source": [
    "## Calculate quantities"
   ]
  },
  {
   "cell_type": "code",
   "execution_count": 5,
   "metadata": {},
   "outputs": [],
   "source": [
    "def M_200_sigma_v(sigma_v, scatter=False):\n",
    "    \"\"\"\n",
    "    Relate central velocity dispersion to halo virial mass\n",
    "    From https://arxiv.org/pdf/1804.04492.pdf\n",
    "    \"\"\"\n",
    "    a = 0.09\n",
    "    b = 3.48\n",
    "    if scatter:\n",
    "        sigma_log10_M_200 = 0.13  # Lognormal scatter\n",
    "        log10_M_200 = np.random.normal(a + b * np.log10(sigma_v / (100 * Kmps)), sigma_log10_M_200)\n",
    "    else:\n",
    "        log10_M_200 = a + b * np.log10(sigma_v / (100 * Kmps))\n",
    "    return (10 ** log10_M_200) * 1e12 * M_s"
   ]
  },
  {
   "cell_type": "code",
   "execution_count": 6,
   "metadata": {},
   "outputs": [],
   "source": [
    "def _mag_to_flux(mag, mag_zp):\n",
    "    \"\"\"\n",
    "    Returns total flux of the integrated profile corresponding to magnitude `mag`, in ADU relative to `mag_zp`\n",
    "    \"\"\"\n",
    "    return 10 ** (-0.4 * (mag - mag_zp))"
   ]
  },
  {
   "cell_type": "code",
   "execution_count": 7,
   "metadata": {},
   "outputs": [],
   "source": [
    "def simulate_deflection(ps, theta_E, z_l, theta_x_0=0., theta_y_0=0., theta_s_e = 0.2, z_s = 1.5, mag_s = 23.0, mag_zero=25.5, mag_iso=22.5, n_xy=64, pixel_size=0.1, q=1, exposure=1610.0):\n",
    "    S_tot = _mag_to_flux(mag_s, mag_zero)\n",
    "    f_iso = _mag_to_flux(mag_iso, mag_zero)\n",
    "    \n",
    "    coordinate_limit = pixel_size * n_xy / 2.0\n",
    "\n",
    "    # Set host properties. Host assumed to be at the center of the image.\n",
    "    hst_param_dict = {\"profile\": \"SIE\", \"theta_x_0\": 0.0, \"theta_y_0\": 0.0, \"theta_E\": theta_E, \"q\": q}\n",
    "\n",
    "    lens_list = [hst_param_dict]\n",
    "\n",
    "    # Set subhalo properties\n",
    "    for i_sub, (m, theta_x, theta_y) in enumerate(zip(ps.m_sample, ps.theta_x_sample, ps.theta_y_sample)):\n",
    "        c = MassProfileNFW.c_200_SCP(m)\n",
    "        r_s, rho_s = MassProfileNFW.get_r_s_rho_s_NFW(m, c)\n",
    "        sub_param_dict = {\"profile\": \"NFW\", \"theta_x_0\": theta_x, \"theta_y_0\": theta_y, \"M_200\": m, \"r_s\": r_s, \"rho_s\": rho_s}\n",
    "        lens_list.append(sub_param_dict)\n",
    "\n",
    "    # Set source properties\n",
    "    src_param_dict = {\"profile\": \"Sersic\", \"theta_x_0\": theta_x_0, \"theta_y_0\": theta_y_0, \"S_tot\": S_tot, \"theta_e\": theta_s_e, \"n_srsc\": 1}\n",
    "\n",
    "    # Set observation and global properties\n",
    "    observation_dict = {\n",
    "        \"n_x\": n_xy,\n",
    "        \"n_y\": n_xy,\n",
    "        \"theta_x_lims\": (-coordinate_limit, coordinate_limit),\n",
    "        \"theta_y_lims\": (-coordinate_limit, coordinate_limit),\n",
    "        \"exposure\": exposure,\n",
    "        \"f_iso\": f_iso,\n",
    "    }\n",
    "\n",
    "    global_dict = {\"z_s\": z_s, \"z_l\": z_l}\n",
    "\n",
    "    # Inititalize lensing class and produce lensed image\n",
    "    lsi = LensingSim(lens_list, [src_param_dict], global_dict, observation_dict)\n",
    "    \n",
    "    _, _, (x_d, y_d), r_pixels = lsi.lensed_image(return_deflection_maps=True)\n",
    "    \n",
    "    x_d = x_d.flatten()\n",
    "    y_d = y_d.flatten()\n",
    "    cut = (r_pixels - theta_E)**2 < 0.2**2\n",
    "    \n",
    "    overall_mean_deflection = np.mean((x_d**2. + y_d**2)**0.5)\n",
    "    einstein_ring_mean_deflection = np.mean((x_d**2. + y_d**2)**0.5 * cut) / np.mean(cut)\n",
    "    \n",
    "    return overall_mean_deflection, einstein_ring_mean_deflection\n"
   ]
  },
  {
   "cell_type": "code",
   "execution_count": 8,
   "metadata": {},
   "outputs": [],
   "source": [
    "def calculate_summaries(f_sub, beta, n=100, calculate_deflection=False):\n",
    "    if np.abs((beta + 2.)) < 1.e-3:\n",
    "        beta = -2.001\n",
    "    \n",
    "    mhosts, total_msubs, avg_msubs, nsubs, m23s  = [], [], [], [], []\n",
    "    deflections, einstein_ring_deflections = [], []\n",
    "    \n",
    "    for i in range(n):\n",
    "        m_min_calib=1e6 * M_s\n",
    "        m_max_sub_div_M_hst_calib=0.01\n",
    "        m_200_min_sub=1e7 * M_s\n",
    "        m_200_max_sub_div_M_hst=0.01\n",
    "        roi_size=2.\n",
    "        M_200_sigma_v_scatter = True\n",
    "        \n",
    "        z_l = 2.0\n",
    "        while z_l > 1.0:\n",
    "            z_l = 10 ** np.random.normal(-0.25, 0.25)\n",
    "        sigma_v = np.random.normal(225, 50)\n",
    "        \n",
    "        theta_s_e = 0.2\n",
    "        z_s = 1.5\n",
    "        mag_s = 23.0\n",
    "        \n",
    "        D_l = Planck15.angular_diameter_distance(z=z_l).value * Mpc\n",
    "        D_s = Planck15.angular_diameter_distance(z=z_s).value * Mpc\n",
    "        D_ls = Planck15.angular_diameter_distance_z1z2(z1=z_l, z2=z_s).value * Mpc\n",
    "        \n",
    "        M_200_hst = M_200_sigma_v(sigma_v * Kmps, scatter=M_200_sigma_v_scatter)\n",
    "        c_200_hst = MassProfileNFW.c_200_SCP(M_200_hst)\n",
    "        r_s_hst, rho_s_hst = MassProfileNFW.get_r_s_rho_s_NFW(M_200_hst, c_200_hst)\n",
    "        theta_E = MassProfileSIE.theta_E(sigma_v * Kmps, D_ls, D_s)\n",
    "        \n",
    "        f_sub_realiz = 2.0\n",
    "        while f_sub_realiz > 1.0:\n",
    "            ps = SubhaloPopulation(\n",
    "                f_sub=f_sub,\n",
    "                beta=beta,\n",
    "                M_hst=M_200_hst,\n",
    "                c_hst=c_200_hst,\n",
    "                m_min=m_200_min_sub,\n",
    "                m_max=m_200_max_sub_div_M_hst * M_200_hst,\n",
    "                m_min_calib=m_min_calib,\n",
    "                m_max_calib=m_max_sub_div_M_hst_calib * M_200_hst,\n",
    "                theta_s=r_s_hst / D_l,\n",
    "                theta_roi=roi_size * theta_E,\n",
    "                theta_E=theta_E,\n",
    "                params_eval=[],\n",
    "                calculate_joint_score=False,\n",
    "            )\n",
    "            f_sub_realiz = ps.f_sub_realiz\n",
    "            \n",
    "        deflection = 0.\n",
    "        einstein_ring_deflection = 0.\n",
    "        if calculate_deflection:\n",
    "            deflection, einstein_ring_deflection = simulate_deflection(ps=ps, theta_E=theta_E, z_l=z_l)\n",
    "        else:\n",
    "            sigma_cr = 1. / (4. * np.pi * GN) * D_s / (D_ls * D_l)\n",
    "            for i_sub, (m, theta_x, theta_y) in enumerate(zip(ps.m_sample, ps.theta_x_sample, ps.theta_y_sample)):\n",
    "                c = MassProfileNFW.c_200_SCP(m)\n",
    "                r_s, rho_s = MassProfileNFW.get_r_s_rho_s_NFW(m, c)\n",
    "                deflection += 4. * r_s**2 * rho_s / sigma_cr / D_l * radtoasc\n",
    "            \n",
    "        mhosts.append(ps.M_hst_roi/M_s)\n",
    "        total_msubs.append(np.sum(ps.m_sample/M_s))\n",
    "        avg_msubs.append(np.nanmean(ps.m_sample/M_s))\n",
    "        nsubs.append(ps.n_sub_roi)\n",
    "        m23s.append(np.sum((ps.m_sample/M_s)**(2./3.)))\n",
    "        deflections.append(deflection)\n",
    "        einstein_ring_deflections.append(einstein_ring_deflection)\n",
    "    \n",
    "    mean_total_msub = np.nanmean(total_msubs)\n",
    "    mean_fsub = np.nanmean(np.asarray(total_msubs) / np.asarray(mhosts))\n",
    "    mean_msub = np.nanmean(avg_msubs)\n",
    "    mean_nsub = np.nanmean(nsubs)\n",
    "    mean_m23 = np.nanmean(m23s)\n",
    "    mean_deflection = np.nanmean(deflections)\n",
    "    mean_einstein_ring_deflection = np.nanmean(einstein_ring_deflections)\n",
    "    \n",
    "    return mean_total_msub, mean_fsub, mean_msub, mean_nsub, mean_m23, mean_deflection, mean_einstein_ring_deflection\n"
   ]
  },
  {
   "cell_type": "markdown",
   "metadata": {},
   "source": [
    "## Run"
   ]
  },
  {
   "cell_type": "code",
   "execution_count": 9,
   "metadata": {},
   "outputs": [],
   "source": [
    "mean_approx_deflections = np.load(\"mean_approx_deflections.npy\")"
   ]
  },
  {
   "cell_type": "markdown",
   "metadata": {},
   "source": [
    "## Paper plot of just the deflection"
   ]
  },
  {
   "cell_type": "code",
   "execution_count": 10,
   "metadata": {},
   "outputs": [],
   "source": [
    "paper_settings.setup()"
   ]
  },
  {
   "cell_type": "code",
   "execution_count": 11,
   "metadata": {},
   "outputs": [],
   "source": [
    "dmin, dmax = 0., 0.8\n",
    "dthresholds = [0.05,0.1, 0.2, 0.4]\n",
    "\n",
    "data = np.array(mean_approx_deflections)\n",
    "data_clip = np.clip(data, dmin, dmax)"
   ]
  },
  {
   "cell_type": "code",
   "execution_count": 12,
   "metadata": {},
   "outputs": [
    {
     "data": {
      "image/png": "[encoded data removed]",
      "text/plain": [
       "<Figure size 245.424x204.52 with 2 Axes>"
      ]
     },
     "metadata": {
      "needs_background": "light"
     },
     "output_type": "display_data"
    }
   ],
   "source": [
    "fig, (ax, cax) = paper_settings.figure(\n",
    "    cbar=True,\n",
    ")\n",
    "\n",
    "plt.sca(ax)\n",
    "pcm = ax.imshow(\n",
    "    data_clip.reshape((resolution, resolution)),\n",
    "    extent=(alpha_edges[0],alpha_edges[-1],beta_edges[0], beta_edges[-1]),\n",
    "    cmap=paper_settings.CMAP1,\n",
    "    origin=\"lower\",\n",
    "    aspect=\"auto\",\n",
    "    norm=matplotlib.colors.Normalize(vmin=dmin, vmax=dmax),\n",
    ")\n",
    "cs = ax.contour(\n",
    "    0.5 * (alpha_edges[1:] + alpha_edges[:-1]),\n",
    "    0.5 * (beta_edges[1:] + beta_edges[:-1]),\n",
    "    data.reshape((resolution, resolution)),\n",
    "    dthresholds,\n",
    "    colors=\"white\",\n",
    "    linewidths=1.,\n",
    "    linestyles=\"-\",\n",
    ")\n",
    "cs = ax.contour(\n",
    "    0.5 * (alpha_edges[1:] + alpha_edges[:-1]),\n",
    "    0.5 * (beta_edges[1:] + beta_edges[:-1]),\n",
    "    llr.reshape((resolution, resolution)),\n",
    "    thresholds,\n",
    "    colors=\"black\",\n",
    "    linewidths=1.,\n",
    "    linestyles=\":\",\n",
    ")\n",
    "plt.scatter(0.05, -1.9, s=15., color='black', marker='*')\n",
    "\n",
    "plt.xlabel(r'$f_{\\mathrm{sub}}$')\n",
    "plt.ylabel(r'$\\beta$')\n",
    "plt.xlim(0.,0.2)\n",
    "plt.ylim(-2.5,-1.5) \n",
    "plt.xticks([0.,0.05,0.1,0.15,0.2])\n",
    "plt.yticks([-1.6,-1.8,-2.0,-2.2,-2.4],[\"-0.6\", \"-0.8\", \"-1.0\", \"-1.2\", \"-1.4\"])\n",
    " \n",
    "cbar = fig.colorbar(pcm,cax=cax,)\n",
    "cbar.set_label(r'Expected $\\sum 4 \\kappa_{\\mathrm{s}} r_{\\mathrm{s}}$ [arcsec]')\n",
    "    \n",
    "plt.savefig(\"../figures/warum_ist_die_banane_krumm.pdf\", dpi=300)\n"
   ]
  },
  {
   "cell_type": "code",
   "execution_count": null,
   "metadata": {},
   "outputs": [],
   "source": []
  }
 ],
 "metadata": {
  "kernelspec": {
   "display_name": "Python (lensing)",
   "language": "python",
   "name": "lensing"
  },
  "language_info": {
   "codemirror_mode": {
    "name": "ipython",
    "version": 3
   },
   "file_extension": ".py",
   "mimetype": "text/x-python",
   "name": "python",
   "nbconvert_exporter": "python",
   "pygments_lexer": "ipython3",
   "version": "3.6.8"
  }
 },
 "nbformat": 4,
 "nbformat_minor": 2
}
