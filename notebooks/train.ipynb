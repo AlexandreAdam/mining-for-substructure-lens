{
 "cells": [
  {
   "cell_type": "markdown",
   "metadata": {},
   "source": [
    "# Train likelihood ratio estimator"
   ]
  },
  {
   "cell_type": "code",
   "execution_count": 1,
   "metadata": {},
   "outputs": [],
   "source": [
    "import sys, os\n",
    "sys.path.append('../')\n",
    "\n",
    "import logging\n",
    "import numpy as np\n",
    "import matplotlib.pyplot as plt\n",
    "\n",
    "from units import *\n",
    "from inference.inference import Estimator\n",
    "\n",
    "logging.basicConfig(\n",
    "    format='%(asctime)-5.5s %(name)-20.20s %(levelname)-7.7s %(message)s',\n",
    "    datefmt='%H:%M',\n",
    "    level=logging.INFO\n",
    ")"
   ]
  },
  {
   "cell_type": "markdown",
   "metadata": {},
   "source": [
    "## Train CARL"
   ]
  },
  {
   "cell_type": "code",
   "execution_count": 2,
   "metadata": {},
   "outputs": [
    {
     "name": "stderr",
     "output_type": "stream",
     "text": [
      "14:07 inference.inference  INFO    Starting training\n",
      "14:07 inference.inference  INFO      Method:                 carl\n",
      "14:07 inference.inference  INFO      Training data:          x at ../data/x.npy\n",
      "14:07 inference.inference  INFO                              theta0 at ../data/theta.npy\n",
      "14:07 inference.inference  INFO                              y at ../data/y.npy\n",
      "14:07 inference.inference  INFO      Method:                 carl\n",
      "14:07 inference.inference  INFO      Convolutional layers:   3\n",
      "14:07 inference.inference  INFO      Dense layers:           2\n",
      "14:07 inference.inference  INFO      Feature maps:           100\n",
      "14:07 inference.inference  INFO      Convolutional filter:   5\n",
      "14:07 inference.inference  INFO      Pooling filter:         2\n",
      "14:07 inference.inference  INFO      Activation function:    relu\n",
      "14:07 inference.inference  INFO      Batch size:             128\n",
      "14:07 inference.inference  INFO      Trainer:                amsgrad\n",
      "14:07 inference.inference  INFO      Epochs:                 5\n",
      "14:07 inference.inference  INFO      Learning rate:          0.001 initially, decaying to 0.0001\n",
      "14:07 inference.inference  INFO      Validation split:       None\n",
      "14:07 inference.inference  INFO      Early stopping:         True\n",
      "14:07 inference.inference  INFO      Rescale inputs:         True\n",
      "14:07 inference.inference  INFO      Shuffle labels          False\n",
      "14:07 inference.inference  INFO      Regularization:         None\n",
      "14:07 inference.inference  INFO      Samples:                all\n",
      "14:07 inference.inference  INFO    Loading training data\n",
      "14:08 inference.inference  INFO    Found 100000 samples with 2 parameters and resolution 64 x 64\n",
      "14:08 inference.inference  INFO    Rescaling pixel values by factor 1 / 417.5067646902315\n",
      "14:08 inference.inference  INFO    Training model\n",
      "17:04 inference.trainer    INFO      Epoch 01: train loss 0.5518 (xe: 0.5518)\n",
      "19:16 inference.trainer    INFO      Epoch 02: train loss 0.5047 (xe: 0.5047)\n",
      "21:41 inference.trainer    INFO      Epoch 03: train loss 0.4962 (xe: 0.4962)\n",
      "00:00 inference.trainer    INFO      Epoch 04: train loss 0.4923 (xe: 0.4923)\n",
      "08:18 inference.trainer    INFO      Epoch 05: train loss 0.4902 (xe: 0.4902)\n",
      "08:18 inference.trainer    INFO    Finished training\n"
     ]
    }
   ],
   "source": [
    "carl = Estimator()\n",
    "\n",
    "_ = carl.train(\n",
    "    method=\"carl\",\n",
    "    x_filename=\"../data/x.npy\",\n",
    "    y_filename=\"../data/y.npy\",\n",
    "    theta0_filename=\"../data/theta.npy\",\n",
    "    n_epochs=5,\n",
    ")\n",
    "\n",
    "if not os.path.exists(\"../models\"):\n",
    "    os.mkdir(\"../models\")\n",
    "carl.save(\"../models/carl\")"
   ]
  },
  {
   "cell_type": "markdown",
   "metadata": {},
   "source": [
    "## Train ALICES"
   ]
  },
  {
   "cell_type": "code",
   "execution_count": null,
   "metadata": {},
   "outputs": [
    {
     "name": "stderr",
     "output_type": "stream",
     "text": [
      "13:29 inference.inference  INFO    Starting training\n",
      "13:29 inference.inference  INFO      Method:                 alice\n",
      "13:29 inference.inference  INFO      Training data:          x at ../data/x.npy\n",
      "13:29 inference.inference  INFO                              theta0 at ../data/theta.npy\n",
      "13:29 inference.inference  INFO                              y at ../data/y.npy\n",
      "13:29 inference.inference  INFO                              r_xz at ../data/r_xz.npy\n",
      "13:29 inference.inference  INFO      Method:                 alice\n",
      "13:29 inference.inference  INFO      Convolutional layers:   3\n",
      "13:29 inference.inference  INFO      Dense layers:           2\n",
      "13:29 inference.inference  INFO      Feature maps:           100\n",
      "13:29 inference.inference  INFO      Convolutional filter:   5\n",
      "13:29 inference.inference  INFO      Pooling filter:         2\n",
      "13:29 inference.inference  INFO      Activation function:    relu\n",
      "13:29 inference.inference  INFO      Batch size:             128\n",
      "13:29 inference.inference  INFO      Trainer:                amsgrad\n",
      "13:29 inference.inference  INFO      Epochs:                 5\n",
      "13:29 inference.inference  INFO      Learning rate:          0.001 initially, decaying to 0.0001\n",
      "13:29 inference.inference  INFO      Validation split:       None\n",
      "13:29 inference.inference  INFO      Early stopping:         True\n",
      "13:29 inference.inference  INFO      Rescale inputs:         True\n",
      "13:29 inference.inference  INFO      Shuffle labels          False\n",
      "13:29 inference.inference  INFO      Regularization:         None\n",
      "13:29 inference.inference  INFO      Samples:                all\n",
      "13:29 inference.inference  INFO    Loading training data\n",
      "13:29 inference.utils      WARNING Warning: file ../data/r_xz.npy contains 0 NaNs and 584 Infs, compared to 99416 finite numbers!\n",
      "13:29 inference.utils      WARNING Warning: file ../data/r_xz.npy has some large numbers, rangin from 0.000519853575357554 to inf\n",
      "13:29 inference.inference  INFO    Found 100000 samples with 2 parameters and resolution 64 x 64\n",
      "13:29 inference.inference  INFO    Rescaling pixel values by factor 1 / 417.5067646902315\n",
      "13:29 inference.inference  INFO    Training model\n",
      "16:28 inference.trainer    INFO      Epoch 01: train loss 0.4279 (improved_xe: 0.4279)\n",
      "10:42 inference.trainer    INFO      Epoch 02: train loss 0.4070 (improved_xe: 0.4070)\n",
      "14:47 inference.trainer    INFO      Epoch 03: train loss 0.4044 (improved_xe: 0.4044)\n"
     ]
    }
   ],
   "source": [
    "alices = Estimator()\n",
    "\n",
    "_ = alices.train(\n",
    "    method=\"alice\",\n",
    "    x_filename=\"../data/x.npy\",\n",
    "    y_filename=\"../data/y.npy\",\n",
    "    theta0_filename=\"../data/theta.npy\",\n",
    "    r_xz_filename=\"../data/r_xz.npy\",\n",
    "    n_epochs=5,\n",
    ")\n",
    "\n",
    "if not os.path.exists(\"../models\"):\n",
    "    os.mkdir(\"../models\")\n",
    "alices.save(\"../models/alice\")"
   ]
  },
  {
   "cell_type": "code",
   "execution_count": null,
   "metadata": {},
   "outputs": [],
   "source": []
  }
 ],
 "metadata": {
  "kernelspec": {
   "display_name": "Python (lensing)",
   "language": "python",
   "name": "lensing"
  },
  "language_info": {
   "codemirror_mode": {
    "name": "ipython",
    "version": 3
   },
   "file_extension": ".py",
   "mimetype": "text/x-python",
   "name": "python",
   "nbconvert_exporter": "python",
   "pygments_lexer": "ipython3",
   "version": "3.6.8"
  }
 },
 "nbformat": 4,
 "nbformat_minor": 2
}
