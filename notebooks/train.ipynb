{
 "cells": [
  {
   "cell_type": "markdown",
   "metadata": {},
   "source": [
    "# Train likelihood ratio estimator"
   ]
  },
  {
   "cell_type": "code",
   "execution_count": 1,
   "metadata": {},
   "outputs": [],
   "source": [
    "import sys, os\n",
    "sys.path.append('../')\n",
    "\n",
    "import logging\n",
    "import numpy as np\n",
    "import matplotlib.pyplot as plt\n",
    "\n",
    "from units import *\n",
    "from inference.inference import Estimator\n",
    "\n",
    "logging.basicConfig(\n",
    "    format='%(asctime)-5.5s %(name)-20.20s %(levelname)-7.7s %(message)s',\n",
    "    datefmt='%H:%M',\n",
    "    level=logging.INFO\n",
    ")"
   ]
  },
  {
   "cell_type": "markdown",
   "metadata": {},
   "source": [
    "## Train model"
   ]
  },
  {
   "cell_type": "code",
   "execution_count": 2,
   "metadata": {},
   "outputs": [],
   "source": [
    "re = Estimator()"
   ]
  },
  {
   "cell_type": "code",
   "execution_count": 3,
   "metadata": {},
   "outputs": [
    {
     "name": "stderr",
     "output_type": "stream",
     "text": [
      "12:52 inference.inference  INFO    Starting training\n",
      "12:52 inference.inference  INFO      Method:                 alices\n",
      "12:52 inference.inference  INFO      Training data:          x at ../data/x.npy\n",
      "12:52 inference.inference  INFO                              theta0 at ../data/theta.npy\n",
      "12:52 inference.inference  INFO                              y at ../data/y.npy\n",
      "12:52 inference.inference  INFO                              r_xz at ../data/r_xz.npy\n",
      "12:52 inference.inference  INFO                              t_xz (theta0) at ../data/t_xz.npy\n",
      "12:52 inference.inference  INFO      Method:                 alices\n",
      "12:52 inference.inference  INFO      Convolutional layers:   2\n",
      "12:52 inference.inference  INFO      Dense layers:           1\n",
      "12:52 inference.inference  INFO      Feature maps:           10\n",
      "12:52 inference.inference  INFO      Convolutional filter:   5\n",
      "12:52 inference.inference  INFO      Pooling filter:         2\n",
      "12:52 inference.inference  INFO      Activation function:    relu\n",
      "12:52 inference.inference  INFO      alpha:                  0.0001\n",
      "12:52 inference.inference  INFO      Batch size:             128\n",
      "12:52 inference.inference  INFO      Trainer:                amsgrad\n",
      "12:52 inference.inference  INFO      Epochs:                 50\n",
      "12:52 inference.inference  INFO      Learning rate:          0.001 initially, decaying to 0.0001\n",
      "12:52 inference.inference  INFO      Validation split:       None\n",
      "12:52 inference.inference  INFO      Early stopping:         True\n",
      "12:52 inference.inference  INFO      Rescale inputs:         True\n",
      "12:52 inference.inference  INFO      Shuffle labels          False\n",
      "12:52 inference.inference  INFO      Regularization:         None\n",
      "12:52 inference.inference  INFO      Samples:                all\n",
      "12:52 inference.inference  INFO    Loading training data\n",
      "12:52 inference.inference  INFO    Found 1000 samples with 2 parameters and resolution 64 x 64\n",
      "12:52 inference.inference  INFO    Rescaling pixel values by factor 1 / 540.2062977020838\n",
      "12:52 inference.inference  INFO    Training model\n",
      "12:54 inference.trainer    INFO      Epoch 05: train loss 4.2762 (improved_xe: 0.6543, mse_score: 36219.4861)\n",
      "12:55 inference.trainer    INFO      Epoch 10: train loss 4.2753 (improved_xe: 0.6515, mse_score: 36237.7319)\n",
      "12:56 inference.trainer    INFO      Epoch 15: train loss 4.2721 (improved_xe: 0.6515, mse_score: 36205.6533)\n",
      "12:57 inference.trainer    INFO      Epoch 20: train loss 4.2763 (improved_xe: 0.6515, mse_score: 36248.4923)\n",
      "12:58 inference.trainer    INFO      Epoch 25: train loss 4.2676 (improved_xe: 0.6507, mse_score: 36169.7521)\n",
      "12:59 inference.trainer    INFO      Epoch 30: train loss 4.2665 (improved_xe: 0.6502, mse_score: 36163.0851)\n",
      "13:00 inference.trainer    INFO      Epoch 35: train loss 4.2700 (improved_xe: 0.6501, mse_score: 36198.6516)\n",
      "13:01 inference.trainer    INFO      Epoch 40: train loss 4.2737 (improved_xe: 0.6498, mse_score: 36238.9329)\n",
      "13:02 inference.trainer    INFO      Epoch 45: train loss 4.2693 (improved_xe: 0.6504, mse_score: 36188.8443)\n",
      "13:04 inference.trainer    INFO      Epoch 50: train loss 4.2666 (improved_xe: 0.6497, mse_score: 36169.2681)\n",
      "13:04 inference.trainer    INFO    Finished training\n"
     ]
    },
    {
     "ename": "NameError",
     "evalue": "name 'os' is not defined",
     "output_type": "error",
     "traceback": [
      "\u001b[0;31m---------------------------------------------------------------------------\u001b[0m",
      "\u001b[0;31mNameError\u001b[0m                                 Traceback (most recent call last)",
      "\u001b[0;32m<ipython-input-3-60ed647bd918>\u001b[0m in \u001b[0;36m<module>\u001b[0;34m\u001b[0m\n\u001b[1;32m     15\u001b[0m \u001b[0;32mif\u001b[0m \u001b[0;32mnot\u001b[0m \u001b[0mos\u001b[0m\u001b[0;34m.\u001b[0m\u001b[0mpath\u001b[0m\u001b[0;34m.\u001b[0m\u001b[0mexists\u001b[0m\u001b[0;34m(\u001b[0m\u001b[0;34m\"../models\"\u001b[0m\u001b[0;34m)\u001b[0m\u001b[0;34m:\u001b[0m\u001b[0;34m\u001b[0m\u001b[0;34m\u001b[0m\u001b[0m\n\u001b[1;32m     16\u001b[0m     \u001b[0mos\u001b[0m\u001b[0;34m.\u001b[0m\u001b[0mmkdir\u001b[0m\u001b[0;34m(\u001b[0m\u001b[0;34m\"../models\"\u001b[0m\u001b[0;34m)\u001b[0m\u001b[0;34m\u001b[0m\u001b[0;34m\u001b[0m\u001b[0m\n\u001b[0;32m---> 17\u001b[0;31m \u001b[0mre\u001b[0m\u001b[0;34m.\u001b[0m\u001b[0msave\u001b[0m\u001b[0;34m(\u001b[0m\u001b[0;34m\"../models/alices\"\u001b[0m\u001b[0;34m)\u001b[0m\u001b[0;34m\u001b[0m\u001b[0;34m\u001b[0m\u001b[0m\n\u001b[0m",
      "\u001b[0;32m~/work/projects/other/strong_lensing/StrongLensing-Inference/inference/inference.py\u001b[0m in \u001b[0;36msave\u001b[0;34m(self, filename, save_model)\u001b[0m\n\u001b[1;32m    588\u001b[0m \u001b[0;34m\u001b[0m\u001b[0m\n\u001b[1;32m    589\u001b[0m         \u001b[0;31m# Check paths\u001b[0m\u001b[0;34m\u001b[0m\u001b[0;34m\u001b[0m\u001b[0;34m\u001b[0m\u001b[0m\n\u001b[0;32m--> 590\u001b[0;31m         \u001b[0mcreate_missing_folders\u001b[0m\u001b[0;34m(\u001b[0m\u001b[0;34m[\u001b[0m\u001b[0mos\u001b[0m\u001b[0;34m.\u001b[0m\u001b[0mpath\u001b[0m\u001b[0;34m.\u001b[0m\u001b[0mdirname\u001b[0m\u001b[0;34m(\u001b[0m\u001b[0mfilename\u001b[0m\u001b[0;34m)\u001b[0m\u001b[0;34m]\u001b[0m\u001b[0;34m)\u001b[0m\u001b[0;34m\u001b[0m\u001b[0;34m\u001b[0m\u001b[0m\n\u001b[0m\u001b[1;32m    591\u001b[0m \u001b[0;34m\u001b[0m\u001b[0m\n\u001b[1;32m    592\u001b[0m         \u001b[0;31m# Save settings\u001b[0m\u001b[0;34m\u001b[0m\u001b[0;34m\u001b[0m\u001b[0;34m\u001b[0m\u001b[0m\n",
      "\u001b[0;32m~/work/projects/other/strong_lensing/StrongLensing-Inference/inference/utils.py\u001b[0m in \u001b[0;36mcreate_missing_folders\u001b[0;34m(folders)\u001b[0m\n\u001b[1;32m    201\u001b[0m             \u001b[0;32mcontinue\u001b[0m\u001b[0;34m\u001b[0m\u001b[0;34m\u001b[0m\u001b[0m\n\u001b[1;32m    202\u001b[0m \u001b[0;34m\u001b[0m\u001b[0m\n\u001b[0;32m--> 203\u001b[0;31m         \u001b[0;32mif\u001b[0m \u001b[0;32mnot\u001b[0m \u001b[0mos\u001b[0m\u001b[0;34m.\u001b[0m\u001b[0mpath\u001b[0m\u001b[0;34m.\u001b[0m\u001b[0mexists\u001b[0m\u001b[0;34m(\u001b[0m\u001b[0mfolder\u001b[0m\u001b[0;34m)\u001b[0m\u001b[0;34m:\u001b[0m\u001b[0;34m\u001b[0m\u001b[0;34m\u001b[0m\u001b[0m\n\u001b[0m\u001b[1;32m    204\u001b[0m             \u001b[0mos\u001b[0m\u001b[0;34m.\u001b[0m\u001b[0mmakedirs\u001b[0m\u001b[0;34m(\u001b[0m\u001b[0mfolder\u001b[0m\u001b[0;34m)\u001b[0m\u001b[0;34m\u001b[0m\u001b[0;34m\u001b[0m\u001b[0m\n\u001b[1;32m    205\u001b[0m \u001b[0;34m\u001b[0m\u001b[0m\n",
      "\u001b[0;31mNameError\u001b[0m: name 'os' is not defined"
     ]
    }
   ],
   "source": [
    "re = Estimator()\n",
    "\n",
    "_ = re.train(\n",
    "    method=\"alices\",\n",
    "    x_filename=\"../data/x.npy\",\n",
    "    y_filename=\"../data/y.npy\",\n",
    "    theta0_filename=\"../data/theta.npy\",\n",
    "    r_xz_filename=\"../data/r_xz.npy\",\n",
    "    t_xz0_filename=\"../data/t_xz.npy\",\n",
    "    alpha=0.0001,\n",
    "    n_conv_layers=2,\n",
    "    n_dense_layers=1,\n",
    ")\n",
    "\n",
    "if not os.path.exists(\"../models\"):\n",
    "    os.mkdir(\"../models\")\n",
    "re.save(\"../models/alices\")"
   ]
  }
 ],
 "metadata": {
  "kernelspec": {
   "display_name": "Python (lensing)",
   "language": "python",
   "name": "lensing"
  },
  "language_info": {
   "codemirror_mode": {
    "name": "ipython",
    "version": 3
   },
   "file_extension": ".py",
   "mimetype": "text/x-python",
   "name": "python",
   "nbconvert_exporter": "python",
   "pygments_lexer": "ipython3",
   "version": "3.6.8"
  }
 },
 "nbformat": 4,
 "nbformat_minor": 2
}
