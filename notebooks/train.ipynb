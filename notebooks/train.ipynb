{
 "cells": [
  {
   "cell_type": "markdown",
   "metadata": {},
   "source": [
    "# Train likelihood ratio estimator"
   ]
  },
  {
   "cell_type": "code",
   "execution_count": 1,
   "metadata": {},
   "outputs": [],
   "source": [
    "import sys, os\n",
    "sys.path.append('../')\n",
    "\n",
    "import logging\n",
    "import numpy as np\n",
    "import matplotlib.pyplot as plt\n",
    "\n",
    "from units import *\n",
    "from inference.inference import Estimator\n",
    "\n",
    "logging.basicConfig(\n",
    "    format='%(asctime)-5.5s %(name)-20.20s %(levelname)-7.7s %(message)s',\n",
    "    datefmt='%H:%M',\n",
    "    level=logging.INFO\n",
    ")"
   ]
  },
  {
   "cell_type": "markdown",
   "metadata": {},
   "source": [
    "## Train model"
   ]
  },
  {
   "cell_type": "code",
   "execution_count": 2,
   "metadata": {},
   "outputs": [],
   "source": [
    "re = Estimator()"
   ]
  },
  {
   "cell_type": "code",
   "execution_count": 4,
   "metadata": {},
   "outputs": [
    {
     "name": "stderr",
     "output_type": "stream",
     "text": [
      "15:39 inference.inference  INFO    Starting training\n",
      "15:39 inference.inference  INFO      Method:                 alice\n",
      "15:39 inference.inference  INFO      Training data:          x at ../data/x.npy\n",
      "15:39 inference.inference  INFO                              theta0 at ../data/theta.npy\n",
      "15:39 inference.inference  INFO                              y at ../data/y.npy\n",
      "15:39 inference.inference  INFO                              r_xz at ../data/r_xz.npy\n",
      "15:39 inference.inference  INFO                              t_xz (theta0) at ../data/t_xz.npy\n",
      "15:39 inference.inference  INFO      Method:                 alice\n",
      "15:39 inference.inference  INFO      Convolutional layers:   2\n",
      "15:39 inference.inference  INFO      Dense layers:           1\n",
      "15:39 inference.inference  INFO      Feature maps:           10\n",
      "15:39 inference.inference  INFO      Convolutional filter:   5\n",
      "15:39 inference.inference  INFO      Pooling filter:         2\n",
      "15:39 inference.inference  INFO      Activation function:    relu\n",
      "15:39 inference.inference  INFO      Batch size:             128\n",
      "15:39 inference.inference  INFO      Trainer:                amsgrad\n",
      "15:39 inference.inference  INFO      Epochs:                 50\n",
      "15:39 inference.inference  INFO      Learning rate:          0.001 initially, decaying to 0.0001\n",
      "15:39 inference.inference  INFO      Validation split:       None\n",
      "15:39 inference.inference  INFO      Early stopping:         True\n",
      "15:39 inference.inference  INFO      Rescale inputs:         True\n",
      "15:39 inference.inference  INFO      Shuffle labels          False\n",
      "15:39 inference.inference  INFO      Regularization:         None\n",
      "15:39 inference.inference  INFO      Samples:                all\n",
      "15:39 inference.inference  INFO    Loading training data\n",
      "15:39 inference.utils      WARNING Warning: file ../data/r_xz.npy contains 0 NaNs and 1 Infs, compared to 999 finite numbers!\n",
      "15:39 inference.utils      WARNING Warning: file ../data/r_xz.npy has some large numbers, rangin from 0.039785831966161894 to inf\n",
      "15:39 inference.inference  INFO    Found 1000 samples with 2 parameters and resolution 64 x 64\n",
      "15:39 inference.inference  INFO    Rescaling pixel values by factor 1 / 416.6703192915771\n",
      "15:39 inference.inference  INFO    Training model\n",
      "15:39 inference.trainer    INFO      Epoch 05: train loss 0.5006 (improved_xe: 0.5006)\n",
      "15:40 inference.trainer    INFO      Epoch 10: train loss 0.4892 (improved_xe: 0.4892)\n",
      "15:40 inference.trainer    INFO      Epoch 15: train loss 0.4892 (improved_xe: 0.4892)\n",
      "15:41 inference.trainer    INFO      Epoch 20: train loss 0.4898 (improved_xe: 0.4898)\n",
      "15:41 inference.trainer    INFO      Epoch 25: train loss 0.4897 (improved_xe: 0.4897)\n",
      "15:42 inference.trainer    INFO      Epoch 30: train loss 0.4901 (improved_xe: 0.4901)\n",
      "15:42 inference.trainer    INFO      Epoch 35: train loss 0.4887 (improved_xe: 0.4887)\n",
      "15:43 inference.trainer    INFO      Epoch 40: train loss 0.4881 (improved_xe: 0.4881)\n",
      "15:43 inference.trainer    INFO      Epoch 45: train loss 0.4888 (improved_xe: 0.4888)\n",
      "15:44 inference.trainer    INFO      Epoch 50: train loss 0.4885 (improved_xe: 0.4885)\n",
      "15:44 inference.trainer    INFO    Finished training\n"
     ]
    }
   ],
   "source": [
    "re = Estimator()\n",
    "\n",
    "_ = re.train(\n",
    "    method=\"alice\",\n",
    "    x_filename=\"../data/x.npy\",\n",
    "    y_filename=\"../data/y.npy\",\n",
    "    theta0_filename=\"../data/theta.npy\",\n",
    "    r_xz_filename=\"../data/r_xz.npy\",\n",
    "    t_xz0_filename=\"../data/t_xz.npy\",\n",
    "    alpha=0.0001,\n",
    "    n_conv_layers=2,\n",
    "    n_dense_layers=1,\n",
    ")\n",
    "\n",
    "if not os.path.exists(\"../models\"):\n",
    "    os.mkdir(\"../models\")\n",
    "re.save(\"../models/alice\")"
   ]
  },
  {
   "cell_type": "code",
   "execution_count": null,
   "metadata": {},
   "outputs": [],
   "source": []
  }
 ],
 "metadata": {
  "kernelspec": {
   "display_name": "Python (lensing)",
   "language": "python",
   "name": "lensing"
  },
  "language_info": {
   "codemirror_mode": {
    "name": "ipython",
    "version": 3
   },
   "file_extension": ".py",
   "mimetype": "text/x-python",
   "name": "python",
   "nbconvert_exporter": "python",
   "pygments_lexer": "ipython3",
   "version": "3.6.8"
  }
 },
 "nbformat": 4,
 "nbformat_minor": 2
}
