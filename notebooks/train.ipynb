{
 "cells": [
  {
   "cell_type": "markdown",
   "metadata": {},
   "source": [
    "# Train likelihood ratio estimator"
   ]
  },
  {
   "cell_type": "code",
   "execution_count": 1,
   "metadata": {},
   "outputs": [],
   "source": [
    "import sys, os\n",
    "sys.path.append('../')\n",
    "\n",
    "import logging\n",
    "import numpy as np\n",
    "import matplotlib.pyplot as plt\n",
    "\n",
    "from units import *\n",
    "from inference.inference import Estimator\n",
    "\n",
    "logging.basicConfig(\n",
    "    format='%(asctime)-5.5s %(name)-20.20s %(levelname)-7.7s %(message)s',\n",
    "    datefmt='%H:%M',\n",
    "    level=logging.INFO\n",
    ")"
   ]
  },
  {
   "cell_type": "markdown",
   "metadata": {},
   "source": [
    "## Train CARL"
   ]
  },
  {
   "cell_type": "code",
   "execution_count": null,
   "metadata": {},
   "outputs": [
    {
     "name": "stderr",
     "output_type": "stream",
     "text": [
      "17:55 inference.inference  INFO    Starting training\n",
      "17:55 inference.inference  INFO      Method:                 carl\n",
      "17:55 inference.inference  INFO      Training data:          x at ../data/x.npy\n",
      "17:55 inference.inference  INFO                              theta0 at ../data/theta.npy\n",
      "17:55 inference.inference  INFO                              y at ../data/y.npy\n",
      "17:55 inference.inference  INFO      Method:                 carl\n",
      "17:55 inference.inference  INFO      Convolutional layers:   3\n",
      "17:55 inference.inference  INFO      Dense layers:           2\n",
      "17:55 inference.inference  INFO      Feature maps:           100\n",
      "17:55 inference.inference  INFO      Convolutional filter:   5\n",
      "17:55 inference.inference  INFO      Pooling filter:         2\n",
      "17:55 inference.inference  INFO      Activation function:    relu\n",
      "17:55 inference.inference  INFO      Batch size:             128\n",
      "17:55 inference.inference  INFO      Trainer:                amsgrad\n",
      "17:55 inference.inference  INFO      Epochs:                 20\n",
      "17:55 inference.inference  INFO      Learning rate:          0.001 initially, decaying to 0.0001\n",
      "17:55 inference.inference  INFO      Validation split:       None\n",
      "17:55 inference.inference  INFO      Early stopping:         True\n",
      "17:55 inference.inference  INFO      Rescale inputs:         True\n",
      "17:55 inference.inference  INFO      Shuffle labels          False\n",
      "17:55 inference.inference  INFO      Regularization:         None\n",
      "17:55 inference.inference  INFO      Samples:                all\n",
      "17:55 inference.inference  INFO    Loading training data\n",
      "17:55 inference.inference  INFO    Found 10000 samples with 2 parameters and resolution 64 x 64\n",
      "17:55 inference.inference  INFO    Rescaling pixel values by factor 1 / 456.83351848008124\n",
      "17:55 inference.inference  INFO    Training model\n"
     ]
    }
   ],
   "source": [
    "carl = Estimator()\n",
    "\n",
    "_ = carl.train(\n",
    "    method=\"carl\",\n",
    "    x_filename=\"../data/x.npy\",\n",
    "    y_filename=\"../data/y.npy\",\n",
    "    theta0_filename=\"../data/theta.npy\",\n",
    "    n_epochs=20,\n",
    ")\n",
    "\n",
    "if not os.path.exists(\"../models\"):\n",
    "    os.mkdir(\"../models\")\n",
    "carl.save(\"../models/carl\")"
   ]
  },
  {
   "cell_type": "markdown",
   "metadata": {},
   "source": [
    "## Train ALICE"
   ]
  },
  {
   "cell_type": "code",
   "execution_count": null,
   "metadata": {},
   "outputs": [],
   "source": [
    "alices = Estimator()\n",
    "\n",
    "_ = alices.train(\n",
    "    method=\"alice\",\n",
    "    x_filename=\"../data/x.npy\",\n",
    "    y_filename=\"../data/y.npy\",\n",
    "    theta0_filename=\"../data/theta.npy\",\n",
    "    r_xz_filename=\"../data/r_xz.npy\",\n",
    "    n_epochs=20,\n",
    ")\n",
    "\n",
    "if not os.path.exists(\"../models\"):\n",
    "    os.mkdir(\"../models\")\n",
    "alices.save(\"../models/alice\")"
   ]
  },
  {
   "cell_type": "code",
   "execution_count": null,
   "metadata": {},
   "outputs": [],
   "source": []
  }
 ],
 "metadata": {
  "kernelspec": {
   "display_name": "Python (lensing)",
   "language": "python",
   "name": "lensing"
  },
  "language_info": {
   "codemirror_mode": {
    "name": "ipython",
    "version": 3
   },
   "file_extension": ".py",
   "mimetype": "text/x-python",
   "name": "python",
   "nbconvert_exporter": "python",
   "pygments_lexer": "ipython3",
   "version": "3.6.8"
  }
 },
 "nbformat": 4,
 "nbformat_minor": 2
}
