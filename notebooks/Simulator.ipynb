{
 "cells": [
  {
   "cell_type": "code",
   "execution_count": 6,
   "metadata": {},
   "outputs": [
    {
     "name": "stdout",
     "output_type": "stream",
     "text": [
      "The autoreload extension is already loaded. To reload it, use:\n",
      "  %reload_ext autoreload\n"
     ]
    }
   ],
   "source": [
    "import sys, os\n",
    "sys.path.append('../')\n",
    "\n",
    "import logging\n",
    "import numpy as np\n",
    "import matplotlib.pyplot as plt\n",
    "\n",
    "from simulation.lensing_sim import LensingSim\n",
    "from simulation.units import *\n",
    "\n",
    "logging.basicConfig(\n",
    "    format='%(asctime)-5.5s %(name)-20.20s %(levelname)-7.7s %(message)s',\n",
    "    datefmt='%H:%M',\n",
    "    level=logging.INFO\n",
    ")\n",
    "\n",
    "%matplotlib inline\n",
    "%load_ext autoreload\n",
    "%autoreload 2"
   ]
  },
  {
   "cell_type": "code",
   "execution_count": 39,
   "metadata": {},
   "outputs": [],
   "source": [
    "# HST\n",
    "# SLACS\n",
    "# LSST\n",
    "# DES\n",
    "# EUCLID"
   ]
  },
  {
   "cell_type": "code",
   "execution_count": 38,
   "metadata": {},
   "outputs": [
    {
     "data": {
      "text/plain": [
       "<matplotlib.image.AxesImage at 0x129930fd0>"
      ]
     },
     "execution_count": 38,
     "metadata": {},
     "output_type": "execute_result"
    },
    {
     "data": {
      "image/png": "[encoded data removed]",
      "text/plain": [
       "<Figure size 432x288 with 1 Axes>"
      ]
     },
     "metadata": {
      "needs_background": "light"
     },
     "output_type": "display_data"
    }
   ],
   "source": [
    "coordinate_limit = 2.5\n",
    "# exposure = (1 / 1.8e-19) * erg ** -1 * Centimeter ** 2 * Angstrom * 1000 * Sec\n",
    "exposure = 6.1e18 * erg ** -1 * Centimeter ** 2 * Angstrom * 1000 * Sec\n",
    "\n",
    "A_iso = 2e-7 * erg / Centimeter ** 2 / Sec / Angstrom / (radtoasc) ** 2\n",
    "zs = 1.0\n",
    "zl = 0.1\n",
    "src_profile=\"Sersic\"\n",
    "src_I_gal=1e-18 * erg / Centimeter ** 2 / Sec / Angstrom\n",
    "src_theta_e_gal=0.5\n",
    "src_n=4\n",
    "\n",
    "hst_param_dict = {\n",
    "            \"profile\": \"SIS\",\n",
    "            \"theta_x\": 0.0,\n",
    "            \"theta_y\": 0.0,\n",
    "            \"theta_E\": 1,\n",
    "            \"q\": 1.,\n",
    "}\n",
    "\n",
    "observation_dict = {\n",
    "            \"nx\": 64,\n",
    "            \"ny\": 64,\n",
    "            \"xlims\": (-coordinate_limit, coordinate_limit),\n",
    "            \"ylims\": (-coordinate_limit, coordinate_limit),\n",
    "            \"exposure\": exposure,\n",
    "            \"A_iso\": A_iso,\n",
    "        }\n",
    "\n",
    "src_param_dict = {\n",
    "            \"profile\": src_profile,\n",
    "            \"I_gal\": src_I_gal,\n",
    "            \"theta_e_gal\": src_theta_e_gal,\n",
    "            \"n_srsc\": src_n,\n",
    "        }\n",
    "\n",
    "global_dict = {\"z_s\": zs, \"z_l\": zl}\n",
    "\n",
    "lsi = LensingSim([hst_param_dict], \n",
    "                 [src_param_dict], \n",
    "                 global_dict, \n",
    "                 observation_dict)\n",
    "\n",
    "image = lsi.lensed_image()\n",
    "\n",
    "v_min = 2\n",
    "v_max =3\n",
    "\n",
    "plt.imshow(np.log10(image),\n",
    "        vmin=v_min,\n",
    "        vmax=v_max,\n",
    "        cmap='gist_gray',\n",
    "        extent=(-coordinate_limit, coordinate_limit,-coordinate_limit, coordinate_limit),\n",
    "        origin=\"lower\"\n",
    ")"
   ]
  },
  {
   "cell_type": "code",
   "execution_count": 31,
   "metadata": {},
   "outputs": [
    {
     "data": {
      "text/plain": [
       "0.006103515625"
      ]
     },
     "execution_count": 31,
     "metadata": {},
     "output_type": "execute_result"
    }
   ],
   "source": [
    "lsi.pixarea"
   ]
  },
  {
   "cell_type": "code",
   "execution_count": null,
   "metadata": {},
   "outputs": [],
   "source": []
  }
 ],
 "metadata": {
  "kernelspec": {
   "display_name": "Python 3",
   "language": "python",
   "name": "python3"
  },
  "language_info": {
   "codemirror_mode": {
    "name": "ipython",
    "version": 3
   },
   "file_extension": ".py",
   "mimetype": "text/x-python",
   "name": "python",
   "nbconvert_exporter": "python",
   "pygments_lexer": "ipython3",
   "version": "3.7.3"
  }
 },
 "nbformat": 4,
 "nbformat_minor": 2
}
