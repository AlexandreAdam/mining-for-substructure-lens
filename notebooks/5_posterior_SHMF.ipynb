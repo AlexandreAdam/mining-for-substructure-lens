{
 "cells": [
  {
   "cell_type": "markdown",
   "metadata": {},
   "source": [
    "# Bayesian inference"
   ]
  },
  {
   "cell_type": "code",
   "execution_count": 179,
   "metadata": {},
   "outputs": [],
   "source": [
    "import sys, os\n",
    "import logging\n",
    "import numpy as np\n",
    "from scipy.stats import uniform, norm\n",
    "import matplotlib\n",
    "import matplotlib.pyplot as plt\n",
    "from matplotlib.legend_handler import HandlerPatch\n",
    "%matplotlib inline\n",
    "\n",
    "sys.path.append('../')\n",
    "import paper_settings\n",
    "from simulation.units import *\n",
    "from simulation.prior import get_grid\n",
    "from inference.bayes import Posterior"
   ]
  },
  {
   "cell_type": "code",
   "execution_count": 180,
   "metadata": {},
   "outputs": [],
   "source": [
    "paper_settings.setup()"
   ]
  },
  {
   "cell_type": "markdown",
   "metadata": {},
   "source": [
    "## Setup"
   ]
  },
  {
   "cell_type": "code",
   "execution_count": 181,
   "metadata": {},
   "outputs": [],
   "source": [
    "n = 100\n",
    "n_events_for_expectation = 5000"
   ]
  },
  {
   "cell_type": "code",
   "execution_count": 182,
   "metadata": {},
   "outputs": [],
   "source": [
    "filename = \"calibrated_alices_full_sgd1e2_grid\""
   ]
  },
  {
   "cell_type": "markdown",
   "metadata": {},
   "source": [
    "## Data"
   ]
  },
  {
   "cell_type": "code",
   "execution_count": 183,
   "metadata": {},
   "outputs": [],
   "source": [
    "llr = np.load(\"../data/results/llr_{}.npy\".format(filename))[:,:n_events_for_expectation]"
   ]
  },
  {
   "cell_type": "code",
   "execution_count": 184,
   "metadata": {},
   "outputs": [],
   "source": [
    "resolution = 25\n",
    "\n",
    "f_sub_1d = np.linspace(0.001, 0.200, resolution)\n",
    "beta_1d = np.linspace(-2.5, -1.5, resolution)\n",
    "\n",
    "theta0, theta1 = np.meshgrid(f_sub_1d, beta_1d)\n",
    "theta_grid = np.vstack((theta0.flatten(), theta1.flatten())).T\n",
    "\n",
    "bin_size = f_sub_1d[1] - f_sub_1d[0]\n",
    "alpha_edges = np.linspace(f_sub_1d[0] - bin_size/2, f_sub_1d[-1] + bin_size/2, resolution + 1)\n",
    "bin_size = beta_1d[1] - beta_1d[0]\n",
    "beta_edges = np.linspace(beta_1d[0] - bin_size/2, beta_1d[-1] + bin_size/2, resolution + 1)"
   ]
  },
  {
   "cell_type": "markdown",
   "metadata": {},
   "source": [
    "## Calculate posterior on f_sub, beta"
   ]
  },
  {
   "cell_type": "code",
   "execution_count": 185,
   "metadata": {},
   "outputs": [],
   "source": [
    "def narrow_prior(thetas):\n",
    "    f_sub = thetas[:,0]\n",
    "    beta = thetas[:,1]\n",
    "    \n",
    "    return uniform(0.001, 0.199).pdf(f_sub).flatten() * norm(-1.9, 0.1).pdf(beta).flatten()"
   ]
  },
  {
   "cell_type": "code",
   "execution_count": 186,
   "metadata": {},
   "outputs": [],
   "source": [
    "bayes = Posterior(llr, theta_grid)\n",
    "posterior_narrow = bayes.posterior_based_on_expected_llr(n, narrow_prior)"
   ]
  },
  {
   "cell_type": "markdown",
   "metadata": {},
   "source": [
    "## Drawing from posterior"
   ]
  },
  {
   "cell_type": "code",
   "execution_count": 187,
   "metadata": {},
   "outputs": [],
   "source": [
    "def draw_fsub_beta(posterior):\n",
    "    posterior /= np.sum(posterior)\n",
    "    \n",
    "    # Draw bin\n",
    "    i_bin = np.random.choice(list(range(625)), p=posterior)\n",
    "    \n",
    "    # Draw f_sub and theta uniformly within bin\n",
    "    f_sub = theta_grid[i_bin][0] + (f_sub_1d[1] - f_sub_1d[0]) * (np.random.random() - 0.5)\n",
    "    beta = theta_grid[i_bin][1] + (beta_edges[1] - beta_edges[0]) * (np.random.random() - 0.5)\n",
    "    \n",
    "    return f_sub, beta"
   ]
  },
  {
   "cell_type": "markdown",
   "metadata": {},
   "source": [
    "## SHMF"
   ]
  },
  {
   "cell_type": "code",
   "execution_count": 188,
   "metadata": {},
   "outputs": [],
   "source": [
    "def M_200_sigma_v(sigma_v, scatter=False):\n",
    "    \"\"\"\n",
    "    Relate central velocity dispersion to halo virial mass\n",
    "    From https://arxiv.org/pdf/1804.04492.pdf\n",
    "    \"\"\"\n",
    "    a = 0.09\n",
    "    b = 3.48\n",
    "    if scatter:\n",
    "        sigma_log10_M_200 = 0.13  # Lognormal scatter\n",
    "        log10_M_200 = np.random.normal(a + b * np.log10(sigma_v / (100 * Kmps)), sigma_log10_M_200)\n",
    "    else:\n",
    "        log10_M_200 = a + b * np.log10(sigma_v / (100 * Kmps))\n",
    "    return (10 ** log10_M_200) * 1e12 * M_s"
   ]
  },
  {
   "cell_type": "code",
   "execution_count": 189,
   "metadata": {},
   "outputs": [],
   "source": [
    "def shmf_by_mhost(fsub, beta, msubs):\n",
    "    \"\"\" Evaluates dn / dm for a given set of m (msubs)\"\"\"\n",
    "    \n",
    "    sigma_v = np.random.normal(225, 50)\n",
    "    mhost = M_200_sigma_v(sigma_v * Kmps)\n",
    "    \n",
    "    m_min_calib=1e6 * M_s\n",
    "    m_max_calib=0.01 * mhost\n",
    "    M_0=M_MW\n",
    "    m_0 = 1.e9 * M_s\n",
    "                \n",
    "    alpha = fsub * ((2 + beta) * M_0 * m_0 ** beta) / (m_max_calib ** (beta + 2) - m_min_calib ** (beta + 2))\n",
    "    \n",
    "    return np.where(msubs > m_max_calib, 0., alpha * (mhost / M_0) * (msubs / m_0)**beta / mhost)\n",
    "                "
   ]
  },
  {
   "cell_type": "markdown",
   "metadata": {},
   "source": [
    "## Find mean and credible intervals"
   ]
  },
  {
   "cell_type": "code",
   "execution_count": 190,
   "metadata": {},
   "outputs": [],
   "source": [
    "def mean_and_ci(samples, levels=[0.68, 0.95]):\n",
    "#     n_samples = samples.shape[0]\n",
    "    mean = np.mean(samples, axis=0)\n",
    "    all_down = [np.quantile(samples, (1. - level)/2, axis=0) for level in levels]\n",
    "    all_up = [np.quantile(samples, 1. - (1. - level)/2, axis=0) for level in levels]\n",
    "    all_cis = np.array([all_down, all_up])\n",
    "    \n",
    "#     # Loop over data points\n",
    "#     all_cis = []\n",
    "    \n",
    "#     for samples_, mean_ in zip(samples.T, mean):\n",
    "        \n",
    "#         # Find position of mean in samples\n",
    "#         sorted_ = sorted(samples_)\n",
    "#         mean_pos = np.searchsorted(sorted_, mean_)\n",
    "    \n",
    "#         # Loop over levels and find lowest and highest position\n",
    "#         cis = []\n",
    "#         for level in levels:\n",
    "#             half_n_ci = int(round(level * n_samples / 2,0))\n",
    "#             low_pos, high_pos = mean_pos - half_n_ci, mean_pos + half_n_ci\n",
    "#             if low_pos < 0:\n",
    "#                 cis.append([sorted_[0], sorted_[2*half_n_ci]])\n",
    "#             elif high_pos >= n_samples:\n",
    "#                 cis.append([sorted_[-2*half_n_ci - 1], sorted_[-1]])\n",
    "#             else:\n",
    "#                 cis.append([sorted_[low_pos], sorted_[high_pos]])\n",
    "                \n",
    "#         all_cis.append(cis)\n",
    "#     all_cis = np.array(all_cis)  # Shape (n_datapoints, n_cis, 2)\n",
    "#     all_cis = all_cis.T  # Shape (2, n_cis, n_datapoints)\n",
    "\n",
    "    return mean, all_cis"
   ]
  },
  {
   "cell_type": "markdown",
   "metadata": {},
   "source": [
    "## Generate SHMF data"
   ]
  },
  {
   "cell_type": "code",
   "execution_count": 191,
   "metadata": {},
   "outputs": [],
   "source": [
    "n_realizations = 20000\n",
    "n_realizations_show = 0\n",
    "fsub_true, beta_true = 0.05, -1.9\n",
    "msubs = np.geomspace(1.e7, 1e12, 200) * M_s"
   ]
  },
  {
   "cell_type": "code",
   "execution_count": 192,
   "metadata": {},
   "outputs": [],
   "source": [
    "shmf_posteriors = []\n",
    "shmf_trues = []\n",
    "for _ in range(n_realizations):\n",
    "    fsub_, beta_ = draw_fsub_beta(posterior_narrow)\n",
    "    shmf_posteriors.append(shmf_by_mhost(fsub_, beta_, msubs))\n",
    "    shmf_trues.append(shmf_by_mhost(fsub_true, beta_true, msubs))\n",
    "shmf_posteriors = np.asarray(shmf_posteriors)\n",
    "shmf_trues = np.asarray(shmf_trues)"
   ]
  },
  {
   "cell_type": "code",
   "execution_count": 193,
   "metadata": {},
   "outputs": [],
   "source": [
    "shmf_true, _ = mean_and_ci(shmf_trues, levels=[])\n",
    "shmf_posterior, shmf_posterior_cis = mean_and_ci(shmf_posteriors, levels=[0.68, 0.95])"
   ]
  },
  {
   "cell_type": "markdown",
   "metadata": {},
   "source": [
    "## Plot"
   ]
  },
  {
   "cell_type": "code",
   "execution_count": 194,
   "metadata": {},
   "outputs": [],
   "source": [
    "x = 1./M_s * msubs\n",
    "y_mult = msubs**2"
   ]
  },
  {
   "cell_type": "code",
   "execution_count": 195,
   "metadata": {},
   "outputs": [
    {
     "data": {
      "image/png": "[encoded data removed]",
      "text/plain": [
       "<Figure size 204.52x204.52 with 1 Axes>"
      ]
     },
     "metadata": {
      "needs_background": "light"
     },
     "output_type": "display_data"
    }
   ],
   "source": [
    "fig = paper_settings.figure()\n",
    "ax = plt.gca()\n",
    "\n",
    "for i, shmf_ in enumerate(shmf_posteriors[:n_realizations_show]):\n",
    "    plt.plot(x, msubs**2 * shmf_,c=\"0.3\", lw=0.25)\n",
    "    \n",
    "fillpost2 = plt.fill_between(x, y_mult * shmf_posterior_cis[0, 1], msubs**2 * shmf_posterior_cis[1, 1], facecolor=paper_settings.COLOR_FIX, edgecolor=paper_settings.COLOR_FIX)\n",
    "fillpost1 = plt.fill_between(x, y_mult * shmf_posterior_cis[0, 0], msubs**2 * shmf_posterior_cis[1, 0], facecolor=paper_settings.COLOR_ALIGN, edgecolor=paper_settings.COLOR_ALIGN)\n",
    "lpost, = plt.plot(x, y_mult * shmf_posterior, alpha=1., c=paper_settings.COLOR_FULL, lw=1.0, label=\"Posterior\")\n",
    "ltrue, = plt.plot(x, y_mult * shmf_true, alpha=1., c=\"black\", lw=1.0, ls=\":\", label=\"True SHMF\")\n",
    "\n",
    "ax.add_patch(matplotlib.patches.Rectangle(xy=(1.93e7,1.147e-2), width=6.4e7, height=0.2e-2, facecolor=paper_settings.COLOR_FIX, edgecolor=paper_settings.COLOR_FIX))\n",
    "ax.add_patch(matplotlib.patches.Rectangle(xy=(1.93e7,1.195e-2), width=6.4e7, height=0.09e-2, facecolor=paper_settings.COLOR_ALIGN, edgecolor=paper_settings.COLOR_ALIGN))\n",
    "\n",
    "ax.legend(\n",
    "    [ltrue, lpost],\n",
    "    [\"True SHMF\", \"Posterior\"],\n",
    "    loc=2,\n",
    "    frameon=False\n",
    ")\n",
    "\n",
    "plt.xlabel(r\"$m_{200}$ [$M_{\\odot}$]\")\n",
    "ax.xaxis.set_label_coords(0.5, -0.11)\n",
    "plt.ylabel(r\"$\\frac {m_{200}^2}{M_{200}} \\frac{\\mathrm{d}n}{\\mathrm{d}m_{200}}$\")\n",
    "ax.yaxis.set_label_coords(-0.115, 0.5)\n",
    "ax.yaxis.set_tick_params(pad=1)\n",
    "\n",
    "plt.xscale(\"log\")\n",
    "plt.xlim(1.e7, 1.e12)\n",
    "plt.yscale(\"log\")\n",
    "plt.ylim(0.001,0.02)\n",
    "#plt.ylim(0., None)\n",
    "    \n",
    "plt.savefig(\"../figures/shmf.pdf\", dpi=300)\n"
   ]
  },
  {
   "cell_type": "code",
   "execution_count": null,
   "metadata": {},
   "outputs": [],
   "source": []
  }
 ],
 "metadata": {
  "kernelspec": {
   "display_name": "Python (lensing)",
   "language": "python",
   "name": "lensing"
  },
  "language_info": {
   "codemirror_mode": {
    "name": "ipython",
    "version": 3
   },
   "file_extension": ".py",
   "mimetype": "text/x-python",
   "name": "python",
   "nbconvert_exporter": "python",
   "pygments_lexer": "ipython3",
   "version": "3.6.8"
  }
 },
 "nbformat": 4,
 "nbformat_minor": 2
}
