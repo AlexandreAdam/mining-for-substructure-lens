{
 "cells": [
  {
   "cell_type": "markdown",
   "metadata": {},
   "source": [
    "# Calibration curve"
   ]
  },
  {
   "cell_type": "code",
   "execution_count": 77,
   "metadata": {},
   "outputs": [],
   "source": [
    "import sys\n",
    "import numpy as np\n",
    "import matplotlib\n",
    "import matplotlib.pyplot as plt\n",
    "\n",
    "sys.path.append(\"../\")\n",
    "import paper_settings\n",
    "from simulation.prior import get_grid_point"
   ]
  },
  {
   "cell_type": "code",
   "execution_count": 13,
   "metadata": {},
   "outputs": [],
   "source": [
    "paper_settings.setup()"
   ]
  },
  {
   "cell_type": "markdown",
   "metadata": {},
   "source": [
    "## Settings"
   ]
  },
  {
   "cell_type": "code",
   "execution_count": 81,
   "metadata": {},
   "outputs": [
    {
     "data": {
      "text/plain": [
       "array([ 0.125375, -1.875   ])"
      ]
     },
     "execution_count": 81,
     "metadata": {},
     "output_type": "execute_result"
    }
   ],
   "source": [
    "i_show = 390 # 365\n",
    "n_thetas = 100\n",
    "skip = 10\n",
    "\n",
    "get_grid_point(i_show)"
   ]
  },
  {
   "cell_type": "markdown",
   "metadata": {},
   "source": [
    "## Data"
   ]
  },
  {
   "cell_type": "code",
   "execution_count": 82,
   "metadata": {},
   "outputs": [],
   "source": [
    "llr_raw = np.load(\"../data/results/llr_alices_full_sgd1e2_grid.npy\")\n",
    "llr_cal = np.load(\"../data/results/llr_calibrated_alices_full_sgd1e2_grid.npy\")"
   ]
  },
  {
   "cell_type": "code",
   "execution_count": 83,
   "metadata": {},
   "outputs": [],
   "source": [
    "theta_idx = np.random.choice(list(range(625)), n_thetas)  # list(range(625))"
   ]
  },
  {
   "cell_type": "markdown",
   "metadata": {},
   "source": [
    "## Plot calibration curves"
   ]
  },
  {
   "cell_type": "code",
   "execution_count": 84,
   "metadata": {},
   "outputs": [
    {
     "data": {
      "image/png": "[encoded data removed]",
      "text/plain": [
       "<Figure size 204.52x204.52 with 1 Axes>"
      ]
     },
     "metadata": {
      "needs_background": "light"
     },
     "output_type": "display_data"
    }
   ],
   "source": [
    "fig = paper_settings.figure()\n",
    "ax = plt.gca()\n",
    "\n",
    "for i in theta_idx:\n",
    "    raw = llr_raw[i][::skip]\n",
    "    cal = llr_cal[i][::skip]\n",
    "    sorter = np.argsort(raw)\n",
    "    raw = raw[sorter]\n",
    "    cal = cal[sorter]\n",
    "    color = paper_settings.CMAP1(0.5*np.random.random())\n",
    "    plt.plot(raw, cal, alpha=0.3, c=color, lw=0.5)\n",
    "    \n",
    "raw = llr_raw[i_show][::skip]\n",
    "cal = llr_cal[i_show][::skip]\n",
    "sorter = np.argsort(raw)\n",
    "raw = raw[sorter]\n",
    "cal = cal[sorter]\n",
    "color = paper_settings.CMAP1(0.8)\n",
    "plt.plot(raw, cal, alpha=1., c=color, lw=1.)\n",
    "\n",
    "plt.plot([-100.,100.], [-100.,100.], ls=\":\", c=\"black\", lw=1.)\n",
    "    \n",
    "plt.xlim(-6., 3.)\n",
    "plt.ylim(-6., 3.)\n",
    "\n",
    "plt.xlabel(r\"Network output\")\n",
    "plt.ylabel(r\"Calibrated log likelihood ratio\")\n",
    "ax.xaxis.set_label_coords(0.5, -0.11)\n",
    "    \n",
    "plt.savefig(\"../figures/calibration_curves.pdf\")\n"
   ]
  },
  {
   "cell_type": "code",
   "execution_count": null,
   "metadata": {},
   "outputs": [],
   "source": []
  }
 ],
 "metadata": {
  "kernelspec": {
   "display_name": "Python (lensing)",
   "language": "python",
   "name": "lensing"
  },
  "language_info": {
   "codemirror_mode": {
    "name": "ipython",
    "version": 3
   },
   "file_extension": ".py",
   "mimetype": "text/x-python",
   "name": "python",
   "nbconvert_exporter": "python",
   "pygments_lexer": "ipython3",
   "version": "3.6.8"
  }
 },
 "nbformat": 4,
 "nbformat_minor": 2
}
