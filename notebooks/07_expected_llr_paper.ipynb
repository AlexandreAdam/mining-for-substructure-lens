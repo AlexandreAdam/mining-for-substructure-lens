{
 "cells": [
  {
   "cell_type": "markdown",
   "metadata": {},
   "source": [
    "# Evaluate likelihood ratio"
   ]
  },
  {
   "cell_type": "code",
   "execution_count": 1,
   "metadata": {},
   "outputs": [],
   "source": [
    "import sys, os\n",
    "import logging\n",
    "import numpy as np\n",
    "import matplotlib\n",
    "import matplotlib.pyplot as plt\n",
    "%matplotlib inline\n",
    "from scipy.stats import chi2\n",
    "import palettable\n",
    "\n",
    "import paper_settings"
   ]
  },
  {
   "cell_type": "code",
   "execution_count": 2,
   "metadata": {},
   "outputs": [],
   "source": [
    "paper_settings.setup()"
   ]
  },
  {
   "cell_type": "markdown",
   "metadata": {},
   "source": [
    "## Setup"
   ]
  },
  {
   "cell_type": "code",
   "execution_count": 3,
   "metadata": {},
   "outputs": [],
   "source": [
    "filenames = [\n",
    "    \"alices_fix_grid\",\n",
    "    \"alices_align_grid\",\n",
    "    \"alices_mass_grid\",\n",
    "    \"alices_full_sgd1e2_grid\",\n",
    "    \"calibrated_alices_full_sgd1e2_grid\",\n",
    "]\n",
    "settings = [\"fix\", \"align\", \"mass\", \"full\", \"full\"]\n",
    "labels = [\"Fix\", \"Align\", \"Mass\", \"Full\", \"Full (cal)\"]\n",
    "colors = [paper_settings.COLOR_FIX, paper_settings.COLOR_ALIGN, paper_settings.COLOR_MASS, paper_settings.COLOR_FULL, paper_settings.COLOR_FULL]\n",
    "lss = [\"--\", \":\", \"-.\", \"-\", \":\"]\n",
    "\n",
    "nmethods = len(filenames)\n",
    "i_show = 3\n",
    "i_lines = 4\n"
   ]
  },
  {
   "cell_type": "markdown",
   "metadata": {},
   "source": [
    "## Data"
   ]
  },
  {
   "cell_type": "code",
   "execution_count": 4,
   "metadata": {
    "scrolled": true
   },
   "outputs": [],
   "source": [
    "llrs = []\n",
    "llrs_cal = []\n",
    "\n",
    "for filename in filenames:\n",
    "    try:\n",
    "        llrs.append(np.load(\"../data/results/llr_{}.npy\".format(filename)))\n",
    "    except FileNotFoundError:\n",
    "        print(filename, \"not found\")\n",
    "        llrs.append(np.zeros((625, 100000)))\n",
    "        \n",
    "llrs = np.asarray(llrs)\n",
    "expected_llr = np.mean(llrs, axis=-1)\n"
   ]
  },
  {
   "cell_type": "code",
   "execution_count": 5,
   "metadata": {},
   "outputs": [],
   "source": [
    "resolution = 25\n",
    "\n",
    "f_sub_1d = np.linspace(0.001, 0.200, resolution)\n",
    "beta_1d = np.linspace(-2.5, -1.5, resolution)\n",
    "\n",
    "theta0, theta1 = np.meshgrid(f_sub_1d, beta_1d)\n",
    "theta_grid = np.vstack((theta0.flatten(), theta1.flatten())).T\n",
    "\n",
    "bin_size = f_sub_1d[1] - f_sub_1d[0]\n",
    "alpha_edges = np.linspace(f_sub_1d[0] - bin_size/2, f_sub_1d[-1] + bin_size/2, resolution + 1)\n",
    "bin_size = beta_1d[1] - beta_1d[0]\n",
    "beta_edges = np.linspace(beta_1d[0] - bin_size/2, beta_1d[-1] + bin_size/2, resolution + 1)"
   ]
  },
  {
   "cell_type": "markdown",
   "metadata": {},
   "source": [
    "## 2D likelihood map"
   ]
  },
  {
   "cell_type": "code",
   "execution_count": 10,
   "metadata": {},
   "outputs": [],
   "source": [
    "llrmin, llrmax = 0.0, 25.\n",
    "llr_cmap = paper_settings.CMAP1\n",
    "\n",
    "llr = -2. * expected_llr[i_show]\n",
    "llr -= np.min(llr)\n",
    "llr_clip = np.clip(llr, llrmin, llrmax)\n",
    "sqrt_llr = np.sqrt(llr_clip)\n",
    "\n",
    "llr_lines = -2. * expected_llr[i_lines]\n",
    "llr_lines -= np.min(llr_lines)\n",
    "\n",
    "n_for_lines = [100, 20, 5]\n",
    "thresholds = [1. / n * chi2.isf(0.05, df=2) for n in n_for_lines]\n",
    "contour_ls = [\"-\", \"--\", \":\"]\n",
    "clabels = [\"100\", \"20\", \"5\"]\n"
   ]
  },
  {
   "cell_type": "code",
   "execution_count": 11,
   "metadata": {},
   "outputs": [
    {
     "data": {
      "image/png": "[encoded data removed]",
      "text/plain": [
       "<Figure size 245.424x204.52 with 2 Axes>"
      ]
     },
     "metadata": {
      "needs_background": "light"
     },
     "output_type": "display_data"
    }
   ],
   "source": [
    "fig, (ax, cax) = paper_settings.figure(\n",
    "    cbar=True,\n",
    ")\n",
    "\n",
    "plt.sca(ax)\n",
    "pcm = ax.imshow(\n",
    "    sqrt_llr.reshape((resolution, resolution)),\n",
    "    extent=(alpha_edges[0],alpha_edges[-1],beta_edges[0], beta_edges[-1]),\n",
    "    cmap=paper_settings.CMAP1,\n",
    "    origin=\"lower\",\n",
    "    aspect=\"auto\",\n",
    "    norm=matplotlib.colors.Normalize(vmin=llrmin**0.5, vmax=llrmax**0.5),\n",
    ")\n",
    "# pcm = ax.pcolormesh(\n",
    "#     alpha_edges,\n",
    "#     beta_edges,\n",
    "#     sqrt_llr.reshape((resolution, resolution)),\n",
    "#     norm=matplotlib.colors.Normalize(vmin=llrmin**0.5, vmax=llrmax**0.5),\n",
    "#     cmap=llr_cmap\n",
    "# )\n",
    "cs = ax.contour(\n",
    "    0.5 * (alpha_edges[1:] + alpha_edges[:-1]),\n",
    "    0.5 * (beta_edges[1:] + beta_edges[:-1]),\n",
    "    llr_lines.reshape((resolution, resolution)),\n",
    "    thresholds,\n",
    "    colors=\"black\",\n",
    "    linewidths=1.,\n",
    "    linestyles=contour_ls,\n",
    ")\n",
    "ax.scatter(0.05, -1.9, s=15., color='black', marker='*')\n",
    "# ax.scatter(theta_grid[i_mle][0], theta_grid[i_mle][1], s=20., color='black', marker='o')\n",
    "\n",
    "plt.xlabel(r'$f_{\\mathrm{sub}}$')\n",
    "plt.ylabel(r'$\\beta$')\n",
    "plt.xlim(0.,0.2)\n",
    "plt.ylim(-2.5,-1.5) \n",
    "plt.xticks([0.,0.05,0.1,0.15,0.2])\n",
    "plt.yticks([-1.6,-1.8,-2.0,-2.2,-2.4],[\"-0.6\", \"-0.8\", \"-1.0\", \"-1.2\", \"-1.4\"])\n",
    "plt.clabel(cs, fmt={thresholds[i] : clabels[i] for i in range(len(thresholds))},\n",
    "          manual=[(0.06,-1.82), (0.11,-1.75), (0.17,-1.8)])\n",
    "# ax.yaxis.set_label_coords(-0.14, 0.52)\n",
    " \n",
    "cbar = fig.colorbar(\n",
    "    pcm,\n",
    "    cax=cax,\n",
    "    ticks=[0.,1.,2.,3.,4.,5.],\n",
    "    format=matplotlib.ticker.FuncFormatter(lambda x, _ : \"{:.0f}\".format(x**2))\n",
    ")\n",
    "cbar.set_label(r'$-2 \\Delta \\mathbb{E}[\\log \\hat{r}(x | f_{\\mathrm{sub}}, \\beta)]$')\n",
    "    \n",
    "plt.savefig(\"../figures/expected_likelihood_map.pdf\", dpi=300)\n"
   ]
  },
  {
   "cell_type": "markdown",
   "metadata": {},
   "source": [
    "## 1D slice"
   ]
  },
  {
   "cell_type": "code",
   "execution_count": 12,
   "metadata": {},
   "outputs": [],
   "source": [
    "i_beta = 14\n",
    "llr = -2. * expected_llr[i_show]\n",
    "llr = llr.reshape((resolution, resolution))[i_beta, :]\n",
    "llr -= np.min(llr)\n",
    "\n",
    "n_for_lines = [100, 20, 5]\n",
    "thresholds = [1. / n * chi2.isf(0.05, df=2) for n in n_for_lines]\n",
    "contour_ls = [\"-\", \"--\", \":\"]\n",
    "clabels = [\"100\", \"20\", \"5\"]\n"
   ]
  },
  {
   "cell_type": "code",
   "execution_count": 13,
   "metadata": {},
   "outputs": [
    {
     "data": {
      "image/png": "[encoded data removed]",
      "text/plain": [
       "<Figure size 204.52x204.52 with 1 Axes>"
      ]
     },
     "metadata": {
      "needs_background": "light"
     },
     "output_type": "display_data"
    }
   ],
   "source": [
    "fig, ax = paper_settings.figure(\n",
    "    cbar=False,\n",
    ")\n",
    "\n",
    "plt.plot(f_sub_1d, llr, ls=\"-\", c=paper_settings.COLOR_FULL, lw=1.)\n",
    "\n",
    "for threshold, ls, label in zip(thresholds[::-1], contour_ls[::-1], clabels[::-1]):\n",
    "#     if label == \"100\":\n",
    "#         plt.plot([0.,0.2], [threshold, threshold], ls=ls, c=paper_settings.COLOR_BKG, zorder=-21, lw=1.)\n",
    "#         #plt.text(\n",
    "#         #    0.18, 0.1, label,\n",
    "#         #    color=paper_settings.COLOR_BKG, backgroundcolor=\"white\",\n",
    "#         #    zorder=-23, ha=\"center\", va=\"center\"\n",
    "#         #)\n",
    "#     else:\n",
    "    plt.plot([0.,0.2], [threshold, threshold], ls=ls, c=paper_settings.COLOR_BKG, zorder=-24, lw=1.)\n",
    "    plt.text(\n",
    "        0.115, threshold, label,\n",
    "        color=paper_settings.COLOR_BKG, backgroundcolor=\"white\",\n",
    "        zorder=-22, ha=\"center\", va=\"center\"\n",
    "    )\n",
    "\n",
    "plt.text(x=0.01,y=2.35, ha=\"left\", va=\"top\", s=r\"$\\beta=-0.9$\")\n",
    "\n",
    "plt.xlabel(r'$f_{\\mathrm{sub}}$')\n",
    "plt.ylabel(r'$-2\\Delta \\mathbb{E}[\\log \\hat{r}(x | f_{\\mathrm{sub}})]$')\n",
    "plt.xlim(0., 0.13)\n",
    "plt.ylim(0., 2.5)\n",
    "#plt.xticks([0.,0.02,0.04,0.06, 0.08, 0.10, 0.12, 0.14])\n",
    "    \n",
    "plt.savefig(\"../figures/expected_likelihood_slice.pdf\", dpi=300)\n"
   ]
  },
  {
   "cell_type": "markdown",
   "metadata": {},
   "source": [
    "## Comparison plot 2D"
   ]
  },
  {
   "cell_type": "code",
   "execution_count": 14,
   "metadata": {},
   "outputs": [],
   "source": [
    "n_for_lines = 5\n",
    "threshold = 1. / n_for_lines * chi2.isf(0.05, df=2)\n",
    "\n",
    "label_positions = [(0.085,-1.61), (0.035,-1.65), (0.05,-1.65), (0.01,-1.6)]"
   ]
  },
  {
   "cell_type": "code",
   "execution_count": 15,
   "metadata": {},
   "outputs": [
    {
     "data": {
      "image/png": "[encoded data removed]",
      "text/plain": [
       "<Figure size 204.52x204.52 with 1 Axes>"
      ]
     },
     "metadata": {
      "needs_background": "light"
     },
     "output_type": "display_data"
    }
   ],
   "source": [
    "fig, ax = paper_settings.figure(\n",
    "    cbar=False,\n",
    ")\n",
    "\n",
    "for i, (llr, label, color, ls, label_pos) in enumerate(zip(expected_llr, labels, colors, lss, label_positions)):\n",
    "    llr = -2. * llr\n",
    "    llr -= np.min(llr)\n",
    "    cs = ax.contour(\n",
    "        0.5 * (alpha_edges[1:] + alpha_edges[:-1]),\n",
    "        0.5 * (beta_edges[1:] + beta_edges[:-1]),\n",
    "        llr.reshape((resolution, resolution)),\n",
    "        [threshold],\n",
    "        colors=[color],\n",
    "        linewidths=1.,\n",
    "        linestyles=ls,\n",
    "    )\n",
    "    plt.clabel(cs, fmt={threshold : label.lower()}, manual=[label_pos])\n",
    "ax.scatter(0.05, -1.9, s=15., color='black', marker='*')\n",
    "\n",
    "plt.xlabel(r'$f_{\\mathrm{sub}}$')\n",
    "plt.ylabel(r'$\\beta$')\n",
    "plt.xlim(0.,0.2)\n",
    "plt.ylim(-2.5,-1.5) \n",
    "plt.xticks([0.,0.05,0.1,0.15,0.2])\n",
    "plt.yticks([-1.6,-1.8,-2.0,-2.2,-2.4],[\"-0.6\", \"-0.8\", \"-1.0\", \"-1.2\", \"-1.4\"])\n",
    "# ax.yaxis.set_label_coords(-0.14, 0.52)\n",
    "    \n",
    "plt.savefig(\"../figures/scenarios_2d.pdf\", dpi=300)\n"
   ]
  },
  {
   "cell_type": "markdown",
   "metadata": {},
   "source": [
    "## Comparison plot 1D slice"
   ]
  },
  {
   "cell_type": "code",
   "execution_count": 16,
   "metadata": {},
   "outputs": [
    {
     "data": {
      "image/png": "[encoded data removed]",
      "text/plain": [
       "<Figure size 204.52x204.52 with 1 Axes>"
      ]
     },
     "metadata": {
      "needs_background": "light"
     },
     "output_type": "display_data"
    }
   ],
   "source": [
    "i_beta = 14\n",
    "\n",
    "fig, ax = paper_settings.figure(\n",
    "    cbar=False,\n",
    ")\n",
    "\n",
    "for i, (llr, label, color, ls, label_pos) in enumerate(zip(expected_llr, labels, colors, lss, label_positions)):\n",
    "    llr = -2. * llr\n",
    "    llr = llr.reshape((resolution, resolution))[i_beta, :]\n",
    "    llr -= np.min(llr)\n",
    "\n",
    "    plt.plot(f_sub_1d, llr, ls=ls, label=label, c=color, lw=1.)\n",
    "\n",
    "plt.text(x=0.012,y=10.5, ha=\"left\", va=\"top\", s=r\"$\\beta=-0.9$\", fontsize=10.)\n",
    "plt.legend(loc=\"upper left\", frameon=False)\n",
    "\n",
    "plt.xlabel(r'$f_{\\mathrm{sub}}$')\n",
    "plt.ylabel(r'$-2  \\mathbb{E}[\\log \\hat{r}(x | f_{\\mathrm{sub}})]$')\n",
    "plt.xlim(0., 0.2)\n",
    "plt.ylim(0., 18.)\n",
    "plt.yticks([0,5,10,15], [\"0\",\"5\",\"10\",\"15\"])\n",
    "    \n",
    "plt.savefig(\"../figures/scenarios_1d.pdf\", dpi=300)\n",
    "\n"
   ]
  },
  {
   "cell_type": "code",
   "execution_count": null,
   "metadata": {},
   "outputs": [],
   "source": []
  }
 ],
 "metadata": {
  "kernelspec": {
   "display_name": "Python (lensing)",
   "language": "python",
   "name": "lensing"
  },
  "language_info": {
   "codemirror_mode": {
    "name": "ipython",
    "version": 3
   },
   "file_extension": ".py",
   "mimetype": "text/x-python",
   "name": "python",
   "nbconvert_exporter": "python",
   "pygments_lexer": "ipython3",
   "version": "3.6.8"
  }
 },
 "nbformat": 4,
 "nbformat_minor": 2
}
