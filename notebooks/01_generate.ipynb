{
 "cells": [
  {
   "cell_type": "markdown",
   "metadata": {},
   "source": [
    "# Simulation (plus some gold mining)"
   ]
  },
  {
   "cell_type": "code",
   "execution_count": 1,
   "metadata": {},
   "outputs": [],
   "source": [
    "import sys, os\n",
    "sys.path.append('../')\n",
    "\n",
    "import logging\n",
    "import numpy as np\n",
    "import matplotlib.pyplot as plt\n",
    "\n",
    "from simulation.units import *\n",
    "from simulation.population_sim import SubhaloSimulator\n",
    "\n",
    "logging.basicConfig(\n",
    "    format='%(asctime)-5.5s %(name)-20.20s %(levelname)-7.7s %(message)s',\n",
    "    datefmt='%H:%M',\n",
    "    level=logging.INFO\n",
    ")"
   ]
  },
  {
   "cell_type": "markdown",
   "metadata": {},
   "source": [
    "## Prior and settings"
   ]
  },
  {
   "cell_type": "code",
   "execution_count": 2,
   "metadata": {},
   "outputs": [],
   "source": [
    "n_train = 25000\n",
    "n_test = 5000\n",
    "n_prior_samples = 1000\n",
    "\n",
    "mass_base_unit = 1.e9 * M_s\n",
    "\n",
    "alpha_mean = 500. # calculate 2e8/M_s * mass_base_unit * (mass_base_unit / M_s)**-1.9\n",
    "alpha_std = 100.\n",
    "\n",
    "beta_mean = -2.5\n",
    "beta_std = 0.3\n",
    "\n",
    "alpha_true = 400.\n",
    "beta_true = -1.9"
   ]
  },
  {
   "cell_type": "markdown",
   "metadata": {},
   "source": [
    "## Generate train data"
   ]
  },
  {
   "cell_type": "code",
   "execution_count": 3,
   "metadata": {},
   "outputs": [],
   "source": [
    "alpha_train = np.random.normal(loc=alpha_mean, scale=alpha_std, size=n_train)\n",
    "beta_train = np.random.normal(loc=beta_mean, scale=beta_std, size=n_train)\n",
    "theta_train = np.vstack((alpha_train, beta_train)).T\n",
    "\n",
    "assert np.min(alpha_train) > 0.\n",
    "assert np.max(beta_train) < -1."
   ]
  },
  {
   "cell_type": "code",
   "execution_count": 4,
   "metadata": {},
   "outputs": [],
   "source": [
    "sim = SubhaloSimulator(\n",
    "    mass_base_unit=mass_base_unit,\n",
    "    resolution=64,\n",
    "    m_sub_min=10.,\n",
    ")"
   ]
  },
  {
   "cell_type": "code",
   "execution_count": null,
   "metadata": {},
   "outputs": [],
   "source": [
    "y0 = np.zeros(n_train)\n",
    "x0, t_xz0, log_r_xz0, log_r_xz_uncertainties0, latents0 = sim.rvs_score_ratio_to_evidence(\n",
    "    alpha_train,\n",
    "    beta_train,\n",
    "    alpha_mean,\n",
    "    alpha_std,\n",
    "    beta_mean,\n",
    "    beta_std,\n",
    "    n_train,\n",
    "    n_prior_samples\n",
    ")"
   ]
  },
  {
   "cell_type": "code",
   "execution_count": null,
   "metadata": {},
   "outputs": [],
   "source": [
    "y1 = np.ones(n_train)\n",
    "x1, t_xz1, log_r_xz1, log_r_xz_uncertainties1, latents1 = sim.rvs_score_ratio_to_evidence_inverse(\n",
    "    alpha_train,\n",
    "    beta_train,\n",
    "    alpha_mean,\n",
    "    alpha_std,\n",
    "    beta_mean,\n",
    "    beta_std,\n",
    "    n_train,\n",
    "    n_prior_samples\n",
    ")"
   ]
  },
  {
   "cell_type": "code",
   "execution_count": null,
   "metadata": {},
   "outputs": [],
   "source": [
    "x_train = np.vstack((x0, x1))\n",
    "y_train = np.hstack((y0, y1))\n",
    "theta_train = np.vstack((theta_train, theta_train))\n",
    "log_r_xz_train = np.hstack((log_r_xz0, log_r_xz1))\n",
    "t_xz_train = np.vstack((t_xz0, t_xz1))\n",
    "latents = latents0 + latents1\n",
    "\n",
    "r_xz_train = np.exp(log_r_xz_train, dtype=np.float64)\n",
    "n_subs_train = np.array([v[0] for v in latents])\n",
    "m_subs_train = [v[1] for v in latents]\n",
    "pos_subs_train = [np.vstack((v[2], v[3])).T for v in latents]"
   ]
  },
  {
   "cell_type": "code",
   "execution_count": null,
   "metadata": {},
   "outputs": [],
   "source": [
    "if not os.path.exists(\"../data\"):\n",
    "    os.mkdir(\"../data\")\n",
    "if not os.path.exists(\"../data/samples\"):\n",
    "    os.mkdir(\"../data/samples\")\n",
    "\n",
    "np.save(\"../data/samples/theta_train.npy\", theta_train)\n",
    "np.save(\"../data/samples/x_train.npy\", x_train)\n",
    "np.save(\"../data/samples/y_train.npy\", y_train)\n",
    "np.save(\"../data/samples/t_xz_train.npy\", t_xz_train)\n",
    "np.save(\"../data/samples/r_xz_train.npy\", r_xz_train)\n",
    "np.save(\"../data/samples/log_r_xz_train.npy\", log_r_xz_train)\n",
    "np.save(\"../data/samples/n_subs_train.npy\", n_subs_train)\n"
   ]
  },
  {
   "cell_type": "markdown",
   "metadata": {},
   "source": [
    "## Generate test data"
   ]
  },
  {
   "cell_type": "code",
   "execution_count": null,
   "metadata": {},
   "outputs": [],
   "source": [
    "sim = SubhaloSimulator(\n",
    "    mass_base_unit=mass_base_unit,\n",
    "    resolution=64,\n",
    "    m_sub_min=10.,\n",
    ")\n",
    "\n",
    "x0, _ = sim.rvs(alpha_true, beta_true, n_test)\n",
    "y0 = np.zeros(n_test)\n",
    "\n",
    "alpha1_test = np.random.normal(loc=alpha_mean, scale=alpha_std, size=n_test)\n",
    "beta1_test = np.random.normal(loc=beta_mean, scale=beta_std, size=n_test)\n",
    "\n",
    "x1, _ = sim.rvs(alpha1_test, beta1_test, n_test)\n",
    "y1 = np.ones(n_test)\n",
    "\n",
    "x_test = np.vstack((x0, x1))\n",
    "y_test = np.hstack((y0, y1))\n",
    "theta_test = np.array([[alpha_true, beta_true] for i in range(2*n_test)])"
   ]
  },
  {
   "cell_type": "code",
   "execution_count": null,
   "metadata": {},
   "outputs": [],
   "source": [
    "if not os.path.exists(\"../data\"):\n",
    "    os.mkdir(\"../data\")\n",
    "\n",
    "np.save(\"../data/theta_test.npy\", theta_test)\n",
    "np.save(\"../data/x_test.npy\", x_test)\n",
    "np.save(\"../data/y_test.npy\", y_test)"
   ]
  },
  {
   "cell_type": "markdown",
   "metadata": {},
   "source": [
    "## A first look at the data"
   ]
  },
  {
   "cell_type": "code",
   "execution_count": null,
   "metadata": {},
   "outputs": [],
   "source": [
    "fig = plt.figure(figsize=(10,5))\n",
    "\n",
    "# Number of subhalos\n",
    "ax = plt.subplot(1,2,1)\n",
    "plt.hist(n_subs_train, bins=50, range=(0,200), histtype='step', density=True)\n",
    "plt.xlabel(r'Number of subhalos')\n",
    "plt.ylabel(r'Histogram')\n",
    "\n",
    "# Masses\n",
    "ax = plt.subplot(1,2,2)\n",
    "bins = 10**(np.linspace(1., 5., 25))\n",
    "plt.hist(np.hstack(m_subs_train), bins=bins, histtype='step', density=True)\n",
    "ax.set_xscale(\"log\", nonposx='clip')\n",
    "ax.set_yscale(\"log\", nonposy='clip')\n",
    "plt.xlabel(r'Subhalo mass [$10^9 \\; M_S$]')\n",
    "plt.ylabel(r'Histogram')\n",
    "\n",
    "plt.tight_layout()\n",
    "plt.savefig(\"../figures/subhalo_params.pdf\")"
   ]
  },
  {
   "cell_type": "code",
   "execution_count": null,
   "metadata": {},
   "outputs": [],
   "source": [
    "plt.figure(figsize=(15,16))\n",
    "\n",
    "for i in [9,10,11,0,3,6,1,2,4,5,7,8]:\n",
    "    if i == 9:\n",
    "        ax_y = plt.subplot(4,3,i+1)\n",
    "        ax_x = ax_y\n",
    "    elif i in [10,11]:\n",
    "        ax_x = plt.subplot(4,3,i+1, sharey=ax_y)\n",
    "    elif i in [0,3,6]:\n",
    "        ax_y = plt.subplot(4,3,i+1, sharex=ax_x)\n",
    "    else:\n",
    "        ax = plt.subplot(4,3,i+1, sharey=ax_y, sharex=ax_x)\n",
    "        \n",
    "    plt.imshow(\n",
    "        np.log10(x_train[i]),\n",
    "        vmax=3.5,\n",
    "        cmap='gist_gray',\n",
    "        extent=(-2.,2.,-2.,2.),\n",
    "        origin=\"lower\"\n",
    "    )\n",
    "    sc = plt.scatter(\n",
    "        pos_subs_train[i][:,0],\n",
    "        pos_subs_train[i][:,1],\n",
    "        s=50.,\n",
    "        c=np.log10(m_subs_train[i][:]),\n",
    "        cmap=\"plasma\",\n",
    "        vmin=1.,\n",
    "        vmax=3.,\n",
    "    )\n",
    "    cbar = plt.colorbar(sc)\n",
    "    \n",
    "    plt.xlim(-2.,2.)\n",
    "    plt.ylim(-2.,2.)\n",
    "    \n",
    "    description = r\"$\\alpha = ${:.1e}, $\\beta = ${:.2f}, $n = {}$, $\\log \\; r(x,z) = ${:.1f}\".format(\n",
    "            alpha_train[i],\n",
    "            beta_train[i],\n",
    "            n_subs_train[i],\n",
    "            log_r_xz_train[i]\n",
    "        )\n",
    "    plt.title(\n",
    "        description,\n",
    "        fontsize=10\n",
    "    )\n",
    "    if i in [9,10,11]:\n",
    "        plt.xlabel(r\"$\\theta_x$ [arcsec]\")\n",
    "    else:\n",
    "        plt.setp(plt.gca().get_xticklabels(), visible=False)\n",
    "    if i in [0,3,6,9]:\n",
    "        plt.ylabel(r\"$\\theta_y$ [arcsec]\")\n",
    "    else:\n",
    "        plt.setp(plt.gca().get_yticklabels(), visible=False)\n",
    "    cbar.set_label(r'$\\log_{10} [M_{sub} / 10^7 M_S]$')\n",
    "    \n",
    "    \n",
    "plt.tight_layout()\n",
    "plt.savefig(\"../figures/subhalos.pdf\")"
   ]
  },
  {
   "cell_type": "code",
   "execution_count": null,
   "metadata": {},
   "outputs": [],
   "source": []
  }
 ],
 "metadata": {
  "kernelspec": {
   "display_name": "Python (lensing)",
   "language": "python",
   "name": "lensing"
  },
  "language_info": {
   "codemirror_mode": {
    "name": "ipython",
    "version": 3
   },
   "file_extension": ".py",
   "mimetype": "text/x-python",
   "name": "python",
   "nbconvert_exporter": "python",
   "pygments_lexer": "ipython3",
   "version": "3.6.8"
  }
 },
 "nbformat": 4,
 "nbformat_minor": 2
}
