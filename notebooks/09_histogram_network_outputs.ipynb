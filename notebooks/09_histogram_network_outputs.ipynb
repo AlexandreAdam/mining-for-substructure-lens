{
 "cells": [
  {
   "cell_type": "markdown",
   "metadata": {},
   "source": [
    "# Evaluate likelihood ratio"
   ]
  },
  {
   "cell_type": "code",
   "execution_count": 4,
   "metadata": {},
   "outputs": [],
   "source": [
    "import sys, os\n",
    "import logging\n",
    "import numpy as np\n",
    "import matplotlib\n",
    "import matplotlib.pyplot as plt\n",
    "from scipy.stats import chi2, norm\n",
    "\n",
    "sys.path.append(\"../\")\n",
    "from inference.utils import s_from_r"
   ]
  },
  {
   "cell_type": "markdown",
   "metadata": {},
   "source": [
    "## Data"
   ]
  },
  {
   "cell_type": "code",
   "execution_count": 25,
   "metadata": {},
   "outputs": [],
   "source": [
    "filenames = [\n",
    "    #\"carl_fix\",\n",
    "    #\"alice_fix\",\n",
    "    \"alices_fix\",\n",
    "    #\"carl_mass\",\n",
    "    #\"alice_mass\",\n",
    "    \"alices_mass\",\n",
    "    #\"carl_align\",\n",
    "    #\"alice_align\",\n",
    "    #\"alices_align\",\n",
    "    #\"carl_full\",\n",
    "    #\"alice_full\",\n",
    "    \"alices_full\",\n",
    "    #\"carl_full_aux\",\n",
    "    #\"alice_full_aux\",\n",
    "    #\"alices_full_aux\",\n",
    "]\n",
    "labels = [\n",
    "    #\"CARL (fix)\",\n",
    "    #\"ALICE (fix)\",\n",
    "    \"ALICES (fix)\",\n",
    "    #\"CARL (mass)\",\n",
    "    #\"ALICE (mass)\",\n",
    "    \"ALICES (mass)\",\n",
    "    #\"CARL (align)\",\n",
    "    #\"ALICE (align)\",\n",
    "    #\"ALICES (align)\",\n",
    "    #\"CARL (full)\",\n",
    "    #\"ALICE (full)\",\n",
    "    \"ALICES (full)\",\n",
    "    #\"CARL (full-aux)\",\n",
    "    #\"ALICE (full-aux)\",\n",
    "    #\"ALICES (full-aux)\",\n",
    "]\n",
    "\n",
    "nmethods = len(filenames)\n",
    "ncols = 2\n",
    "nrows = nmethods // ncols"
   ]
  },
  {
   "cell_type": "code",
   "execution_count": 26,
   "metadata": {},
   "outputs": [],
   "source": [
    "llrs = np.asarray([np.load(\"../data/results/llr_{}_grid.npy\".format(filename)) for filename in filenames])"
   ]
  },
  {
   "cell_type": "code",
   "execution_count": 28,
   "metadata": {},
   "outputs": [
    {
     "data": {
      "text/plain": [
       "(3, 625, 100000)"
      ]
     },
     "execution_count": 28,
     "metadata": {},
     "output_type": "execute_result"
    }
   ],
   "source": [
    "llrs.shape"
   ]
  },
  {
   "cell_type": "code",
   "execution_count": 29,
   "metadata": {},
   "outputs": [],
   "source": [
    "idx = 356\n",
    "log_r = llrs[:, idx, :]\n",
    "s = s_from_r(np.exp(log_r))"
   ]
  },
  {
   "cell_type": "markdown",
   "metadata": {},
   "source": [
    "## Histograms"
   ]
  },
  {
   "cell_type": "code",
   "execution_count": 33,
   "metadata": {},
   "outputs": [
    {
     "data": {
      "image/png": "[encoded data removed]",
      "text/plain": [
       "<Figure size 720x360 with 2 Axes>"
      ]
     },
     "metadata": {
      "needs_background": "light"
     },
     "output_type": "display_data"
    }
   ],
   "source": [
    "fig = plt.figure(figsize=(10., 5.))\n",
    "\n",
    "ax = plt.subplot(1,2,1)\n",
    "for i, x in enumerate(log_r):\n",
    "    plt.hist(x, range=(-4., 2.5), bins=100, histtype=\"step\", lw=1.5, color=\"C{}\".format(i), density=True, label=labels[i])\n",
    "plt.legend(loc=\"upper left\")\n",
    "plt.xlim(-4.,2.5)\n",
    "plt.xlabel(r\"$\\log \\; \\hat{r}(x)$\")\n",
    "\n",
    "ax = plt.subplot(1,2,2)\n",
    "for i, x in enumerate(s):\n",
    "    plt.hist(x, range=(0., 1.), bins=100, histtype=\"step\", lw=1.5, color=\"C{}\".format(i), density=True)\n",
    "plt.xlim(0.,1.)\n",
    "plt.xlabel(r\"$\\hat{s}(x)$\")\n",
    "\n",
    "plt.tight_layout()\n",
    "plt.savefig(\"../figures/output_histo.pdf\")\n"
   ]
  },
  {
   "cell_type": "code",
   "execution_count": null,
   "metadata": {},
   "outputs": [],
   "source": []
  },
  {
   "cell_type": "code",
   "execution_count": null,
   "metadata": {},
   "outputs": [],
   "source": []
  }
 ],
 "metadata": {
  "kernelspec": {
   "display_name": "Python (lensing)",
   "language": "python",
   "name": "lensing"
  },
  "language_info": {
   "codemirror_mode": {
    "name": "ipython",
    "version": 3
   },
   "file_extension": ".py",
   "mimetype": "text/x-python",
   "name": "python",
   "nbconvert_exporter": "python",
   "pygments_lexer": "ipython3",
   "version": "3.6.8"
  }
 },
 "nbformat": 4,
 "nbformat_minor": 2
}
