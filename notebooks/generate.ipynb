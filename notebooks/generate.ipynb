{
 "cells": [
  {
   "cell_type": "markdown",
   "metadata": {},
   "source": [
    "# Image generation (plus some gold mining)"
   ]
  },
  {
   "cell_type": "code",
   "execution_count": 1,
   "metadata": {},
   "outputs": [],
   "source": [
    "import sys, os\n",
    "sys.path.append('../')\n",
    "\n",
    "import logging\n",
    "import numpy as np\n",
    "import matplotlib.pyplot as plt\n",
    "\n",
    "from units import *\n",
    "from simulation import SubhaloSimulator\n",
    "\n",
    "logging.basicConfig(\n",
    "    format='%(asctime)-5.5s %(name)-20.20s %(levelname)-7.7s %(message)s',\n",
    "    datefmt='%H:%M',\n",
    "    level=logging.INFO\n",
    ")"
   ]
  },
  {
   "cell_type": "markdown",
   "metadata": {},
   "source": [
    "## Prior"
   ]
  },
  {
   "cell_type": "code",
   "execution_count": 2,
   "metadata": {},
   "outputs": [],
   "source": [
    "mass_base_unit = 1.e7 * M_s"
   ]
  },
  {
   "cell_type": "code",
   "execution_count": 3,
   "metadata": {},
   "outputs": [
    {
     "name": "stdout",
     "output_type": "stream",
     "text": [
      "1000.0 +/- 200.0\n"
     ]
    }
   ],
   "source": [
    "alpha_mean = 1000. # 100  # 100 is just 2e8/M_s * mass_base_unit * (mass_base_unit / M_s)**-1.9\n",
    "alpha_std = alpha_mean * 0.2\n",
    "\n",
    "print(alpha_mean, \"+/-\", alpha_std)\n",
    "\n",
    "beta_mean = -1.9\n",
    "beta_std = 0.2"
   ]
  },
  {
   "cell_type": "markdown",
   "metadata": {},
   "source": [
    "## Draw parameters to generate"
   ]
  },
  {
   "cell_type": "code",
   "execution_count": 4,
   "metadata": {},
   "outputs": [],
   "source": [
    "n_sims = 50000\n",
    "n_theta_samples = 100"
   ]
  },
  {
   "cell_type": "code",
   "execution_count": null,
   "metadata": {},
   "outputs": [],
   "source": [
    "alpha = np.random.normal(loc=alpha_mean, scale=alpha_std, size=n_sims)\n",
    "beta = np.random.normal(loc=beta_mean, scale=beta_std, size=n_sims)\n",
    "parameters = np.vstack((alpha, beta)).T\n",
    "\n",
    "assert np.min(alpha) > 0.\n",
    "assert np.max(beta) < -1."
   ]
  },
  {
   "cell_type": "markdown",
   "metadata": {},
   "source": [
    "## Generate data"
   ]
  },
  {
   "cell_type": "code",
   "execution_count": null,
   "metadata": {},
   "outputs": [],
   "source": [
    "sim = SubhaloSimulator(\n",
    "    mass_base_unit=mass_base_unit,\n",
    "    resolution=64,\n",
    "    m_sub_min=100.,\n",
    ")"
   ]
  },
  {
   "cell_type": "code",
   "execution_count": null,
   "metadata": {},
   "outputs": [
    {
     "name": "stderr",
     "output_type": "stream",
     "text": [
      "../profiles.py:62: RuntimeWarning: divide by zero encountered in arctanh\n",
      "  return np.arctanh(np.sqrt(1-x**2))/(np.sqrt(1-x**2))\n",
      "../lensing_sim.py:78: RuntimeWarning: invalid value encountered in add\n",
      "  xg += _xg\n",
      "../lensing_sim.py:79: RuntimeWarning: invalid value encountered in add\n",
      "  yg += _yg\n",
      "/Users/johannbrehmer/anaconda3/envs/lensing/lib/python3.6/site-packages/autograd/tracer.py:48: RuntimeWarning: invalid value encountered in less\n",
      "  return f_raw(*args, **kwargs)\n",
      "/Users/johannbrehmer/anaconda3/envs/lensing/lib/python3.6/site-packages/autograd/tracer.py:48: RuntimeWarning: invalid value encountered in greater\n",
      "  return f_raw(*args, **kwargs)\n",
      "19:06 simulation           INFO    Simulating image 2500 / 50000\n",
      "19:25 simulation           INFO    Simulating image 5000 / 50000\n",
      "19:43 simulation           INFO    Simulating image 7500 / 50000\n",
      "20:02 simulation           INFO    Simulating image 10000 / 50000\n",
      "20:20 simulation           INFO    Simulating image 12500 / 50000\n",
      "20:38 simulation           INFO    Simulating image 15000 / 50000\n",
      "21:28 simulation           INFO    Simulating image 17500 / 50000\n",
      "21:44 simulation           INFO    Simulating image 20000 / 50000\n",
      "22:03 simulation           INFO    Simulating image 22500 / 50000\n",
      "22:20 simulation           INFO    Simulating image 25000 / 50000\n",
      "22:37 simulation           INFO    Simulating image 27500 / 50000\n",
      "22:54 simulation           INFO    Simulating image 30000 / 50000\n",
      "23:10 simulation           INFO    Simulating image 32500 / 50000\n",
      "23:27 simulation           INFO    Simulating image 35000 / 50000\n",
      "23:44 simulation           INFO    Simulating image 37500 / 50000\n",
      "00:01 simulation           INFO    Simulating image 40000 / 50000\n",
      "07:32 simulation           INFO    Simulating image 42500 / 50000\n",
      "07:50 simulation           INFO    Simulating image 45000 / 50000\n",
      "08:06 simulation           INFO    Simulating image 47500 / 50000\n",
      "08:22 simulation           INFO    Simulating image 50000 / 50000\n"
     ]
    }
   ],
   "source": [
    "y0 = np.zeros(n_sims)\n",
    "\n",
    "x0, t_xz0, log_r_xz0, latents0 = sim.rvs_score_ratio(\n",
    "    alpha,\n",
    "    beta,\n",
    "    alpha_mean,\n",
    "    beta_mean,\n",
    "    n_sims\n",
    ")"
   ]
  },
  {
   "cell_type": "code",
   "execution_count": null,
   "metadata": {},
   "outputs": [
    {
     "name": "stderr",
     "output_type": "stream",
     "text": [
      "08:31 simulation           INFO    Simulating image 2500 / 50000\n",
      "08:39 simulation           INFO    Simulating image 5000 / 50000\n",
      "09:13 simulation           INFO    Simulating image 7500 / 50000\n",
      "09:27 simulation           INFO    Simulating image 10000 / 50000\n",
      "09:42 simulation           INFO    Simulating image 12500 / 50000\n",
      "09:56 simulation           INFO    Simulating image 15000 / 50000\n",
      "10:13 simulation           INFO    Simulating image 17500 / 50000\n"
     ]
    }
   ],
   "source": [
    "y1 = np.ones(n_sims)\n",
    "\n",
    "x1, t_xz1, log_r_xz1, latents1 = sim.rvs_score_ratio(\n",
    "    alpha_mean,\n",
    "    beta_mean,\n",
    "    alpha,\n",
    "    beta,\n",
    "    n_sims\n",
    ")"
   ]
  },
  {
   "cell_type": "code",
   "execution_count": null,
   "metadata": {},
   "outputs": [],
   "source": [
    "x = np.vstack((x0, x1))\n",
    "y = np.hstack((y0, y1))\n",
    "parameters = np.vstack((parameters, parameters))\n",
    "log_r_xz = np.hstack((log_r_xz0, log_r_xz1))\n",
    "t_xz = np.vstack((t_xz0, t_xz1))\n",
    "latents = latents0 + latents1\n",
    "\n",
    "r_xz = np.exp(log_r_xz, dtype=np.float64)\n",
    "n_subs = np.array([v[0] for v in latents])\n",
    "m_subs = [v[1] for v in latents]\n",
    "pos_subs = [np.vstack((v[2], v[3])).T for v in latents]"
   ]
  },
  {
   "cell_type": "code",
   "execution_count": null,
   "metadata": {},
   "outputs": [],
   "source": [
    "if not os.path.exists(\"../data\"):\n",
    "    os.mkdir(\"../data\")\n",
    "\n",
    "np.save(\"../data/theta.npy\", parameters)\n",
    "np.save(\"../data/x.npy\", x)\n",
    "np.save(\"../data/y.npy\", y)\n",
    "np.save(\"../data/t_xz.npy\", t_xz)\n",
    "np.save(\"../data/r_xz.npy\", r_xz)\n",
    "np.save(\"../data/log_r_xz.npy\", log_r_xz)"
   ]
  },
  {
   "cell_type": "markdown",
   "metadata": {},
   "source": [
    "## A first look at the data"
   ]
  },
  {
   "cell_type": "code",
   "execution_count": null,
   "metadata": {},
   "outputs": [],
   "source": [
    "fig = plt.figure(figsize=(10,5))\n",
    "\n",
    "# Number of subhalos\n",
    "ax = plt.subplot(1,2,1)\n",
    "nbins= min(np.max(n_subs)+1, 25)\n",
    "plt.hist(n_subs, bins=nbins, range=(-0.5,np.max(n_subs)+0.5), histtype='step', density=True)\n",
    "plt.xlabel(r'Number of subhalos')\n",
    "plt.ylabel(r'Histogram')\n",
    "\n",
    "# Masses\n",
    "ax = plt.subplot(1,2,2)\n",
    "bins = 10**(np.linspace(0, 8, 25))\n",
    "plt.hist(np.hstack(m_subs), bins=bins, histtype='step', density=True)\n",
    "ax.set_xscale(\"log\", nonposx='clip')\n",
    "ax.set_yscale(\"log\", nonposy='clip')\n",
    "plt.xlabel(r'Subhalo mass [$10^7 \\; M_S$]')\n",
    "plt.ylabel(r'Histogram')\n",
    "\n",
    "plt.tight_layout()\n",
    "plt.show()"
   ]
  },
  {
   "cell_type": "code",
   "execution_count": null,
   "metadata": {},
   "outputs": [],
   "source": [
    "plt.figure(figsize=(15,12))\n",
    "\n",
    "for i in [6,7,8,0,3,1,2,4,5]:\n",
    "    if i == 6:\n",
    "        ax_y = plt.subplot(3,3,i+1)\n",
    "        ax_x = ax_y\n",
    "    elif i in [7,8]:\n",
    "        ax_x = plt.subplot(3,3,i+1, sharey=ax_y)\n",
    "    elif i in [0,3]:\n",
    "        ax_y = plt.subplot(3,3,i+1, sharex=ax_x)\n",
    "    else:\n",
    "        ax = plt.subplot(3,3,i+1, sharey=ax_y, sharex=ax_x)\n",
    "        \n",
    "    plt.imshow(\n",
    "        np.log10(x[i]),\n",
    "        vmax=3.5,\n",
    "        cmap='gist_gray',\n",
    "        extent=(-2.,2.,-2.,2.),\n",
    "        origin=\"lower\"\n",
    "    )\n",
    "    sc = plt.scatter(\n",
    "        pos_subs[i][:,0],\n",
    "        pos_subs[i][:,1],\n",
    "        s=50.,\n",
    "        c=np.log10(m_subs[i][:]),\n",
    "        cmap=\"plasma\",\n",
    "        vmin=2.,\n",
    "        vmax=4.,\n",
    "    )\n",
    "    cbar = plt.colorbar(sc)\n",
    "    \n",
    "    plt.xlim(-2.,2.)\n",
    "    plt.ylim(-2.,2.)\n",
    "    \n",
    "    description = r\"$\\alpha = ${:.1e}, $\\beta = ${:.2f}, $\\log \\; r(x,z) = ${:.1f}\".format(\n",
    "            alpha[i],\n",
    "            beta[i],\n",
    "            log_r_xz[i]\n",
    "        )\n",
    "    plt.title(\n",
    "        description,\n",
    "        fontsize=10\n",
    "    )\n",
    "    if i in [6,7,8]:\n",
    "        plt.xlabel(r\"$\\theta_x$ [arcsec]\")\n",
    "    else:\n",
    "        plt.setp(plt.gca().get_xticklabels(), visible=False)\n",
    "    if i in [0,3,6]:\n",
    "        plt.ylabel(r\"$\\theta_y$ [arcsec]\")\n",
    "    else:\n",
    "        plt.setp(plt.gca().get_yticklabels(), visible=False)\n",
    "    cbar.set_label(r'$\\log_{10} [M_{sub} / 10^7 M_S]$]')\n",
    "    \n",
    "    \n",
    "plt.tight_layout()\n",
    "plt.show()"
   ]
  },
  {
   "cell_type": "code",
   "execution_count": null,
   "metadata": {},
   "outputs": [],
   "source": []
  }
 ],
 "metadata": {
  "kernelspec": {
   "display_name": "Python (lensing)",
   "language": "python",
   "name": "lensing"
  },
  "language_info": {
   "codemirror_mode": {
    "name": "ipython",
    "version": 3
   },
   "file_extension": ".py",
   "mimetype": "text/x-python",
   "name": "python",
   "nbconvert_exporter": "python",
   "pygments_lexer": "ipython3",
   "version": "3.6.8"
  }
 },
 "nbformat": 4,
 "nbformat_minor": 2
}
