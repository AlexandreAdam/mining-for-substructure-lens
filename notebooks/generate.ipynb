{
 "cells": [
  {
   "cell_type": "markdown",
   "metadata": {},
   "source": [
    "# Image generation (plus some gold mining)"
   ]
  },
  {
   "cell_type": "code",
   "execution_count": 1,
   "metadata": {},
   "outputs": [],
   "source": [
    "import sys, os\n",
    "sys.path.append('../')\n",
    "\n",
    "import logging\n",
    "import numpy as np\n",
    "import matplotlib.pyplot as plt\n",
    "\n",
    "from units import *\n",
    "from simulation.population_sim import SubhaloSimulator\n",
    "\n",
    "logging.basicConfig(\n",
    "    format='%(asctime)-5.5s %(name)-20.20s %(levelname)-7.7s %(message)s',\n",
    "    datefmt='%H:%M',\n",
    "    level=logging.INFO\n",
    ")"
   ]
  },
  {
   "cell_type": "markdown",
   "metadata": {},
   "source": [
    "## Prior and settings"
   ]
  },
  {
   "cell_type": "code",
   "execution_count": 7,
   "metadata": {},
   "outputs": [],
   "source": [
    "n_train = 25000\n",
    "n_test = 2500\n",
    "n_prior_samples = 100\n",
    "\n",
    "mass_base_unit = 1.e7 * M_s\n",
    "\n",
    "alpha_mean = 2500. # 100 is just 2e8/M_s * mass_base_unit * (mass_base_unit / M_s)**-1.9\n",
    "alpha_std = 500.\n",
    "\n",
    "beta_mean = -2.5\n",
    "beta_std = 0.3\n",
    "\n",
    "alpha_true = 2000.\n",
    "beta_true = -1.9"
   ]
  },
  {
   "cell_type": "markdown",
   "metadata": {},
   "source": [
    "## Generate train data"
   ]
  },
  {
   "cell_type": "code",
   "execution_count": 8,
   "metadata": {},
   "outputs": [],
   "source": [
    "alpha_train = np.random.normal(loc=alpha_mean, scale=alpha_std, size=n_train)\n",
    "beta_train = np.random.normal(loc=beta_mean, scale=beta_std, size=n_train)\n",
    "theta_train = np.vstack((alpha_train, beta_train)).T\n",
    "\n",
    "alpha1_train = np.random.normal(loc=alpha_mean, scale=alpha_std, size=n_train)\n",
    "beta1_train = np.random.normal(loc=beta_mean, scale=beta_std, size=n_train)\n",
    "\n",
    "assert np.min(alpha_train) > 0.\n",
    "assert np.max(beta_train) < -1."
   ]
  },
  {
   "cell_type": "code",
   "execution_count": 9,
   "metadata": {},
   "outputs": [],
   "source": [
    "sim = SubhaloSimulator(\n",
    "    mass_base_unit=mass_base_unit,\n",
    "    resolution=64,\n",
    "    m_sub_min=100.,\n",
    ")"
   ]
  },
  {
   "cell_type": "code",
   "execution_count": 14,
   "metadata": {},
   "outputs": [
    {
     "name": "stderr",
     "output_type": "stream",
     "text": [
      "13:40 simulation           INFO    Simulating image 1250 / 25000\n",
      "13:43 simulation           INFO    Simulating image 2500 / 25000\n",
      "13:46 simulation           INFO    Simulating image 3750 / 25000\n",
      "13:49 simulation           INFO    Simulating image 5000 / 25000\n",
      "13:52 simulation           INFO    Simulating image 6250 / 25000\n",
      "13:54 simulation           INFO    Simulating image 7500 / 25000\n",
      "13:57 simulation           INFO    Simulating image 8750 / 25000\n",
      "14:01 simulation           INFO    Simulating image 10000 / 25000\n",
      "14:03 simulation           INFO    Simulating image 11250 / 25000\n",
      "14:06 simulation           INFO    Simulating image 12500 / 25000\n",
      "14:09 simulation           INFO    Simulating image 13750 / 25000\n",
      "14:12 simulation           INFO    Simulating image 15000 / 25000\n",
      "14:14 simulation           INFO    Simulating image 16250 / 25000\n",
      "14:18 simulation           INFO    Simulating image 17500 / 25000\n",
      "14:21 simulation           INFO    Simulating image 18750 / 25000\n",
      "14:24 simulation           INFO    Simulating image 20000 / 25000\n",
      "14:27 simulation           INFO    Simulating image 21250 / 25000\n",
      "14:30 simulation           INFO    Simulating image 22500 / 25000\n",
      "14:35 simulation           INFO    Simulating image 23750 / 25000\n",
      "14:38 simulation           INFO    Simulating image 25000 / 25000\n"
     ]
    }
   ],
   "source": [
    "y0 = np.zeros(n_train)\n",
    "x0, t_xz0, log_r_xz0, log_r_xz_uncertainties0, latents0 = sim.rvs_score_ratio_to_evidence(\n",
    "    alpha_train,\n",
    "    beta_train,\n",
    "    alpha_mean,\n",
    "    alpha_std,\n",
    "    beta_mean,\n",
    "    beta_std,\n",
    "    n_train,\n",
    "    n_prior_samples\n",
    ")"
   ]
  },
  {
   "cell_type": "code",
   "execution_count": 16,
   "metadata": {},
   "outputs": [
    {
     "name": "stderr",
     "output_type": "stream",
     "text": [
      "15:30 simulation           INFO    Simulating image 1250 / 25000\n",
      "15:32 simulation           INFO    Simulating image 2500 / 25000\n",
      "15:33 simulation           INFO    Simulating image 3750 / 25000\n",
      "15:35 simulation           INFO    Simulating image 5000 / 25000\n",
      "15:37 simulation           INFO    Simulating image 6250 / 25000\n",
      "15:38 simulation           INFO    Simulating image 7500 / 25000\n",
      "15:40 simulation           INFO    Simulating image 8750 / 25000\n",
      "15:41 simulation           INFO    Simulating image 10000 / 25000\n",
      "15:43 simulation           INFO    Simulating image 11250 / 25000\n",
      "15:44 simulation           INFO    Simulating image 12500 / 25000\n",
      "15:46 simulation           INFO    Simulating image 13750 / 25000\n",
      "15:47 simulation           INFO    Simulating image 15000 / 25000\n",
      "15:48 simulation           INFO    Simulating image 16250 / 25000\n",
      "15:50 simulation           INFO    Simulating image 17500 / 25000\n",
      "15:51 simulation           INFO    Simulating image 18750 / 25000\n",
      "15:53 simulation           INFO    Simulating image 20000 / 25000\n",
      "15:55 simulation           INFO    Simulating image 21250 / 25000\n",
      "15:56 simulation           INFO    Simulating image 22500 / 25000\n",
      "15:57 simulation           INFO    Simulating image 23750 / 25000\n",
      "15:59 simulation           INFO    Simulating image 25000 / 25000\n"
     ]
    }
   ],
   "source": [
    "y1 = np.ones(n_train)\n",
    "x1, t_xz1, log_r_xz1, latents1 = sim.rvs_score_ratio(\n",
    "    alpha1_train,\n",
    "    beta1_train,\n",
    "    alpha_train,\n",
    "    beta_train,\n",
    "    n_train\n",
    ")"
   ]
  },
  {
   "cell_type": "code",
   "execution_count": 17,
   "metadata": {},
   "outputs": [],
   "source": [
    "x_train = np.vstack((x0, x1))\n",
    "y_train = np.hstack((y0, y1))\n",
    "theta_train = np.vstack((theta_train, theta_train))\n",
    "log_r_xz_train = np.hstack((log_r_xz0, log_r_xz1))\n",
    "t_xz_train = np.vstack((t_xz0, t_xz1))\n",
    "latents = latents0 + latents1\n",
    "\n",
    "r_xz_train = np.exp(log_r_xz_train, dtype=np.float64)\n",
    "n_subs_train = np.array([v[0] for v in latents])\n",
    "m_subs_train = [v[1] for v in latents]\n",
    "pos_subs_train = [np.vstack((v[2], v[3])).T for v in latents]"
   ]
  },
  {
   "cell_type": "code",
   "execution_count": 18,
   "metadata": {},
   "outputs": [],
   "source": [
    "if not os.path.exists(\"../data\"):\n",
    "    os.mkdir(\"../data\")\n",
    "\n",
    "np.save(\"../data/theta_train.npy\", theta_train)\n",
    "np.save(\"../data/x_train.npy\", x_train)\n",
    "np.save(\"../data/y_train.npy\", y_train)\n",
    "np.save(\"../data/t_xz_train.npy\", t_xz_train)\n",
    "np.save(\"../data/r_xz_train.npy\", r_xz_train)\n",
    "np.save(\"../data/log_r_xz_train.npy\", log_r_xz_train)\n",
    "np.save(\"../data/n_subs_train.npy\", n_subs_train)\n"
   ]
  },
  {
   "cell_type": "markdown",
   "metadata": {},
   "source": [
    "## Generate test data"
   ]
  },
  {
   "cell_type": "code",
   "execution_count": 19,
   "metadata": {},
   "outputs": [
    {
     "name": "stderr",
     "output_type": "stream",
     "text": [
      "16:00 simulation           INFO    Simulating image 125 / 2500\n",
      "16:01 simulation           INFO    Simulating image 250 / 2500\n",
      "16:01 simulation           INFO    Simulating image 375 / 2500\n",
      "16:02 simulation           INFO    Simulating image 500 / 2500\n",
      "16:03 simulation           INFO    Simulating image 625 / 2500\n",
      "16:07 simulation           INFO    Simulating image 750 / 2500\n",
      "16:09 simulation           INFO    Simulating image 875 / 2500\n",
      "16:10 simulation           INFO    Simulating image 1000 / 2500\n",
      "16:12 simulation           INFO    Simulating image 1125 / 2500\n",
      "16:14 simulation           INFO    Simulating image 1250 / 2500\n",
      "16:16 simulation           INFO    Simulating image 1375 / 2500\n",
      "16:17 simulation           INFO    Simulating image 1500 / 2500\n",
      "16:19 simulation           INFO    Simulating image 1625 / 2500\n",
      "16:21 simulation           INFO    Simulating image 1750 / 2500\n",
      "16:23 simulation           INFO    Simulating image 1875 / 2500\n",
      "16:25 simulation           INFO    Simulating image 2000 / 2500\n",
      "16:27 simulation           INFO    Simulating image 2125 / 2500\n",
      "16:29 simulation           INFO    Simulating image 2250 / 2500\n",
      "16:31 simulation           INFO    Simulating image 2375 / 2500\n",
      "16:33 simulation           INFO    Simulating image 2500 / 2500\n",
      "16:33 simulation           INFO    Simulating image 125 / 2500\n",
      "16:34 simulation           INFO    Simulating image 250 / 2500\n",
      "16:34 simulation           INFO    Simulating image 375 / 2500\n",
      "16:34 simulation           INFO    Simulating image 500 / 2500\n",
      "16:34 simulation           INFO    Simulating image 625 / 2500\n",
      "16:35 simulation           INFO    Simulating image 750 / 2500\n",
      "16:35 simulation           INFO    Simulating image 875 / 2500\n",
      "16:35 simulation           INFO    Simulating image 1000 / 2500\n",
      "16:36 simulation           INFO    Simulating image 1125 / 2500\n",
      "16:36 simulation           INFO    Simulating image 1250 / 2500\n",
      "16:36 simulation           INFO    Simulating image 1375 / 2500\n",
      "16:37 simulation           INFO    Simulating image 1500 / 2500\n",
      "16:37 simulation           INFO    Simulating image 1625 / 2500\n",
      "16:37 simulation           INFO    Simulating image 1750 / 2500\n",
      "16:38 simulation           INFO    Simulating image 1875 / 2500\n",
      "16:38 simulation           INFO    Simulating image 2000 / 2500\n",
      "16:39 simulation           INFO    Simulating image 2125 / 2500\n",
      "16:39 simulation           INFO    Simulating image 2250 / 2500\n",
      "16:40 simulation           INFO    Simulating image 2375 / 2500\n",
      "16:41 simulation           INFO    Simulating image 2500 / 2500\n"
     ]
    }
   ],
   "source": [
    "sim = SubhaloSimulator(\n",
    "    mass_base_unit=mass_base_unit,\n",
    "    resolution=64,\n",
    "    m_sub_min=100.,\n",
    ")\n",
    "\n",
    "x0, _ = sim.rvs(alpha_true, beta_true, n_test)\n",
    "y0 = np.zeros(n_test)\n",
    "\n",
    "alpha1_test = np.random.normal(loc=alpha_mean, scale=alpha_std, size=n_test)\n",
    "beta1_test = np.random.normal(loc=beta_mean, scale=beta_std, size=n_test)\n",
    "\n",
    "x1, _ = sim.rvs(alpha1_test, beta1_test, n_test)\n",
    "y1 = np.ones(n_test)\n",
    "\n",
    "x_test = np.vstack((x0, x1))\n",
    "y_test = np.hstack((y0, y1))\n",
    "theta_test = np.array([[alpha_true, beta_true] for i in range(2*n_test)])"
   ]
  },
  {
   "cell_type": "code",
   "execution_count": 20,
   "metadata": {},
   "outputs": [],
   "source": [
    "if not os.path.exists(\"../data\"):\n",
    "    os.mkdir(\"../data\")\n",
    "\n",
    "np.save(\"../data/theta_test.npy\", theta_test)\n",
    "np.save(\"../data/x_test.npy\", x_test)\n",
    "np.save(\"../data/y_test.npy\", y_test)"
   ]
  },
  {
   "cell_type": "markdown",
   "metadata": {},
   "source": [
    "## A first look at the data"
   ]
  },
  {
   "cell_type": "code",
   "execution_count": 21,
   "metadata": {},
   "outputs": [
    {
     "data": {
      "image/png": "[encoded data removed]",
      "text/plain": [
       "<Figure size 720x360 with 2 Axes>"
      ]
     },
     "metadata": {
      "needs_background": "light"
     },
     "output_type": "display_data"
    }
   ],
   "source": [
    "fig = plt.figure(figsize=(10,5))\n",
    "\n",
    "# Number of subhalos\n",
    "ax = plt.subplot(1,2,1)\n",
    "plt.hist(n_subs_train, bins=50, range=(0,200), histtype='step', density=True)\n",
    "plt.xlabel(r'Number of subhalos')\n",
    "plt.ylabel(r'Histogram')\n",
    "\n",
    "# Masses\n",
    "ax = plt.subplot(1,2,2)\n",
    "bins = 10**(np.linspace(1.5, 9, 25))\n",
    "plt.hist(np.hstack(m_subs_train), bins=bins, histtype='step', density=True)\n",
    "ax.set_xscale(\"log\", nonposx='clip')\n",
    "ax.set_yscale(\"log\", nonposy='clip')\n",
    "plt.xlabel(r'Subhalo mass [$10^7 \\; M_S$]')\n",
    "plt.ylabel(r'Histogram')\n",
    "\n",
    "plt.tight_layout()\n",
    "plt.savefig(\"subhalo_params.pdf\")"
   ]
  },
  {
   "cell_type": "code",
   "execution_count": null,
   "metadata": {},
   "outputs": [],
   "source": [
    "x_train[0].shape"
   ]
  },
  {
   "cell_type": "code",
   "execution_count": null,
   "metadata": {},
   "outputs": [],
   "source": [
    "pos_subs_train[0].shape"
   ]
  },
  {
   "cell_type": "code",
   "execution_count": null,
   "metadata": {},
   "outputs": [],
   "source": [
    "m_subs_train[0].shape"
   ]
  },
  {
   "cell_type": "code",
   "execution_count": null,
   "metadata": {},
   "outputs": [],
   "source": [
    "plt.figure(figsize=(15,16))\n",
    "\n",
    "for i in [9,10,11,0,3,6,1,2,4,5,7,8]:\n",
    "    if i == 9:\n",
    "        ax_y = plt.subplot(4,3,i+1)\n",
    "        ax_x = ax_y\n",
    "    elif i in [10,11]:\n",
    "        ax_x = plt.subplot(4,3,i+1, sharey=ax_y)\n",
    "    elif i in [0,3,6]:\n",
    "        ax_y = plt.subplot(4,3,i+1, sharex=ax_x)\n",
    "    else:\n",
    "        ax = plt.subplot(4,3,i+1, sharey=ax_y, sharex=ax_x)\n",
    "        \n",
    "    plt.imshow(\n",
    "        np.log10(x_train[i]),\n",
    "        vmax=3.5,\n",
    "        cmap='gist_gray',\n",
    "        extent=(-2.,2.,-2.,2.),\n",
    "        origin=\"lower\"\n",
    "    )\n",
    "    sc = plt.scatter(\n",
    "        pos_subs_train[i][:,0],\n",
    "        pos_subs_train[i][:,1],\n",
    "        s=50.,\n",
    "        c=np.log10(m_subs_train[i][:]),\n",
    "        cmap=\"plasma\",\n",
    "        vmin=2.,\n",
    "        vmax=5.,\n",
    "    )\n",
    "    cbar = plt.colorbar(sc)\n",
    "    \n",
    "    plt.xlim(-2.,2.)\n",
    "    plt.ylim(-2.,2.)\n",
    "    \n",
    "    description = r\"$\\alpha = ${:.1e}, $\\beta = ${:.2f}, $n = {}$, $\\log \\; r(x,z) = ${:.1f}\".format(\n",
    "            alpha_train[i],\n",
    "            beta_train[i],\n",
    "            n_subs_train[i],\n",
    "            log_r_xz_train[i]\n",
    "        )\n",
    "    plt.title(\n",
    "        description,\n",
    "        fontsize=10\n",
    "    )\n",
    "    if i in [9,10,11]:\n",
    "        plt.xlabel(r\"$\\theta_x$ [arcsec]\")\n",
    "    else:\n",
    "        plt.setp(plt.gca().get_xticklabels(), visible=False)\n",
    "    if i in [0,3,6,9]:\n",
    "        plt.ylabel(r\"$\\theta_y$ [arcsec]\")\n",
    "    else:\n",
    "        plt.setp(plt.gca().get_yticklabels(), visible=False)\n",
    "    cbar.set_label(r'$\\log_{10} [M_{sub} / 10^7 M_S]$')\n",
    "    \n",
    "    \n",
    "plt.tight_layout()\n",
    "plt.savefig(\"subhalos.pdf\")"
   ]
  },
  {
   "cell_type": "code",
   "execution_count": null,
   "metadata": {},
   "outputs": [],
   "source": []
  }
 ],
 "metadata": {
  "kernelspec": {
   "display_name": "Python (lensing)",
   "language": "python",
   "name": "lensing"
  },
  "language_info": {
   "codemirror_mode": {
    "name": "ipython",
    "version": 3
   },
   "file_extension": ".py",
   "mimetype": "text/x-python",
   "name": "python",
   "nbconvert_exporter": "python",
   "pygments_lexer": "ipython3",
   "version": "3.6.8"
  }
 },
 "nbformat": 4,
 "nbformat_minor": 2
}
