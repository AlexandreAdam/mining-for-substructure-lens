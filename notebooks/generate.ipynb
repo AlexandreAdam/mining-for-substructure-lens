{
 "cells": [
  {
   "cell_type": "markdown",
   "metadata": {},
   "source": [
    "# Image generation (plus some gold mining)"
   ]
  },
  {
   "cell_type": "code",
   "execution_count": 1,
   "metadata": {},
   "outputs": [],
   "source": [
    "import sys, os\n",
    "sys.path.append('../')\n",
    "\n",
    "import logging\n",
    "import numpy as np\n",
    "import matplotlib.pyplot as plt\n",
    "\n",
    "from units import *\n",
    "from simulation import SubhaloSimulator\n",
    "\n",
    "logging.basicConfig(format='%(message)s', level=logging.INFO)"
   ]
  },
  {
   "cell_type": "markdown",
   "metadata": {},
   "source": [
    "## Prior"
   ]
  },
  {
   "cell_type": "code",
   "execution_count": 2,
   "metadata": {},
   "outputs": [],
   "source": [
    "mass_base_unit = 1.e7 * M_s"
   ]
  },
  {
   "cell_type": "code",
   "execution_count": 3,
   "metadata": {},
   "outputs": [
    {
     "name": "stdout",
     "output_type": "stream",
     "text": [
      "100.2374467254546 +/- 10.023744672545462\n"
     ]
    }
   ],
   "source": [
    "alpha_mean = 2e8/M_s * mass_base_unit  * (mass_base_unit / M_s)**-1.9\n",
    "alpha_std = alpha_mean * 0.1\n",
    "print(alpha_mean, \"+/-\", alpha_std)\n",
    "\n",
    "beta_mean = -1.9\n",
    "beta_std = 0.05"
   ]
  },
  {
   "cell_type": "markdown",
   "metadata": {},
   "source": [
    "## Draw parameters to generate"
   ]
  },
  {
   "cell_type": "code",
   "execution_count": 4,
   "metadata": {},
   "outputs": [],
   "source": [
    "n_sims = 1000\n",
    "n_theta_samples = 100"
   ]
  },
  {
   "cell_type": "code",
   "execution_count": null,
   "metadata": {},
   "outputs": [],
   "source": [
    "alpha = np.random.normal(loc=alpha_mean, scale=alpha_std, size=n_sims)\n",
    "beta = np.random.normal(loc=beta_mean, scale=beta_std, size=n_sims)\n",
    "parameters = np.vstack((alpha, beta)).T\n",
    "\n",
    "assert np.min(alpha) > 0.\n",
    "assert np.max(beta) < -1."
   ]
  },
  {
   "cell_type": "markdown",
   "metadata": {},
   "source": [
    "## Generate data"
   ]
  },
  {
   "cell_type": "code",
   "execution_count": null,
   "metadata": {},
   "outputs": [],
   "source": [
    "sim = SubhaloSimulator(\n",
    "    mass_base_unit=mass_base_unit,\n",
    "    resolution=64,\n",
    ")\n",
    "\n",
    "# images = sim.rvs(alpha, beta, n_sims)\n",
    "# images, t_xz, log_r_xz, latents = sim.rvs_score_ratio(alpha, beta, alpha_mean, beta_mean, n_sims)\n",
    "\n",
    "images, t_xz, log_r_xz, log_r_xz_uncertainties, latents = sim.rvs_score_ratio_to_evidence(\n",
    "    alpha,\n",
    "    beta,\n",
    "    alpha_mean,\n",
    "    alpha_std,\n",
    "    beta_mean,\n",
    "    beta_std,\n",
    "    n_sims,\n",
    "    n_theta_samples,\n",
    ")\n",
    "\n",
    "r_xz = np.exp(log_r_xz, dtype=np.float64)\n",
    "y = np.zeros(n_sims)\n",
    "n_subs = np.array([v[0] for v in latents])\n"
   ]
  },
  {
   "cell_type": "code",
   "execution_count": null,
   "metadata": {},
   "outputs": [],
   "source": [
    "if not os.path.exists(\"../data\"):\n",
    "    os.mkdir(\"../data\")\n",
    "\n",
    "np.save(\"../data/theta.npy\", parameters)\n",
    "np.save(\"../data/x.npy\", images)\n",
    "np.save(\"../data/y.npy\", y)\n",
    "np.save(\"../data/t_xz.npy\", t_xz)\n",
    "np.save(\"../data/r_xz.npy\", r_xz)\n",
    "np.save(\"../data/log_r_xz.npy\", log_r_xz)\n",
    "np.save(\"../data/log_r_xz_uncertainties.npy\", log_r_xz_uncertainties)"
   ]
  },
  {
   "cell_type": "markdown",
   "metadata": {},
   "source": [
    "## A first look at the data"
   ]
  },
  {
   "cell_type": "code",
   "execution_count": null,
   "metadata": {},
   "outputs": [],
   "source": [
    "plt.figure(figsize=(12,12))\n",
    "\n",
    "for i in [6,7,8,0,3,1,2,4,5]:\n",
    "    if i == 6:\n",
    "        ax_y = plt.subplot(3,3,i+1)\n",
    "        ax_x = ax_y\n",
    "    elif i in [7,8]:\n",
    "        ax_x = plt.subplot(3,3,i+1, sharey=ax_y)\n",
    "    elif i in [0,3]:\n",
    "        ax_y = plt.subplot(3,3,i+1, sharex=ax_x)\n",
    "    else:\n",
    "        ax = plt.subplot(3,3,i+1, sharey=ax_y, sharex=ax_x)\n",
    "        \n",
    "    plt.imshow(np.log10(images[i]), vmax=3.5, cmap='gist_gray', extent=(-2.,2.,-2.,2.), origin=\"lower\")\n",
    "    description = r\"$\\alpha = ${:.1e}, $\\beta = ${:.2f}, $\\log \\; r(x,z) = ${:.1f}\".format(\n",
    "            alpha[i],\n",
    "            beta[i],\n",
    "            log_r_xz[i]\n",
    "        )\n",
    "    plt.title(\n",
    "        description,\n",
    "        fontsize=10\n",
    "    )\n",
    "    \n",
    "    if i in [6,7,8]:\n",
    "        plt.xlabel(r\"$\\theta_x$ [arcsec]\")\n",
    "    else:\n",
    "        plt.setp(plt.gca().get_xticklabels(), visible=False)\n",
    "        \n",
    "    if i in [0,3,6]:\n",
    "        plt.ylabel(r\"$\\theta_y$ [arcsec]\")\n",
    "    else:\n",
    "        plt.setp(plt.gca().get_yticklabels(), visible=False)\n",
    "    \n",
    "plt.tight_layout()\n",
    "plt.show()"
   ]
  },
  {
   "cell_type": "code",
   "execution_count": null,
   "metadata": {},
   "outputs": [],
   "source": [
    "plt.figure(figsize=(5,5))\n",
    "\n",
    "plt.errorbar(n_subs, log_r_xz, yerr=1.*log_r_xz_uncertainties, ls=\" \", marker=\"o\", ms=5., alpha=0.5)\n",
    "\n",
    "plt.xlim(0,800)\n",
    "plt.ylim(-5.,10.)\n",
    "plt.xlabel(\"Number of subhalos\")\n",
    "plt.ylabel(r\"$\\log \\; r(x,z)$\")\n",
    "\n",
    "plt.tight_layout()\n",
    "plt.show()"
   ]
  },
  {
   "cell_type": "code",
   "execution_count": null,
   "metadata": {},
   "outputs": [],
   "source": []
  }
 ],
 "metadata": {
  "kernelspec": {
   "display_name": "Python (lensing)",
   "language": "python",
   "name": "lensing"
  },
  "language_info": {
   "codemirror_mode": {
    "name": "ipython",
    "version": 3
   },
   "file_extension": ".py",
   "mimetype": "text/x-python",
   "name": "python",
   "nbconvert_exporter": "python",
   "pygments_lexer": "ipython3",
   "version": "3.6.8"
  }
 },
 "nbformat": 4,
 "nbformat_minor": 2
}
