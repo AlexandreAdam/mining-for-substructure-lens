{
 "cells": [
  {
   "cell_type": "markdown",
   "metadata": {},
   "source": [
    "# Train likelihood ratio estimator"
   ]
  },
  {
   "cell_type": "code",
   "execution_count": 1,
   "metadata": {},
   "outputs": [],
   "source": [
    "import sys, os\n",
    "sys.path.append('../')\n",
    "\n",
    "import logging\n",
    "import numpy as np\n",
    "import matplotlib.pyplot as plt\n",
    "\n",
    "from units import *\n",
    "from inference.inference import Estimator\n",
    "\n",
    "logging.basicConfig(\n",
    "    format='%(asctime)-5.5s %(name)-20.20s %(levelname)-7.7s %(message)s',\n",
    "    datefmt='%H:%M',\n",
    "    level=logging.INFO\n",
    ")"
   ]
  },
  {
   "cell_type": "markdown",
   "metadata": {},
   "source": [
    "## Train ALICE"
   ]
  },
  {
   "cell_type": "code",
   "execution_count": null,
   "metadata": {},
   "outputs": [
    {
     "name": "stderr",
     "output_type": "stream",
     "text": [
      "16:09 inference.inference  INFO    Starting training\n",
      "16:09 inference.inference  INFO      Method:                 alice\n",
      "16:09 inference.inference  INFO      Training data:          x at ../data/x_train.npy\n",
      "16:09 inference.inference  INFO                              theta0 at ../data/theta_train.npy\n",
      "16:09 inference.inference  INFO                              y at ../data/y_train.npy\n",
      "16:09 inference.inference  INFO                              r_xz at ../data/r_xz_train.npy\n",
      "16:09 inference.inference  INFO      Method:                 alice\n",
      "16:09 inference.inference  INFO      Convolutional layers:   3\n",
      "16:09 inference.inference  INFO      Dense layers:           3\n",
      "16:09 inference.inference  INFO      Feature maps:           64\n",
      "16:09 inference.inference  INFO      Convolutional filter:   3\n",
      "16:09 inference.inference  INFO      Pooling filter:         2\n",
      "16:09 inference.inference  INFO      Activation function:    relu\n",
      "16:09 inference.inference  INFO      Batch size:             200\n",
      "16:09 inference.inference  INFO      Trainer:                amsgrad\n",
      "16:09 inference.inference  INFO      Epochs:                 25\n",
      "16:09 inference.inference  INFO      Learning rate:          0.001 initially, decaying to 0.0001\n",
      "16:09 inference.inference  INFO      Validation split:       0.25\n",
      "16:09 inference.inference  INFO      Early stopping:         True\n",
      "16:09 inference.inference  INFO      Rescale inputs:         True\n",
      "16:09 inference.inference  INFO      Shuffle labels          False\n",
      "16:09 inference.inference  INFO      Regularization:         None\n",
      "16:09 inference.inference  INFO      Samples:                all\n",
      "16:09 inference.inference  INFO    Loading training data\n",
      "16:09 inference.utils      WARNING Warning: file ../data/r_xz_train.npy contains 1 NaNs and 85 Infs, compared to 49914 finite numbers!\n",
      "16:09 inference.utils      WARNING Warning: file ../data/r_xz_train.npy has some large numbers, rangin from 0.0005806215641449114 to inf\n",
      "16:09 inference.inference  INFO    Found 50000 samples with 2 parameters and resolution 64 x 64\n",
      "16:09 inference.inference  INFO    Rescaling pixel values by factor 1 / 549.8158637948078\n",
      "16:09 inference.inference  INFO    Training model\n",
      "16:43 inference.trainer    INFO      Epoch 01: train loss 0.5875 (improved_xe: 0.5875)\n",
      "16:43 inference.trainer    INFO                val. loss  0.5612 (improved_xe: 0.5612) (*)\n",
      "17:14 inference.trainer    INFO      Epoch 02: train loss 0.5651 (improved_xe: 0.5651)\n",
      "17:14 inference.trainer    INFO                val. loss  0.5695 (improved_xe: 0.5606)\n",
      "17:44 inference.trainer    INFO      Epoch 03: train loss 0.5643 (improved_xe: 0.5643)\n",
      "17:44 inference.trainer    INFO                val. loss  0.5692 (improved_xe: 0.5602)\n",
      "18:15 inference.trainer    INFO      Epoch 04: train loss 0.5627 (improved_xe: 0.5627)\n",
      "18:15 inference.trainer    INFO                val. loss  0.5757 (improved_xe: 0.5667)\n",
      "18:45 inference.trainer    INFO      Epoch 05: train loss 0.5622 (improved_xe: 0.5622)\n",
      "18:45 inference.trainer    INFO                val. loss  0.5697 (improved_xe: 0.5606)\n",
      "20:15 inference.trainer    INFO      Epoch 06: train loss 0.5623 (improved_xe: 0.5623)\n",
      "20:15 inference.trainer    INFO                val. loss  0.5690 (improved_xe: 0.5599)\n",
      "09:24 inference.trainer    INFO      Epoch 07: train loss 0.5617 (improved_xe: 0.5617)\n",
      "09:24 inference.trainer    INFO                val. loss  0.5689 (improved_xe: 0.5599)\n",
      "09:54 inference.trainer    INFO      Epoch 08: train loss 0.5617 (improved_xe: 0.5617)\n",
      "09:54 inference.trainer    INFO                val. loss  0.5685 (improved_xe: 0.5595)\n",
      "10:21 inference.trainer    INFO      Epoch 09: train loss 0.5615 (improved_xe: 0.5615)\n",
      "10:21 inference.trainer    INFO                val. loss  0.5709 (improved_xe: 0.5618)\n",
      "10:53 inference.trainer    INFO      Epoch 10: train loss 0.5612 (improved_xe: 0.5612)\n",
      "10:53 inference.trainer    INFO                val. loss  0.5686 (improved_xe: 0.5595)\n"
     ]
    }
   ],
   "source": [
    "alice = Estimator()\n",
    "\n",
    "_ = alice.train(\n",
    "    method=\"alice\",\n",
    "    x_filename=\"../data/x_train.npy\",\n",
    "    y_filename=\"../data/y_train.npy\",\n",
    "    theta0_filename=\"../data/theta_train.npy\",\n",
    "    r_xz_filename=\"../data/r_xz_train.npy\",\n",
    "    batch_size=200,\n",
    "    n_epochs=25,\n",
    "    validation_split=0.25,\n",
    "    verbose=True,\n",
    ")\n",
    "\n",
    "if not os.path.exists(\"../models\"):\n",
    "    os.mkdir(\"../models\")\n",
    "alice.save(\"../models/alice\")"
   ]
  },
  {
   "cell_type": "code",
   "execution_count": null,
   "metadata": {},
   "outputs": [],
   "source": []
  }
 ],
 "metadata": {
  "kernelspec": {
   "display_name": "Python (lensing)",
   "language": "python",
   "name": "lensing"
  },
  "language_info": {
   "codemirror_mode": {
    "name": "ipython",
    "version": 3
   },
   "file_extension": ".py",
   "mimetype": "text/x-python",
   "name": "python",
   "nbconvert_exporter": "python",
   "pygments_lexer": "ipython3",
   "version": "3.6.8"
  }
 },
 "nbformat": 4,
 "nbformat_minor": 2
}
