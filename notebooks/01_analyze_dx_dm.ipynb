{
 "cells": [
  {
   "cell_type": "markdown",
   "metadata": {},
   "source": [
    "# Analyze gradients of images wrt sub masses"
   ]
  },
  {
   "cell_type": "code",
   "execution_count": 1,
   "metadata": {},
   "outputs": [],
   "source": [
    "import sys, os\n",
    "sys.path.append('../')\n",
    "\n",
    "import logging\n",
    "import numpy as np\n",
    "import matplotlib.pyplot as plt\n",
    "%matplotlib inline\n",
    "\n",
    "from simulation.wrapper import augmented_data\n",
    "from simulation.units import M_s\n",
    "import astropy\n",
    "\n",
    "logging.basicConfig(\n",
    "    format='%(asctime)-5.5s %(name)-20.20s %(levelname)-7.7s %(message)s',\n",
    "    datefmt='%H:%M',\n",
    "    level=logging.INFO\n",
    ")"
   ]
  },
  {
   "cell_type": "code",
   "execution_count": 2,
   "metadata": {},
   "outputs": [
    {
     "data": {
      "text/plain": [
       "'3.1.2'"
      ]
     },
     "execution_count": 2,
     "metadata": {},
     "output_type": "execute_result"
    }
   ],
   "source": [
    "astropy.__version__"
   ]
  },
  {
   "cell_type": "markdown",
   "metadata": {},
   "source": [
    "## Settings"
   ]
  },
  {
   "cell_type": "code",
   "execution_count": 5,
   "metadata": {},
   "outputs": [],
   "source": [
    "n_cols = 2\n",
    "n_rows = 2"
   ]
  },
  {
   "cell_type": "markdown",
   "metadata": {},
   "source": [
    "## Make data"
   ]
  },
  {
   "cell_type": "code",
   "execution_count": null,
   "metadata": {},
   "outputs": [
    {
     "name": "stderr",
     "output_type": "stream",
     "text": [
      "16:32 simulation.wrapper   INFO    Simulating image 1 / 4\n",
      "16:37 simulation.wrapper   INFO    Simulating image 2 / 4\n"
     ]
    }
   ],
   "source": [
    "theta, imgs, t_xz, log_r_xz, sub_latents, global_latents = augmented_data(\n",
    "    f_sub=0.05, beta=-1.9, n_images=n_cols*n_rows, mine_gold=True,\n",
    "    draw_alignment=False, draw_host_mass=False, draw_host_redshift=False,\n",
    "    calculate_dx_dm=True, roi_size=5.\n",
    ")"
   ]
  },
  {
   "cell_type": "markdown",
   "metadata": {},
   "source": [
    "## Latents"
   ]
  },
  {
   "cell_type": "code",
   "execution_count": null,
   "metadata": {},
   "outputs": [],
   "source": [
    "for label, data in zip(\n",
    "    [\"M_200_hst\", \"D_l\", \"z_l\", \"sigma_v\", \"theta_x_0\", \"theta_y_0\", \"theta_E\",\n",
    "     \"n_sub_roi\", \"f_sub_realiz\", \"n_sub_in_ring\", \"f_sub_in_ring\", \"n_sub_near_ring\", \"f_sub_near_ring\"],\n",
    "    global_latents.T\n",
    "):\n",
    "    print(label, \"=\", data)"
   ]
  },
  {
   "cell_type": "markdown",
   "metadata": {},
   "source": [
    "## Plot subhalos"
   ]
  },
  {
   "cell_type": "code",
   "execution_count": null,
   "metadata": {},
   "outputs": [],
   "source": [
    "plt.figure(figsize=(n_cols*5.,n_rows*4.))\n",
    "\n",
    "for i in range(n_cols*n_rows):\n",
    "    ax = plt.subplot(n_rows,n_cols,i+1)\n",
    "        \n",
    "    plt.imshow(\n",
    "        np.log10(imgs[i]),\n",
    "        vmin=2.3,\n",
    "        vmax=3.2,\n",
    "        cmap='gist_gray',\n",
    "        extent=(-3.2,3.2,-3.2,3.2),\n",
    "        origin=\"lower\"\n",
    "    )\n",
    "    sc = plt.scatter(\n",
    "        sub_latents[i][:,1],\n",
    "        sub_latents[i][:,2],\n",
    "        c=1.e6*sub_latents[i][:,3]*M_s,\n",
    "        s=195 + 30 * np.log10(sub_latents[i][:,0] / global_latents[i,0]),\n",
    "        cmap=\"plasma\",\n",
    "        vmin=0.,\n",
    "        vmax=3.,\n",
    "    )\n",
    "    plt.scatter(\n",
    "        [global_latents[i,4]],\n",
    "        [global_latents[i,5]],\n",
    "        c=[\"white\"],\n",
    "        marker=\"+\",\n",
    "        s=20.,\n",
    "    )\n",
    "    cbar = plt.colorbar(sc)\n",
    "    \n",
    "    plt.xlim(-3.2,3.2)\n",
    "    plt.ylim(-3.2,3.2)\n",
    "\n",
    "    plt.xlabel(r\"$\\theta_x$ [arcsec]\")\n",
    "    plt.ylabel(r\"$\\theta_y$ [arcsec]\")\n",
    "    cbar.set_label(r'$\\sum_{ij} \\; |\\nabla_{m} \\; \\bar{x}_{ij}|$ [$10^6\\;M_S$]')\n",
    "    \n",
    "    \n",
    "plt.tight_layout()\n",
    "plt.savefig(\"../figures/subhalo_gradients.pdf\")"
   ]
  },
  {
   "cell_type": "markdown",
   "metadata": {
    "collapsed": true
   },
   "source": [
    "## Relation between subhalo properties and gradient"
   ]
  },
  {
   "cell_type": "code",
   "execution_count": null,
   "metadata": {},
   "outputs": [],
   "source": [
    "f_subs = np.concatenate(\n",
    "    [sub_latents[i][:,0] / global_latents[i,0] for i in range(n_cols*n_rows)],\n",
    "    axis=0\n",
    ")\n",
    "grads = np.concatenate(\n",
    "    [sub_latents[i][:,3] for i in range(n_cols*n_rows)],\n",
    "    axis=0\n",
    ") * M_s\n",
    "rnorms = np.concatenate(\n",
    "    [(sub_latents[i][:,1]**2 + sub_latents[i][:,2]**2)**0.5 / global_latents[i,6] for i in range(n_cols*n_rows)],\n",
    "    axis=0\n",
    ")"
   ]
  },
  {
   "cell_type": "code",
   "execution_count": null,
   "metadata": {},
   "outputs": [],
   "source": [
    "plt.figure(figsize=(5,4))\n",
    "ax = plt.gca()\n",
    "\n",
    "sc = plt.scatter(\n",
    "    np.log10(f_subs),\n",
    "    rnorms,\n",
    "    c=grads,\n",
    "    marker=\"o\",\n",
    "    s=20.,\n",
    "    cmap=\"plasma_r\",\n",
    "    vmin=0.,\n",
    "    vmax=3.e-6,\n",
    ")\n",
    "cbar = plt.colorbar(sc)\n",
    "\n",
    "plt.tight_layout()\n",
    "plt.show()"
   ]
  },
  {
   "cell_type": "code",
   "execution_count": null,
   "metadata": {},
   "outputs": [],
   "source": []
  }
 ],
 "metadata": {
  "kernelspec": {
   "display_name": "Python (lensing)",
   "language": "python",
   "name": "lensing"
  },
  "language_info": {
   "codemirror_mode": {
    "name": "ipython",
    "version": 3
   },
   "file_extension": ".py",
   "mimetype": "text/x-python",
   "name": "python",
   "nbconvert_exporter": "python",
   "pygments_lexer": "ipython3",
   "version": "3.6.8"
  }
 },
 "nbformat": 4,
 "nbformat_minor": 2
}
