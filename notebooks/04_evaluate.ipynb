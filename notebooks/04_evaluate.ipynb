{
 "cells": [
  {
   "cell_type": "markdown",
   "metadata": {},
   "source": [
    "# Evaluate likelihood ratio and posterior"
   ]
  },
  {
   "cell_type": "code",
   "execution_count": 1,
   "metadata": {},
   "outputs": [],
   "source": [
    "import sys, os\n",
    "sys.path.append('../')\n",
    "\n",
    "import logging\n",
    "import numpy as np\n",
    "import matplotlib\n",
    "import matplotlib.pyplot as plt\n",
    "from scipy.stats import norm\n",
    "from sklearn.metrics import roc_curve\n",
    "\n",
    "from simulation.population_sim import SubhaloSimulator\n",
    "from inference.estimator import Estimator\n",
    "from inference.utils import s_from_r, shuffle\n",
    "\n",
    "logging.basicConfig(\n",
    "    format='%(asctime)-5.5s %(name)-20.20s %(levelname)-7.7s %(message)s',\n",
    "    datefmt='%H:%M',\n",
    "    level=logging.INFO\n",
    ")"
   ]
  },
  {
   "cell_type": "markdown",
   "metadata": {},
   "source": [
    "## Evaluate model on train and test data"
   ]
  },
  {
   "cell_type": "code",
   "execution_count": 2,
   "metadata": {},
   "outputs": [],
   "source": [
    "x_train = np.load(\"../data/samples/x_train.npy\")\n",
    "y_train = np.load(\"../data/samples/y_train.npy\")\n",
    "theta_train = np.load(\"../data/samples/theta_train.npy\")\n",
    "\n",
    "x_test = np.load(\"../data/samples/x_test.npy\")\n",
    "y_test = np.load(\"../data/samples/y_test.npy\")\n",
    "theta_test = np.load(\"../data/samples/theta_test.npy\")"
   ]
  },
  {
   "cell_type": "code",
   "execution_count": 3,
   "metadata": {},
   "outputs": [
    {
     "name": "stdout",
     "output_type": "stream",
     "text": [
      "0.468 0.518\n"
     ]
    }
   ],
   "source": [
    "x_train, y_train, theta_train = shuffle(x_train, y_train, theta_train)\n",
    "x_train = x_train[:1000]\n",
    "y_train = y_train[:1000]\n",
    "theta_train = theta_train[:1000]\n",
    "\n",
    "x_test, y_test, theta_test = shuffle(x_test, y_test, theta_test)\n",
    "print(np.sum(y_train) / len(y_train)), np.sum(y_test) / len(y_test))"
   ]
  },
  {
   "cell_type": "markdown",
   "metadata": {},
   "source": [
    "## ROC curve"
   ]
  },
  {
   "cell_type": "code",
   "execution_count": 4,
   "metadata": {},
   "outputs": [],
   "source": [
    "def make_roc_curves(name):\n",
    "    re = Estimator()\n",
    "    re.load(\"../data/models/\" + name)\n",
    "    \n",
    "    llr_train, _ = re.evaluate_ratio(x=x_train, theta0=theta_train, test_all_combinations=False)\n",
    "    s_train = s_from_r(np.exp(llr_train))\n",
    "    \n",
    "    llr_test, _ = re.evaluate_ratio(x=x_test, theta0=theta_test, test_all_combinations=False)\n",
    "    s_test = s_from_r(np.exp(llr_test))\n",
    "    \n",
    "    fpr_train, tpr_train, _ = roc_curve(y_train, s_train)\n",
    "    fpr_test, tpr_test, _ = roc_curve(y_test, s_test)\n",
    "    \n",
    "    return fpr_train, tpr_train, fpr_test, tpr_test"
   ]
  },
  {
   "cell_type": "code",
   "execution_count": 5,
   "metadata": {},
   "outputs": [],
   "source": [
    "fpr_train_alice, tpr_train_alice, fpr_test_alice, tpr_test_alice = make_roc_curves(\"alice\")\n",
    "fpr_train_carl, tpr_train_carl, fpr_test_carl, tpr_test_carl = make_roc_curves(\"carl\")"
   ]
  },
  {
   "cell_type": "code",
   "execution_count": 6,
   "metadata": {},
   "outputs": [
    {
     "data": {
      "image/png": "[encoded data removed]",
      "text/plain": [
       "<Figure size 360x360 with 1 Axes>"
      ]
     },
     "metadata": {
      "needs_background": "light"
     },
     "output_type": "display_data"
    }
   ],
   "source": [
    "fig = plt.figure(figsize=(5,5))\n",
    "\n",
    "plt.plot([0.,1.], [1.,0.], ls=\"--\", c=\"0.5\")\n",
    "plt.plot(1. - fpr_train_carl, tpr_train_carl, c=\"C0\", ls=\"--\", label=\"CARL train\")\n",
    "plt.plot(1. - fpr_test_carl, tpr_test_carl, c=\"C0\", ls=\"-\", label=\"CARL test\")\n",
    "plt.plot(1. - fpr_train_alice, tpr_train_alice, c=\"C1\", ls=\"--\", label=\"ALICE train\")\n",
    "plt.plot(1. - fpr_test_alice, tpr_test_alice, c=\"C1\", ls=\"-\", label=\"ALICE test\")\n",
    "\n",
    "plt.legend()\n",
    "\n",
    "plt.xlabel(\"1 - fpr\")\n",
    "plt.ylabel(\"tpr\")\n",
    "\n",
    "plt.tight_layout()\n",
    "plt.show()\n"
   ]
  },
  {
   "cell_type": "markdown",
   "metadata": {},
   "source": [
    "## Evaluate on grid"
   ]
  },
  {
   "cell_type": "code",
   "execution_count": 13,
   "metadata": {},
   "outputs": [],
   "source": [
    "grid_res = 25\n",
    "\n",
    "alpha_test = np.linspace(200., 800., grid_res)\n",
    "beta_test = np.linspace(-1.3, -3.7, grid_res)\n",
    "\n",
    "theta0, theta1 = np.meshgrid(alpha_test, beta_test)\n",
    "theta_grid = np.vstack((theta0.flatten(), theta1.flatten())).T"
   ]
  },
  {
   "cell_type": "code",
   "execution_count": 15,
   "metadata": {},
   "outputs": [],
   "source": [
    "re = Estimator()\n",
    "re.load(\"../data/models/carl\")\n",
    "\n",
    "nllr, _ = re.evaluate_ratio(x=x_test[:10], theta0=theta_grid)\n",
    "nllr = -2. * nllr"
   ]
  },
  {
   "cell_type": "code",
   "execution_count": 18,
   "metadata": {},
   "outputs": [
    {
     "name": "stdout",
     "output_type": "stream",
     "text": [
      "[400.   -1.3] -0.041142166\n",
      "[400.   -1.3] -0.041140214\n",
      "[400.   -1.3] -0.04114215\n",
      "[400.   -1.3] -0.041240796\n",
      "[400.   -1.3] -0.04113911\n",
      "[400.   -1.3] -0.041175947\n",
      "[400.   -1.3] -0.041142985\n",
      "[400.   -1.3] -0.041142136\n",
      "[400.   -1.3] -0.041173726\n",
      "[400.   -1.3] -0.04114063\n"
     ]
    }
   ],
   "source": [
    "for i in range(10):\n",
    "    i_ml = np.argmin(nllr[:,i])\n",
    "    print(theta_grid[i_ml], nllr[i_ml,i])"
   ]
  },
  {
   "cell_type": "code",
   "execution_count": 17,
   "metadata": {},
   "outputs": [
    {
     "data": {
      "text/plain": [
       "array([0.0004562 , 0.00045516, 0.00045606, 0.00040784, 0.00045431,\n",
       "       0.00042219, 0.00045656, 0.00042228, 0.00043395, 0.00043532],\n",
       "      dtype=float32)"
      ]
     },
     "execution_count": 17,
     "metadata": {},
     "output_type": "execute_result"
    }
   ],
   "source": [
    "nllr[123,:]"
   ]
  },
  {
   "cell_type": "code",
   "execution_count": null,
   "metadata": {},
   "outputs": [],
   "source": [
    "fig = plt.figure(figsize=(10, 4 * 10))\n",
    "\n",
    "for i in [9,0,1,2,3,4,5,6,7,8]:\n",
    "    \n",
    "    # Plot image\n",
    "    if i == 9:\n",
    "        ax_left = plt.subplot(10, 2, i*2+1)\n",
    "        ax = ax_left\n",
    "    else:\n",
    "        ax = plt.subplot(10, 2, i*2+1, sharex=ax_left)\n",
    "    \n",
    "    plt.imshow(\n",
    "        np.log10(x_test[i]),\n",
    "        vmax=3.5,\n",
    "        cmap='gist_gray',\n",
    "        extent=(-2.,2.,-2.,2.),\n",
    "        origin=\"lower\"\n",
    "    )\n",
    "    \n",
    "    plt.xlim(-2.,2.)\n",
    "    plt.ylim(-2.,2.)\n",
    "    \n",
    "    if i == 8:\n",
    "        plt.xlabel(r\"$\\theta_x$ [arcsec]\")\n",
    "    else:\n",
    "        plt.setp(plt.gca().get_xticklabels(), visible=False)\n",
    "    plt.ylabel(r\"$\\theta_y$ [arcsec]\")\n",
    "    \n",
    "    \n",
    "    \n",
    "    # Plot estimated likelihood ratio for this image\n",
    "    if i == 9:\n",
    "        ax_right = plt.subplot(10, 2, i*2+2)\n",
    "        ax = ax_right\n",
    "    else:\n",
    "        ax = plt.subplot(10, 2, i*2+2, sharex=ax_right)\n",
    "        \n",
    "    nllr_ = nllr[:, i]\n",
    "\n",
    "    best_fit = theta_grid[np.argmin(nllr_)]\n",
    "    cmin, cmax = -.1, 0.1\n",
    "\n",
    "    bin_size = alpha_test[1] - alpha_test[0]\n",
    "    alpha_edges = np.linspace(alpha_test[0] - bin_size/2, alpha_test[-1] + bin_size/2, grid_res + 1)\n",
    "    bin_size = beta_test[1] - beta_test[0]\n",
    "    beta_edges = np.linspace(beta_test[0] - bin_size/2, beta_test[-1] + bin_size/2, grid_res + 1)\n",
    "\n",
    "    pcm = ax.pcolormesh(\n",
    "        alpha_edges,\n",
    "        beta_edges,\n",
    "        nllr_.reshape((grid_res, grid_res)),\n",
    "        norm=matplotlib.colors.Normalize(vmin=cmin, vmax=cmax),\n",
    "        cmap='PRGn'\n",
    "    )\n",
    "    cbar = fig.colorbar(pcm, ax=ax, extend='both')\n",
    "\n",
    "    plt.scatter(best_fit[0], best_fit[1], s=80., color='black', marker='*')\n",
    "\n",
    "    if i == 9:\n",
    "        plt.xlabel(r'$\\alpha$')\n",
    "    else:\n",
    "        plt.setp(plt.gca().get_xticklabels(), visible=False)\n",
    "    plt.ylabel(r'$\\beta$')\n",
    "    cbar.set_label(r'$-2\\; \\log \\;\\hat{r}(x | \\alpha, \\beta)$')\n",
    "\n",
    "plt.tight_layout()\n",
    "plt.savefig(\"../figures/carl_predictions.pdf\")"
   ]
  },
  {
   "cell_type": "markdown",
   "metadata": {},
   "source": [
    "## Evaluate expected LLR on grid"
   ]
  },
  {
   "cell_type": "code",
   "execution_count": 11,
   "metadata": {},
   "outputs": [],
   "source": [
    "grid_res = 25\n",
    "\n",
    "alpha_test = np.linspace(200., 800., grid_res)\n",
    "beta_test = np.linspace(-1.3, -3.7, grid_res)\n",
    "\n",
    "theta0, theta1 = np.meshgrid(alpha_test, beta_test)\n",
    "theta_grid = np.vstack((theta0.flatten(), theta1.flatten())).T"
   ]
  },
  {
   "cell_type": "code",
   "execution_count": 12,
   "metadata": {},
   "outputs": [
    {
     "ename": "KeyboardInterrupt",
     "evalue": "",
     "output_type": "error",
     "traceback": [
      "\u001b[0;31m---------------------------------------------------------------------------\u001b[0m",
      "\u001b[0;31mKeyboardInterrupt\u001b[0m                         Traceback (most recent call last)",
      "\u001b[0;32m<ipython-input-12-4945ffb8f274>\u001b[0m in \u001b[0;36m<module>\u001b[0;34m\u001b[0m\n\u001b[1;32m      2\u001b[0m \u001b[0mre\u001b[0m\u001b[0;34m.\u001b[0m\u001b[0mload\u001b[0m\u001b[0;34m(\u001b[0m\u001b[0;34m\"../data/models/carl\"\u001b[0m\u001b[0;34m)\u001b[0m\u001b[0;34m\u001b[0m\u001b[0;34m\u001b[0m\u001b[0m\n\u001b[1;32m      3\u001b[0m \u001b[0;34m\u001b[0m\u001b[0m\n\u001b[0;32m----> 4\u001b[0;31m \u001b[0mnllr\u001b[0m\u001b[0;34m,\u001b[0m \u001b[0m_\u001b[0m \u001b[0;34m=\u001b[0m \u001b[0mre\u001b[0m\u001b[0;34m.\u001b[0m\u001b[0mevaluate_ratio\u001b[0m\u001b[0;34m(\u001b[0m\u001b[0mx\u001b[0m\u001b[0;34m=\u001b[0m\u001b[0mx_test\u001b[0m\u001b[0;34m,\u001b[0m \u001b[0mtheta0\u001b[0m\u001b[0;34m=\u001b[0m\u001b[0mtheta_grid\u001b[0m\u001b[0;34m)\u001b[0m\u001b[0;34m\u001b[0m\u001b[0;34m\u001b[0m\u001b[0m\n\u001b[0m\u001b[1;32m      5\u001b[0m \u001b[0mexpected_nllr\u001b[0m \u001b[0;34m=\u001b[0m \u001b[0;34m-\u001b[0m\u001b[0;36m2.\u001b[0m \u001b[0;34m*\u001b[0m \u001b[0mnp\u001b[0m\u001b[0;34m.\u001b[0m\u001b[0msum\u001b[0m\u001b[0;34m(\u001b[0m\u001b[0mnllr\u001b[0m\u001b[0;34m,\u001b[0m \u001b[0maxis\u001b[0m\u001b[0;34m=\u001b[0m\u001b[0;36m1\u001b[0m\u001b[0;34m)\u001b[0m\u001b[0;34m\u001b[0m\u001b[0;34m\u001b[0m\u001b[0m\n",
      "\u001b[0;32m~/work/projects/other/strong_lensing/StrongLensing-Inference/inference/estimator.py\u001b[0m in \u001b[0;36mevaluate_ratio\u001b[0;34m(self, x, theta0, test_all_combinations, evaluate_score)\u001b[0m\n\u001b[1;32m    466\u001b[0m                     \u001b[0mtheta0s\u001b[0m\u001b[0;34m=\u001b[0m\u001b[0;34m[\u001b[0m\u001b[0mthis_theta0\u001b[0m\u001b[0;34m]\u001b[0m\u001b[0;34m,\u001b[0m\u001b[0;34m\u001b[0m\u001b[0;34m\u001b[0m\u001b[0m\n\u001b[1;32m    467\u001b[0m                     \u001b[0mxs\u001b[0m\u001b[0;34m=\u001b[0m\u001b[0mx\u001b[0m\u001b[0;34m,\u001b[0m\u001b[0;34m\u001b[0m\u001b[0;34m\u001b[0m\u001b[0m\n\u001b[0;32m--> 468\u001b[0;31m                     \u001b[0mevaluate_score\u001b[0m\u001b[0;34m=\u001b[0m\u001b[0mevaluate_score\u001b[0m\u001b[0;34m,\u001b[0m\u001b[0;34m\u001b[0m\u001b[0;34m\u001b[0m\u001b[0m\n\u001b[0m\u001b[1;32m    469\u001b[0m                 )\n\u001b[1;32m    470\u001b[0m \u001b[0;34m\u001b[0m\u001b[0m\n",
      "\u001b[0;32m~/work/projects/other/strong_lensing/StrongLensing-Inference/inference/eval.py\u001b[0m in \u001b[0;36mevaluate_ratio_model\u001b[0;34m(model, theta0s, xs, evaluate_score, run_on_gpu, double_precision)\u001b[0m\n\u001b[1;32m     54\u001b[0m             \u001b[0mmodel\u001b[0m\u001b[0;34m.\u001b[0m\u001b[0meval\u001b[0m\u001b[0;34m(\u001b[0m\u001b[0;34m)\u001b[0m\u001b[0;34m\u001b[0m\u001b[0;34m\u001b[0m\u001b[0m\n\u001b[1;32m     55\u001b[0m \u001b[0;34m\u001b[0m\u001b[0m\n\u001b[0;32m---> 56\u001b[0;31m             \u001b[0ms_hat\u001b[0m\u001b[0;34m,\u001b[0m \u001b[0mlog_r_hat\u001b[0m\u001b[0;34m,\u001b[0m \u001b[0m_\u001b[0m\u001b[0;34m,\u001b[0m \u001b[0m_\u001b[0m \u001b[0;34m=\u001b[0m \u001b[0mmodel\u001b[0m\u001b[0;34m(\u001b[0m\u001b[0mtheta0s\u001b[0m\u001b[0;34m,\u001b[0m \u001b[0mxs\u001b[0m\u001b[0;34m,\u001b[0m \u001b[0mtrack_score\u001b[0m\u001b[0;34m=\u001b[0m\u001b[0;32mFalse\u001b[0m\u001b[0;34m,\u001b[0m \u001b[0mcreate_gradient_graph\u001b[0m\u001b[0;34m=\u001b[0m\u001b[0;32mFalse\u001b[0m\u001b[0;34m)\u001b[0m\u001b[0;34m\u001b[0m\u001b[0;34m\u001b[0m\u001b[0m\n\u001b[0m\u001b[1;32m     57\u001b[0m \u001b[0;34m\u001b[0m\u001b[0m\n\u001b[1;32m     58\u001b[0m             \u001b[0;31m# Copy back tensors to CPU\u001b[0m\u001b[0;34m\u001b[0m\u001b[0;34m\u001b[0m\u001b[0;34m\u001b[0m\u001b[0m\n",
      "\u001b[0;32m~/anaconda3/envs/lensing/lib/python3.6/site-packages/torch/nn/modules/module.py\u001b[0m in \u001b[0;36m__call__\u001b[0;34m(self, *input, **kwargs)\u001b[0m\n\u001b[1;32m    487\u001b[0m             \u001b[0mresult\u001b[0m \u001b[0;34m=\u001b[0m \u001b[0mself\u001b[0m\u001b[0;34m.\u001b[0m\u001b[0m_slow_forward\u001b[0m\u001b[0;34m(\u001b[0m\u001b[0;34m*\u001b[0m\u001b[0minput\u001b[0m\u001b[0;34m,\u001b[0m \u001b[0;34m**\u001b[0m\u001b[0mkwargs\u001b[0m\u001b[0;34m)\u001b[0m\u001b[0;34m\u001b[0m\u001b[0;34m\u001b[0m\u001b[0m\n\u001b[1;32m    488\u001b[0m         \u001b[0;32melse\u001b[0m\u001b[0;34m:\u001b[0m\u001b[0;34m\u001b[0m\u001b[0;34m\u001b[0m\u001b[0m\n\u001b[0;32m--> 489\u001b[0;31m             \u001b[0mresult\u001b[0m \u001b[0;34m=\u001b[0m \u001b[0mself\u001b[0m\u001b[0;34m.\u001b[0m\u001b[0mforward\u001b[0m\u001b[0;34m(\u001b[0m\u001b[0;34m*\u001b[0m\u001b[0minput\u001b[0m\u001b[0;34m,\u001b[0m \u001b[0;34m**\u001b[0m\u001b[0mkwargs\u001b[0m\u001b[0;34m)\u001b[0m\u001b[0;34m\u001b[0m\u001b[0;34m\u001b[0m\u001b[0m\n\u001b[0m\u001b[1;32m    490\u001b[0m         \u001b[0;32mfor\u001b[0m \u001b[0mhook\u001b[0m \u001b[0;32min\u001b[0m \u001b[0mself\u001b[0m\u001b[0;34m.\u001b[0m\u001b[0m_forward_hooks\u001b[0m\u001b[0;34m.\u001b[0m\u001b[0mvalues\u001b[0m\u001b[0;34m(\u001b[0m\u001b[0;34m)\u001b[0m\u001b[0;34m:\u001b[0m\u001b[0;34m\u001b[0m\u001b[0;34m\u001b[0m\u001b[0m\n\u001b[1;32m    491\u001b[0m             \u001b[0mhook_result\u001b[0m \u001b[0;34m=\u001b[0m \u001b[0mhook\u001b[0m\u001b[0;34m(\u001b[0m\u001b[0mself\u001b[0m\u001b[0;34m,\u001b[0m \u001b[0minput\u001b[0m\u001b[0;34m,\u001b[0m \u001b[0mresult\u001b[0m\u001b[0;34m)\u001b[0m\u001b[0;34m\u001b[0m\u001b[0;34m\u001b[0m\u001b[0m\n",
      "\u001b[0;32m~/work/projects/other/strong_lensing/StrongLensing-Inference/inference/models.py\u001b[0m in \u001b[0;36mforward\u001b[0;34m(self, theta, x, track_score, return_grad_x, create_gradient_graph)\u001b[0m\n\u001b[1;32m    184\u001b[0m         \u001b[0;31m# Convolutional and pooling layers\u001b[0m\u001b[0;34m\u001b[0m\u001b[0;34m\u001b[0m\u001b[0;34m\u001b[0m\u001b[0m\n\u001b[1;32m    185\u001b[0m         \u001b[0;32mfor\u001b[0m \u001b[0mconv_layer\u001b[0m \u001b[0;32min\u001b[0m \u001b[0mself\u001b[0m\u001b[0;34m.\u001b[0m\u001b[0mconv_layers\u001b[0m\u001b[0;34m:\u001b[0m\u001b[0;34m\u001b[0m\u001b[0;34m\u001b[0m\u001b[0m\n\u001b[0;32m--> 186\u001b[0;31m             \u001b[0mh\u001b[0m \u001b[0;34m=\u001b[0m \u001b[0mconv_layer\u001b[0m\u001b[0;34m(\u001b[0m\u001b[0mh\u001b[0m\u001b[0;34m)\u001b[0m\u001b[0;34m\u001b[0m\u001b[0;34m\u001b[0m\u001b[0m\n\u001b[0m\u001b[1;32m    187\u001b[0m \u001b[0;34m\u001b[0m\u001b[0m\n\u001b[1;32m    188\u001b[0m         \u001b[0;31m# Transition to dense layers, add theta again\u001b[0m\u001b[0;34m\u001b[0m\u001b[0;34m\u001b[0m\u001b[0;34m\u001b[0m\u001b[0m\n",
      "\u001b[0;32m~/anaconda3/envs/lensing/lib/python3.6/site-packages/torch/nn/modules/module.py\u001b[0m in \u001b[0;36m__call__\u001b[0;34m(self, *input, **kwargs)\u001b[0m\n\u001b[1;32m    487\u001b[0m             \u001b[0mresult\u001b[0m \u001b[0;34m=\u001b[0m \u001b[0mself\u001b[0m\u001b[0;34m.\u001b[0m\u001b[0m_slow_forward\u001b[0m\u001b[0;34m(\u001b[0m\u001b[0;34m*\u001b[0m\u001b[0minput\u001b[0m\u001b[0;34m,\u001b[0m \u001b[0;34m**\u001b[0m\u001b[0mkwargs\u001b[0m\u001b[0;34m)\u001b[0m\u001b[0;34m\u001b[0m\u001b[0;34m\u001b[0m\u001b[0m\n\u001b[1;32m    488\u001b[0m         \u001b[0;32melse\u001b[0m\u001b[0;34m:\u001b[0m\u001b[0;34m\u001b[0m\u001b[0;34m\u001b[0m\u001b[0m\n\u001b[0;32m--> 489\u001b[0;31m             \u001b[0mresult\u001b[0m \u001b[0;34m=\u001b[0m \u001b[0mself\u001b[0m\u001b[0;34m.\u001b[0m\u001b[0mforward\u001b[0m\u001b[0;34m(\u001b[0m\u001b[0;34m*\u001b[0m\u001b[0minput\u001b[0m\u001b[0;34m,\u001b[0m \u001b[0;34m**\u001b[0m\u001b[0mkwargs\u001b[0m\u001b[0;34m)\u001b[0m\u001b[0;34m\u001b[0m\u001b[0;34m\u001b[0m\u001b[0m\n\u001b[0m\u001b[1;32m    490\u001b[0m         \u001b[0;32mfor\u001b[0m \u001b[0mhook\u001b[0m \u001b[0;32min\u001b[0m \u001b[0mself\u001b[0m\u001b[0;34m.\u001b[0m\u001b[0m_forward_hooks\u001b[0m\u001b[0;34m.\u001b[0m\u001b[0mvalues\u001b[0m\u001b[0;34m(\u001b[0m\u001b[0;34m)\u001b[0m\u001b[0;34m:\u001b[0m\u001b[0;34m\u001b[0m\u001b[0;34m\u001b[0m\u001b[0m\n\u001b[1;32m    491\u001b[0m             \u001b[0mhook_result\u001b[0m \u001b[0;34m=\u001b[0m \u001b[0mhook\u001b[0m\u001b[0;34m(\u001b[0m\u001b[0mself\u001b[0m\u001b[0;34m,\u001b[0m \u001b[0minput\u001b[0m\u001b[0;34m,\u001b[0m \u001b[0mresult\u001b[0m\u001b[0;34m)\u001b[0m\u001b[0;34m\u001b[0m\u001b[0;34m\u001b[0m\u001b[0m\n",
      "\u001b[0;32m~/anaconda3/envs/lensing/lib/python3.6/site-packages/torch/nn/modules/conv.py\u001b[0m in \u001b[0;36mforward\u001b[0;34m(self, input)\u001b[0m\n\u001b[1;32m    318\u001b[0m     \u001b[0;32mdef\u001b[0m \u001b[0mforward\u001b[0m\u001b[0;34m(\u001b[0m\u001b[0mself\u001b[0m\u001b[0;34m,\u001b[0m \u001b[0minput\u001b[0m\u001b[0;34m)\u001b[0m\u001b[0;34m:\u001b[0m\u001b[0;34m\u001b[0m\u001b[0;34m\u001b[0m\u001b[0m\n\u001b[1;32m    319\u001b[0m         return F.conv2d(input, self.weight, self.bias, self.stride,\n\u001b[0;32m--> 320\u001b[0;31m                         self.padding, self.dilation, self.groups)\n\u001b[0m\u001b[1;32m    321\u001b[0m \u001b[0;34m\u001b[0m\u001b[0m\n\u001b[1;32m    322\u001b[0m \u001b[0;34m\u001b[0m\u001b[0m\n",
      "\u001b[0;31mKeyboardInterrupt\u001b[0m: "
     ]
    }
   ],
   "source": [
    "re = Estimator()\n",
    "re.load(\"../data/models/carl\")\n",
    "\n",
    "nllr, _ = re.evaluate_ratio(x=x_test, theta0=theta_grid)\n",
    "expected_nllr = -2. * np.sum(nllr, axis=1)"
   ]
  },
  {
   "cell_type": "code",
   "execution_count": null,
   "metadata": {},
   "outputs": [],
   "source": [
    "fig = plt.figure(figsize=(5, 5))\n",
    "\n",
    "best_fit = theta_grid[np.argmin(expected_nllr)]\n",
    "cmin, cmax = -10., 10.\n",
    "\n",
    "bin_size = alpha_test[1] - alpha_test[0]\n",
    "alpha_edges = np.linspace(alpha_test[0] - bin_size/2, alpha_test[-1] + bin_size/2, grid_res + 1)\n",
    "bin_size = beta_test[1] - beta_test[0]\n",
    "beta_edges = np.linspace(beta_test[0] - bin_size/2, beta_test[-1] + bin_size/2, grid_res + 1)\n",
    "\n",
    "pcm = ax.pcolormesh(\n",
    "    alpha_edges,\n",
    "    beta_edges,\n",
    "    expected_nllr.reshape((grid_res, grid_res)),\n",
    "    norm=matplotlib.colors.Normalize(vmin=cmin, vmax=cmax),\n",
    "    cmap='PRGn'\n",
    ")\n",
    "cbar = fig.colorbar(pcm, ax=ax, extend='both')\n",
    "\n",
    "plt.scatter(best_fit[0], best_fit[1], s=80., color='black', marker='*')\n",
    "\n",
    "plt.xlabel(r'$\\alpha$')\n",
    "plt.ylabel(r'$\\beta$')\n",
    "cbar.set_label(r'$-2\\; E[\\log \\;\\hat{r}(x | \\alpha, \\beta)]$')\n",
    "\n",
    "plt.tight_layout()\n",
    "plt.savefig(\"../figures/alice_expected_llr.pdf\")"
   ]
  },
  {
   "cell_type": "code",
   "execution_count": null,
   "metadata": {},
   "outputs": [],
   "source": []
  }
 ],
 "metadata": {
  "kernelspec": {
   "display_name": "Python (lensing)",
   "language": "python",
   "name": "lensing"
  },
  "language_info": {
   "codemirror_mode": {
    "name": "ipython",
    "version": 3
   },
   "file_extension": ".py",
   "mimetype": "text/x-python",
   "name": "python",
   "nbconvert_exporter": "python",
   "pygments_lexer": "ipython3",
   "version": "3.6.8"
  }
 },
 "nbformat": 4,
 "nbformat_minor": 2
}
