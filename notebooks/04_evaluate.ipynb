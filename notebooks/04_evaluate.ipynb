{
 "cells": [
  {
   "cell_type": "markdown",
   "metadata": {},
   "source": [
    "# Evaluate likelihood ratio and posterior"
   ]
  },
  {
   "cell_type": "code",
   "execution_count": 1,
   "metadata": {},
   "outputs": [],
   "source": [
    "import sys, os\n",
    "sys.path.append('../')\n",
    "\n",
    "import logging\n",
    "import numpy as np\n",
    "import matplotlib\n",
    "import matplotlib.pyplot as plt\n",
    "from scipy.stats import norm\n",
    "from sklearn.metrics import roc_curve\n",
    "\n",
    "from simulation.population_sim import SubhaloSimulator\n",
    "from inference.estimator import Estimator\n",
    "from inference.utils import s_from_r, shuffle\n",
    "\n",
    "logging.basicConfig(\n",
    "    format='%(asctime)-5.5s %(name)-20.20s %(levelname)-7.7s %(message)s',\n",
    "    datefmt='%H:%M',\n",
    "    level=logging.INFO\n",
    ")"
   ]
  },
  {
   "cell_type": "markdown",
   "metadata": {},
   "source": [
    "## Evaluate model on train and test data"
   ]
  },
  {
   "cell_type": "code",
   "execution_count": 2,
   "metadata": {},
   "outputs": [],
   "source": [
    "x_train = np.load(\"../data/samples/x_train.npy\")\n",
    "y_train = np.load(\"../data/samples/y_train.npy\")\n",
    "theta_train = np.load(\"../data/samples/theta_train.npy\")\n",
    "\n",
    "x_test = np.load(\"../data/samples/x_test.npy\")\n",
    "y_test = np.load(\"../data/samples/y_test.npy\")\n",
    "theta_test = np.load(\"../data/samples/theta_test.npy\")"
   ]
  },
  {
   "cell_type": "code",
   "execution_count": 3,
   "metadata": {},
   "outputs": [
    {
     "name": "stdout",
     "output_type": "stream",
     "text": [
      "0.5 0.5\n"
     ]
    }
   ],
   "source": [
    "x_train, y_train, theta_train = shuffle(x_train, y_train, theta_train)\n",
    "x_train = x_train[:1000]\n",
    "y_train = y_train[:1000]\n",
    "theta_train = theta_train[:1000]\n",
    "\n",
    "x_test, y_test, theta_test = shuffle(x_test, y_test, theta_test)\n",
    "print(np.sum(y_train) / len(y_train), np.sum(y_test) / len(y_test))"
   ]
  },
  {
   "cell_type": "markdown",
   "metadata": {},
   "source": [
    "## ROC curve"
   ]
  },
  {
   "cell_type": "code",
   "execution_count": 23,
   "metadata": {},
   "outputs": [],
   "source": [
    "def make_roc_curves(name):\n",
    "    re = Estimator()\n",
    "    re.load(\"../data/models/\" + name)\n",
    "    \n",
    "    llr_train, _ = re.evaluate_ratio(x=x_train, theta0=theta_train, test_all_combinations=False)\n",
    "    s_train = s_from_r(np.exp(llr_train))\n",
    "    \n",
    "    llr_test, _ = re.evaluate_ratio(x=x_test, theta0=theta_test, test_all_combinations=False)\n",
    "    s_test = s_from_r(np.exp(llr_test))\n",
    "    \n",
    "    fpr_train, tpr_train, _ = roc_curve(y_train, s_train)\n",
    "    fpr_test, tpr_test, _ = roc_curve(y_test, s_test)\n",
    "    \n",
    "    return fpr_train, tpr_train, fpr_test, tpr_test"
   ]
  },
  {
   "cell_type": "code",
   "execution_count": null,
   "metadata": {},
   "outputs": [],
   "source": [
    "fpr_train_alice, tpr_train_alice, fpr_test_alice, tpr_test_alice = make_roc_curves(\"alice\")\n",
    "fpr_train_carl, tpr_train_carl, fpr_test_carl, tpr_test_carl = make_roc_curves(\"carl\")"
   ]
  },
  {
   "cell_type": "code",
   "execution_count": null,
   "metadata": {},
   "outputs": [],
   "source": [
    "fig = plt.figure(figsize=(5,5))\n",
    "\n",
    "plt.plot([0.,1.], [1.,0.], ls=\"--\", c=\"0.5\")\n",
    "plt.plot(1. - fpr_train_carl, tpr_train_carl, c=\"C0\", ls=\"--\", label=\"CARL train\")\n",
    "plt.plot(1. - fpr_test_carl, tpr_test_carl, c=\"C0\", ls=\"-\", label=\"CARL test\")\n",
    "plt.plot(1. - fpr_train_alice, tpr_train_alice, c=\"C1\", ls=\"--\", label=\"ALICE train\")\n",
    "plt.plot(1. - fpr_test_alice, tpr_test_alice, c=\"C1\", ls=\"-\", label=\"ALICE test\")\n",
    "\n",
    "plt.legend()\n",
    "\n",
    "plt.xlabel(\"1 - fpr\")\n",
    "plt.ylabel(\"tpr\")\n",
    "\n",
    "plt.tight_layout()\n",
    "plt.show()\n"
   ]
  },
  {
   "cell_type": "markdown",
   "metadata": {},
   "source": [
    "## Evaluate on grid"
   ]
  },
  {
   "cell_type": "code",
   "execution_count": 4,
   "metadata": {},
   "outputs": [],
   "source": [
    "grid_res = 25\n",
    "\n",
    "alpha_test = np.linspace(200., 800., grid_res)\n",
    "beta_test = np.linspace(-1.3, -3.7, grid_res)\n",
    "\n",
    "theta0, theta1 = np.meshgrid(alpha_test, beta_test)\n",
    "theta_grid = np.vstack((theta0.flatten(), theta1.flatten())).T"
   ]
  },
  {
   "cell_type": "code",
   "execution_count": null,
   "metadata": {},
   "outputs": [],
   "source": [
    "re = Estimator()\n",
    "re.load(\"../data/models/carl\")\n",
    "\n",
    "nllr, _ = re.evaluate_ratio(x=x_train[:20], theta0=theta_grid)\n",
    "nllr = -2. * nllr"
   ]
  },
  {
   "cell_type": "code",
   "execution_count": null,
   "metadata": {},
   "outputs": [],
   "source": [
    "for i in range(20):\n",
    "    i_ml = np.argmin(nllr[:,i])\n",
    "    print(theta_grid[i_ml], nllr[i_ml,i])"
   ]
  },
  {
   "cell_type": "code",
   "execution_count": null,
   "metadata": {},
   "outputs": [],
   "source": [
    "fig = plt.figure(figsize=(10, 4 * 10))\n",
    "\n",
    "for i in [9,0,1,2,3,4,5,6,7,8]:\n",
    "    \n",
    "    # Plot image\n",
    "    if i == 9:\n",
    "        ax_left = plt.subplot(10, 2, i*2+1)\n",
    "        ax = ax_left\n",
    "    else:\n",
    "        ax = plt.subplot(10, 2, i*2+1, sharex=ax_left)\n",
    "    \n",
    "    plt.imshow(\n",
    "        np.log10(x_train[i]),\n",
    "        vmax=3.5,\n",
    "        cmap='gist_gray',\n",
    "        extent=(-2.,2.,-2.,2.),\n",
    "        origin=\"lower\"\n",
    "    )\n",
    "    \n",
    "    plt.xlim(-2.,2.)\n",
    "    plt.ylim(-2.,2.)\n",
    "    \n",
    "    if i == 8:\n",
    "        plt.xlabel(r\"$\\theta_x$ [arcsec]\")\n",
    "    else:\n",
    "        plt.setp(plt.gca().get_xticklabels(), visible=False)\n",
    "    plt.ylabel(r\"$\\theta_y$ [arcsec]\")\n",
    "    \n",
    "    \n",
    "    \n",
    "    # Plot estimated likelihood ratio for this image\n",
    "    if i == 9:\n",
    "        ax_right = plt.subplot(10, 2, i*2+2)\n",
    "        ax = ax_right\n",
    "    else:\n",
    "        ax = plt.subplot(10, 2, i*2+2, sharex=ax_right)\n",
    "        \n",
    "    nllr_ = nllr[:, i]\n",
    "\n",
    "    best_fit = theta_grid[np.argmin(nllr_)]\n",
    "    cmin, cmax = -.1, 0.1\n",
    "\n",
    "    bin_size = alpha_test[1] - alpha_test[0]\n",
    "    alpha_edges = np.linspace(alpha_test[0] - bin_size/2, alpha_test[-1] + bin_size/2, grid_res + 1)\n",
    "    bin_size = beta_test[1] - beta_test[0]\n",
    "    beta_edges = np.linspace(beta_test[0] - bin_size/2, beta_test[-1] + bin_size/2, grid_res + 1)\n",
    "\n",
    "    pcm = ax.pcolormesh(\n",
    "        alpha_edges,\n",
    "        beta_edges,\n",
    "        nllr_.reshape((grid_res, grid_res)),\n",
    "        norm=matplotlib.colors.Normalize(vmin=cmin, vmax=cmax),\n",
    "        cmap='PRGn'\n",
    "    )\n",
    "    cbar = fig.colorbar(pcm, ax=ax, extend='both')\n",
    "\n",
    "    plt.scatter(best_fit[0], best_fit[1], s=80., color='black', marker='*')\n",
    "\n",
    "    if i == 9:\n",
    "        plt.xlabel(r'$\\alpha$')\n",
    "    else:\n",
    "        plt.setp(plt.gca().get_xticklabels(), visible=False)\n",
    "    plt.ylabel(r'$\\beta$')\n",
    "    cbar.set_label(r'$-2\\; \\log \\;\\hat{r}(x | \\alpha, \\beta)$')\n",
    "\n",
    "plt.tight_layout()\n",
    "plt.savefig(\"../figures/carl_predictions.pdf\")"
   ]
  },
  {
   "cell_type": "markdown",
   "metadata": {},
   "source": [
    "## Evaluate expected LLR on grid"
   ]
  },
  {
   "cell_type": "code",
   "execution_count": 29,
   "metadata": {},
   "outputs": [],
   "source": [
    "grid_res = 25\n",
    "\n",
    "alpha_test = np.linspace(200., 800., grid_res)\n",
    "beta_test = np.linspace(-1.3, -3.7, grid_res)\n",
    "\n",
    "theta0, theta1 = np.meshgrid(alpha_test, beta_test)\n",
    "theta_grid = np.vstack((theta0.flatten(), theta1.flatten())).T"
   ]
  },
  {
   "cell_type": "code",
   "execution_count": null,
   "metadata": {},
   "outputs": [],
   "source": [
    "re = Estimator()\n",
    "re.load(\"../data/models/carl\")\n",
    "\n",
    "nllr, _ = re.evaluate_ratio(x=x_test, theta0=theta_grid)\n",
    "expected_nllr = -2. * np.sum(nllr, axis=1)"
   ]
  },
  {
   "cell_type": "code",
   "execution_count": null,
   "metadata": {},
   "outputs": [],
   "source": [
    "fig = plt.figure(figsize=(5, 5))\n",
    "\n",
    "best_fit = theta_grid[np.argmin(expected_nllr)]\n",
    "cmin, cmax = -10., 10.\n",
    "\n",
    "bin_size = alpha_test[1] - alpha_test[0]\n",
    "alpha_edges = np.linspace(alpha_test[0] - bin_size/2, alpha_test[-1] + bin_size/2, grid_res + 1)\n",
    "bin_size = beta_test[1] - beta_test[0]\n",
    "beta_edges = np.linspace(beta_test[0] - bin_size/2, beta_test[-1] + bin_size/2, grid_res + 1)\n",
    "\n",
    "pcm = ax.pcolormesh(\n",
    "    alpha_edges,\n",
    "    beta_edges,\n",
    "    expected_nllr.reshape((grid_res, grid_res)),\n",
    "    norm=matplotlib.colors.Normalize(vmin=cmin, vmax=cmax),\n",
    "    cmap='PRGn'\n",
    ")\n",
    "cbar = fig.colorbar(pcm, ax=ax, extend='both')\n",
    "\n",
    "plt.scatter(best_fit[0], best_fit[1], s=80., color='black', marker='*')\n",
    "\n",
    "plt.xlabel(r'$\\alpha$')\n",
    "plt.ylabel(r'$\\beta$')\n",
    "cbar.set_label(r'$-2\\; E[\\log \\;\\hat{r}(x | \\alpha, \\beta)]$')\n",
    "\n",
    "plt.tight_layout()\n",
    "plt.savefig(\"../figures/alice_expected_llr.pdf\")"
   ]
  },
  {
   "cell_type": "code",
   "execution_count": null,
   "metadata": {},
   "outputs": [],
   "source": []
  }
 ],
 "metadata": {
  "kernelspec": {
   "display_name": "Python (lensing)",
   "language": "python",
   "name": "lensing"
  },
  "language_info": {
   "codemirror_mode": {
    "name": "ipython",
    "version": 3
   },
   "file_extension": ".py",
   "mimetype": "text/x-python",
   "name": "python",
   "nbconvert_exporter": "python",
   "pygments_lexer": "ipython3",
   "version": "3.6.8"
  }
 },
 "nbformat": 4,
 "nbformat_minor": 2
}
