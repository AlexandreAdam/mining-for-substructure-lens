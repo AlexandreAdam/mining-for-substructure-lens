{
 "cells": [
  {
   "cell_type": "markdown",
   "metadata": {},
   "source": [
    "# Evaluate likelihood ratio"
   ]
  },
  {
   "cell_type": "code",
   "execution_count": 1,
   "metadata": {},
   "outputs": [],
   "source": [
    "import sys, os\n",
    "sys.path.append('../')\n",
    "\n",
    "import logging\n",
    "import numpy as np\n",
    "import matplotlib\n",
    "import matplotlib.pyplot as plt\n",
    "from matplotlib.colors import colorConverter\n",
    "from scipy.stats import norm\n",
    "from sklearn.metrics import roc_curve\n",
    "\n",
    "from inference.utils import s_from_r, shuffle\n",
    "\n",
    "logging.basicConfig(\n",
    "    format='%(asctime)-5.5s %(name)-20.20s %(levelname)-7.7s %(message)s',\n",
    "    datefmt='%H:%M',\n",
    "    level=logging.INFO\n",
    ")"
   ]
  },
  {
   "cell_type": "markdown",
   "metadata": {},
   "source": [
    "## Setting"
   ]
  },
  {
   "cell_type": "code",
   "execution_count": 35,
   "metadata": {},
   "outputs": [],
   "source": [
    "setting = \"align\""
   ]
  },
  {
   "cell_type": "code",
   "execution_count": 36,
   "metadata": {},
   "outputs": [],
   "source": [
    "plot_grads = False"
   ]
  },
  {
   "cell_type": "markdown",
   "metadata": {},
   "source": [
    "## Data"
   ]
  },
  {
   "cell_type": "code",
   "execution_count": 37,
   "metadata": {},
   "outputs": [],
   "source": [
    "xs = np.load(\"../data/samples/x_test_{}_point.npy\".format(setting))\n",
    "#xs = np.ones((1000, 64, 64))"
   ]
  },
  {
   "cell_type": "code",
   "execution_count": 38,
   "metadata": {},
   "outputs": [],
   "source": [
    "idx = list(range(20,30))\n",
    "nrows = len(idx)"
   ]
  },
  {
   "cell_type": "code",
   "execution_count": 39,
   "metadata": {},
   "outputs": [],
   "source": [
    "filenames = [\n",
    "    \"carl\",\n",
    "    \"alice\",\n",
    "    \"alices\",\n",
    "]\n",
    "labels = [\n",
    "    \"CARL\",\n",
    "    \"ALICE\",\n",
    "    \"ALICES\",\n",
    "]\n",
    "colors = [\"red\", \"green\", \"yellow\"]*4\n",
    "nmethods = len(filenames)\n",
    "ncols = len(filenames) + 1"
   ]
  },
  {
   "cell_type": "code",
   "execution_count": 40,
   "metadata": {},
   "outputs": [
    {
     "ename": "FileNotFoundError",
     "evalue": "[Errno 2] No such file or directory: '../data/results/llr_carl_align_grid.npy'",
     "output_type": "error",
     "traceback": [
      "\u001b[0;31m---------------------------------------------------------------------------\u001b[0m",
      "\u001b[0;31mFileNotFoundError\u001b[0m                         Traceback (most recent call last)",
      "\u001b[0;32m<ipython-input-40-fcaacb9505cb>\u001b[0m in \u001b[0;36m<module>\u001b[0;34m\u001b[0m\n\u001b[0;32m----> 1\u001b[0;31m \u001b[0mllrs\u001b[0m \u001b[0;34m=\u001b[0m \u001b[0mnp\u001b[0m\u001b[0;34m.\u001b[0m\u001b[0masarray\u001b[0m\u001b[0;34m(\u001b[0m\u001b[0;34m[\u001b[0m\u001b[0mnp\u001b[0m\u001b[0;34m.\u001b[0m\u001b[0mload\u001b[0m\u001b[0;34m(\u001b[0m\u001b[0;34m\"../data/results/llr_{}_{}_grid.npy\"\u001b[0m\u001b[0;34m.\u001b[0m\u001b[0mformat\u001b[0m\u001b[0;34m(\u001b[0m\u001b[0mfilename\u001b[0m\u001b[0;34m,\u001b[0m \u001b[0msetting\u001b[0m\u001b[0;34m)\u001b[0m\u001b[0;34m)\u001b[0m \u001b[0;32mfor\u001b[0m \u001b[0mfilename\u001b[0m \u001b[0;32min\u001b[0m \u001b[0mfilenames\u001b[0m\u001b[0;34m]\u001b[0m\u001b[0;34m)\u001b[0m\u001b[0;34m\u001b[0m\u001b[0;34m\u001b[0m\u001b[0m\n\u001b[0m\u001b[1;32m      2\u001b[0m \u001b[0;32mif\u001b[0m \u001b[0mplot_grads\u001b[0m\u001b[0;34m:\u001b[0m\u001b[0;34m\u001b[0m\u001b[0;34m\u001b[0m\u001b[0m\n\u001b[1;32m      3\u001b[0m     \u001b[0mgrads\u001b[0m \u001b[0;34m=\u001b[0m \u001b[0mnp\u001b[0m\u001b[0;34m.\u001b[0m\u001b[0masarray\u001b[0m\u001b[0;34m(\u001b[0m\u001b[0;34m[\u001b[0m\u001b[0mnp\u001b[0m\u001b[0;34m.\u001b[0m\u001b[0mload\u001b[0m\u001b[0;34m(\u001b[0m\u001b[0;34m\"../data/results/grad_x_{}_{}_grid.npy\"\u001b[0m\u001b[0;34m.\u001b[0m\u001b[0mformat\u001b[0m\u001b[0;34m(\u001b[0m\u001b[0mfilename\u001b[0m\u001b[0;34m,\u001b[0m \u001b[0msetting\u001b[0m\u001b[0;34m)\u001b[0m\u001b[0;34m)\u001b[0m\u001b[0;34m[\u001b[0m\u001b[0;34m:\u001b[0m\u001b[0;36m100\u001b[0m\u001b[0;34m]\u001b[0m \u001b[0;32mfor\u001b[0m \u001b[0mfilename\u001b[0m \u001b[0;32min\u001b[0m \u001b[0mfilenames\u001b[0m\u001b[0;34m]\u001b[0m\u001b[0;34m)\u001b[0m\u001b[0;34m\u001b[0m\u001b[0;34m\u001b[0m\u001b[0m\n\u001b[1;32m      4\u001b[0m     \u001b[0mgrad_logs\u001b[0m \u001b[0;34m=\u001b[0m \u001b[0mgrads\u001b[0m \u001b[0;34m*\u001b[0m \u001b[0mxs\u001b[0m\u001b[0;34m[\u001b[0m\u001b[0mnp\u001b[0m\u001b[0;34m.\u001b[0m\u001b[0mnewaxis\u001b[0m\u001b[0;34m,\u001b[0m \u001b[0;34m:\u001b[0m\u001b[0mgrads\u001b[0m\u001b[0;34m.\u001b[0m\u001b[0mshape\u001b[0m\u001b[0;34m[\u001b[0m\u001b[0;36m1\u001b[0m\u001b[0;34m]\u001b[0m\u001b[0;34m]\u001b[0m\u001b[0;34m\u001b[0m\u001b[0;34m\u001b[0m\u001b[0m\n\u001b[1;32m      5\u001b[0m     \u001b[0mrel_grads\u001b[0m \u001b[0;34m=\u001b[0m \u001b[0mnp\u001b[0m\u001b[0;34m.\u001b[0m\u001b[0mabs\u001b[0m\u001b[0;34m(\u001b[0m\u001b[0mgrad_logs\u001b[0m\u001b[0;34m)\u001b[0m \u001b[0;34m/\u001b[0m \u001b[0mnp\u001b[0m\u001b[0;34m.\u001b[0m\u001b[0msum\u001b[0m\u001b[0;34m(\u001b[0m\u001b[0mnp\u001b[0m\u001b[0;34m.\u001b[0m\u001b[0mabs\u001b[0m\u001b[0;34m(\u001b[0m\u001b[0mgrad_logs\u001b[0m\u001b[0;34m)\u001b[0m\u001b[0;34m.\u001b[0m\u001b[0mreshape\u001b[0m\u001b[0;34m(\u001b[0m\u001b[0mgrad_logs\u001b[0m\u001b[0;34m.\u001b[0m\u001b[0mshape\u001b[0m\u001b[0;34m[\u001b[0m\u001b[0;36m0\u001b[0m\u001b[0;34m]\u001b[0m\u001b[0;34m,\u001b[0m \u001b[0mgrad_logs\u001b[0m\u001b[0;34m.\u001b[0m\u001b[0mshape\u001b[0m\u001b[0;34m[\u001b[0m\u001b[0;36m1\u001b[0m\u001b[0;34m]\u001b[0m\u001b[0;34m,\u001b[0m \u001b[0;34m-\u001b[0m\u001b[0;36m1\u001b[0m\u001b[0;34m)\u001b[0m\u001b[0;34m,\u001b[0m \u001b[0maxis\u001b[0m\u001b[0;34m=\u001b[0m\u001b[0;36m2\u001b[0m\u001b[0;34m)\u001b[0m\u001b[0;34m[\u001b[0m\u001b[0;34m:\u001b[0m\u001b[0;34m,\u001b[0m\u001b[0;34m:\u001b[0m\u001b[0;34m,\u001b[0m\u001b[0mnp\u001b[0m\u001b[0;34m.\u001b[0m\u001b[0mnewaxis\u001b[0m\u001b[0;34m,\u001b[0m \u001b[0mnp\u001b[0m\u001b[0;34m.\u001b[0m\u001b[0mnewaxis\u001b[0m\u001b[0;34m]\u001b[0m\u001b[0;34m\u001b[0m\u001b[0;34m\u001b[0m\u001b[0m\n",
      "\u001b[0;32m<ipython-input-40-fcaacb9505cb>\u001b[0m in \u001b[0;36m<listcomp>\u001b[0;34m(.0)\u001b[0m\n\u001b[0;32m----> 1\u001b[0;31m \u001b[0mllrs\u001b[0m \u001b[0;34m=\u001b[0m \u001b[0mnp\u001b[0m\u001b[0;34m.\u001b[0m\u001b[0masarray\u001b[0m\u001b[0;34m(\u001b[0m\u001b[0;34m[\u001b[0m\u001b[0mnp\u001b[0m\u001b[0;34m.\u001b[0m\u001b[0mload\u001b[0m\u001b[0;34m(\u001b[0m\u001b[0;34m\"../data/results/llr_{}_{}_grid.npy\"\u001b[0m\u001b[0;34m.\u001b[0m\u001b[0mformat\u001b[0m\u001b[0;34m(\u001b[0m\u001b[0mfilename\u001b[0m\u001b[0;34m,\u001b[0m \u001b[0msetting\u001b[0m\u001b[0;34m)\u001b[0m\u001b[0;34m)\u001b[0m \u001b[0;32mfor\u001b[0m \u001b[0mfilename\u001b[0m \u001b[0;32min\u001b[0m \u001b[0mfilenames\u001b[0m\u001b[0;34m]\u001b[0m\u001b[0;34m)\u001b[0m\u001b[0;34m\u001b[0m\u001b[0;34m\u001b[0m\u001b[0m\n\u001b[0m\u001b[1;32m      2\u001b[0m \u001b[0;32mif\u001b[0m \u001b[0mplot_grads\u001b[0m\u001b[0;34m:\u001b[0m\u001b[0;34m\u001b[0m\u001b[0;34m\u001b[0m\u001b[0m\n\u001b[1;32m      3\u001b[0m     \u001b[0mgrads\u001b[0m \u001b[0;34m=\u001b[0m \u001b[0mnp\u001b[0m\u001b[0;34m.\u001b[0m\u001b[0masarray\u001b[0m\u001b[0;34m(\u001b[0m\u001b[0;34m[\u001b[0m\u001b[0mnp\u001b[0m\u001b[0;34m.\u001b[0m\u001b[0mload\u001b[0m\u001b[0;34m(\u001b[0m\u001b[0;34m\"../data/results/grad_x_{}_{}_grid.npy\"\u001b[0m\u001b[0;34m.\u001b[0m\u001b[0mformat\u001b[0m\u001b[0;34m(\u001b[0m\u001b[0mfilename\u001b[0m\u001b[0;34m,\u001b[0m \u001b[0msetting\u001b[0m\u001b[0;34m)\u001b[0m\u001b[0;34m)\u001b[0m\u001b[0;34m[\u001b[0m\u001b[0;34m:\u001b[0m\u001b[0;36m100\u001b[0m\u001b[0;34m]\u001b[0m \u001b[0;32mfor\u001b[0m \u001b[0mfilename\u001b[0m \u001b[0;32min\u001b[0m \u001b[0mfilenames\u001b[0m\u001b[0;34m]\u001b[0m\u001b[0;34m)\u001b[0m\u001b[0;34m\u001b[0m\u001b[0;34m\u001b[0m\u001b[0m\n\u001b[1;32m      4\u001b[0m     \u001b[0mgrad_logs\u001b[0m \u001b[0;34m=\u001b[0m \u001b[0mgrads\u001b[0m \u001b[0;34m*\u001b[0m \u001b[0mxs\u001b[0m\u001b[0;34m[\u001b[0m\u001b[0mnp\u001b[0m\u001b[0;34m.\u001b[0m\u001b[0mnewaxis\u001b[0m\u001b[0;34m,\u001b[0m \u001b[0;34m:\u001b[0m\u001b[0mgrads\u001b[0m\u001b[0;34m.\u001b[0m\u001b[0mshape\u001b[0m\u001b[0;34m[\u001b[0m\u001b[0;36m1\u001b[0m\u001b[0;34m]\u001b[0m\u001b[0;34m]\u001b[0m\u001b[0;34m\u001b[0m\u001b[0;34m\u001b[0m\u001b[0m\n\u001b[1;32m      5\u001b[0m     \u001b[0mrel_grads\u001b[0m \u001b[0;34m=\u001b[0m \u001b[0mnp\u001b[0m\u001b[0;34m.\u001b[0m\u001b[0mabs\u001b[0m\u001b[0;34m(\u001b[0m\u001b[0mgrad_logs\u001b[0m\u001b[0;34m)\u001b[0m \u001b[0;34m/\u001b[0m \u001b[0mnp\u001b[0m\u001b[0;34m.\u001b[0m\u001b[0msum\u001b[0m\u001b[0;34m(\u001b[0m\u001b[0mnp\u001b[0m\u001b[0;34m.\u001b[0m\u001b[0mabs\u001b[0m\u001b[0;34m(\u001b[0m\u001b[0mgrad_logs\u001b[0m\u001b[0;34m)\u001b[0m\u001b[0;34m.\u001b[0m\u001b[0mreshape\u001b[0m\u001b[0;34m(\u001b[0m\u001b[0mgrad_logs\u001b[0m\u001b[0;34m.\u001b[0m\u001b[0mshape\u001b[0m\u001b[0;34m[\u001b[0m\u001b[0;36m0\u001b[0m\u001b[0;34m]\u001b[0m\u001b[0;34m,\u001b[0m \u001b[0mgrad_logs\u001b[0m\u001b[0;34m.\u001b[0m\u001b[0mshape\u001b[0m\u001b[0;34m[\u001b[0m\u001b[0;36m1\u001b[0m\u001b[0;34m]\u001b[0m\u001b[0;34m,\u001b[0m \u001b[0;34m-\u001b[0m\u001b[0;36m1\u001b[0m\u001b[0;34m)\u001b[0m\u001b[0;34m,\u001b[0m \u001b[0maxis\u001b[0m\u001b[0;34m=\u001b[0m\u001b[0;36m2\u001b[0m\u001b[0;34m)\u001b[0m\u001b[0;34m[\u001b[0m\u001b[0;34m:\u001b[0m\u001b[0;34m,\u001b[0m\u001b[0;34m:\u001b[0m\u001b[0;34m,\u001b[0m\u001b[0mnp\u001b[0m\u001b[0;34m.\u001b[0m\u001b[0mnewaxis\u001b[0m\u001b[0;34m,\u001b[0m \u001b[0mnp\u001b[0m\u001b[0;34m.\u001b[0m\u001b[0mnewaxis\u001b[0m\u001b[0;34m]\u001b[0m\u001b[0;34m\u001b[0m\u001b[0;34m\u001b[0m\u001b[0m\n",
      "\u001b[0;32m~/anaconda3/envs/lensing/lib/python3.6/site-packages/numpy/lib/npyio.py\u001b[0m in \u001b[0;36mload\u001b[0;34m(file, mmap_mode, allow_pickle, fix_imports, encoding)\u001b[0m\n\u001b[1;32m    382\u001b[0m     \u001b[0mown_fid\u001b[0m \u001b[0;34m=\u001b[0m \u001b[0;32mFalse\u001b[0m\u001b[0;34m\u001b[0m\u001b[0;34m\u001b[0m\u001b[0m\n\u001b[1;32m    383\u001b[0m     \u001b[0;32mif\u001b[0m \u001b[0misinstance\u001b[0m\u001b[0;34m(\u001b[0m\u001b[0mfile\u001b[0m\u001b[0;34m,\u001b[0m \u001b[0mbasestring\u001b[0m\u001b[0;34m)\u001b[0m\u001b[0;34m:\u001b[0m\u001b[0;34m\u001b[0m\u001b[0;34m\u001b[0m\u001b[0m\n\u001b[0;32m--> 384\u001b[0;31m         \u001b[0mfid\u001b[0m \u001b[0;34m=\u001b[0m \u001b[0mopen\u001b[0m\u001b[0;34m(\u001b[0m\u001b[0mfile\u001b[0m\u001b[0;34m,\u001b[0m \u001b[0;34m\"rb\"\u001b[0m\u001b[0;34m)\u001b[0m\u001b[0;34m\u001b[0m\u001b[0;34m\u001b[0m\u001b[0m\n\u001b[0m\u001b[1;32m    385\u001b[0m         \u001b[0mown_fid\u001b[0m \u001b[0;34m=\u001b[0m \u001b[0;32mTrue\u001b[0m\u001b[0;34m\u001b[0m\u001b[0;34m\u001b[0m\u001b[0m\n\u001b[1;32m    386\u001b[0m     \u001b[0;32melif\u001b[0m \u001b[0mis_pathlib_path\u001b[0m\u001b[0;34m(\u001b[0m\u001b[0mfile\u001b[0m\u001b[0;34m)\u001b[0m\u001b[0;34m:\u001b[0m\u001b[0;34m\u001b[0m\u001b[0;34m\u001b[0m\u001b[0m\n",
      "\u001b[0;31mFileNotFoundError\u001b[0m: [Errno 2] No such file or directory: '../data/results/llr_carl_align_grid.npy'"
     ]
    }
   ],
   "source": [
    "llrs = np.asarray([np.load(\"../data/results/llr_{}_{}_grid.npy\".format(filename, setting)) for filename in filenames])\n",
    "if plot_grads:\n",
    "    grads = np.asarray([np.load(\"../data/results/grad_x_{}_{}_grid.npy\".format(filename, setting))[:100] for filename in filenames])\n",
    "    grad_logs = grads * xs[np.newaxis, :grads.shape[1]]\n",
    "    rel_grads = np.abs(grad_logs) / np.sum(np.abs(grad_logs).reshape(grad_logs.shape[0], grad_logs.shape[1], -1), axis=2)[:,:,np.newaxis, np.newaxis]\n"
   ]
  },
  {
   "cell_type": "code",
   "execution_count": null,
   "metadata": {},
   "outputs": [],
   "source": [
    "llrs[0].shape"
   ]
  },
  {
   "cell_type": "code",
   "execution_count": null,
   "metadata": {},
   "outputs": [],
   "source": [
    "expected_llr = np.mean(llrs, axis=-1)\n",
    "sum_llr_100 = np.sum(llrs[:100], axis=-1)\n",
    "expected_x = np.mean(xs, axis=0)\n",
    "#expected_rel_grad = np.mean(rel_grads, axis=1)"
   ]
  },
  {
   "cell_type": "markdown",
   "metadata": {},
   "source": [
    "## Parameter grids"
   ]
  },
  {
   "cell_type": "code",
   "execution_count": null,
   "metadata": {},
   "outputs": [],
   "source": [
    "resolution = 25\n",
    "\n",
    "f_sub_1d = np.linspace(0.001, 0.200, resolution)\n",
    "beta_1d = np.linspace(-2.5, -1.5, resolution)\n",
    "\n",
    "theta0, theta1 = np.meshgrid(f_sub_1d, beta_1d)\n",
    "theta_grid = np.vstack((theta0.flatten(), theta1.flatten())).T\n",
    "\n",
    "bin_size = f_sub_1d[1] - f_sub_1d[0]\n",
    "alpha_edges = np.linspace(f_sub_1d[0] - bin_size/2, f_sub_1d[-1] + bin_size/2, resolution + 1)\n",
    "bin_size = beta_1d[1] - beta_1d[0]\n",
    "beta_edges = np.linspace(beta_1d[0] - bin_size/2, beta_1d[-1] + bin_size/2, resolution + 1)"
   ]
  },
  {
   "cell_type": "markdown",
   "metadata": {},
   "source": [
    "## Plotting options"
   ]
  },
  {
   "cell_type": "code",
   "execution_count": null,
   "metadata": {},
   "outputs": [],
   "source": [
    "llrmin, llrmax = -10., 10.\n",
    "gradmin, gradmax = -0.1, 0.1\n",
    "gradrelmax = 0.002\n",
    "xmin, xmax = 2.2, 3.\n",
    "\n",
    "llr_cmap = \"PRGn_r\"\n"
   ]
  },
  {
   "cell_type": "code",
   "execution_count": null,
   "metadata": {},
   "outputs": [],
   "source": [
    "grad_rel = True\n",
    "alpha_grad = 0.5\n",
    "\n",
    "if grad_rel:\n",
    "    grad_rel_color = colorConverter.to_rgba(\"C1\")[:3]\n",
    "\n",
    "    overlay_cmap = matplotlib.colors.LinearSegmentedColormap.from_list(\n",
    "        'overlay_cmap',\n",
    "        [(0., grad_rel_color), (1., grad_rel_color)],\n",
    "        512\n",
    "    )\n",
    "    overlay_cmap._init()\n",
    "    alphas = np.linspace(0., alpha_grad, overlay_cmap.N + 3)\n",
    "    overlay_cmap._lut[:,-1] = alphas\n",
    "    \n",
    "else:\n",
    "    pos_grad_color = colorConverter.to_rgba(\"C0\")[:3]\n",
    "    neg_grad_color = colorConverter.to_rgba(\"C1\")[:3]\n",
    "\n",
    "    overlay_cmap = matplotlib.colors.LinearSegmentedColormap.from_list(\n",
    "        'overlay_cmap',\n",
    "        [(0., neg_grad_color), (0.499, neg_grad_color), (0.501, pos_grad_color), (1., pos_grad_color)],\n",
    "        512\n",
    "    )\n",
    "    overlay_cmap._init()\n",
    "    alphas = np.asarray(\n",
    "        list(np.linspace(alpha_grad, 0, overlay_cmap.N // 2 + 1))\n",
    "        + [0.]\n",
    "        + list(np.linspace(0., alpha_grad, overlay_cmap.N // 2 + 1))\n",
    "    )\n",
    "    overlay_cmap._lut[:,-1] = alphas"
   ]
  },
  {
   "cell_type": "code",
   "execution_count": null,
   "metadata": {
    "scrolled": false
   },
   "outputs": [],
   "source": [
    "fig = plt.figure(figsize=(6.*ncols, 4*nrows))\n",
    "ax_xs = []\n",
    "ax_rs = []\n",
    "k_grad = 0\n",
    "\n",
    "for i in [nrows - 1] + list(range(nrows - 1)):\n",
    "    i_img = idx[i]\n",
    "\n",
    "    # Plot image\n",
    "    if i == nrows - 1:\n",
    "        ax_xs = plt.subplot(nrows, ncols, i*ncols + 1)\n",
    "        ax = ax_xs\n",
    "    else:\n",
    "        ax = plt.subplot(nrows, ncols, i*ncols + 1, sharex=ax_xs)\n",
    "\n",
    "    plt.imshow(\n",
    "        np.log10(xs[i_img]),\n",
    "        vmin=xmin,\n",
    "        vmax=xmax,\n",
    "        cmap='gist_gray',\n",
    "        extent=(-2.,2.,-2.,2.),\n",
    "        origin=\"lower\",\n",
    "        alpha=1.\n",
    "    )\n",
    "    if plot_grads:\n",
    "        if grad_rel:\n",
    "            im = plt.imshow(\n",
    "                rel_grads[k_grad][i_img],\n",
    "                vmin=0.,\n",
    "                vmax=gradrelmax,\n",
    "                cmap=overlay_cmap,\n",
    "                extent=(-2.,2.,-2.,2.),\n",
    "                origin=\"lower\",\n",
    "            )\n",
    "        else:\n",
    "            im = plt.imshow(\n",
    "                grad_logs[k_grad][i_img],\n",
    "                vmin=gradmin,\n",
    "                vmax=gradmax,\n",
    "                cmap=overlay_cmap,\n",
    "                extent=(-2.,2.,-2.,2.),\n",
    "                origin=\"lower\",\n",
    "            )\n",
    "        cbar = fig.colorbar(im, ax=ax, extend='max')\n",
    "\n",
    "    plt.xlim(-2.,2.)\n",
    "    plt.ylim(-2.,2.)\n",
    "    if i == nrows - 1:\n",
    "        plt.xlabel(r\"$\\theta_x$ [arcsec]\")\n",
    "    else:\n",
    "        plt.setp(plt.gca().get_xticklabels(), visible=False)\n",
    "    plt.ylabel(r\"$\\theta_y$ [arcsec]\")\n",
    "    if plot_grads:\n",
    "        if grad_rel:\n",
    "            cbar.set_label(\n",
    "                r'$1/Z \\; |\\nabla_{\\log x_{ij}} \\log \\;\\hat{r}(x | \\alpha_0, \\beta,0)|$ ' + '({})'.format(labels[k])\n",
    "            )\n",
    "        else:\n",
    "            cbar.set_label(\n",
    "                r'$\\nabla_{\\log x_{ij}} \\log \\;\\hat{r}(x | \\alpha_0, \\beta,0)$ ' + '({})'.format(labels[k])\n",
    "            )\n",
    "    \n",
    "    for k in range(nmethods):\n",
    "        # Plot estimated likelihood ratios\n",
    "        if i == nrows - 1:\n",
    "            ax_rs.append(plt.subplot(nrows, ncols, i*ncols + k + 2))\n",
    "            ax = ax_rs[k]\n",
    "        else:\n",
    "            ax = plt.subplot(nrows, ncols, i*ncols + k + 2, sharex=ax_rs[k])\n",
    "        \n",
    "        i_mle = np.argmax(llrs[k][:, i_img])\n",
    "        theta_mle = theta_grid[i_mle]\n",
    "        z = np.clip(-2. * llrs[k][:, i_img], llrmin, llrmax)\n",
    "    \n",
    "        pcm = ax.pcolormesh(\n",
    "            alpha_edges,\n",
    "            beta_edges,\n",
    "            z.reshape((resolution, resolution)),\n",
    "            norm=matplotlib.colors.Normalize(vmin=llrmin, vmax=llrmax),\n",
    "            cmap=llr_cmap\n",
    "        )\n",
    "        cbar = fig.colorbar(pcm, ax=ax, extend='both')\n",
    "        plt.scatter(150., -1.9, s=60., color='black', marker='*')\n",
    "        plt.scatter(theta_mle[0], theta_mle[1], s=30., color='black', marker='o')\n",
    "\n",
    "        if i == nrows - 1:\n",
    "            plt.xlabel(r'$n_{\\mathrm{calib}}$')\n",
    "        else:\n",
    "            plt.setp(plt.gca().get_xticklabels(), visible=False)\n",
    "        plt.ylabel(r'$\\beta$')\n",
    "        cbar.set_label(r'$-2\\; \\log \\;\\hat{r}(x | \\alpha, \\beta)$ ' + '({})'.format(labels[k]))\n",
    "        plt.xlim(alpha_edges[0], alpha_edges[-1])\n",
    "        plt.ylim(beta_edges[0], beta_edges[-1])\n",
    "    \n",
    "                         \n",
    "    \n",
    "plt.tight_layout()\n",
    "plt.savefig(\"../figures/predictions_{}.pdf\".format(setting))"
   ]
  },
  {
   "cell_type": "markdown",
   "metadata": {},
   "source": [
    "## Expected LLR"
   ]
  },
  {
   "cell_type": "code",
   "execution_count": null,
   "metadata": {},
   "outputs": [],
   "source": [
    "n = 1.\n",
    "llrmin, llrmax = 0., n*6.\n",
    "gradmin, gradmax = -0.1, 0.1\n",
    "gradrelmax = 0.0004\n",
    "xmin, xmax = 2.4, 2.65\n",
    "\n",
    "llr_cmap = \"viridis_r\"\n"
   ]
  },
  {
   "cell_type": "code",
   "execution_count": 41,
   "metadata": {},
   "outputs": [],
   "source": [
    "alpha_grad = 0.75\n",
    "\n",
    "grad_rel_color = colorConverter.to_rgba(\"C1\")[:3]\n",
    "\n",
    "overlay_cmap = matplotlib.colors.LinearSegmentedColormap.from_list(\n",
    "    'overlay_cmap',\n",
    "    [(0., grad_rel_color), (1., grad_rel_color)],\n",
    "    512\n",
    ")\n",
    "overlay_cmap._init()\n",
    "alphas = np.linspace(0., alpha_grad, overlay_cmap.N + 3)\n",
    "overlay_cmap._lut[:,-1] = alphas\n",
    "    "
   ]
  },
  {
   "cell_type": "code",
   "execution_count": 42,
   "metadata": {},
   "outputs": [
    {
     "data": {
      "image/png": "[encoded data removed]",
      "text/plain": [
       "<Figure size 1080x288 with 6 Axes>"
      ]
     },
     "metadata": {
      "needs_background": "light"
     },
     "output_type": "display_data"
    }
   ],
   "source": [
    "fig = plt.figure(figsize=(5. * nmethods, 4.))\n",
    "ax_xs = []\n",
    "ax_rs = []\n",
    "\n",
    "for k in range(nmethods):\n",
    "    ax = plt.subplot(1, nmethods, k + 1)\n",
    "\n",
    "    i_mle = np.argmax(expected_llr[k])\n",
    "    theta_mle = theta_grid[i_mle]\n",
    "    z = np.clip(-2. * n * (expected_llr[k] - expected_llr[k][i_mle]), llrmin, llrmax)\n",
    "\n",
    "    pcm = ax.pcolormesh(\n",
    "        alpha_edges,\n",
    "        beta_edges,\n",
    "        z.reshape((resolution, resolution)),\n",
    "        norm=matplotlib.colors.Normalize(vmin=llrmin, vmax=llrmax),\n",
    "        cmap=llr_cmap\n",
    "    )\n",
    "    cbar = fig.colorbar(pcm, ax=ax, extend='both')\n",
    "    plt.scatter(150., -1.9, s=60., color='black', marker='*')\n",
    "    plt.scatter(theta_mle[0], theta_mle[1], s=30., color='black', marker='o')\n",
    "\n",
    "    plt.xlabel(r'$n_{\\mathrm{calib}}$')\n",
    "    plt.ylabel(r'$\\beta$')\n",
    "    cbar.set_label(r'$-2\\; E[\\log \\;\\hat{r}(x | \\alpha, \\beta)]$ ' + '({})'.format(labels[k]))\n",
    "    plt.xlim(alpha_edges[0], alpha_edges[-1])\n",
    "    plt.ylim(beta_edges[0], beta_edges[-1])          \n",
    "    \n",
    "plt.tight_layout()\n",
    "plt.savefig(\"../figures/expected_llr_{}.pdf\".format(setting))"
   ]
  },
  {
   "cell_type": "markdown",
   "metadata": {},
   "source": [
    "## Example measurement of 100 images"
   ]
  },
  {
   "cell_type": "code",
   "execution_count": 32,
   "metadata": {},
   "outputs": [],
   "source": [
    "llrmin, llrmax = 0., 10000.\n",
    "llr_cmap = \"viridis_r\"\n"
   ]
  },
  {
   "cell_type": "code",
   "execution_count": 33,
   "metadata": {},
   "outputs": [
    {
     "name": "stdout",
     "output_type": "stream",
     "text": [
      "28.743702426857567\n"
     ]
    }
   ],
   "source": [
    "from scipy.stats import chi2, norm\n",
    "\n",
    "p5sigma = 2. * norm.sf(5.)\n",
    "threshold = chi2.isf(p5sigma, df=2)\n",
    "print(threshold)"
   ]
  },
  {
   "cell_type": "code",
   "execution_count": 34,
   "metadata": {},
   "outputs": [
    {
     "name": "stderr",
     "output_type": "stream",
     "text": [
      "/Users/johannbrehmer/anaconda3/envs/lensing/lib/python3.6/site-packages/matplotlib/contour.py:1000: UserWarning: The following kwargs were not used by contour: 'c'\n",
      "  s)\n"
     ]
    },
    {
     "data": {
      "image/png": "[encoded data removed]",
      "text/plain": [
       "<Figure size 1080x288 with 6 Axes>"
      ]
     },
     "metadata": {
      "needs_background": "light"
     },
     "output_type": "display_data"
    }
   ],
   "source": [
    "fig = plt.figure(figsize=(5.*nmethods, 4.))\n",
    "ax_xs = []\n",
    "ax_rs = []\n",
    "\n",
    "for k in range(nmethods):\n",
    "    ax = plt.subplot(1, nmethods, k + 1)\n",
    "\n",
    "    i_mle = np.argmax(sum_llr_100[k])\n",
    "    theta_mle = theta_grid[i_mle]\n",
    "    z = np.clip(-2. * (sum_llr_100[k] - sum_llr_100[k][i_mle]) , llrmin, llrmax)\n",
    "\n",
    "    pcm = ax.pcolormesh(\n",
    "        alpha_edges,\n",
    "        beta_edges,\n",
    "        z.reshape((resolution, resolution)),\n",
    "        norm=matplotlib.colors.Normalize(vmin=llrmin, vmax=llrmax),\n",
    "        cmap=llr_cmap\n",
    "    )\n",
    "    cbar = fig.colorbar(pcm, ax=ax, extend='both')\n",
    "    \n",
    "    plt.contour(\n",
    "        0.5 * (alpha_edges[1:] + alpha_edges[:-1]),\n",
    "        0.5 * (beta_edges[1:] + beta_edges[:-1]),\n",
    "        z.reshape((resolution, resolution)),\n",
    "        [threshold],\n",
    "        c=\"black\"\n",
    "    )\n",
    "    plt.scatter(150., -1.9, s=60., color='black', marker='*')\n",
    "    plt.scatter(theta_mle[0], theta_mle[1], s=30., color='black', marker='o')\n",
    "\n",
    "    plt.xlabel(r'$n_{\\mathrm{calib}}$')\n",
    "    plt.ylabel(r'$\\beta$')\n",
    "    cbar.set_label(r'$-2\\; \\log \\;\\hat{r}(x | \\alpha, \\beta)$ ' + '({})'.format(labels[k]))\n",
    "    plt.xlim(alpha_edges[0], alpha_edges[-1])\n",
    "    plt.ylim(beta_edges[0], beta_edges[-1])          \n",
    "    \n",
    "plt.tight_layout()\n",
    "plt.savefig(\"../figures/llr100_{}.pdf\".format(setting))"
   ]
  },
  {
   "cell_type": "code",
   "execution_count": null,
   "metadata": {
    "collapsed": true
   },
   "outputs": [],
   "source": []
  }
 ],
 "metadata": {
  "kernelspec": {
   "display_name": "Python (lensing)",
   "language": "python",
   "name": "lensing"
  },
  "language_info": {
   "codemirror_mode": {
    "name": "ipython",
    "version": 3
   },
   "file_extension": ".py",
   "mimetype": "text/x-python",
   "name": "python",
   "nbconvert_exporter": "python",
   "pygments_lexer": "ipython3",
   "version": "3.6.8"
  }
 },
 "nbformat": 4,
 "nbformat_minor": 2
}
